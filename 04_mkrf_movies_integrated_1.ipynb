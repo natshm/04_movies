{
 "cells": [
  {
   "cell_type": "markdown",
   "metadata": {
    "id": "sIfNaMOxgFyK"
   },
   "source": [
    "## Исследование данных о российском кинопрокате\n",
    "\n"
   ]
  },
  {
   "cell_type": "code",
   "execution_count": null,
   "metadata": {},
   "outputs": [],
   "source": []
  },
  {
   "cell_type": "code",
   "execution_count": 1,
   "metadata": {
    "id": "dw87FlzMgFyM"
   },
   "outputs": [],
   "source": [
    "import pandas as pd\n",
    "from matplotlib import pyplot as plt\n",
    "import numpy as np\n",
    "\n",
    "\n",
    "# Для подавления научной нотации (экспоненциального формата чисел) в столбце \"box_office\":\n",
    "pd.set_option('display.float_format', lambda x: '%.3f' % x)\n",
    "\n",
    "pd.set_option('max_columns', None)"
   ]
  },
  {
   "cell_type": "markdown",
   "metadata": {
    "id": "3bSlkCsbgFyL",
    "tags": []
   },
   "source": [
    "### 1. Чтение данных, объединение в общий датафрейм"
   ]
  },
  {
   "cell_type": "code",
   "execution_count": 2,
   "metadata": {},
   "outputs": [
    {
     "data": {
      "text/html": [
       "<div>\n",
       "<style scoped>\n",
       "    .dataframe tbody tr th:only-of-type {\n",
       "        vertical-align: middle;\n",
       "    }\n",
       "\n",
       "    .dataframe tbody tr th {\n",
       "        vertical-align: top;\n",
       "    }\n",
       "\n",
       "    .dataframe thead th {\n",
       "        text-align: right;\n",
       "    }\n",
       "</style>\n",
       "<table border=\"1\" class=\"dataframe\">\n",
       "  <thead>\n",
       "    <tr style=\"text-align: right;\">\n",
       "      <th></th>\n",
       "      <th>title</th>\n",
       "      <th>puNumber</th>\n",
       "      <th>show_start_date</th>\n",
       "      <th>type</th>\n",
       "      <th>film_studio</th>\n",
       "      <th>production_country</th>\n",
       "      <th>director</th>\n",
       "      <th>producer</th>\n",
       "      <th>age_restriction</th>\n",
       "      <th>refundable_support</th>\n",
       "      <th>nonrefundable_support</th>\n",
       "      <th>budget</th>\n",
       "      <th>financing_source</th>\n",
       "      <th>ratings</th>\n",
       "      <th>genres</th>\n",
       "    </tr>\n",
       "  </thead>\n",
       "  <tbody>\n",
       "    <tr>\n",
       "      <th>0</th>\n",
       "      <td>Открытый простор</td>\n",
       "      <td>221048915</td>\n",
       "      <td>2015-11-27T12:00:00.000Z</td>\n",
       "      <td>Художественный</td>\n",
       "      <td>Тачстоун Пикчерз, Кобальт Пикчерз, Бикон Пикче...</td>\n",
       "      <td>США</td>\n",
       "      <td>Кевин Костнер</td>\n",
       "      <td>Дэвид Валдес, Кевин Костнер, Джейк Эбертс</td>\n",
       "      <td>«18+» - запрещено для детей</td>\n",
       "      <td>NaN</td>\n",
       "      <td>NaN</td>\n",
       "      <td>NaN</td>\n",
       "      <td>NaN</td>\n",
       "      <td>7.2</td>\n",
       "      <td>боевик,драма,мелодрама</td>\n",
       "    </tr>\n",
       "    <tr>\n",
       "      <th>1</th>\n",
       "      <td>Особо важное задание</td>\n",
       "      <td>111013716</td>\n",
       "      <td>2016-09-13T12:00:00.000Z</td>\n",
       "      <td>Художественный</td>\n",
       "      <td>Киностудия \"Мосфильм\"</td>\n",
       "      <td>СССР</td>\n",
       "      <td>Е.Матвеев</td>\n",
       "      <td>NaN</td>\n",
       "      <td>«6+» - для детей старше 6 лет</td>\n",
       "      <td>NaN</td>\n",
       "      <td>NaN</td>\n",
       "      <td>NaN</td>\n",
       "      <td>NaN</td>\n",
       "      <td>6.6</td>\n",
       "      <td>драма,военный</td>\n",
       "    </tr>\n",
       "    <tr>\n",
       "      <th>2</th>\n",
       "      <td>Особо опасен</td>\n",
       "      <td>221038416</td>\n",
       "      <td>2016-10-10T12:00:00.000Z</td>\n",
       "      <td>Художественный</td>\n",
       "      <td>Юниверсал Пикчерз, Кикстарт Продакшнз, Марк Пл...</td>\n",
       "      <td>США</td>\n",
       "      <td>Тимур Бекмамбетов</td>\n",
       "      <td>Джим Лемли, Джейсон Нетер, Марк Е.Платт, Яйн Смит</td>\n",
       "      <td>«18+» - запрещено для детей</td>\n",
       "      <td>NaN</td>\n",
       "      <td>NaN</td>\n",
       "      <td>NaN</td>\n",
       "      <td>NaN</td>\n",
       "      <td>6.8</td>\n",
       "      <td>фантастика,боевик,триллер</td>\n",
       "    </tr>\n",
       "    <tr>\n",
       "      <th>3</th>\n",
       "      <td>Особо опасен</td>\n",
       "      <td>221026916</td>\n",
       "      <td>2016-06-10T12:00:00.000Z</td>\n",
       "      <td>Художественный</td>\n",
       "      <td>Юниверсал Пикчерз, Кикстарт Продакшнз, Марк Пл...</td>\n",
       "      <td>США</td>\n",
       "      <td>Тимур Бекмамбетов</td>\n",
       "      <td>Джим Лемли, Джейсон Нетер, Марк Е.Платт, Яйн Смит</td>\n",
       "      <td>«18+» - запрещено для детей</td>\n",
       "      <td>NaN</td>\n",
       "      <td>NaN</td>\n",
       "      <td>NaN</td>\n",
       "      <td>NaN</td>\n",
       "      <td>6.8</td>\n",
       "      <td>фантастика,боевик,триллер</td>\n",
       "    </tr>\n",
       "    <tr>\n",
       "      <th>4</th>\n",
       "      <td>Особо опасен</td>\n",
       "      <td>221030815</td>\n",
       "      <td>2015-07-29T12:00:00.000Z</td>\n",
       "      <td>Художественный</td>\n",
       "      <td>Юниверсал Пикчерз, Кикстарт Продакшнз, Марк Пл...</td>\n",
       "      <td>США</td>\n",
       "      <td>Тимур Бекмамбетов</td>\n",
       "      <td>Джим Лемли, Джейсон Нетер, Марк Е.Платт, Яйн Смит</td>\n",
       "      <td>«18+» - запрещено для детей</td>\n",
       "      <td>NaN</td>\n",
       "      <td>NaN</td>\n",
       "      <td>NaN</td>\n",
       "      <td>NaN</td>\n",
       "      <td>6.8</td>\n",
       "      <td>фантастика,боевик,триллер</td>\n",
       "    </tr>\n",
       "  </tbody>\n",
       "</table>\n",
       "</div>"
      ],
      "text/plain": [
       "                  title   puNumber           show_start_date            type  \\\n",
       "0      Открытый простор  221048915  2015-11-27T12:00:00.000Z  Художественный   \n",
       "1  Особо важное задание  111013716  2016-09-13T12:00:00.000Z  Художественный   \n",
       "2          Особо опасен  221038416  2016-10-10T12:00:00.000Z  Художественный   \n",
       "3          Особо опасен  221026916  2016-06-10T12:00:00.000Z  Художественный   \n",
       "4          Особо опасен  221030815  2015-07-29T12:00:00.000Z  Художественный   \n",
       "\n",
       "                                         film_studio production_country  \\\n",
       "0  Тачстоун Пикчерз, Кобальт Пикчерз, Бикон Пикче...                США   \n",
       "1                              Киностудия \"Мосфильм\"               СССР   \n",
       "2  Юниверсал Пикчерз, Кикстарт Продакшнз, Марк Пл...                США   \n",
       "3  Юниверсал Пикчерз, Кикстарт Продакшнз, Марк Пл...                США   \n",
       "4  Юниверсал Пикчерз, Кикстарт Продакшнз, Марк Пл...                США   \n",
       "\n",
       "            director                                           producer  \\\n",
       "0      Кевин Костнер          Дэвид Валдес, Кевин Костнер, Джейк Эбертс   \n",
       "1          Е.Матвеев                                                NaN   \n",
       "2  Тимур Бекмамбетов  Джим Лемли, Джейсон Нетер, Марк Е.Платт, Яйн Смит   \n",
       "3  Тимур Бекмамбетов  Джим Лемли, Джейсон Нетер, Марк Е.Платт, Яйн Смит   \n",
       "4  Тимур Бекмамбетов  Джим Лемли, Джейсон Нетер, Марк Е.Платт, Яйн Смит   \n",
       "\n",
       "                 age_restriction  refundable_support  nonrefundable_support  \\\n",
       "0    «18+» - запрещено для детей                 NaN                    NaN   \n",
       "1  «6+» - для детей старше 6 лет                 NaN                    NaN   \n",
       "2    «18+» - запрещено для детей                 NaN                    NaN   \n",
       "3    «18+» - запрещено для детей                 NaN                    NaN   \n",
       "4    «18+» - запрещено для детей                 NaN                    NaN   \n",
       "\n",
       "   budget financing_source ratings                     genres  \n",
       "0     NaN              NaN     7.2     боевик,драма,мелодрама  \n",
       "1     NaN              NaN     6.6              драма,военный  \n",
       "2     NaN              NaN     6.8  фантастика,боевик,триллер  \n",
       "3     NaN              NaN     6.8  фантастика,боевик,триллер  \n",
       "4     NaN              NaN     6.8  фантастика,боевик,триллер  "
      ]
     },
     "metadata": {},
     "output_type": "display_data"
    },
    {
     "name": "stdout",
     "output_type": "stream",
     "text": [
      "<class 'pandas.core.frame.DataFrame'>\n",
      "RangeIndex: 7486 entries, 0 to 7485\n",
      "Data columns (total 15 columns):\n",
      " #   Column                 Non-Null Count  Dtype  \n",
      "---  ------                 --------------  -----  \n",
      " 0   title                  7486 non-null   object \n",
      " 1   puNumber               7486 non-null   object \n",
      " 2   show_start_date        7486 non-null   object \n",
      " 3   type                   7486 non-null   object \n",
      " 4   film_studio            7468 non-null   object \n",
      " 5   production_country     7484 non-null   object \n",
      " 6   director               7477 non-null   object \n",
      " 7   producer               6918 non-null   object \n",
      " 8   age_restriction        7486 non-null   object \n",
      " 9   refundable_support     332 non-null    float64\n",
      " 10  nonrefundable_support  332 non-null    float64\n",
      " 11  budget                 332 non-null    float64\n",
      " 12  financing_source       332 non-null    object \n",
      " 13  ratings                6519 non-null   object \n",
      " 14  genres                 6510 non-null   object \n",
      "dtypes: float64(3), object(12)\n",
      "memory usage: 877.4+ KB\n"
     ]
    }
   ],
   "source": [
    "movies_table = pd.read_csv('/code/datasets/mkrf_movies.csv')\n",
    "display(movies_table.head(5))\n",
    "movies_table.info()"
   ]
  },
  {
   "cell_type": "code",
   "execution_count": 3,
   "metadata": {},
   "outputs": [
    {
     "data": {
      "text/html": [
       "<div>\n",
       "<style scoped>\n",
       "    .dataframe tbody tr th:only-of-type {\n",
       "        vertical-align: middle;\n",
       "    }\n",
       "\n",
       "    .dataframe tbody tr th {\n",
       "        vertical-align: top;\n",
       "    }\n",
       "\n",
       "    .dataframe thead th {\n",
       "        text-align: right;\n",
       "    }\n",
       "</style>\n",
       "<table border=\"1\" class=\"dataframe\">\n",
       "  <thead>\n",
       "    <tr style=\"text-align: right;\">\n",
       "      <th></th>\n",
       "      <th>puNumber</th>\n",
       "      <th>box_office</th>\n",
       "    </tr>\n",
       "  </thead>\n",
       "  <tbody>\n",
       "    <tr>\n",
       "      <th>0</th>\n",
       "      <td>111000113</td>\n",
       "      <td>2450.000</td>\n",
       "    </tr>\n",
       "    <tr>\n",
       "      <th>1</th>\n",
       "      <td>111000115</td>\n",
       "      <td>61040.000</td>\n",
       "    </tr>\n",
       "    <tr>\n",
       "      <th>2</th>\n",
       "      <td>111000116</td>\n",
       "      <td>153030013.400</td>\n",
       "    </tr>\n",
       "    <tr>\n",
       "      <th>3</th>\n",
       "      <td>111000117</td>\n",
       "      <td>12260956.000</td>\n",
       "    </tr>\n",
       "    <tr>\n",
       "      <th>4</th>\n",
       "      <td>111000118</td>\n",
       "      <td>163684057.790</td>\n",
       "    </tr>\n",
       "  </tbody>\n",
       "</table>\n",
       "</div>"
      ],
      "text/plain": [
       "    puNumber    box_office\n",
       "0  111000113      2450.000\n",
       "1  111000115     61040.000\n",
       "2  111000116 153030013.400\n",
       "3  111000117  12260956.000\n",
       "4  111000118 163684057.790"
      ]
     },
     "metadata": {},
     "output_type": "display_data"
    },
    {
     "name": "stdout",
     "output_type": "stream",
     "text": [
      "<class 'pandas.core.frame.DataFrame'>\n",
      "RangeIndex: 3158 entries, 0 to 3157\n",
      "Data columns (total 2 columns):\n",
      " #   Column      Non-Null Count  Dtype  \n",
      "---  ------      --------------  -----  \n",
      " 0   puNumber    3158 non-null   int64  \n",
      " 1   box_office  3158 non-null   float64\n",
      "dtypes: float64(1), int64(1)\n",
      "memory usage: 49.5 KB\n"
     ]
    }
   ],
   "source": [
    "shows_table = pd.read_csv('/code/datasets/mkrf_shows.csv')\n",
    "display(shows_table.head())\n",
    "shows_table.info()"
   ]
  },
  {
   "cell_type": "markdown",
   "metadata": {},
   "source": [
    "* Объединять будем по номеру прокатного удостоверения (столбец 'puNumber'). Тип данных *object* по столбцу 'puNumber' таблицы **movies_table** переведём в int. Присвоим переременной **mkrf_movies_show** получившийся датафрейм."
   ]
  },
  {
   "cell_type": "code",
   "execution_count": 4,
   "metadata": {
    "scrolled": true
   },
   "outputs": [
    {
     "data": {
      "text/html": [
       "<div>\n",
       "<style scoped>\n",
       "    .dataframe tbody tr th:only-of-type {\n",
       "        vertical-align: middle;\n",
       "    }\n",
       "\n",
       "    .dataframe tbody tr th {\n",
       "        vertical-align: top;\n",
       "    }\n",
       "\n",
       "    .dataframe thead th {\n",
       "        text-align: right;\n",
       "    }\n",
       "</style>\n",
       "<table border=\"1\" class=\"dataframe\">\n",
       "  <thead>\n",
       "    <tr style=\"text-align: right;\">\n",
       "      <th></th>\n",
       "      <th>title</th>\n",
       "      <th>puNumber</th>\n",
       "      <th>show_start_date</th>\n",
       "      <th>type</th>\n",
       "      <th>film_studio</th>\n",
       "      <th>production_country</th>\n",
       "      <th>director</th>\n",
       "      <th>producer</th>\n",
       "      <th>age_restriction</th>\n",
       "      <th>refundable_support</th>\n",
       "      <th>nonrefundable_support</th>\n",
       "      <th>budget</th>\n",
       "      <th>financing_source</th>\n",
       "      <th>ratings</th>\n",
       "      <th>genres</th>\n",
       "      <th>box_office</th>\n",
       "    </tr>\n",
       "  </thead>\n",
       "  <tbody>\n",
       "    <tr>\n",
       "      <th>0</th>\n",
       "      <td>Открытый простор</td>\n",
       "      <td>221048915</td>\n",
       "      <td>2015-11-27T12:00:00.000Z</td>\n",
       "      <td>Художественный</td>\n",
       "      <td>Тачстоун Пикчерз, Кобальт Пикчерз, Бикон Пикче...</td>\n",
       "      <td>США</td>\n",
       "      <td>Кевин Костнер</td>\n",
       "      <td>Дэвид Валдес, Кевин Костнер, Джейк Эбертс</td>\n",
       "      <td>«18+» - запрещено для детей</td>\n",
       "      <td>NaN</td>\n",
       "      <td>NaN</td>\n",
       "      <td>NaN</td>\n",
       "      <td>NaN</td>\n",
       "      <td>7.2</td>\n",
       "      <td>боевик,драма,мелодрама</td>\n",
       "      <td>NaN</td>\n",
       "    </tr>\n",
       "    <tr>\n",
       "      <th>1</th>\n",
       "      <td>Особо важное задание</td>\n",
       "      <td>111013716</td>\n",
       "      <td>2016-09-13T12:00:00.000Z</td>\n",
       "      <td>Художественный</td>\n",
       "      <td>Киностудия \"Мосфильм\"</td>\n",
       "      <td>СССР</td>\n",
       "      <td>Е.Матвеев</td>\n",
       "      <td>NaN</td>\n",
       "      <td>«6+» - для детей старше 6 лет</td>\n",
       "      <td>NaN</td>\n",
       "      <td>NaN</td>\n",
       "      <td>NaN</td>\n",
       "      <td>NaN</td>\n",
       "      <td>6.6</td>\n",
       "      <td>драма,военный</td>\n",
       "      <td>NaN</td>\n",
       "    </tr>\n",
       "    <tr>\n",
       "      <th>2</th>\n",
       "      <td>Особо опасен</td>\n",
       "      <td>221038416</td>\n",
       "      <td>2016-10-10T12:00:00.000Z</td>\n",
       "      <td>Художественный</td>\n",
       "      <td>Юниверсал Пикчерз, Кикстарт Продакшнз, Марк Пл...</td>\n",
       "      <td>США</td>\n",
       "      <td>Тимур Бекмамбетов</td>\n",
       "      <td>Джим Лемли, Джейсон Нетер, Марк Е.Платт, Яйн Смит</td>\n",
       "      <td>«18+» - запрещено для детей</td>\n",
       "      <td>NaN</td>\n",
       "      <td>NaN</td>\n",
       "      <td>NaN</td>\n",
       "      <td>NaN</td>\n",
       "      <td>6.8</td>\n",
       "      <td>фантастика,боевик,триллер</td>\n",
       "      <td>NaN</td>\n",
       "    </tr>\n",
       "    <tr>\n",
       "      <th>3</th>\n",
       "      <td>Особо опасен</td>\n",
       "      <td>221026916</td>\n",
       "      <td>2016-06-10T12:00:00.000Z</td>\n",
       "      <td>Художественный</td>\n",
       "      <td>Юниверсал Пикчерз, Кикстарт Продакшнз, Марк Пл...</td>\n",
       "      <td>США</td>\n",
       "      <td>Тимур Бекмамбетов</td>\n",
       "      <td>Джим Лемли, Джейсон Нетер, Марк Е.Платт, Яйн Смит</td>\n",
       "      <td>«18+» - запрещено для детей</td>\n",
       "      <td>NaN</td>\n",
       "      <td>NaN</td>\n",
       "      <td>NaN</td>\n",
       "      <td>NaN</td>\n",
       "      <td>6.8</td>\n",
       "      <td>фантастика,боевик,триллер</td>\n",
       "      <td>NaN</td>\n",
       "    </tr>\n",
       "    <tr>\n",
       "      <th>4</th>\n",
       "      <td>Особо опасен</td>\n",
       "      <td>221030815</td>\n",
       "      <td>2015-07-29T12:00:00.000Z</td>\n",
       "      <td>Художественный</td>\n",
       "      <td>Юниверсал Пикчерз, Кикстарт Продакшнз, Марк Пл...</td>\n",
       "      <td>США</td>\n",
       "      <td>Тимур Бекмамбетов</td>\n",
       "      <td>Джим Лемли, Джейсон Нетер, Марк Е.Платт, Яйн Смит</td>\n",
       "      <td>«18+» - запрещено для детей</td>\n",
       "      <td>NaN</td>\n",
       "      <td>NaN</td>\n",
       "      <td>NaN</td>\n",
       "      <td>NaN</td>\n",
       "      <td>6.8</td>\n",
       "      <td>фантастика,боевик,триллер</td>\n",
       "      <td>NaN</td>\n",
       "    </tr>\n",
       "  </tbody>\n",
       "</table>\n",
       "</div>"
      ],
      "text/plain": [
       "                  title   puNumber           show_start_date            type  \\\n",
       "0      Открытый простор  221048915  2015-11-27T12:00:00.000Z  Художественный   \n",
       "1  Особо важное задание  111013716  2016-09-13T12:00:00.000Z  Художественный   \n",
       "2          Особо опасен  221038416  2016-10-10T12:00:00.000Z  Художественный   \n",
       "3          Особо опасен  221026916  2016-06-10T12:00:00.000Z  Художественный   \n",
       "4          Особо опасен  221030815  2015-07-29T12:00:00.000Z  Художественный   \n",
       "\n",
       "                                         film_studio production_country  \\\n",
       "0  Тачстоун Пикчерз, Кобальт Пикчерз, Бикон Пикче...                США   \n",
       "1                              Киностудия \"Мосфильм\"               СССР   \n",
       "2  Юниверсал Пикчерз, Кикстарт Продакшнз, Марк Пл...                США   \n",
       "3  Юниверсал Пикчерз, Кикстарт Продакшнз, Марк Пл...                США   \n",
       "4  Юниверсал Пикчерз, Кикстарт Продакшнз, Марк Пл...                США   \n",
       "\n",
       "            director                                           producer  \\\n",
       "0      Кевин Костнер          Дэвид Валдес, Кевин Костнер, Джейк Эбертс   \n",
       "1          Е.Матвеев                                                NaN   \n",
       "2  Тимур Бекмамбетов  Джим Лемли, Джейсон Нетер, Марк Е.Платт, Яйн Смит   \n",
       "3  Тимур Бекмамбетов  Джим Лемли, Джейсон Нетер, Марк Е.Платт, Яйн Смит   \n",
       "4  Тимур Бекмамбетов  Джим Лемли, Джейсон Нетер, Марк Е.Платт, Яйн Смит   \n",
       "\n",
       "                 age_restriction  refundable_support  nonrefundable_support  \\\n",
       "0    «18+» - запрещено для детей                 NaN                    NaN   \n",
       "1  «6+» - для детей старше 6 лет                 NaN                    NaN   \n",
       "2    «18+» - запрещено для детей                 NaN                    NaN   \n",
       "3    «18+» - запрещено для детей                 NaN                    NaN   \n",
       "4    «18+» - запрещено для детей                 NaN                    NaN   \n",
       "\n",
       "   budget financing_source ratings                     genres  box_office  \n",
       "0     NaN              NaN     7.2     боевик,драма,мелодрама         NaN  \n",
       "1     NaN              NaN     6.6              драма,военный         NaN  \n",
       "2     NaN              NaN     6.8  фантастика,боевик,триллер         NaN  \n",
       "3     NaN              NaN     6.8  фантастика,боевик,триллер         NaN  \n",
       "4     NaN              NaN     6.8  фантастика,боевик,триллер         NaN  "
      ]
     },
     "metadata": {},
     "output_type": "display_data"
    },
    {
     "name": "stdout",
     "output_type": "stream",
     "text": [
      "0\n"
     ]
    }
   ],
   "source": [
    "movies_table['puNumber'] = pd.to_numeric(movies_table['puNumber'],errors='coerce')\n",
    "movies_table['puNumber'] = movies_table['puNumber'].fillna(0)\n",
    "movies_table['puNumber'] = movies_table['puNumber'].astype('int')\n",
    "\n",
    "\n",
    "mkrf_movies_show = movies_table.merge(shows_table, on='puNumber', how='left')\n",
    "display(mkrf_movies_show.head())\n",
    "print(mkrf_movies_show['puNumber'].isna().sum())"
   ]
  },
  {
   "cell_type": "markdown",
   "metadata": {},
   "source": [
    "* Наименование `puNumber` приведем к змеиному регистру"
   ]
  },
  {
   "cell_type": "code",
   "execution_count": 5,
   "metadata": {},
   "outputs": [],
   "source": [
    "mkrf_movies_show = mkrf_movies_show.rename(columns={'puNumber': 'pu_number'})"
   ]
  },
  {
   "cell_type": "code",
   "execution_count": 6,
   "metadata": {},
   "outputs": [
    {
     "name": "stdout",
     "output_type": "stream",
     "text": [
      "<class 'pandas.core.frame.DataFrame'>\n",
      "Int64Index: 7486 entries, 0 to 7485\n",
      "Data columns (total 16 columns):\n",
      " #   Column                 Non-Null Count  Dtype  \n",
      "---  ------                 --------------  -----  \n",
      " 0   title                  7486 non-null   object \n",
      " 1   pu_number              7486 non-null   int64  \n",
      " 2   show_start_date        7486 non-null   object \n",
      " 3   type                   7486 non-null   object \n",
      " 4   film_studio            7468 non-null   object \n",
      " 5   production_country     7484 non-null   object \n",
      " 6   director               7477 non-null   object \n",
      " 7   producer               6918 non-null   object \n",
      " 8   age_restriction        7486 non-null   object \n",
      " 9   refundable_support     332 non-null    float64\n",
      " 10  nonrefundable_support  332 non-null    float64\n",
      " 11  budget                 332 non-null    float64\n",
      " 12  financing_source       332 non-null    object \n",
      " 13  ratings                6519 non-null   object \n",
      " 14  genres                 6510 non-null   object \n",
      " 15  box_office             3158 non-null   float64\n",
      "dtypes: float64(4), int64(1), object(11)\n",
      "memory usage: 994.2+ KB\n"
     ]
    }
   ],
   "source": [
    "mkrf_movies_show.info()"
   ]
  },
  {
   "cell_type": "code",
   "execution_count": 7,
   "metadata": {},
   "outputs": [
    {
     "name": "stdout",
     "output_type": "stream",
     "text": [
      "2010-01-11T12:00:00.000Z 2019-12-30T12:00:00.000Z\n"
     ]
    }
   ],
   "source": [
    "print(mkrf_movies_show['show_start_date'].min(), mkrf_movies_show['show_start_date'].max())"
   ]
  },
  {
   "cell_type": "markdown",
   "metadata": {},
   "source": [
    "**Вывод:**\n",
    "\n",
    "Объединенный датасет состоит из 7486 записей и 16 колонок, содержит данные  о прокатах фильмов за период с 11 января 2010 года по 30 декабря 2019г. на территории РФ."
   ]
  },
  {
   "cell_type": "markdown",
   "metadata": {
    "id": "KLDGpPG0gFyM"
   },
   "source": [
    "### 2. Предобработка данных"
   ]
  },
  {
   "cell_type": "markdown",
   "metadata": {
    "id": "ssWwKXsxgFyO"
   },
   "source": [
    "#### 2.1. типы данных\n",
    "\n",
    "строковые значения столбца 'show_start_date' преобразуем в тип **datetime**\n",
    "\n",
    "строковые значения столбца 'ratings' преобразуем в тип **float**\n"
   ]
  },
  {
   "cell_type": "code",
   "execution_count": 8,
   "metadata": {
    "id": "kVGSplJOgFyO"
   },
   "outputs": [],
   "source": [
    "mkrf_movies_show['show_start_date'] = pd.to_datetime(mkrf_movies_show['show_start_date'],format='%Y.%m.%dT%H:%M:%S')\n",
    "\n",
    "mkrf_movies_show['ratings'] = pd.to_numeric(mkrf_movies_show['ratings'], errors='coerce')"
   ]
  },
  {
   "cell_type": "markdown",
   "metadata": {
    "id": "i0MOLbF-gFyP"
   },
   "source": [
    "#### 2.2. пропуски \n"
   ]
  },
  {
   "cell_type": "code",
   "execution_count": 9,
   "metadata": {
    "id": "8MJD_lkngFyP"
   },
   "outputs": [
    {
     "name": "stdout",
     "output_type": "stream",
     "text": [
      "Пропуски в датафрейме:\n",
      "title                       0\n",
      "pu_number                   0\n",
      "show_start_date             0\n",
      "type                        0\n",
      "film_studio                18\n",
      "production_country          2\n",
      "director                    9\n",
      "producer                  568\n",
      "age_restriction             0\n",
      "refundable_support       7154\n",
      "nonrefundable_support    7154\n",
      "budget                   7154\n",
      "financing_source         7154\n",
      "ratings                   996\n",
      "genres                    976\n",
      "box_office               4328\n",
      "dtype: int64\n"
     ]
    }
   ],
   "source": [
    "print('Пропуски в датафрейме:')\n",
    "print(mkrf_movies_show.isna().sum())"
   ]
  },
  {
   "cell_type": "code",
   "execution_count": 10,
   "metadata": {
    "scrolled": true
   },
   "outputs": [
    {
     "data": {
      "text/html": [
       "<div>\n",
       "<style scoped>\n",
       "    .dataframe tbody tr th:only-of-type {\n",
       "        vertical-align: middle;\n",
       "    }\n",
       "\n",
       "    .dataframe tbody tr th {\n",
       "        vertical-align: top;\n",
       "    }\n",
       "\n",
       "    .dataframe thead th {\n",
       "        text-align: right;\n",
       "    }\n",
       "</style>\n",
       "<table border=\"1\" class=\"dataframe\">\n",
       "  <thead>\n",
       "    <tr style=\"text-align: right;\">\n",
       "      <th></th>\n",
       "      <th>title</th>\n",
       "      <th>pu_number</th>\n",
       "      <th>show_start_date</th>\n",
       "      <th>type</th>\n",
       "      <th>film_studio</th>\n",
       "      <th>production_country</th>\n",
       "      <th>director</th>\n",
       "      <th>producer</th>\n",
       "      <th>age_restriction</th>\n",
       "      <th>refundable_support</th>\n",
       "      <th>nonrefundable_support</th>\n",
       "      <th>budget</th>\n",
       "      <th>financing_source</th>\n",
       "      <th>ratings</th>\n",
       "      <th>genres</th>\n",
       "      <th>box_office</th>\n",
       "    </tr>\n",
       "  </thead>\n",
       "  <tbody>\n",
       "    <tr>\n",
       "      <th>764</th>\n",
       "      <td>Три звезды. Концерт в Waldbuhne Theater, Берли...</td>\n",
       "      <td>126003512</td>\n",
       "      <td>2012-12-04 12:00:00+00:00</td>\n",
       "      <td>Прочие</td>\n",
       "      <td>Райзинг Алтернатив</td>\n",
       "      <td>Великобритания</td>\n",
       "      <td>NaN</td>\n",
       "      <td>Вальдбюне Театр</td>\n",
       "      <td>«0+» - для любой зрительской аудитории</td>\n",
       "      <td>NaN</td>\n",
       "      <td>NaN</td>\n",
       "      <td>NaN</td>\n",
       "      <td>NaN</td>\n",
       "      <td>NaN</td>\n",
       "      <td>NaN</td>\n",
       "      <td>44350.000</td>\n",
       "    </tr>\n",
       "    <tr>\n",
       "      <th>1735</th>\n",
       "      <td>Помпеи. Британский музей</td>\n",
       "      <td>126003413</td>\n",
       "      <td>2013-09-11 12:00:00+00:00</td>\n",
       "      <td>Прочие</td>\n",
       "      <td>МортуСкрин, Британский музей</td>\n",
       "      <td>Великобритания</td>\n",
       "      <td>NaN</td>\n",
       "      <td>Британский музей</td>\n",
       "      <td>«0+» - для любой зрительской аудитории</td>\n",
       "      <td>NaN</td>\n",
       "      <td>NaN</td>\n",
       "      <td>NaN</td>\n",
       "      <td>NaN</td>\n",
       "      <td>NaN</td>\n",
       "      <td>NaN</td>\n",
       "      <td>NaN</td>\n",
       "    </tr>\n",
       "    <tr>\n",
       "      <th>3840</th>\n",
       "      <td>Зур концерт (Большой концерт).</td>\n",
       "      <td>217027010</td>\n",
       "      <td>2010-06-24 12:00:00+00:00</td>\n",
       "      <td>Художественный</td>\n",
       "      <td>ООО \"Барс Рекордс\"</td>\n",
       "      <td>Россия</td>\n",
       "      <td>NaN</td>\n",
       "      <td>NaN</td>\n",
       "      <td>«12+» - для детей старше 12 лет</td>\n",
       "      <td>NaN</td>\n",
       "      <td>NaN</td>\n",
       "      <td>NaN</td>\n",
       "      <td>NaN</td>\n",
       "      <td>NaN</td>\n",
       "      <td>NaN</td>\n",
       "      <td>NaN</td>\n",
       "    </tr>\n",
       "    <tr>\n",
       "      <th>4052</th>\n",
       "      <td>Ганс Сэйфуллин \"Авылым чишмэлэре. Ганс Сэйфулл...</td>\n",
       "      <td>217017310</td>\n",
       "      <td>2010-04-22 12:00:00+00:00</td>\n",
       "      <td>Художественный</td>\n",
       "      <td>ООО \"Барс-Рекордс\"</td>\n",
       "      <td>Россия</td>\n",
       "      <td>NaN</td>\n",
       "      <td>NaN</td>\n",
       "      <td>«0+» - для любой зрительской аудитории</td>\n",
       "      <td>NaN</td>\n",
       "      <td>NaN</td>\n",
       "      <td>NaN</td>\n",
       "      <td>NaN</td>\n",
       "      <td>NaN</td>\n",
       "      <td>NaN</td>\n",
       "      <td>NaN</td>\n",
       "    </tr>\n",
       "    <tr>\n",
       "      <th>4298</th>\n",
       "      <td>Изге Вэли (Святой Валентин)</td>\n",
       "      <td>217020610</td>\n",
       "      <td>2010-05-20 12:00:00+00:00</td>\n",
       "      <td>Художественный</td>\n",
       "      <td>ООО \"Барс Рекордс\"</td>\n",
       "      <td>Россия</td>\n",
       "      <td>NaN</td>\n",
       "      <td>NaN</td>\n",
       "      <td>«12+» - для детей старше 12 лет</td>\n",
       "      <td>NaN</td>\n",
       "      <td>NaN</td>\n",
       "      <td>NaN</td>\n",
       "      <td>NaN</td>\n",
       "      <td>NaN</td>\n",
       "      <td>NaN</td>\n",
       "      <td>NaN</td>\n",
       "    </tr>\n",
       "    <tr>\n",
       "      <th>4415</th>\n",
       "      <td>Bon Jovi. The Circle Tour</td>\n",
       "      <td>126001710</td>\n",
       "      <td>2010-11-11 12:00:00+00:00</td>\n",
       "      <td>Прочие</td>\n",
       "      <td>Эншутц Интертейнмент Груп</td>\n",
       "      <td>США</td>\n",
       "      <td>NaN</td>\n",
       "      <td>Эншутц Интертейнмент Груп</td>\n",
       "      <td>«0+» - для любой зрительской аудитории</td>\n",
       "      <td>NaN</td>\n",
       "      <td>NaN</td>\n",
       "      <td>NaN</td>\n",
       "      <td>NaN</td>\n",
       "      <td>7.900</td>\n",
       "      <td>концерт,музыка</td>\n",
       "      <td>NaN</td>\n",
       "    </tr>\n",
       "    <tr>\n",
       "      <th>4441</th>\n",
       "      <td>Мульт личности. Выпуск 5</td>\n",
       "      <td>214000410</td>\n",
       "      <td>2010-01-25 12:00:00+00:00</td>\n",
       "      <td>Художественный</td>\n",
       "      <td>NaN</td>\n",
       "      <td>NaN</td>\n",
       "      <td>NaN</td>\n",
       "      <td>NaN</td>\n",
       "      <td>«0+» - для любой зрительской аудитории</td>\n",
       "      <td>NaN</td>\n",
       "      <td>NaN</td>\n",
       "      <td>NaN</td>\n",
       "      <td>NaN</td>\n",
       "      <td>4.000</td>\n",
       "      <td>мультфильм,комедия</td>\n",
       "      <td>NaN</td>\n",
       "    </tr>\n",
       "    <tr>\n",
       "      <th>4923</th>\n",
       "      <td>Георг Фридрих Гендель. Мессия. Оратория. Корол...</td>\n",
       "      <td>126001111</td>\n",
       "      <td>2011-04-25 12:00:00+00:00</td>\n",
       "      <td>Прочие</td>\n",
       "      <td>Опус Арт</td>\n",
       "      <td>Великобритания</td>\n",
       "      <td>NaN</td>\n",
       "      <td>Короевский колледж Кембриджа</td>\n",
       "      <td>«0+» - для любой зрительской аудитории</td>\n",
       "      <td>NaN</td>\n",
       "      <td>NaN</td>\n",
       "      <td>NaN</td>\n",
       "      <td>NaN</td>\n",
       "      <td>NaN</td>\n",
       "      <td>NaN</td>\n",
       "      <td>NaN</td>\n",
       "    </tr>\n",
       "    <tr>\n",
       "      <th>4942</th>\n",
       "      <td>Питер Гэбриэл и New Blood Orchestra 3D</td>\n",
       "      <td>126002711</td>\n",
       "      <td>2011-11-11 12:00:00+00:00</td>\n",
       "      <td>Прочие</td>\n",
       "      <td>Омниверс Визион</td>\n",
       "      <td>Великобритания</td>\n",
       "      <td>NaN</td>\n",
       "      <td>Омниверс Визион</td>\n",
       "      <td>«0+» - для любой зрительской аудитории</td>\n",
       "      <td>NaN</td>\n",
       "      <td>NaN</td>\n",
       "      <td>NaN</td>\n",
       "      <td>NaN</td>\n",
       "      <td>6.700</td>\n",
       "      <td>концерт,музыка</td>\n",
       "      <td>NaN</td>\n",
       "    </tr>\n",
       "  </tbody>\n",
       "</table>\n",
       "</div>"
      ],
      "text/plain": [
       "                                                  title  pu_number  \\\n",
       "764   Три звезды. Концерт в Waldbuhne Theater, Берли...  126003512   \n",
       "1735                           Помпеи. Британский музей  126003413   \n",
       "3840                     Зур концерт (Большой концерт).  217027010   \n",
       "4052  Ганс Сэйфуллин \"Авылым чишмэлэре. Ганс Сэйфулл...  217017310   \n",
       "4298                        Изге Вэли (Святой Валентин)  217020610   \n",
       "4415                          Bon Jovi. The Circle Tour  126001710   \n",
       "4441                           Мульт личности. Выпуск 5  214000410   \n",
       "4923  Георг Фридрих Гендель. Мессия. Оратория. Корол...  126001111   \n",
       "4942             Питер Гэбриэл и New Blood Orchestra 3D  126002711   \n",
       "\n",
       "               show_start_date            type                   film_studio  \\\n",
       "764  2012-12-04 12:00:00+00:00          Прочие            Райзинг Алтернатив   \n",
       "1735 2013-09-11 12:00:00+00:00          Прочие  МортуСкрин, Британский музей   \n",
       "3840 2010-06-24 12:00:00+00:00  Художественный            ООО \"Барс Рекордс\"   \n",
       "4052 2010-04-22 12:00:00+00:00  Художественный            ООО \"Барс-Рекордс\"   \n",
       "4298 2010-05-20 12:00:00+00:00  Художественный            ООО \"Барс Рекордс\"   \n",
       "4415 2010-11-11 12:00:00+00:00          Прочие     Эншутц Интертейнмент Груп   \n",
       "4441 2010-01-25 12:00:00+00:00  Художественный                           NaN   \n",
       "4923 2011-04-25 12:00:00+00:00          Прочие                      Опус Арт   \n",
       "4942 2011-11-11 12:00:00+00:00          Прочие               Омниверс Визион   \n",
       "\n",
       "     production_country director                      producer  \\\n",
       "764      Великобритания      NaN               Вальдбюне Театр   \n",
       "1735     Великобритания      NaN              Британский музей   \n",
       "3840             Россия      NaN                           NaN   \n",
       "4052             Россия      NaN                           NaN   \n",
       "4298             Россия      NaN                           NaN   \n",
       "4415                США      NaN     Эншутц Интертейнмент Груп   \n",
       "4441                NaN      NaN                           NaN   \n",
       "4923     Великобритания      NaN  Короевский колледж Кембриджа   \n",
       "4942     Великобритания      NaN               Омниверс Визион   \n",
       "\n",
       "                             age_restriction  refundable_support  \\\n",
       "764   «0+» - для любой зрительской аудитории                 NaN   \n",
       "1735  «0+» - для любой зрительской аудитории                 NaN   \n",
       "3840         «12+» - для детей старше 12 лет                 NaN   \n",
       "4052  «0+» - для любой зрительской аудитории                 NaN   \n",
       "4298         «12+» - для детей старше 12 лет                 NaN   \n",
       "4415  «0+» - для любой зрительской аудитории                 NaN   \n",
       "4441  «0+» - для любой зрительской аудитории                 NaN   \n",
       "4923  «0+» - для любой зрительской аудитории                 NaN   \n",
       "4942  «0+» - для любой зрительской аудитории                 NaN   \n",
       "\n",
       "      nonrefundable_support  budget financing_source  ratings  \\\n",
       "764                     NaN     NaN              NaN      NaN   \n",
       "1735                    NaN     NaN              NaN      NaN   \n",
       "3840                    NaN     NaN              NaN      NaN   \n",
       "4052                    NaN     NaN              NaN      NaN   \n",
       "4298                    NaN     NaN              NaN      NaN   \n",
       "4415                    NaN     NaN              NaN    7.900   \n",
       "4441                    NaN     NaN              NaN    4.000   \n",
       "4923                    NaN     NaN              NaN      NaN   \n",
       "4942                    NaN     NaN              NaN    6.700   \n",
       "\n",
       "                  genres  box_office  \n",
       "764                  NaN   44350.000  \n",
       "1735                 NaN         NaN  \n",
       "3840                 NaN         NaN  \n",
       "4052                 NaN         NaN  \n",
       "4298                 NaN         NaN  \n",
       "4415      концерт,музыка         NaN  \n",
       "4441  мультфильм,комедия         NaN  \n",
       "4923                 NaN         NaN  \n",
       "4942      концерт,музыка         NaN  "
      ]
     },
     "metadata": {},
     "output_type": "display_data"
    }
   ],
   "source": [
    "display(mkrf_movies_show[pd.isna(mkrf_movies_show['director'])])"
   ]
  },
  {
   "cell_type": "markdown",
   "metadata": {},
   "source": [
    "**Вывод**\n",
    "\n",
    "Столбцы: film_studio, production_country, producer, financing_source не требуют заполнения пропусков, так как не участвуют в расчетах.\n",
    "\n",
    "В колоннках refundable_support, nonrefundable_support, budget, financing_source по 7154 пропуска. Заполнение пропусков не требуется, так как присутствующие данные касаются фильмов отечественного производства.\n",
    "\n",
    "director - 9 пропусков - не требуют удаления\n",
    "\n",
    "ratings                   996\n",
    "\n",
    "genres                    976\n",
    "\n",
    "box_office               4328\n"
   ]
  },
  {
   "cell_type": "markdown",
   "metadata": {
    "id": "4c6k1t9ygFyQ"
   },
   "source": [
    "#### 2.3. дубликаты "
   ]
  },
  {
   "cell_type": "markdown",
   "metadata": {},
   "source": [
    "Определим все уникальные значения в каждом столбце"
   ]
  },
  {
   "cell_type": "code",
   "execution_count": 11,
   "metadata": {
    "id": "aKck8RIdgFyQ"
   },
   "outputs": [
    {
     "name": "stdout",
     "output_type": "stream",
     "text": [
      "День святого Валентина_                             5\n",
      "Лузеры                                              4\n",
      "Двойной копец                                       4\n",
      "Не брать живым /По книге Раджива Чандрасекарана/    4\n",
      "Кошки против собак: Месть Китти Галор               4\n",
      "Name: title, dtype: int64\n",
      "221054410    2\n",
      "221154310    2\n",
      "0            1\n",
      "111008518    1\n",
      "114002716    1\n",
      "Name: pu_number, dtype: int64\n",
      "2010-12-17 12:00:00+00:00    96\n",
      "2014-12-01 12:00:00+00:00    71\n",
      "2014-12-24 12:00:00+00:00    61\n",
      "2016-06-07 12:00:00+00:00    41\n",
      "2013-12-19 12:00:00+00:00    39\n",
      "Name: show_start_date, dtype: int64\n",
      "Художественный     4520\n",
      " Художественный    1389\n",
      "Анимационный        828\n",
      "Прочие              406\n",
      "Документальный      288\n",
      "Name: type, dtype: int64\n",
      "Киностудия \"Мосфильм\"                     341\n",
      "ООО \"Мульт в кино\"                         57\n",
      "Анимаккорд Лтд                             23\n",
      "ООО \"Мульт в кино\"                         18\n",
      "ФГУП \"ТПО \"Киностудия \"Союзмультфильм\"     16\n",
      "Name: film_studio, dtype: int64\n",
      "США               2172\n",
      "Россия            1821\n",
      "СССР               347\n",
      "Франция            301\n",
      "Великобритания     257\n",
      "Name: production_country, dtype: int64\n",
      "О.Семёнова          47\n",
      "Стивен Содерберг    17\n",
      "Д.Червяцов          17\n",
      "Ридли Скотт         16\n",
      "Тиль Швайгер        14\n",
      "Name: director, dtype: int64\n",
      "П.Смирнов                                        67\n",
      "Олег Кузовков, Дмитрий Ловейко, Марина Ратина    28\n",
      "С.Сельянов                                       18\n",
      "Д.Ловейко, О.Кузовков                            17\n",
      "Джерри Брукхаймер                                11\n",
      "Name: producer, dtype: int64\n",
      "«16+» - для детей старше 16 лет           2851\n",
      "«18+» - запрещено для детей               1605\n",
      "«12+» - для детей старше 12 лет           1593\n",
      "«0+» - для любой зрительской аудитории     811\n",
      "«6+» - для детей старше 6 лет              626\n",
      "Name: age_restriction, dtype: int64\n",
      "0.000           221\n",
      "20000000.000     12\n",
      "10000000.000     10\n",
      "25000000.000     10\n",
      "15000000.000      9\n",
      "Name: refundable_support, dtype: int64\n",
      "25000000.000    53\n",
      "30000000.000    48\n",
      "35000000.000    29\n",
      "40000000.000    26\n",
      "20000000.000    19\n",
      "Name: nonrefundable_support, dtype: int64\n",
      "0.000           17\n",
      "38000000.000     6\n",
      "80000000.000     4\n",
      "50000000.000     4\n",
      "40000000.000     3\n",
      "Name: budget, dtype: int64\n",
      "Министерство культуры               164\n",
      "Фонд кино                           146\n",
      "Министерство культуры, Фонд кино     22\n",
      "Name: financing_source, dtype: int64\n",
      "6.600    312\n",
      "6.700    308\n",
      "6.800    261\n",
      "7.200    252\n",
      "6.200    243\n",
      "Name: ratings, dtype: int64\n",
      "драма                      476\n",
      "комедия                    352\n",
      "мелодрама,комедия          222\n",
      "драма,мелодрама,комедия    189\n",
      "драма,мелодрама            183\n",
      "Name: genres, dtype: int64\n",
      "0.000      24\n",
      "200.000    13\n",
      "300.000    12\n",
      "360.000     9\n",
      "400.000     8\n",
      "Name: box_office, dtype: int64\n",
      "--------------------------------------------------------\n"
     ]
    },
    {
     "data": {
      "text/plain": [
       "'Явных дубликатов в таблице:'"
      ]
     },
     "metadata": {},
     "output_type": "display_data"
    },
    {
     "data": {
      "text/plain": [
       "0"
      ]
     },
     "metadata": {},
     "output_type": "display_data"
    }
   ],
   "source": [
    "\n",
    "for column in mkrf_movies_show:\n",
    "    print(mkrf_movies_show[column].value_counts().head()) \n",
    "print('--------------------------------------------------------')\n",
    "display('Явных дубликатов в таблице:', mkrf_movies_show.duplicated().sum())"
   ]
  },
  {
   "cell_type": "markdown",
   "metadata": {},
   "source": [
    "- *Особого внимания заслуживают столбцы 'title' и 'pu_number', так как значения в них являются уникальными и не являются категориальными.*\n"
   ]
  },
  {
   "cell_type": "code",
   "execution_count": 12,
   "metadata": {},
   "outputs": [
    {
     "data": {
      "text/html": [
       "<div>\n",
       "<style scoped>\n",
       "    .dataframe tbody tr th:only-of-type {\n",
       "        vertical-align: middle;\n",
       "    }\n",
       "\n",
       "    .dataframe tbody tr th {\n",
       "        vertical-align: top;\n",
       "    }\n",
       "\n",
       "    .dataframe thead th {\n",
       "        text-align: right;\n",
       "    }\n",
       "</style>\n",
       "<table border=\"1\" class=\"dataframe\">\n",
       "  <thead>\n",
       "    <tr style=\"text-align: right;\">\n",
       "      <th></th>\n",
       "      <th>title</th>\n",
       "      <th>pu_number</th>\n",
       "      <th>show_start_date</th>\n",
       "      <th>type</th>\n",
       "      <th>film_studio</th>\n",
       "      <th>production_country</th>\n",
       "      <th>director</th>\n",
       "      <th>producer</th>\n",
       "      <th>age_restriction</th>\n",
       "      <th>refundable_support</th>\n",
       "      <th>nonrefundable_support</th>\n",
       "      <th>budget</th>\n",
       "      <th>financing_source</th>\n",
       "      <th>ratings</th>\n",
       "      <th>genres</th>\n",
       "      <th>box_office</th>\n",
       "    </tr>\n",
       "  </thead>\n",
       "  <tbody>\n",
       "    <tr>\n",
       "      <th>3902</th>\n",
       "      <td>День святого Валентина_</td>\n",
       "      <td>221083810</td>\n",
       "      <td>2010-07-15 12:00:00+00:00</td>\n",
       "      <td>Художественный</td>\n",
       "      <td>Уорнер Бразерс, Нью Лайн Синема, Уэйн Райс, Ка...</td>\n",
       "      <td>США</td>\n",
       "      <td>Гарри Маршалл</td>\n",
       "      <td>Сэмюэл Дж.Браун</td>\n",
       "      <td>«16+» - для детей старше 16 лет</td>\n",
       "      <td>NaN</td>\n",
       "      <td>NaN</td>\n",
       "      <td>NaN</td>\n",
       "      <td>NaN</td>\n",
       "      <td>6.700</td>\n",
       "      <td>мелодрама,комедия</td>\n",
       "      <td>NaN</td>\n",
       "    </tr>\n",
       "    <tr>\n",
       "      <th>3991</th>\n",
       "      <td>День святого Валентина_</td>\n",
       "      <td>221068010</td>\n",
       "      <td>2010-05-14 12:00:00+00:00</td>\n",
       "      <td>Художественный</td>\n",
       "      <td>Уорнер Бразерс, Нью Лайн Синема, Уэйн Райс, Ка...</td>\n",
       "      <td>США</td>\n",
       "      <td>Гарри Маршалл</td>\n",
       "      <td>Сэмюэл Дж.Браун</td>\n",
       "      <td>«16+» - для детей старше 16 лет</td>\n",
       "      <td>NaN</td>\n",
       "      <td>NaN</td>\n",
       "      <td>NaN</td>\n",
       "      <td>NaN</td>\n",
       "      <td>6.700</td>\n",
       "      <td>мелодрама,комедия</td>\n",
       "      <td>NaN</td>\n",
       "    </tr>\n",
       "    <tr>\n",
       "      <th>4070</th>\n",
       "      <td>День святого Валентина_</td>\n",
       "      <td>121002210</td>\n",
       "      <td>2010-02-03 12:00:00+00:00</td>\n",
       "      <td>Художественный</td>\n",
       "      <td>Уорнер Бразерс, Нью Лайн Синема, Уэйн Райс, Ка...</td>\n",
       "      <td>США</td>\n",
       "      <td>Гарри Маршалл</td>\n",
       "      <td>Сэмюэл Дж.Браун</td>\n",
       "      <td>«16+» - для детей старше 16 лет</td>\n",
       "      <td>NaN</td>\n",
       "      <td>NaN</td>\n",
       "      <td>NaN</td>\n",
       "      <td>NaN</td>\n",
       "      <td>6.700</td>\n",
       "      <td>мелодрама,комедия</td>\n",
       "      <td>NaN</td>\n",
       "    </tr>\n",
       "    <tr>\n",
       "      <th>4196</th>\n",
       "      <td>День святого Валентина_</td>\n",
       "      <td>221136210</td>\n",
       "      <td>2010-11-30 12:00:00+00:00</td>\n",
       "      <td>Художественный</td>\n",
       "      <td>Уорнер Бразерс, Нью Лайн Синема, Уэйн Райс, Ка...</td>\n",
       "      <td>США</td>\n",
       "      <td>Гарри Маршалл</td>\n",
       "      <td>Сэмюэл Дж.Браун</td>\n",
       "      <td>«16+» - для детей старше 16 лет</td>\n",
       "      <td>NaN</td>\n",
       "      <td>NaN</td>\n",
       "      <td>NaN</td>\n",
       "      <td>NaN</td>\n",
       "      <td>6.700</td>\n",
       "      <td>мелодрама,комедия</td>\n",
       "      <td>NaN</td>\n",
       "    </tr>\n",
       "    <tr>\n",
       "      <th>5070</th>\n",
       "      <td>День святого Валентина_</td>\n",
       "      <td>221066410</td>\n",
       "      <td>2010-06-01 12:00:00+00:00</td>\n",
       "      <td>Художественный</td>\n",
       "      <td>Уорнер Бразерс, Нью Лайн Синема, Уэйн Райс, Ка...</td>\n",
       "      <td>США</td>\n",
       "      <td>Гарри Маршалл</td>\n",
       "      <td>Сэмюэл Дж.Браун</td>\n",
       "      <td>«16+» - для детей старше 16 лет</td>\n",
       "      <td>NaN</td>\n",
       "      <td>NaN</td>\n",
       "      <td>NaN</td>\n",
       "      <td>NaN</td>\n",
       "      <td>6.700</td>\n",
       "      <td>мелодрама,комедия</td>\n",
       "      <td>NaN</td>\n",
       "    </tr>\n",
       "  </tbody>\n",
       "</table>\n",
       "</div>"
      ],
      "text/plain": [
       "                        title  pu_number           show_start_date  \\\n",
       "3902  День святого Валентина_  221083810 2010-07-15 12:00:00+00:00   \n",
       "3991  День святого Валентина_  221068010 2010-05-14 12:00:00+00:00   \n",
       "4070  День святого Валентина_  121002210 2010-02-03 12:00:00+00:00   \n",
       "4196  День святого Валентина_  221136210 2010-11-30 12:00:00+00:00   \n",
       "5070  День святого Валентина_  221066410 2010-06-01 12:00:00+00:00   \n",
       "\n",
       "                type                                        film_studio  \\\n",
       "3902  Художественный  Уорнер Бразерс, Нью Лайн Синема, Уэйн Райс, Ка...   \n",
       "3991  Художественный  Уорнер Бразерс, Нью Лайн Синема, Уэйн Райс, Ка...   \n",
       "4070  Художественный  Уорнер Бразерс, Нью Лайн Синема, Уэйн Райс, Ка...   \n",
       "4196  Художественный  Уорнер Бразерс, Нью Лайн Синема, Уэйн Райс, Ка...   \n",
       "5070  Художественный  Уорнер Бразерс, Нью Лайн Синема, Уэйн Райс, Ка...   \n",
       "\n",
       "     production_country       director         producer  \\\n",
       "3902                США  Гарри Маршалл  Сэмюэл Дж.Браун   \n",
       "3991                США  Гарри Маршалл  Сэмюэл Дж.Браун   \n",
       "4070                США  Гарри Маршалл  Сэмюэл Дж.Браун   \n",
       "4196                США  Гарри Маршалл  Сэмюэл Дж.Браун   \n",
       "5070                США  Гарри Маршалл  Сэмюэл Дж.Браун   \n",
       "\n",
       "                      age_restriction  refundable_support  \\\n",
       "3902  «16+» - для детей старше 16 лет                 NaN   \n",
       "3991  «16+» - для детей старше 16 лет                 NaN   \n",
       "4070  «16+» - для детей старше 16 лет                 NaN   \n",
       "4196  «16+» - для детей старше 16 лет                 NaN   \n",
       "5070  «16+» - для детей старше 16 лет                 NaN   \n",
       "\n",
       "      nonrefundable_support  budget financing_source  ratings  \\\n",
       "3902                    NaN     NaN              NaN    6.700   \n",
       "3991                    NaN     NaN              NaN    6.700   \n",
       "4070                    NaN     NaN              NaN    6.700   \n",
       "4196                    NaN     NaN              NaN    6.700   \n",
       "5070                    NaN     NaN              NaN    6.700   \n",
       "\n",
       "                 genres  box_office  \n",
       "3902  мелодрама,комедия         NaN  \n",
       "3991  мелодрама,комедия         NaN  \n",
       "4070  мелодрама,комедия         NaN  \n",
       "4196  мелодрама,комедия         NaN  \n",
       "5070  мелодрама,комедия         NaN  "
      ]
     },
     "metadata": {},
     "output_type": "display_data"
    },
    {
     "name": "stdout",
     "output_type": "stream",
     "text": [
      "---------------------------------------------------------------------------------\n"
     ]
    },
    {
     "data": {
      "text/html": [
       "<div>\n",
       "<style scoped>\n",
       "    .dataframe tbody tr th:only-of-type {\n",
       "        vertical-align: middle;\n",
       "    }\n",
       "\n",
       "    .dataframe tbody tr th {\n",
       "        vertical-align: top;\n",
       "    }\n",
       "\n",
       "    .dataframe thead th {\n",
       "        text-align: right;\n",
       "    }\n",
       "</style>\n",
       "<table border=\"1\" class=\"dataframe\">\n",
       "  <thead>\n",
       "    <tr style=\"text-align: right;\">\n",
       "      <th></th>\n",
       "      <th>title</th>\n",
       "      <th>pu_number</th>\n",
       "      <th>show_start_date</th>\n",
       "      <th>type</th>\n",
       "      <th>film_studio</th>\n",
       "      <th>production_country</th>\n",
       "      <th>director</th>\n",
       "      <th>producer</th>\n",
       "      <th>age_restriction</th>\n",
       "      <th>refundable_support</th>\n",
       "      <th>nonrefundable_support</th>\n",
       "      <th>budget</th>\n",
       "      <th>financing_source</th>\n",
       "      <th>ratings</th>\n",
       "      <th>genres</th>\n",
       "      <th>box_office</th>\n",
       "    </tr>\n",
       "  </thead>\n",
       "  <tbody>\n",
       "    <tr>\n",
       "      <th>3855</th>\n",
       "      <td>Там, где живут чудовища</td>\n",
       "      <td>221044110</td>\n",
       "      <td>2010-03-29 12:00:00+00:00</td>\n",
       "      <td>Художественный</td>\n",
       "      <td>Уорнер Бразерс Пикчерз, Легендари Пикчерз, Вил...</td>\n",
       "      <td>США-Германия</td>\n",
       "      <td>Спайк Джонз</td>\n",
       "      <td>Том Хэнкс, Винсент Лэндэй</td>\n",
       "      <td>«0+» - для любой зрительской аудитории</td>\n",
       "      <td>NaN</td>\n",
       "      <td>NaN</td>\n",
       "      <td>NaN</td>\n",
       "      <td>NaN</td>\n",
       "      <td>6.900</td>\n",
       "      <td>фэнтези,драма,приключения</td>\n",
       "      <td>NaN</td>\n",
       "    </tr>\n",
       "    <tr>\n",
       "      <th>4717</th>\n",
       "      <td>Там, где живут чудовища</td>\n",
       "      <td>221056610</td>\n",
       "      <td>2010-04-14 12:00:00+00:00</td>\n",
       "      <td>Художественный</td>\n",
       "      <td>Уорнер Бразерс Пикчерз, Легендари Пикчерз, Вил...</td>\n",
       "      <td>США-Германия</td>\n",
       "      <td>Спайк Джонз</td>\n",
       "      <td>Том Хэнкс, Винсент Лэндэй</td>\n",
       "      <td>«0+» - для любой зрительской аудитории</td>\n",
       "      <td>NaN</td>\n",
       "      <td>NaN</td>\n",
       "      <td>NaN</td>\n",
       "      <td>NaN</td>\n",
       "      <td>6.900</td>\n",
       "      <td>фэнтези,драма,приключения</td>\n",
       "      <td>NaN</td>\n",
       "    </tr>\n",
       "    <tr>\n",
       "      <th>4807</th>\n",
       "      <td>Там, где живут чудовища</td>\n",
       "      <td>221010011</td>\n",
       "      <td>2011-01-20 12:00:00+00:00</td>\n",
       "      <td>Художественный</td>\n",
       "      <td>Уорнер Бразерс Пикчерз, Легендари Пикчерз, Вил...</td>\n",
       "      <td>США-Германия</td>\n",
       "      <td>Спайк Джонз</td>\n",
       "      <td>Том Хэнкс, Винсент Лэндэй</td>\n",
       "      <td>«0+» - для любой зрительской аудитории</td>\n",
       "      <td>NaN</td>\n",
       "      <td>NaN</td>\n",
       "      <td>NaN</td>\n",
       "      <td>NaN</td>\n",
       "      <td>6.900</td>\n",
       "      <td>фэнтези,драма,приключения</td>\n",
       "      <td>NaN</td>\n",
       "    </tr>\n",
       "    <tr>\n",
       "      <th>7143</th>\n",
       "      <td>Там, где живут чудовища</td>\n",
       "      <td>121023319</td>\n",
       "      <td>2019-08-16 12:00:00+00:00</td>\n",
       "      <td>Художественный</td>\n",
       "      <td>Уорнер Бразерс Пикчерз, Леджендари Пикчерз, Ви...</td>\n",
       "      <td>США, Германия</td>\n",
       "      <td>Спайк Джонз</td>\n",
       "      <td>Том хэнкс, Винсент Лэндэй</td>\n",
       "      <td>«12+» - для детей старше 12 лет</td>\n",
       "      <td>NaN</td>\n",
       "      <td>NaN</td>\n",
       "      <td>NaN</td>\n",
       "      <td>NaN</td>\n",
       "      <td>6.900</td>\n",
       "      <td>фэнтези,драма,приключения</td>\n",
       "      <td>NaN</td>\n",
       "    </tr>\n",
       "  </tbody>\n",
       "</table>\n",
       "</div>"
      ],
      "text/plain": [
       "                        title  pu_number           show_start_date  \\\n",
       "3855  Там, где живут чудовища  221044110 2010-03-29 12:00:00+00:00   \n",
       "4717  Там, где живут чудовища  221056610 2010-04-14 12:00:00+00:00   \n",
       "4807  Там, где живут чудовища  221010011 2011-01-20 12:00:00+00:00   \n",
       "7143  Там, где живут чудовища  121023319 2019-08-16 12:00:00+00:00   \n",
       "\n",
       "                 type                                        film_studio  \\\n",
       "3855   Художественный  Уорнер Бразерс Пикчерз, Легендари Пикчерз, Вил...   \n",
       "4717   Художественный  Уорнер Бразерс Пикчерз, Легендари Пикчерз, Вил...   \n",
       "4807   Художественный  Уорнер Бразерс Пикчерз, Легендари Пикчерз, Вил...   \n",
       "7143   Художественный  Уорнер Бразерс Пикчерз, Леджендари Пикчерз, Ви...   \n",
       "\n",
       "     production_country     director                   producer  \\\n",
       "3855       США-Германия  Спайк Джонз  Том Хэнкс, Винсент Лэндэй   \n",
       "4717       США-Германия  Спайк Джонз  Том Хэнкс, Винсент Лэндэй   \n",
       "4807       США-Германия  Спайк Джонз  Том Хэнкс, Винсент Лэндэй   \n",
       "7143      США, Германия  Спайк Джонз  Том хэнкс, Винсент Лэндэй   \n",
       "\n",
       "                             age_restriction  refundable_support  \\\n",
       "3855  «0+» - для любой зрительской аудитории                 NaN   \n",
       "4717  «0+» - для любой зрительской аудитории                 NaN   \n",
       "4807  «0+» - для любой зрительской аудитории                 NaN   \n",
       "7143         «12+» - для детей старше 12 лет                 NaN   \n",
       "\n",
       "      nonrefundable_support  budget financing_source  ratings  \\\n",
       "3855                    NaN     NaN              NaN    6.900   \n",
       "4717                    NaN     NaN              NaN    6.900   \n",
       "4807                    NaN     NaN              NaN    6.900   \n",
       "7143                    NaN     NaN              NaN    6.900   \n",
       "\n",
       "                         genres  box_office  \n",
       "3855  фэнтези,драма,приключения         NaN  \n",
       "4717  фэнтези,драма,приключения         NaN  \n",
       "4807  фэнтези,драма,приключения         NaN  \n",
       "7143  фэнтези,драма,приключения         NaN  "
      ]
     },
     "metadata": {},
     "output_type": "display_data"
    }
   ],
   "source": [
    "valentines_day  = mkrf_movies_show[mkrf_movies_show['title'] == 'День святого Валентина_']\n",
    "duplicate = mkrf_movies_show[mkrf_movies_show['title'] == 'Там, где живут чудовища']\n",
    "\n",
    "mkrf_movies_show['title'] = mkrf_movies_show['title'].str.strip('')\n",
    "# print(saint_velenti n_duplicate)\n",
    "display(valentines_day)\n",
    "print('---------------------------------------------------------------------------------')\n",
    "display(duplicate)"
   ]
  },
  {
   "cell_type": "code",
   "execution_count": 13,
   "metadata": {
    "scrolled": true
   },
   "outputs": [
    {
     "data": {
      "text/html": [
       "<div>\n",
       "<style scoped>\n",
       "    .dataframe tbody tr th:only-of-type {\n",
       "        vertical-align: middle;\n",
       "    }\n",
       "\n",
       "    .dataframe tbody tr th {\n",
       "        vertical-align: top;\n",
       "    }\n",
       "\n",
       "    .dataframe thead th {\n",
       "        text-align: right;\n",
       "    }\n",
       "</style>\n",
       "<table border=\"1\" class=\"dataframe\">\n",
       "  <thead>\n",
       "    <tr style=\"text-align: right;\">\n",
       "      <th></th>\n",
       "      <th>title</th>\n",
       "      <th>pu_number</th>\n",
       "      <th>show_start_date</th>\n",
       "      <th>type</th>\n",
       "      <th>film_studio</th>\n",
       "      <th>production_country</th>\n",
       "      <th>director</th>\n",
       "      <th>producer</th>\n",
       "      <th>age_restriction</th>\n",
       "      <th>refundable_support</th>\n",
       "      <th>nonrefundable_support</th>\n",
       "      <th>budget</th>\n",
       "      <th>financing_source</th>\n",
       "      <th>ratings</th>\n",
       "      <th>genres</th>\n",
       "      <th>box_office</th>\n",
       "    </tr>\n",
       "  </thead>\n",
       "  <tbody>\n",
       "    <tr>\n",
       "      <th>4638</th>\n",
       "      <td>Как жениться и остаться холостым</td>\n",
       "      <td>221154310</td>\n",
       "      <td>2010-12-17 12:00:00+00:00</td>\n",
       "      <td>Художественный</td>\n",
       "      <td>Ше Вам, Скрипт Ассосье, Тэ Фэ 1 Фильм Продюксь...</td>\n",
       "      <td>Франция</td>\n",
       "      <td>Эрик Лартиго</td>\n",
       "      <td>Амандин Било, Алан Шаба</td>\n",
       "      <td>«16+» - для детей старше 16 лет</td>\n",
       "      <td>NaN</td>\n",
       "      <td>NaN</td>\n",
       "      <td>NaN</td>\n",
       "      <td>NaN</td>\n",
       "      <td>7.000</td>\n",
       "      <td>мелодрама,комедия</td>\n",
       "      <td>NaN</td>\n",
       "    </tr>\n",
       "    <tr>\n",
       "      <th>4639</th>\n",
       "      <td>Иоанна - женщина на папском престоле /По роман...</td>\n",
       "      <td>221154310</td>\n",
       "      <td>2010-12-17 12:00:00+00:00</td>\n",
       "      <td>Художественный</td>\n",
       "      <td>Константин Фильм, А Эр Ди Дегето Фильм, Дюне ...</td>\n",
       "      <td>Германия - Великобритания - Италия - Испания</td>\n",
       "      <td>Зенке Вортманн</td>\n",
       "      <td>Оливер Бербен, Дорис Д.Хайнце, Фарук Элтан</td>\n",
       "      <td>«16+» - для детей старше 16 лет</td>\n",
       "      <td>NaN</td>\n",
       "      <td>NaN</td>\n",
       "      <td>NaN</td>\n",
       "      <td>NaN</td>\n",
       "      <td>7.600</td>\n",
       "      <td>драма,мелодрама,история</td>\n",
       "      <td>NaN</td>\n",
       "    </tr>\n",
       "    <tr>\n",
       "      <th>5067</th>\n",
       "      <td>Анализируй это!</td>\n",
       "      <td>221054410</td>\n",
       "      <td>2010-05-25 12:00:00+00:00</td>\n",
       "      <td>Художественный</td>\n",
       "      <td>Уорнер Бразерс, Вилладж Роудшоу Филмз ЛТД</td>\n",
       "      <td>США-Австралия</td>\n",
       "      <td>ХЭрольд Рэмис</td>\n",
       "      <td>Джейн Розенталь, Пола Уейнстейн</td>\n",
       "      <td>«16+» - для детей старше 16 лет</td>\n",
       "      <td>NaN</td>\n",
       "      <td>NaN</td>\n",
       "      <td>NaN</td>\n",
       "      <td>NaN</td>\n",
       "      <td>7.400</td>\n",
       "      <td>комедия,криминал</td>\n",
       "      <td>NaN</td>\n",
       "    </tr>\n",
       "    <tr>\n",
       "      <th>5068</th>\n",
       "      <td>Анализируй то!</td>\n",
       "      <td>221054410</td>\n",
       "      <td>2010-05-25 12:00:00+00:00</td>\n",
       "      <td>Художественный</td>\n",
       "      <td>Уорнер Бразерс, Виллидж Роадшоу Пикчерз, Эн-Пи...</td>\n",
       "      <td>США</td>\n",
       "      <td>Гарольд Реймис</td>\n",
       "      <td>Джейн Розенталь, Паул Уэйнстейн</td>\n",
       "      <td>«12+» - для детей старше 12 лет</td>\n",
       "      <td>NaN</td>\n",
       "      <td>NaN</td>\n",
       "      <td>NaN</td>\n",
       "      <td>NaN</td>\n",
       "      <td>6.800</td>\n",
       "      <td>комедия,криминал</td>\n",
       "      <td>NaN</td>\n",
       "    </tr>\n",
       "  </tbody>\n",
       "</table>\n",
       "</div>"
      ],
      "text/plain": [
       "                                                  title  pu_number  \\\n",
       "4638                   Как жениться и остаться холостым  221154310   \n",
       "4639  Иоанна - женщина на папском престоле /По роман...  221154310   \n",
       "5067                                    Анализируй это!  221054410   \n",
       "5068                                     Анализируй то!  221054410   \n",
       "\n",
       "               show_start_date            type  \\\n",
       "4638 2010-12-17 12:00:00+00:00  Художественный   \n",
       "4639 2010-12-17 12:00:00+00:00  Художественный   \n",
       "5067 2010-05-25 12:00:00+00:00  Художественный   \n",
       "5068 2010-05-25 12:00:00+00:00  Художественный   \n",
       "\n",
       "                                            film_studio  \\\n",
       "4638  Ше Вам, Скрипт Ассосье, Тэ Фэ 1 Фильм Продюксь...   \n",
       "4639   Константин Фильм, А Эр Ди Дегето Фильм, Дюне ...   \n",
       "5067          Уорнер Бразерс, Вилладж Роудшоу Филмз ЛТД   \n",
       "5068  Уорнер Бразерс, Виллидж Роадшоу Пикчерз, Эн-Пи...   \n",
       "\n",
       "                                production_country        director  \\\n",
       "4638                                       Франция    Эрик Лартиго   \n",
       "4639  Германия - Великобритания - Италия - Испания  Зенке Вортманн   \n",
       "5067                                 США-Австралия   ХЭрольд Рэмис   \n",
       "5068                                           США  Гарольд Реймис   \n",
       "\n",
       "                                        producer  \\\n",
       "4638                     Амандин Било, Алан Шаба   \n",
       "4639  Оливер Бербен, Дорис Д.Хайнце, Фарук Элтан   \n",
       "5067             Джейн Розенталь, Пола Уейнстейн   \n",
       "5068             Джейн Розенталь, Паул Уэйнстейн   \n",
       "\n",
       "                      age_restriction  refundable_support  \\\n",
       "4638  «16+» - для детей старше 16 лет                 NaN   \n",
       "4639  «16+» - для детей старше 16 лет                 NaN   \n",
       "5067  «16+» - для детей старше 16 лет                 NaN   \n",
       "5068  «12+» - для детей старше 12 лет                 NaN   \n",
       "\n",
       "      nonrefundable_support  budget financing_source  ratings  \\\n",
       "4638                    NaN     NaN              NaN    7.000   \n",
       "4639                    NaN     NaN              NaN    7.600   \n",
       "5067                    NaN     NaN              NaN    7.400   \n",
       "5068                    NaN     NaN              NaN    6.800   \n",
       "\n",
       "                       genres  box_office  \n",
       "4638        мелодрама,комедия         NaN  \n",
       "4639  драма,мелодрама,история         NaN  \n",
       "5067         комедия,криминал         NaN  \n",
       "5068         комедия,криминал         NaN  "
      ]
     },
     "metadata": {},
     "output_type": "display_data"
    }
   ],
   "source": [
    "dublicat_pu_number = mkrf_movies_show[mkrf_movies_show['pu_number'] == 221054410]\n",
    "# print(dublicat_pu_number)\n",
    "display(mkrf_movies_show[(mkrf_movies_show['pu_number'] == 221054410) | (mkrf_movies_show['pu_number'] == 221154310)])\n"
   ]
  },
  {
   "cell_type": "markdown",
   "metadata": {},
   "source": [
    "***Вывод***\n",
    "\n",
    "Явные дубликаты в датафрейме отсутствуют. \n",
    "\n",
    "Неявные дубликаты присутствуют в следующих столбцах:\n",
    "- наименование фильма ( здесь их очень много( более по 60 названиям фильмов) максимальное количество и большая часть из них возникла в связи с наличем у них разных прокатных удостоверений ( возможно, устранить те дубликаты, дата страта котрых совпадает по годам и  известны суммы сборов)\n",
    "\n",
    "- pu_number номер прокатного удостоверения( здесь их только два '221054410' и '221154310)\n",
    "\n",
    "Избавляться от дубликатов нецелесообразно ввиду того, что сам факт выхода фильма в прокат является событием. А именно такие фильмы попадают в кинотеатры, что увеличивает кассовые сборы.  \n"
   ]
  },
  {
   "cell_type": "markdown",
   "metadata": {
    "id": "52fOPrEBgFyQ"
   },
   "source": [
    "#### 2.4. категориальные значения"
   ]
  },
  {
   "cell_type": "code",
   "execution_count": 14,
   "metadata": {
    "id": "PnXKIVdFgFyR"
   },
   "outputs": [
    {
     "name": "stdout",
     "output_type": "stream",
     "text": [
      "0     Художественный\n",
      "1     Художественный\n",
      "2     Художественный\n",
      "3     Художественный\n",
      "4     Художественный\n",
      "5     Художественный\n",
      "6     Художественный\n",
      "7     Художественный\n",
      "8     Художественный\n",
      "9     Художественный\n",
      "10    Художественный\n",
      "11    Художественный\n",
      "12    Художественный\n",
      "13    Художественный\n",
      "14    Художественный\n",
      "15    Художественный\n",
      "16    Художественный\n",
      "17    Художественный\n",
      "18    Художественный\n",
      "19    Художественный\n",
      "Name: type, dtype: object\n",
      "Художественный                5909\n",
      "Анимационный                   829\n",
      "Прочие                         406\n",
      "Документальный                 288\n",
      "Научно-популярный               53\n",
      "Музыкально-развлекательный       1\n",
      "Name: type, dtype: int64\n"
     ]
    }
   ],
   "source": [
    "# Удаляем все пробелы, которые встречаются в начале и в конце строки\n",
    "print(mkrf_movies_show['type'].head(20))\n",
    "mkrf_movies_show['type'] = mkrf_movies_show['type'].str.strip()\n",
    "print(mkrf_movies_show['type'].value_counts())\n"
   ]
  },
  {
   "cell_type": "markdown",
   "metadata": {},
   "source": [
    "**Вывод**\n",
    "\n",
    "Основная проблема- большое количество текста для описаний категорий, разделенного запятыми,точками, тире, ( в том числе списки строковых значений)"
   ]
  },
  {
   "cell_type": "markdown",
   "metadata": {
    "id": "XFSN5lrEgFyR"
   },
   "source": [
    "#### 2.5. количественные значения"
   ]
  },
  {
   "cell_type": "markdown",
   "metadata": {},
   "source": [
    "Колонка 'budget' не может быть равна нулю, так как она уже включает в себя полный объём государственной поддержки. Данные в этом столбце указаны только для тех фильмов, которые получили государственную поддержку.Сотоветственно, 'budget' >= 'nonrefundable_support' + 'refundable_support' "
   ]
  },
  {
   "cell_type": "code",
   "execution_count": 15,
   "metadata": {},
   "outputs": [
    {
     "data": {
      "text/html": [
       "<div>\n",
       "<style scoped>\n",
       "    .dataframe tbody tr th:only-of-type {\n",
       "        vertical-align: middle;\n",
       "    }\n",
       "\n",
       "    .dataframe tbody tr th {\n",
       "        vertical-align: top;\n",
       "    }\n",
       "\n",
       "    .dataframe thead th {\n",
       "        text-align: right;\n",
       "    }\n",
       "</style>\n",
       "<table border=\"1\" class=\"dataframe\">\n",
       "  <thead>\n",
       "    <tr style=\"text-align: right;\">\n",
       "      <th></th>\n",
       "      <th>title</th>\n",
       "      <th>pu_number</th>\n",
       "      <th>show_start_date</th>\n",
       "      <th>type</th>\n",
       "      <th>film_studio</th>\n",
       "      <th>production_country</th>\n",
       "      <th>director</th>\n",
       "      <th>producer</th>\n",
       "      <th>age_restriction</th>\n",
       "      <th>refundable_support</th>\n",
       "      <th>nonrefundable_support</th>\n",
       "      <th>budget</th>\n",
       "      <th>financing_source</th>\n",
       "      <th>ratings</th>\n",
       "      <th>genres</th>\n",
       "      <th>box_office</th>\n",
       "    </tr>\n",
       "  </thead>\n",
       "  <tbody>\n",
       "  </tbody>\n",
       "</table>\n",
       "</div>"
      ],
      "text/plain": [
       "Empty DataFrame\n",
       "Columns: [title, pu_number, show_start_date, type, film_studio, production_country, director, producer, age_restriction, refundable_support, nonrefundable_support, budget, financing_source, ratings, genres, box_office]\n",
       "Index: []"
      ]
     },
     "execution_count": 15,
     "metadata": {},
     "output_type": "execute_result"
    }
   ],
   "source": [
    "mkrf_movies_show[mkrf_movies_show[\"budget\"] == 0]\n",
    "\n",
    "\n",
    "def sum_budget(nonrefundable_support, refundable_support, budget):\n",
    "    if budget == 0:\n",
    "        return nonrefundable_support + refundable_support\n",
    "    else:\n",
    "        return budget\n",
    "\n",
    "\n",
    "mkrf_movies_show[\"budget\"] = mkrf_movies_show.apply(\n",
    "    lambda x: sum_budget(\n",
    "        x[\"nonrefundable_support\"], x[\"refundable_support\"], x[\"budget\"]\n",
    "    ),\n",
    "    axis=1,\n",
    ")\n",
    "\n",
    "mkrf_movies_show[mkrf_movies_show[\"budget\"] == 0]\n"
   ]
  },
  {
   "cell_type": "code",
   "execution_count": 16,
   "metadata": {
    "id": "YbzClBxagFyS"
   },
   "outputs": [
    {
     "name": "stdout",
     "output_type": "stream",
     "text": [
      "323\n",
      "111\n",
      "332\n"
     ]
    }
   ],
   "source": [
    "print(len(mkrf_movies_show [mkrf_movies_show['nonrefundable_support'] > 0]))\n",
    "print(len(mkrf_movies_show [mkrf_movies_show['refundable_support'] > 0]))\n",
    "print(len(mkrf_movies_show [mkrf_movies_show['budget'] > 0]))"
   ]
  },
  {
   "cell_type": "markdown",
   "metadata": {
    "id": "Eu6oWp2CgFyS"
   },
   "source": [
    "#### 2.6. новые столбцы"
   ]
  },
  {
   "cell_type": "markdown",
   "metadata": {
    "id": "7GgW-UpAgFyS"
   },
   "source": [
    "* Создадим столбец с информацией о годе проката"
   ]
  },
  {
   "cell_type": "code",
   "execution_count": 17,
   "metadata": {
    "id": "I-yd1DkWgFyT"
   },
   "outputs": [
    {
     "data": {
      "text/plain": [
       "0    2015\n",
       "1    2016\n",
       "2    2016\n",
       "3    2016\n",
       "4    2015\n",
       "Name: show_start_year, dtype: int64"
      ]
     },
     "execution_count": 17,
     "metadata": {},
     "output_type": "execute_result"
    }
   ],
   "source": [
    "mkrf_movies_show['show_start_year'] = mkrf_movies_show['show_start_date'].dt.year\n",
    "mkrf_movies_show['show_start_year'].head()"
   ]
  },
  {
   "cell_type": "markdown",
   "metadata": {
    "id": "nFTDLDYOgFyT"
   },
   "source": [
    "- Создаем два столбца: с именем и фамилией главного режиссёра и основным жанром фильма. В столбцы войдут первые значения из списка режиссёров и жанров соответственно. "
   ]
  },
  {
   "cell_type": "code",
   "execution_count": 18,
   "metadata": {
    "id": "LSbRZKbMgFyU"
   },
   "outputs": [],
   "source": [
    "def create_column(elem):\n",
    "    if elem and not isinstance(elem, float):\n",
    "        return elem.split(\",\")[0]\n",
    "    return np.nan\n",
    "\n",
    "\n",
    "mkrf_movies_show[\"the_first_director\"] = mkrf_movies_show.apply(\n",
    "    lambda x: create_column(x[\"director\"]), axis=1\n",
    ")\n",
    "mkrf_movies_show[\"first_genre\"] = mkrf_movies_show.apply(\n",
    "    lambda x: create_column(x[\"genres\"]), axis=1\n",
    ")\n"
   ]
  },
  {
   "cell_type": "code",
   "execution_count": 19,
   "metadata": {},
   "outputs": [
    {
     "data": {
      "text/html": [
       "<div>\n",
       "<style scoped>\n",
       "    .dataframe tbody tr th:only-of-type {\n",
       "        vertical-align: middle;\n",
       "    }\n",
       "\n",
       "    .dataframe tbody tr th {\n",
       "        vertical-align: top;\n",
       "    }\n",
       "\n",
       "    .dataframe thead th {\n",
       "        text-align: right;\n",
       "    }\n",
       "</style>\n",
       "<table border=\"1\" class=\"dataframe\">\n",
       "  <thead>\n",
       "    <tr style=\"text-align: right;\">\n",
       "      <th></th>\n",
       "      <th>title</th>\n",
       "      <th>pu_number</th>\n",
       "      <th>show_start_date</th>\n",
       "      <th>type</th>\n",
       "      <th>film_studio</th>\n",
       "      <th>production_country</th>\n",
       "      <th>director</th>\n",
       "      <th>producer</th>\n",
       "      <th>age_restriction</th>\n",
       "      <th>refundable_support</th>\n",
       "      <th>nonrefundable_support</th>\n",
       "      <th>budget</th>\n",
       "      <th>financing_source</th>\n",
       "      <th>ratings</th>\n",
       "      <th>genres</th>\n",
       "      <th>box_office</th>\n",
       "      <th>show_start_year</th>\n",
       "      <th>the_first_director</th>\n",
       "      <th>first_genre</th>\n",
       "      <th>box_office_mln</th>\n",
       "    </tr>\n",
       "  </thead>\n",
       "  <tbody>\n",
       "    <tr>\n",
       "      <th>5137</th>\n",
       "      <td>Шакал</td>\n",
       "      <td>221073011</td>\n",
       "      <td>2011-06-01 12:00:00+00:00</td>\n",
       "      <td>Художественный</td>\n",
       "      <td>Юниверсал Пикчерз, Мьючиал Филм Компани, Алфав...</td>\n",
       "      <td>США</td>\n",
       "      <td>Майкл Кэтон-Джонс</td>\n",
       "      <td>Джеймс Джекс,Шон Дэниел,Майкл Кэтон-Джонс</td>\n",
       "      <td>«0+» - для любой зрительской аудитории</td>\n",
       "      <td>NaN</td>\n",
       "      <td>NaN</td>\n",
       "      <td>NaN</td>\n",
       "      <td>NaN</td>\n",
       "      <td>7.800</td>\n",
       "      <td>детектив</td>\n",
       "      <td>NaN</td>\n",
       "      <td>2011</td>\n",
       "      <td>Майкл Кэтон-Джонс</td>\n",
       "      <td>детектив</td>\n",
       "      <td>NaN</td>\n",
       "    </tr>\n",
       "    <tr>\n",
       "      <th>6975</th>\n",
       "      <td>Маша и Медведь. Серия \"Вокруг света за один час\"</td>\n",
       "      <td>124003619</td>\n",
       "      <td>2019-05-31 12:00:00+00:00</td>\n",
       "      <td>Анимационный</td>\n",
       "      <td>Анимаккорд Лтд</td>\n",
       "      <td>Республика Кипр</td>\n",
       "      <td>Владислав Байрамгулов</td>\n",
       "      <td>Олег Кузовков, Дмитрий Ловейко, Марина Ратина</td>\n",
       "      <td>«0+» - для любой зрительской аудитории</td>\n",
       "      <td>NaN</td>\n",
       "      <td>NaN</td>\n",
       "      <td>NaN</td>\n",
       "      <td>NaN</td>\n",
       "      <td>NaN</td>\n",
       "      <td>NaN</td>\n",
       "      <td>NaN</td>\n",
       "      <td>2019</td>\n",
       "      <td>Владислав Байрамгулов</td>\n",
       "      <td>NaN</td>\n",
       "      <td>NaN</td>\n",
       "    </tr>\n",
       "    <tr>\n",
       "      <th>39</th>\n",
       "      <td>Автомобиль, скрипка и собака Клякса</td>\n",
       "      <td>111010313</td>\n",
       "      <td>2013-12-19 12:00:00+00:00</td>\n",
       "      <td>Художественный</td>\n",
       "      <td>Киностудия \"Мосфильм\"</td>\n",
       "      <td>СССР</td>\n",
       "      <td>Р.Быков</td>\n",
       "      <td>NaN</td>\n",
       "      <td>«0+» - для любой зрительской аудитории</td>\n",
       "      <td>NaN</td>\n",
       "      <td>NaN</td>\n",
       "      <td>NaN</td>\n",
       "      <td>NaN</td>\n",
       "      <td>7.200</td>\n",
       "      <td>мюзикл,семейный</td>\n",
       "      <td>NaN</td>\n",
       "      <td>2013</td>\n",
       "      <td>Р.Быков</td>\n",
       "      <td>мюзикл</td>\n",
       "      <td>NaN</td>\n",
       "    </tr>\n",
       "    <tr>\n",
       "      <th>4920</th>\n",
       "      <td>Храбрые перцем</td>\n",
       "      <td>121006611</td>\n",
       "      <td>2011-04-22 12:00:00+00:00</td>\n",
       "      <td>Художественный</td>\n",
       "      <td>Юниверсал Пикчерз, Стабер Продакшнз</td>\n",
       "      <td>США</td>\n",
       "      <td>Дэвид Гордон Грин</td>\n",
       "      <td>Эндрю З.Дэвис, Скотт Стабер, Марк Хаффам</td>\n",
       "      <td>«16+» - для детей старше 16 лет</td>\n",
       "      <td>NaN</td>\n",
       "      <td>NaN</td>\n",
       "      <td>NaN</td>\n",
       "      <td>NaN</td>\n",
       "      <td>5.900</td>\n",
       "      <td>фэнтези,комедия,приключения</td>\n",
       "      <td>NaN</td>\n",
       "      <td>2011</td>\n",
       "      <td>Дэвид Гордон Грин</td>\n",
       "      <td>фэнтези</td>\n",
       "      <td>NaN</td>\n",
       "    </tr>\n",
       "    <tr>\n",
       "      <th>2883</th>\n",
       "      <td>Чемодан.</td>\n",
       "      <td>111007116</td>\n",
       "      <td>2016-04-11 12:00:00+00:00</td>\n",
       "      <td>Художественный</td>\n",
       "      <td>А.Дамскер</td>\n",
       "      <td>Россия</td>\n",
       "      <td>А.Дамскер</td>\n",
       "      <td>А.Дамскер</td>\n",
       "      <td>«18+» - запрещено для детей</td>\n",
       "      <td>NaN</td>\n",
       "      <td>NaN</td>\n",
       "      <td>NaN</td>\n",
       "      <td>NaN</td>\n",
       "      <td>NaN</td>\n",
       "      <td>NaN</td>\n",
       "      <td>NaN</td>\n",
       "      <td>2016</td>\n",
       "      <td>А.Дамскер</td>\n",
       "      <td>NaN</td>\n",
       "      <td>NaN</td>\n",
       "    </tr>\n",
       "    <tr>\n",
       "      <th>3131</th>\n",
       "      <td>Кукла (2016)</td>\n",
       "      <td>121001216</td>\n",
       "      <td>2016-01-14 12:00:00+00:00</td>\n",
       "      <td>Художественный</td>\n",
       "      <td>Хуай Бразерс Пикчерз, Лэйкшор Интертейнмент, Э...</td>\n",
       "      <td>США</td>\n",
       "      <td>Уильям Брент Белл</td>\n",
       "      <td>Мэтт Беренсон, Рой Ли, Гэри Лучези</td>\n",
       "      <td>«16+» - для детей старше 16 лет</td>\n",
       "      <td>NaN</td>\n",
       "      <td>NaN</td>\n",
       "      <td>NaN</td>\n",
       "      <td>NaN</td>\n",
       "      <td>NaN</td>\n",
       "      <td>NaN</td>\n",
       "      <td>66361446.230</td>\n",
       "      <td>2016</td>\n",
       "      <td>Уильям Брент Белл</td>\n",
       "      <td>NaN</td>\n",
       "      <td>66.361</td>\n",
       "    </tr>\n",
       "    <tr>\n",
       "      <th>1632</th>\n",
       "      <td>Королевы ринга</td>\n",
       "      <td>121020813</td>\n",
       "      <td>2013-07-29 12:00:00+00:00</td>\n",
       "      <td>Художественный</td>\n",
       "      <td>Каре Продюксьон, Ля Пти Рьен, Оранж Студио, Эм...</td>\n",
       "      <td>Франция</td>\n",
       "      <td>Жан-Марк Рудницкий</td>\n",
       "      <td>Фабрис Голдштейн, Тома Лангманн, Антуан Рейн</td>\n",
       "      <td>«16+» - для детей старше 16 лет</td>\n",
       "      <td>NaN</td>\n",
       "      <td>NaN</td>\n",
       "      <td>NaN</td>\n",
       "      <td>NaN</td>\n",
       "      <td>5.900</td>\n",
       "      <td>комедия,спорт</td>\n",
       "      <td>NaN</td>\n",
       "      <td>2013</td>\n",
       "      <td>Жан-Марк Рудницкий</td>\n",
       "      <td>комедия</td>\n",
       "      <td>NaN</td>\n",
       "    </tr>\n",
       "    <tr>\n",
       "      <th>6314</th>\n",
       "      <td>Домики (серии: \"Спасская башня\", \"Паром\", \"Кос...</td>\n",
       "      <td>114006418</td>\n",
       "      <td>2018-10-19 12:00:00+00:00</td>\n",
       "      <td>Анимационный</td>\n",
       "      <td>Акционерное общество \"ТЕЛЕКОМПАНИЯ\"</td>\n",
       "      <td>Россия</td>\n",
       "      <td>В.Азеев</td>\n",
       "      <td>В.Сокологорский, Т.Цыварева, Н.Горшков</td>\n",
       "      <td>«0+» - для любой зрительской аудитории</td>\n",
       "      <td>NaN</td>\n",
       "      <td>NaN</td>\n",
       "      <td>NaN</td>\n",
       "      <td>NaN</td>\n",
       "      <td>NaN</td>\n",
       "      <td>NaN</td>\n",
       "      <td>NaN</td>\n",
       "      <td>2018</td>\n",
       "      <td>В.Азеев</td>\n",
       "      <td>NaN</td>\n",
       "      <td>NaN</td>\n",
       "    </tr>\n",
       "    <tr>\n",
       "      <th>1035</th>\n",
       "      <td>Суши Гёл</td>\n",
       "      <td>121029112</td>\n",
       "      <td>2012-11-29 12:00:00+00:00</td>\n",
       "      <td>Художественный</td>\n",
       "      <td>Эссембли Лайн</td>\n",
       "      <td>США</td>\n",
       "      <td>Керн Секстон</td>\n",
       "      <td>NaN</td>\n",
       "      <td>«18+» - запрещено для детей</td>\n",
       "      <td>NaN</td>\n",
       "      <td>NaN</td>\n",
       "      <td>NaN</td>\n",
       "      <td>NaN</td>\n",
       "      <td>7.600</td>\n",
       "      <td>фантастика,боевик,приключения</td>\n",
       "      <td>NaN</td>\n",
       "      <td>2012</td>\n",
       "      <td>Керн Секстон</td>\n",
       "      <td>фантастика</td>\n",
       "      <td>NaN</td>\n",
       "    </tr>\n",
       "    <tr>\n",
       "      <th>4339</th>\n",
       "      <td>Перси Джексон и похититель молний</td>\n",
       "      <td>121001210</td>\n",
       "      <td>2010-01-26 12:00:00+00:00</td>\n",
       "      <td>Художественный</td>\n",
       "      <td>1492 Пикчерз, Фокс 2000 Пикчерз, Импринт Интер...</td>\n",
       "      <td>США - Канада</td>\n",
       "      <td>Крис Коламбус</td>\n",
       "      <td>Майкл Барнатан, Марк Морган, Томас М.Хэммел</td>\n",
       "      <td>«12+» - для детей старше 12 лет</td>\n",
       "      <td>NaN</td>\n",
       "      <td>NaN</td>\n",
       "      <td>NaN</td>\n",
       "      <td>NaN</td>\n",
       "      <td>6.200</td>\n",
       "      <td>фэнтези,приключения,семейный</td>\n",
       "      <td>NaN</td>\n",
       "      <td>2010</td>\n",
       "      <td>Крис Коламбус</td>\n",
       "      <td>фэнтези</td>\n",
       "      <td>NaN</td>\n",
       "    </tr>\n",
       "    <tr>\n",
       "      <th>7131</th>\n",
       "      <td>Разум и искусство</td>\n",
       "      <td>126002819</td>\n",
       "      <td>2019-08-04 12:00:00+00:00</td>\n",
       "      <td>Прочие</td>\n",
       "      <td>Циркл Тайм</td>\n",
       "      <td>Великобритания</td>\n",
       "      <td>Амели Равалек</td>\n",
       "      <td>NaN</td>\n",
       "      <td>«16+» - для детей старше 16 лет</td>\n",
       "      <td>NaN</td>\n",
       "      <td>NaN</td>\n",
       "      <td>NaN</td>\n",
       "      <td>NaN</td>\n",
       "      <td>NaN</td>\n",
       "      <td>NaN</td>\n",
       "      <td>1524797.500</td>\n",
       "      <td>2019</td>\n",
       "      <td>Амели Равалек</td>\n",
       "      <td>NaN</td>\n",
       "      <td>1.525</td>\n",
       "    </tr>\n",
       "    <tr>\n",
       "      <th>2259</th>\n",
       "      <td>Теория заговора.</td>\n",
       "      <td>121013814</td>\n",
       "      <td>2014-07-03 12:00:00+00:00</td>\n",
       "      <td>Художественный</td>\n",
       "      <td>Патэ, Эсквад, Лобстер Три, Эм6 Фильм, Дабл Ю9,...</td>\n",
       "      <td>США - Франция - ЮАР</td>\n",
       "      <td>Жером Салль</td>\n",
       "      <td>Вивьен Асланян, Ришар Гранпьер, Фредерик Донекуан</td>\n",
       "      <td>«16+» - для детей старше 16 лет</td>\n",
       "      <td>NaN</td>\n",
       "      <td>NaN</td>\n",
       "      <td>NaN</td>\n",
       "      <td>NaN</td>\n",
       "      <td>7.200</td>\n",
       "      <td>боевик,триллер,детектив</td>\n",
       "      <td>NaN</td>\n",
       "      <td>2014</td>\n",
       "      <td>Жером Салль</td>\n",
       "      <td>боевик</td>\n",
       "      <td>NaN</td>\n",
       "    </tr>\n",
       "    <tr>\n",
       "      <th>2406</th>\n",
       "      <td>Kingsman: Секретная служба</td>\n",
       "      <td>121029514</td>\n",
       "      <td>2014-12-29 12:00:00+00:00</td>\n",
       "      <td>Художественный</td>\n",
       "      <td>Марв Филмз, ХХ век Фокс</td>\n",
       "      <td>Великобритания</td>\n",
       "      <td>Мэттью Вон</td>\n",
       "      <td>Адам Болинг, Мэттью Вон, Дэвид Рейд</td>\n",
       "      <td>«18+» - запрещено для детей</td>\n",
       "      <td>NaN</td>\n",
       "      <td>NaN</td>\n",
       "      <td>NaN</td>\n",
       "      <td>NaN</td>\n",
       "      <td>7.600</td>\n",
       "      <td>боевик,комедия,криминал</td>\n",
       "      <td>566924625.900</td>\n",
       "      <td>2014</td>\n",
       "      <td>Мэттью Вон</td>\n",
       "      <td>боевик</td>\n",
       "      <td>566.925</td>\n",
       "    </tr>\n",
       "    <tr>\n",
       "      <th>2571</th>\n",
       "      <td>МУЛЬТ в кино. Выпуск № 5</td>\n",
       "      <td>114000715</td>\n",
       "      <td>2015-05-13 12:00:00+00:00</td>\n",
       "      <td>Анимационный</td>\n",
       "      <td>ООО \"Студия анимационного кино \"Мельница\", ООО...</td>\n",
       "      <td>Россия</td>\n",
       "      <td>И.Пшонкин, М.Ершов, А.Миронов и др.</td>\n",
       "      <td>Д.Тютьков, Т.Цыварова, В.Воля, Е.Головин, А.См...</td>\n",
       "      <td>«0+» - для любой зрительской аудитории</td>\n",
       "      <td>NaN</td>\n",
       "      <td>NaN</td>\n",
       "      <td>NaN</td>\n",
       "      <td>NaN</td>\n",
       "      <td>4.000</td>\n",
       "      <td>мультфильм,детский</td>\n",
       "      <td>2956298.400</td>\n",
       "      <td>2015</td>\n",
       "      <td>И.Пшонкин</td>\n",
       "      <td>мультфильм</td>\n",
       "      <td>2.956</td>\n",
       "    </tr>\n",
       "    <tr>\n",
       "      <th>548</th>\n",
       "      <td>Тайны старого отеля</td>\n",
       "      <td>121007012</td>\n",
       "      <td>2012-03-21 12:00:00+00:00</td>\n",
       "      <td>Художественный</td>\n",
       "      <td>Дарк Скай Филмз</td>\n",
       "      <td>США</td>\n",
       "      <td>Ти Вест</td>\n",
       "      <td>Питер Фок</td>\n",
       "      <td>«16+» - для детей старше 16 лет</td>\n",
       "      <td>NaN</td>\n",
       "      <td>NaN</td>\n",
       "      <td>NaN</td>\n",
       "      <td>NaN</td>\n",
       "      <td>4.200</td>\n",
       "      <td>ужасы,детектив</td>\n",
       "      <td>NaN</td>\n",
       "      <td>2012</td>\n",
       "      <td>Ти Вест</td>\n",
       "      <td>ужасы</td>\n",
       "      <td>NaN</td>\n",
       "    </tr>\n",
       "    <tr>\n",
       "      <th>3566</th>\n",
       "      <td>Любовь и страсть. Далида</td>\n",
       "      <td>121007217</td>\n",
       "      <td>2017-04-20 12:00:00+00:00</td>\n",
       "      <td>Художественный</td>\n",
       "      <td>Бетсабе Мучо, Патэ, ТФ1 Фильм Продюксьон, Умед...</td>\n",
       "      <td>Франция</td>\n",
       "      <td>Лиза Азуэлос</td>\n",
       "      <td>Лиза Азуэлос, Жюльен Мадо, Жером Сейду</td>\n",
       "      <td>«16+» - для детей старше 16 лет</td>\n",
       "      <td>NaN</td>\n",
       "      <td>NaN</td>\n",
       "      <td>NaN</td>\n",
       "      <td>NaN</td>\n",
       "      <td>6.700</td>\n",
       "      <td>драма,биография,музыка</td>\n",
       "      <td>3418891.000</td>\n",
       "      <td>2017</td>\n",
       "      <td>Лиза Азуэлос</td>\n",
       "      <td>драма</td>\n",
       "      <td>3.419</td>\n",
       "    </tr>\n",
       "    <tr>\n",
       "      <th>831</th>\n",
       "      <td>Отель \"Люкс\"</td>\n",
       "      <td>121027112</td>\n",
       "      <td>2012-11-07 12:00:00+00:00</td>\n",
       "      <td>Художественный</td>\n",
       "      <td>Бавариа Пикчерз, Колониа Медиа Фильмпродукцион...</td>\n",
       "      <td>Германия</td>\n",
       "      <td>Леандер Хаусманн</td>\n",
       "      <td>Гюнтер Рорбах, Корина Эйх</td>\n",
       "      <td>«16+» - для детей старше 16 лет</td>\n",
       "      <td>NaN</td>\n",
       "      <td>NaN</td>\n",
       "      <td>NaN</td>\n",
       "      <td>NaN</td>\n",
       "      <td>5.700</td>\n",
       "      <td>комедия</td>\n",
       "      <td>NaN</td>\n",
       "      <td>2012</td>\n",
       "      <td>Леандер Хаусманн</td>\n",
       "      <td>комедия</td>\n",
       "      <td>NaN</td>\n",
       "    </tr>\n",
       "    <tr>\n",
       "      <th>317</th>\n",
       "      <td>Хуже не бывает</td>\n",
       "      <td>221023113</td>\n",
       "      <td>2013-06-05 12:00:00+00:00</td>\n",
       "      <td>Художественный</td>\n",
       "      <td>Винчестер Филмз, Неверланд Филмз, Е Эс 3 Прода...</td>\n",
       "      <td>США</td>\n",
       "      <td>Гэвин Грейзер</td>\n",
       "      <td>Эл Корлей, Юджин Муссо, Барт Розенблатт</td>\n",
       "      <td>«12+» - для детей старше 12 лет</td>\n",
       "      <td>NaN</td>\n",
       "      <td>NaN</td>\n",
       "      <td>NaN</td>\n",
       "      <td>NaN</td>\n",
       "      <td>6.500</td>\n",
       "      <td>комедия,криминал</td>\n",
       "      <td>NaN</td>\n",
       "      <td>2013</td>\n",
       "      <td>Гэвин Грейзер</td>\n",
       "      <td>комедия</td>\n",
       "      <td>NaN</td>\n",
       "    </tr>\n",
       "    <tr>\n",
       "      <th>641</th>\n",
       "      <td>Гнев титанов</td>\n",
       "      <td>221046512</td>\n",
       "      <td>2012-06-19 12:00:00+00:00</td>\n",
       "      <td>Художественный</td>\n",
       "      <td>Уорнер Бразерс, Лежендари Пикчерз, Сандер Роад...</td>\n",
       "      <td>США</td>\n",
       "      <td>Джонатан Либесман</td>\n",
       "      <td>Бэзил Айваник, Полли Джонсон</td>\n",
       "      <td>«16+» - для детей старше 16 лет</td>\n",
       "      <td>NaN</td>\n",
       "      <td>NaN</td>\n",
       "      <td>NaN</td>\n",
       "      <td>NaN</td>\n",
       "      <td>6.000</td>\n",
       "      <td>фэнтези,боевик,приключения</td>\n",
       "      <td>NaN</td>\n",
       "      <td>2012</td>\n",
       "      <td>Джонатан Либесман</td>\n",
       "      <td>фэнтези</td>\n",
       "      <td>NaN</td>\n",
       "    </tr>\n",
       "    <tr>\n",
       "      <th>1363</th>\n",
       "      <td>Нимфоманка. Фильм второй</td>\n",
       "      <td>121000914</td>\n",
       "      <td>2014-01-29 12:00:00+00:00</td>\n",
       "      <td>Художественный</td>\n",
       "      <td>Зентропа Интертейнментс</td>\n",
       "      <td>Дания-Франция-Бельгия-Германия-Великобритания</td>\n",
       "      <td>Ларс фон Триер</td>\n",
       "      <td>Мария Сесилия Гаде, Луиза Вест</td>\n",
       "      <td>«18+» - запрещено для детей</td>\n",
       "      <td>NaN</td>\n",
       "      <td>NaN</td>\n",
       "      <td>NaN</td>\n",
       "      <td>NaN</td>\n",
       "      <td>7.000</td>\n",
       "      <td>драма</td>\n",
       "      <td>28690.000</td>\n",
       "      <td>2014</td>\n",
       "      <td>Ларс фон Триер</td>\n",
       "      <td>драма</td>\n",
       "      <td>0.029</td>\n",
       "    </tr>\n",
       "  </tbody>\n",
       "</table>\n",
       "</div>"
      ],
      "text/plain": [
       "                                                  title  pu_number  \\\n",
       "5137                                              Шакал  221073011   \n",
       "6975   Маша и Медведь. Серия \"Вокруг света за один час\"  124003619   \n",
       "39                  Автомобиль, скрипка и собака Клякса  111010313   \n",
       "4920                                     Храбрые перцем  121006611   \n",
       "2883                                           Чемодан.  111007116   \n",
       "3131                                       Кукла (2016)  121001216   \n",
       "1632                                     Королевы ринга  121020813   \n",
       "6314  Домики (серии: \"Спасская башня\", \"Паром\", \"Кос...  114006418   \n",
       "1035                                           Суши Гёл  121029112   \n",
       "4339                  Перси Джексон и похититель молний  121001210   \n",
       "7131                                  Разум и искусство  126002819   \n",
       "2259                                   Теория заговора.  121013814   \n",
       "2406                         Kingsman: Секретная служба  121029514   \n",
       "2571                           МУЛЬТ в кино. Выпуск № 5  114000715   \n",
       "548                                 Тайны старого отеля  121007012   \n",
       "3566                           Любовь и страсть. Далида  121007217   \n",
       "831                                        Отель \"Люкс\"  121027112   \n",
       "317                                      Хуже не бывает  221023113   \n",
       "641                                        Гнев титанов  221046512   \n",
       "1363                           Нимфоманка. Фильм второй  121000914   \n",
       "\n",
       "               show_start_date            type  \\\n",
       "5137 2011-06-01 12:00:00+00:00  Художественный   \n",
       "6975 2019-05-31 12:00:00+00:00    Анимационный   \n",
       "39   2013-12-19 12:00:00+00:00  Художественный   \n",
       "4920 2011-04-22 12:00:00+00:00  Художественный   \n",
       "2883 2016-04-11 12:00:00+00:00  Художественный   \n",
       "3131 2016-01-14 12:00:00+00:00  Художественный   \n",
       "1632 2013-07-29 12:00:00+00:00  Художественный   \n",
       "6314 2018-10-19 12:00:00+00:00    Анимационный   \n",
       "1035 2012-11-29 12:00:00+00:00  Художественный   \n",
       "4339 2010-01-26 12:00:00+00:00  Художественный   \n",
       "7131 2019-08-04 12:00:00+00:00          Прочие   \n",
       "2259 2014-07-03 12:00:00+00:00  Художественный   \n",
       "2406 2014-12-29 12:00:00+00:00  Художественный   \n",
       "2571 2015-05-13 12:00:00+00:00    Анимационный   \n",
       "548  2012-03-21 12:00:00+00:00  Художественный   \n",
       "3566 2017-04-20 12:00:00+00:00  Художественный   \n",
       "831  2012-11-07 12:00:00+00:00  Художественный   \n",
       "317  2013-06-05 12:00:00+00:00  Художественный   \n",
       "641  2012-06-19 12:00:00+00:00  Художественный   \n",
       "1363 2014-01-29 12:00:00+00:00  Художественный   \n",
       "\n",
       "                                            film_studio  \\\n",
       "5137  Юниверсал Пикчерз, Мьючиал Филм Компани, Алфав...   \n",
       "6975                                     Анимаккорд Лтд   \n",
       "39                                Киностудия \"Мосфильм\"   \n",
       "4920                Юниверсал Пикчерз, Стабер Продакшнз   \n",
       "2883                                          А.Дамскер   \n",
       "3131  Хуай Бразерс Пикчерз, Лэйкшор Интертейнмент, Э...   \n",
       "1632  Каре Продюксьон, Ля Пти Рьен, Оранж Студио, Эм...   \n",
       "6314                Акционерное общество \"ТЕЛЕКОМПАНИЯ\"   \n",
       "1035                                      Эссембли Лайн   \n",
       "4339  1492 Пикчерз, Фокс 2000 Пикчерз, Импринт Интер...   \n",
       "7131                                         Циркл Тайм   \n",
       "2259  Патэ, Эсквад, Лобстер Три, Эм6 Фильм, Дабл Ю9,...   \n",
       "2406                            Марв Филмз, ХХ век Фокс   \n",
       "2571  ООО \"Студия анимационного кино \"Мельница\", ООО...   \n",
       "548                                     Дарк Скай Филмз   \n",
       "3566  Бетсабе Мучо, Патэ, ТФ1 Фильм Продюксьон, Умед...   \n",
       "831   Бавариа Пикчерз, Колониа Медиа Фильмпродукцион...   \n",
       "317   Винчестер Филмз, Неверланд Филмз, Е Эс 3 Прода...   \n",
       "641   Уорнер Бразерс, Лежендари Пикчерз, Сандер Роад...   \n",
       "1363                            Зентропа Интертейнментс   \n",
       "\n",
       "                                 production_country  \\\n",
       "5137                                            США   \n",
       "6975                                Республика Кипр   \n",
       "39                                             СССР   \n",
       "4920                                            США   \n",
       "2883                                         Россия   \n",
       "3131                                            США   \n",
       "1632                                        Франция   \n",
       "6314                                         Россия   \n",
       "1035                                            США   \n",
       "4339                                   США - Канада   \n",
       "7131                                 Великобритания   \n",
       "2259                            США - Франция - ЮАР   \n",
       "2406                                 Великобритания   \n",
       "2571                                         Россия   \n",
       "548                                             США   \n",
       "3566                                        Франция   \n",
       "831                                        Германия   \n",
       "317                                             США   \n",
       "641                                             США   \n",
       "1363  Дания-Франция-Бельгия-Германия-Великобритания   \n",
       "\n",
       "                                 director  \\\n",
       "5137                    Майкл Кэтон-Джонс   \n",
       "6975                Владислав Байрамгулов   \n",
       "39                                Р.Быков   \n",
       "4920                    Дэвид Гордон Грин   \n",
       "2883                            А.Дамскер   \n",
       "3131                    Уильям Брент Белл   \n",
       "1632                   Жан-Марк Рудницкий   \n",
       "6314                              В.Азеев   \n",
       "1035                         Керн Секстон   \n",
       "4339                        Крис Коламбус   \n",
       "7131                        Амели Равалек   \n",
       "2259                          Жером Салль   \n",
       "2406                           Мэттью Вон   \n",
       "2571  И.Пшонкин, М.Ершов, А.Миронов и др.   \n",
       "548                               Ти Вест   \n",
       "3566                         Лиза Азуэлос   \n",
       "831                      Леандер Хаусманн   \n",
       "317                         Гэвин Грейзер   \n",
       "641                     Джонатан Либесман   \n",
       "1363                       Ларс фон Триер   \n",
       "\n",
       "                                               producer  \\\n",
       "5137          Джеймс Джекс,Шон Дэниел,Майкл Кэтон-Джонс   \n",
       "6975      Олег Кузовков, Дмитрий Ловейко, Марина Ратина   \n",
       "39                                                  NaN   \n",
       "4920           Эндрю З.Дэвис, Скотт Стабер, Марк Хаффам   \n",
       "2883                                          А.Дамскер   \n",
       "3131                 Мэтт Беренсон, Рой Ли, Гэри Лучези   \n",
       "1632       Фабрис Голдштейн, Тома Лангманн, Антуан Рейн   \n",
       "6314             В.Сокологорский, Т.Цыварева, Н.Горшков   \n",
       "1035                                                NaN   \n",
       "4339        Майкл Барнатан, Марк Морган, Томас М.Хэммел   \n",
       "7131                                                NaN   \n",
       "2259  Вивьен Асланян, Ришар Гранпьер, Фредерик Донекуан   \n",
       "2406                Адам Болинг, Мэттью Вон, Дэвид Рейд   \n",
       "2571  Д.Тютьков, Т.Цыварова, В.Воля, Е.Головин, А.См...   \n",
       "548                                           Питер Фок   \n",
       "3566             Лиза Азуэлос, Жюльен Мадо, Жером Сейду   \n",
       "831                           Гюнтер Рорбах, Корина Эйх   \n",
       "317             Эл Корлей, Юджин Муссо, Барт Розенблатт   \n",
       "641                        Бэзил Айваник, Полли Джонсон   \n",
       "1363                     Мария Сесилия Гаде, Луиза Вест   \n",
       "\n",
       "                             age_restriction  refundable_support  \\\n",
       "5137  «0+» - для любой зрительской аудитории                 NaN   \n",
       "6975  «0+» - для любой зрительской аудитории                 NaN   \n",
       "39    «0+» - для любой зрительской аудитории                 NaN   \n",
       "4920         «16+» - для детей старше 16 лет                 NaN   \n",
       "2883             «18+» - запрещено для детей                 NaN   \n",
       "3131         «16+» - для детей старше 16 лет                 NaN   \n",
       "1632         «16+» - для детей старше 16 лет                 NaN   \n",
       "6314  «0+» - для любой зрительской аудитории                 NaN   \n",
       "1035             «18+» - запрещено для детей                 NaN   \n",
       "4339         «12+» - для детей старше 12 лет                 NaN   \n",
       "7131         «16+» - для детей старше 16 лет                 NaN   \n",
       "2259         «16+» - для детей старше 16 лет                 NaN   \n",
       "2406             «18+» - запрещено для детей                 NaN   \n",
       "2571  «0+» - для любой зрительской аудитории                 NaN   \n",
       "548          «16+» - для детей старше 16 лет                 NaN   \n",
       "3566         «16+» - для детей старше 16 лет                 NaN   \n",
       "831          «16+» - для детей старше 16 лет                 NaN   \n",
       "317          «12+» - для детей старше 12 лет                 NaN   \n",
       "641          «16+» - для детей старше 16 лет                 NaN   \n",
       "1363             «18+» - запрещено для детей                 NaN   \n",
       "\n",
       "      nonrefundable_support  budget financing_source  ratings  \\\n",
       "5137                    NaN     NaN              NaN    7.800   \n",
       "6975                    NaN     NaN              NaN      NaN   \n",
       "39                      NaN     NaN              NaN    7.200   \n",
       "4920                    NaN     NaN              NaN    5.900   \n",
       "2883                    NaN     NaN              NaN      NaN   \n",
       "3131                    NaN     NaN              NaN      NaN   \n",
       "1632                    NaN     NaN              NaN    5.900   \n",
       "6314                    NaN     NaN              NaN      NaN   \n",
       "1035                    NaN     NaN              NaN    7.600   \n",
       "4339                    NaN     NaN              NaN    6.200   \n",
       "7131                    NaN     NaN              NaN      NaN   \n",
       "2259                    NaN     NaN              NaN    7.200   \n",
       "2406                    NaN     NaN              NaN    7.600   \n",
       "2571                    NaN     NaN              NaN    4.000   \n",
       "548                     NaN     NaN              NaN    4.200   \n",
       "3566                    NaN     NaN              NaN    6.700   \n",
       "831                     NaN     NaN              NaN    5.700   \n",
       "317                     NaN     NaN              NaN    6.500   \n",
       "641                     NaN     NaN              NaN    6.000   \n",
       "1363                    NaN     NaN              NaN    7.000   \n",
       "\n",
       "                             genres    box_office  show_start_year  \\\n",
       "5137                       детектив           NaN             2011   \n",
       "6975                            NaN           NaN             2019   \n",
       "39                  мюзикл,семейный           NaN             2013   \n",
       "4920    фэнтези,комедия,приключения           NaN             2011   \n",
       "2883                            NaN           NaN             2016   \n",
       "3131                            NaN  66361446.230             2016   \n",
       "1632                  комедия,спорт           NaN             2013   \n",
       "6314                            NaN           NaN             2018   \n",
       "1035  фантастика,боевик,приключения           NaN             2012   \n",
       "4339   фэнтези,приключения,семейный           NaN             2010   \n",
       "7131                            NaN   1524797.500             2019   \n",
       "2259        боевик,триллер,детектив           NaN             2014   \n",
       "2406        боевик,комедия,криминал 566924625.900             2014   \n",
       "2571             мультфильм,детский   2956298.400             2015   \n",
       "548                  ужасы,детектив           NaN             2012   \n",
       "3566         драма,биография,музыка   3418891.000             2017   \n",
       "831                         комедия           NaN             2012   \n",
       "317                комедия,криминал           NaN             2013   \n",
       "641      фэнтези,боевик,приключения           NaN             2012   \n",
       "1363                          драма     28690.000             2014   \n",
       "\n",
       "         the_first_director first_genre  box_office_mln  \n",
       "5137      Майкл Кэтон-Джонс    детектив             NaN  \n",
       "6975  Владислав Байрамгулов         NaN             NaN  \n",
       "39                  Р.Быков      мюзикл             NaN  \n",
       "4920      Дэвид Гордон Грин     фэнтези             NaN  \n",
       "2883              А.Дамскер         NaN             NaN  \n",
       "3131      Уильям Брент Белл         NaN          66.361  \n",
       "1632     Жан-Марк Рудницкий     комедия             NaN  \n",
       "6314                В.Азеев         NaN             NaN  \n",
       "1035           Керн Секстон  фантастика             NaN  \n",
       "4339          Крис Коламбус     фэнтези             NaN  \n",
       "7131          Амели Равалек         NaN           1.525  \n",
       "2259            Жером Салль      боевик             NaN  \n",
       "2406             Мэттью Вон      боевик         566.925  \n",
       "2571              И.Пшонкин  мультфильм           2.956  \n",
       "548                 Ти Вест       ужасы             NaN  \n",
       "3566           Лиза Азуэлос       драма           3.419  \n",
       "831        Леандер Хаусманн     комедия             NaN  \n",
       "317           Гэвин Грейзер     комедия             NaN  \n",
       "641       Джонатан Либесман     фэнтези             NaN  \n",
       "1363         Ларс фон Триер       драма           0.029  "
      ]
     },
     "metadata": {},
     "output_type": "display_data"
    }
   ],
   "source": [
    "# для удобства расчетов создадим столбец 'box_office_mln'\n",
    "mkrf_movies_show['box_office_mln'] = mkrf_movies_show['box_office'] / 1000000\n",
    "display(mkrf_movies_show.sample(20, random_state=0))"
   ]
  },
  {
   "cell_type": "markdown",
   "metadata": {
    "id": "1FsCXHwdgFyU"
   },
   "source": [
    "- Расчет доли государственной поддержки от общего бюджета фильма."
   ]
  },
  {
   "cell_type": "code",
   "execution_count": 20,
   "metadata": {
    "id": "LV6qFuZLgFyV"
   },
   "outputs": [
    {
     "data": {
      "text/html": [
       "<div>\n",
       "<style scoped>\n",
       "    .dataframe tbody tr th:only-of-type {\n",
       "        vertical-align: middle;\n",
       "    }\n",
       "\n",
       "    .dataframe tbody tr th {\n",
       "        vertical-align: top;\n",
       "    }\n",
       "\n",
       "    .dataframe thead th {\n",
       "        text-align: right;\n",
       "    }\n",
       "</style>\n",
       "<table border=\"1\" class=\"dataframe\">\n",
       "  <thead>\n",
       "    <tr style=\"text-align: right;\">\n",
       "      <th></th>\n",
       "      <th>title</th>\n",
       "      <th>pu_number</th>\n",
       "      <th>show_start_date</th>\n",
       "      <th>type</th>\n",
       "      <th>film_studio</th>\n",
       "      <th>production_country</th>\n",
       "      <th>director</th>\n",
       "      <th>producer</th>\n",
       "      <th>age_restriction</th>\n",
       "      <th>refundable_support</th>\n",
       "      <th>nonrefundable_support</th>\n",
       "      <th>budget</th>\n",
       "      <th>financing_source</th>\n",
       "      <th>ratings</th>\n",
       "      <th>genres</th>\n",
       "      <th>box_office</th>\n",
       "      <th>show_start_year</th>\n",
       "      <th>the_first_director</th>\n",
       "      <th>first_genre</th>\n",
       "      <th>box_office_mln</th>\n",
       "      <th>share_budget_support</th>\n",
       "      <th>share_nonref_support</th>\n",
       "    </tr>\n",
       "  </thead>\n",
       "  <tbody>\n",
       "    <tr>\n",
       "      <th>1281</th>\n",
       "      <td>Пока еще жива</td>\n",
       "      <td>111005313</td>\n",
       "      <td>2013-10-11 12:00:00+00:00</td>\n",
       "      <td>Художественный</td>\n",
       "      <td>АНО содействия развитию кинематографии \"Ангел-...</td>\n",
       "      <td>Россия</td>\n",
       "      <td>А.Атанесян</td>\n",
       "      <td>А.Атанесян, М.Бабаханов, Р.Бутко</td>\n",
       "      <td>«16+» - для детей старше 16 лет</td>\n",
       "      <td>0.000</td>\n",
       "      <td>26500000.000</td>\n",
       "      <td>79411900.000</td>\n",
       "      <td>Министерство культуры</td>\n",
       "      <td>8.100</td>\n",
       "      <td>драма,мелодрама</td>\n",
       "      <td>365353.600</td>\n",
       "      <td>2013</td>\n",
       "      <td>А.Атанесян</td>\n",
       "      <td>драма</td>\n",
       "      <td>0.365</td>\n",
       "      <td>0.334</td>\n",
       "      <td>0.334</td>\n",
       "    </tr>\n",
       "    <tr>\n",
       "      <th>1448</th>\n",
       "      <td>Бесславные придурки</td>\n",
       "      <td>111003314</td>\n",
       "      <td>2014-03-28 12:00:00+00:00</td>\n",
       "      <td>Художественный</td>\n",
       "      <td>ООО \"Компания \"АТК-Студио\"</td>\n",
       "      <td>Россия</td>\n",
       "      <td>А.Якимчук</td>\n",
       "      <td>А.Тютрюмов</td>\n",
       "      <td>«12+» - для детей старше 12 лет</td>\n",
       "      <td>0.000</td>\n",
       "      <td>26000000.000</td>\n",
       "      <td>37142857.000</td>\n",
       "      <td>Министерство культуры</td>\n",
       "      <td>NaN</td>\n",
       "      <td>NaN</td>\n",
       "      <td>28140.000</td>\n",
       "      <td>2014</td>\n",
       "      <td>А.Якимчук</td>\n",
       "      <td>NaN</td>\n",
       "      <td>0.028</td>\n",
       "      <td>0.700</td>\n",
       "      <td>0.700</td>\n",
       "    </tr>\n",
       "    <tr>\n",
       "      <th>1498</th>\n",
       "      <td>Невидимки</td>\n",
       "      <td>111004213</td>\n",
       "      <td>2013-09-10 12:00:00+00:00</td>\n",
       "      <td>Художественный</td>\n",
       "      <td>ООО \"Компания \"РЕАЛ-ДАКОТА\"</td>\n",
       "      <td>Россия</td>\n",
       "      <td>Р.Давлетьяров, С.Комаров</td>\n",
       "      <td>Р.Давлетьяров, А.Котелевский, А.Олейников</td>\n",
       "      <td>«12+» - для детей старше 12 лет</td>\n",
       "      <td>0.000</td>\n",
       "      <td>107847945.000</td>\n",
       "      <td>176023490.000</td>\n",
       "      <td>Фонд кино</td>\n",
       "      <td>5.300</td>\n",
       "      <td>комедия,фантастика</td>\n",
       "      <td>19957031.500</td>\n",
       "      <td>2013</td>\n",
       "      <td>Р.Давлетьяров</td>\n",
       "      <td>комедия</td>\n",
       "      <td>19.957</td>\n",
       "      <td>0.613</td>\n",
       "      <td>0.613</td>\n",
       "    </tr>\n",
       "    <tr>\n",
       "      <th>1524</th>\n",
       "      <td>БЕРЦЫ</td>\n",
       "      <td>111004314</td>\n",
       "      <td>2014-05-05 12:00:00+00:00</td>\n",
       "      <td>Художественный</td>\n",
       "      <td>ООО \"Студия \"Пассажир\"</td>\n",
       "      <td>Россия</td>\n",
       "      <td>Е.Миндадзе (псевдоним Катя Шагалова)</td>\n",
       "      <td>Л.Антонова</td>\n",
       "      <td>«16+» - для детей старше 16 лет</td>\n",
       "      <td>0.000</td>\n",
       "      <td>28000000.000</td>\n",
       "      <td>40574140.000</td>\n",
       "      <td>Министерство культуры</td>\n",
       "      <td>4.200</td>\n",
       "      <td>драма</td>\n",
       "      <td>55917.500</td>\n",
       "      <td>2014</td>\n",
       "      <td>Е.Миндадзе (псевдоним Катя Шагалова)</td>\n",
       "      <td>драма</td>\n",
       "      <td>0.056</td>\n",
       "      <td>0.690</td>\n",
       "      <td>0.690</td>\n",
       "    </tr>\n",
       "    <tr>\n",
       "      <th>1792</th>\n",
       "      <td>Братья Ч</td>\n",
       "      <td>111004414</td>\n",
       "      <td>2014-04-23 12:00:00+00:00</td>\n",
       "      <td>Художественный</td>\n",
       "      <td>ООО \"Студия \"Пассажир\"</td>\n",
       "      <td>Россия</td>\n",
       "      <td>М.Угаров</td>\n",
       "      <td>А.Миндадзе, Л.Антонова</td>\n",
       "      <td>«16+» - для детей старше 16 лет</td>\n",
       "      <td>0.000</td>\n",
       "      <td>25000000.000</td>\n",
       "      <td>40015122.000</td>\n",
       "      <td>Министерство культуры</td>\n",
       "      <td>6.400</td>\n",
       "      <td>драма</td>\n",
       "      <td>232100.000</td>\n",
       "      <td>2014</td>\n",
       "      <td>М.Угаров</td>\n",
       "      <td>драма</td>\n",
       "      <td>0.232</td>\n",
       "      <td>0.625</td>\n",
       "      <td>0.625</td>\n",
       "    </tr>\n",
       "    <tr>\n",
       "      <th>...</th>\n",
       "      <td>...</td>\n",
       "      <td>...</td>\n",
       "      <td>...</td>\n",
       "      <td>...</td>\n",
       "      <td>...</td>\n",
       "      <td>...</td>\n",
       "      <td>...</td>\n",
       "      <td>...</td>\n",
       "      <td>...</td>\n",
       "      <td>...</td>\n",
       "      <td>...</td>\n",
       "      <td>...</td>\n",
       "      <td>...</td>\n",
       "      <td>...</td>\n",
       "      <td>...</td>\n",
       "      <td>...</td>\n",
       "      <td>...</td>\n",
       "      <td>...</td>\n",
       "      <td>...</td>\n",
       "      <td>...</td>\n",
       "      <td>...</td>\n",
       "      <td>...</td>\n",
       "    </tr>\n",
       "    <tr>\n",
       "      <th>7464</th>\n",
       "      <td>Союз спасения</td>\n",
       "      <td>111022019</td>\n",
       "      <td>2019-12-26 12:00:00+00:00</td>\n",
       "      <td>Художественный</td>\n",
       "      <td>ЗАО \"Дирекция кино\"</td>\n",
       "      <td>Россия</td>\n",
       "      <td>А.Кравчук</td>\n",
       "      <td>А.Максимов, К.Эрнст</td>\n",
       "      <td>«12+» - для детей старше 12 лет</td>\n",
       "      <td>100000000.000</td>\n",
       "      <td>400000000.000</td>\n",
       "      <td>980000000.000</td>\n",
       "      <td>Фонд кино</td>\n",
       "      <td>6.000</td>\n",
       "      <td>история,биография,драма</td>\n",
       "      <td>717703185.530</td>\n",
       "      <td>2019</td>\n",
       "      <td>А.Кравчук</td>\n",
       "      <td>история</td>\n",
       "      <td>717.703</td>\n",
       "      <td>0.510</td>\n",
       "      <td>0.408</td>\n",
       "    </tr>\n",
       "    <tr>\n",
       "      <th>7466</th>\n",
       "      <td>Иван Царевич и Серый Волк 4</td>\n",
       "      <td>114005019</td>\n",
       "      <td>2019-12-20 12:00:00+00:00</td>\n",
       "      <td>Анимационный</td>\n",
       "      <td>ООО \"Студия анимационного кино \"Мельница\"</td>\n",
       "      <td>Россия</td>\n",
       "      <td>Д.Шмидт, К.Феоктистов</td>\n",
       "      <td>С.Сельянов, А.Боярский</td>\n",
       "      <td>«6+» - для детей старше 6 лет</td>\n",
       "      <td>100000000.000</td>\n",
       "      <td>0.000</td>\n",
       "      <td>190000000.000</td>\n",
       "      <td>Фонд кино</td>\n",
       "      <td>6.700</td>\n",
       "      <td>мультфильм,приключения,семейный</td>\n",
       "      <td>501069235.000</td>\n",
       "      <td>2019</td>\n",
       "      <td>Д.Шмидт</td>\n",
       "      <td>мультфильм</td>\n",
       "      <td>501.069</td>\n",
       "      <td>0.526</td>\n",
       "      <td>0.000</td>\n",
       "    </tr>\n",
       "    <tr>\n",
       "      <th>7474</th>\n",
       "      <td>Вторжение</td>\n",
       "      <td>111022519</td>\n",
       "      <td>2019-12-23 12:00:00+00:00</td>\n",
       "      <td>Художественный</td>\n",
       "      <td>ООО \"Арт Пикчерс Студия\", ООО \"Водород 2011\"</td>\n",
       "      <td>Россия</td>\n",
       "      <td>Ф.Бондарчук</td>\n",
       "      <td>Ф.Бондарчук, М.Врубель, А.Андрющенко, Д.Рудовский</td>\n",
       "      <td>«12+» - для детей старше 12 лет</td>\n",
       "      <td>100000000.000</td>\n",
       "      <td>400000000.000</td>\n",
       "      <td>944000000.000</td>\n",
       "      <td>Фонд кино</td>\n",
       "      <td>5.700</td>\n",
       "      <td>фантастика,боевик</td>\n",
       "      <td>NaN</td>\n",
       "      <td>2019</td>\n",
       "      <td>Ф.Бондарчук</td>\n",
       "      <td>фантастика</td>\n",
       "      <td>NaN</td>\n",
       "      <td>0.530</td>\n",
       "      <td>0.424</td>\n",
       "    </tr>\n",
       "    <tr>\n",
       "      <th>7476</th>\n",
       "      <td>Я свободен</td>\n",
       "      <td>111023019</td>\n",
       "      <td>2019-12-26 12:00:00+00:00</td>\n",
       "      <td>Художественный</td>\n",
       "      <td>АО \"ТПО \"Киностудия им. М.Горького\"</td>\n",
       "      <td>Россия</td>\n",
       "      <td>И.Северов</td>\n",
       "      <td>С.Зернов</td>\n",
       "      <td>«12+» - для детей старше 12 лет</td>\n",
       "      <td>0.000</td>\n",
       "      <td>30000000.000</td>\n",
       "      <td>46154000.000</td>\n",
       "      <td>Министерство культуры</td>\n",
       "      <td>5.900</td>\n",
       "      <td>драма</td>\n",
       "      <td>NaN</td>\n",
       "      <td>2019</td>\n",
       "      <td>И.Северов</td>\n",
       "      <td>драма</td>\n",
       "      <td>NaN</td>\n",
       "      <td>0.650</td>\n",
       "      <td>0.650</td>\n",
       "    </tr>\n",
       "    <tr>\n",
       "      <th>7478</th>\n",
       "      <td>(Не)идеальный мужчина</td>\n",
       "      <td>111023119</td>\n",
       "      <td>2019-12-24 12:00:00+00:00</td>\n",
       "      <td>Художественный</td>\n",
       "      <td>ООО \"Нон-Стоп Продакшн\"</td>\n",
       "      <td>Россия</td>\n",
       "      <td>М.Бальчюнас (псевдоним М.Вайсберг)</td>\n",
       "      <td>С.Мелькумов, А.Роднянский, М.Вайсберг, Р.Минас...</td>\n",
       "      <td>«12+» - для детей старше 12 лет</td>\n",
       "      <td>40000000.000</td>\n",
       "      <td>60000000.000</td>\n",
       "      <td>150147502.000</td>\n",
       "      <td>Фонд кино</td>\n",
       "      <td>4.500</td>\n",
       "      <td>комедия,фантастика,мелодрама</td>\n",
       "      <td>NaN</td>\n",
       "      <td>2019</td>\n",
       "      <td>М.Бальчюнас (псевдоним М.Вайсберг)</td>\n",
       "      <td>комедия</td>\n",
       "      <td>NaN</td>\n",
       "      <td>0.666</td>\n",
       "      <td>0.400</td>\n",
       "    </tr>\n",
       "  </tbody>\n",
       "</table>\n",
       "<p>332 rows × 22 columns</p>\n",
       "</div>"
      ],
      "text/plain": [
       "                            title  pu_number           show_start_date  \\\n",
       "1281                Пока еще жива  111005313 2013-10-11 12:00:00+00:00   \n",
       "1448          Бесславные придурки  111003314 2014-03-28 12:00:00+00:00   \n",
       "1498                    Невидимки  111004213 2013-09-10 12:00:00+00:00   \n",
       "1524                        БЕРЦЫ  111004314 2014-05-05 12:00:00+00:00   \n",
       "1792                     Братья Ч  111004414 2014-04-23 12:00:00+00:00   \n",
       "...                           ...        ...                       ...   \n",
       "7464                Союз спасения  111022019 2019-12-26 12:00:00+00:00   \n",
       "7466  Иван Царевич и Серый Волк 4  114005019 2019-12-20 12:00:00+00:00   \n",
       "7474                    Вторжение  111022519 2019-12-23 12:00:00+00:00   \n",
       "7476                   Я свободен  111023019 2019-12-26 12:00:00+00:00   \n",
       "7478        (Не)идеальный мужчина  111023119 2019-12-24 12:00:00+00:00   \n",
       "\n",
       "                type                                        film_studio  \\\n",
       "1281  Художественный  АНО содействия развитию кинематографии \"Ангел-...   \n",
       "1448  Художественный                         ООО \"Компания \"АТК-Студио\"   \n",
       "1498  Художественный                        ООО \"Компания \"РЕАЛ-ДАКОТА\"   \n",
       "1524  Художественный                             ООО \"Студия \"Пассажир\"   \n",
       "1792  Художественный                             ООО \"Студия \"Пассажир\"   \n",
       "...              ...                                                ...   \n",
       "7464  Художественный                                ЗАО \"Дирекция кино\"   \n",
       "7466    Анимационный          ООО \"Студия анимационного кино \"Мельница\"   \n",
       "7474  Художественный       ООО \"Арт Пикчерс Студия\", ООО \"Водород 2011\"   \n",
       "7476  Художественный                АО \"ТПО \"Киностудия им. М.Горького\"   \n",
       "7478  Художественный                           ООО \"Нон-Стоп Продакшн\"    \n",
       "\n",
       "     production_country                              director  \\\n",
       "1281             Россия                            А.Атанесян   \n",
       "1448             Россия                             А.Якимчук   \n",
       "1498             Россия              Р.Давлетьяров, С.Комаров   \n",
       "1524             Россия  Е.Миндадзе (псевдоним Катя Шагалова)   \n",
       "1792             Россия                              М.Угаров   \n",
       "...                 ...                                   ...   \n",
       "7464             Россия                             А.Кравчук   \n",
       "7466             Россия                 Д.Шмидт, К.Феоктистов   \n",
       "7474             Россия                           Ф.Бондарчук   \n",
       "7476             Россия                             И.Северов   \n",
       "7478             Россия    М.Бальчюнас (псевдоним М.Вайсберг)   \n",
       "\n",
       "                                               producer  \\\n",
       "1281                   А.Атанесян, М.Бабаханов, Р.Бутко   \n",
       "1448                                         А.Тютрюмов   \n",
       "1498          Р.Давлетьяров, А.Котелевский, А.Олейников   \n",
       "1524                                         Л.Антонова   \n",
       "1792                             А.Миндадзе, Л.Антонова   \n",
       "...                                                 ...   \n",
       "7464                                А.Максимов, К.Эрнст   \n",
       "7466                             С.Сельянов, А.Боярский   \n",
       "7474  Ф.Бондарчук, М.Врубель, А.Андрющенко, Д.Рудовский   \n",
       "7476                                           С.Зернов   \n",
       "7478  С.Мелькумов, А.Роднянский, М.Вайсберг, Р.Минас...   \n",
       "\n",
       "                      age_restriction  refundable_support  \\\n",
       "1281  «16+» - для детей старше 16 лет               0.000   \n",
       "1448  «12+» - для детей старше 12 лет               0.000   \n",
       "1498  «12+» - для детей старше 12 лет               0.000   \n",
       "1524  «16+» - для детей старше 16 лет               0.000   \n",
       "1792  «16+» - для детей старше 16 лет               0.000   \n",
       "...                               ...                 ...   \n",
       "7464  «12+» - для детей старше 12 лет       100000000.000   \n",
       "7466    «6+» - для детей старше 6 лет       100000000.000   \n",
       "7474  «12+» - для детей старше 12 лет       100000000.000   \n",
       "7476  «12+» - для детей старше 12 лет               0.000   \n",
       "7478  «12+» - для детей старше 12 лет        40000000.000   \n",
       "\n",
       "      nonrefundable_support        budget       financing_source  ratings  \\\n",
       "1281           26500000.000  79411900.000  Министерство культуры    8.100   \n",
       "1448           26000000.000  37142857.000  Министерство культуры      NaN   \n",
       "1498          107847945.000 176023490.000              Фонд кино    5.300   \n",
       "1524           28000000.000  40574140.000  Министерство культуры    4.200   \n",
       "1792           25000000.000  40015122.000  Министерство культуры    6.400   \n",
       "...                     ...           ...                    ...      ...   \n",
       "7464          400000000.000 980000000.000              Фонд кино    6.000   \n",
       "7466                  0.000 190000000.000              Фонд кино    6.700   \n",
       "7474          400000000.000 944000000.000              Фонд кино    5.700   \n",
       "7476           30000000.000  46154000.000  Министерство культуры    5.900   \n",
       "7478           60000000.000 150147502.000              Фонд кино    4.500   \n",
       "\n",
       "                               genres    box_office  show_start_year  \\\n",
       "1281                  драма,мелодрама    365353.600             2013   \n",
       "1448                              NaN     28140.000             2014   \n",
       "1498               комедия,фантастика  19957031.500             2013   \n",
       "1524                            драма     55917.500             2014   \n",
       "1792                            драма    232100.000             2014   \n",
       "...                               ...           ...              ...   \n",
       "7464          история,биография,драма 717703185.530             2019   \n",
       "7466  мультфильм,приключения,семейный 501069235.000             2019   \n",
       "7474                фантастика,боевик           NaN             2019   \n",
       "7476                            драма           NaN             2019   \n",
       "7478     комедия,фантастика,мелодрама           NaN             2019   \n",
       "\n",
       "                        the_first_director first_genre  box_office_mln  \\\n",
       "1281                            А.Атанесян       драма           0.365   \n",
       "1448                             А.Якимчук         NaN           0.028   \n",
       "1498                         Р.Давлетьяров     комедия          19.957   \n",
       "1524  Е.Миндадзе (псевдоним Катя Шагалова)       драма           0.056   \n",
       "1792                              М.Угаров       драма           0.232   \n",
       "...                                    ...         ...             ...   \n",
       "7464                             А.Кравчук     история         717.703   \n",
       "7466                               Д.Шмидт  мультфильм         501.069   \n",
       "7474                           Ф.Бондарчук  фантастика             NaN   \n",
       "7476                             И.Северов       драма             NaN   \n",
       "7478    М.Бальчюнас (псевдоним М.Вайсберг)     комедия             NaN   \n",
       "\n",
       "      share_budget_support  share_nonref_support  \n",
       "1281                 0.334                 0.334  \n",
       "1448                 0.700                 0.700  \n",
       "1498                 0.613                 0.613  \n",
       "1524                 0.690                 0.690  \n",
       "1792                 0.625                 0.625  \n",
       "...                    ...                   ...  \n",
       "7464                 0.510                 0.408  \n",
       "7466                 0.526                 0.000  \n",
       "7474                 0.530                 0.424  \n",
       "7476                 0.650                 0.650  \n",
       "7478                 0.666                 0.400  \n",
       "\n",
       "[332 rows x 22 columns]"
      ]
     },
     "execution_count": 20,
     "metadata": {},
     "output_type": "execute_result"
    }
   ],
   "source": [
    "mkrf_movies_show[\"share_budget_support\"] = (\n",
    "    mkrf_movies_show[\"nonrefundable_support\"] + mkrf_movies_show[\"refundable_support\"]\n",
    ") / mkrf_movies_show[\"budget\"]\n",
    "\n",
    "mkrf_movies_show[\"share_nonref_support\"] = (\n",
    "    mkrf_movies_show[\"nonrefundable_support\"] / mkrf_movies_show[\"budget\"]\n",
    ")\n",
    "\n",
    "mkrf_movies_show.replace([np.inf, -np.inf], np.nan)\n",
    "mkrf_movies_show[mkrf_movies_show[\"budget\"] > 0]\n"
   ]
  },
  {
   "cell_type": "code",
   "execution_count": 21,
   "metadata": {},
   "outputs": [
    {
     "data": {
      "text/plain": [
       "3565   1.000\n",
       "2874   1.000\n",
       "2684   1.000\n",
       "6323   1.000\n",
       "2788   1.000\n",
       "2058   1.000\n",
       "2053   1.000\n",
       "2472   0.875\n",
       "5806   0.857\n",
       "3047   0.729\n",
       "Name: share_nonref_support, dtype: float64"
      ]
     },
     "metadata": {},
     "output_type": "display_data"
    },
    {
     "name": "stdout",
     "output_type": "stream",
     "text": [
      "0.4662537369545268\n"
     ]
    }
   ],
   "source": [
    "display(mkrf_movies_show['share_nonref_support'].sort_values(ascending=False).head(10))\n",
    "print(mkrf_movies_show['share_nonref_support'].mean())"
   ]
  },
  {
   "cell_type": "markdown",
   "metadata": {},
   "source": [
    "**Вывод**\n",
    "\n",
    "Добавлены столбцы **share_budget_support** и  **share_nonref_support**\n",
    "Первый описывает отношение суммы беспроцетного займа и субсидии к общему бюджету фильма\n",
    "Второй отражает долю субсидий в общем бюджете фильма.\n",
    "\n",
    "Господдержка, без учета возвратных займов, составляет 46,6 % от общего бюджета всей отечественной киноиндустрии."
   ]
  },
  {
   "cell_type": "markdown",
   "metadata": {
    "id": "6t4EukPLgFyV"
   },
   "source": [
    "### 3. Исследовательский анализ данных"
   ]
  },
  {
   "cell_type": "markdown",
   "metadata": {
    "id": "vAH8WCzugFyV"
   },
   "source": [
    "- Посмотрите, сколько фильмов выходило в прокат каждый год. Обратите внимание, что данные о прокате в кинотеатрах известны не для всех фильмов. Посчитайте, какую долю составляют фильмы с указанной информацией о прокате в кинотеатрах."
   ]
  },
  {
   "cell_type": "code",
   "execution_count": 22,
   "metadata": {},
   "outputs": [
    {
     "data": {
      "text/html": [
       "<div>\n",
       "<style scoped>\n",
       "    .dataframe tbody tr th:only-of-type {\n",
       "        vertical-align: middle;\n",
       "    }\n",
       "\n",
       "    .dataframe tbody tr th {\n",
       "        vertical-align: top;\n",
       "    }\n",
       "\n",
       "    .dataframe thead tr th {\n",
       "        text-align: left;\n",
       "    }\n",
       "\n",
       "    .dataframe thead tr:last-of-type th {\n",
       "        text-align: right;\n",
       "    }\n",
       "</style>\n",
       "<table border=\"1\" class=\"dataframe\">\n",
       "  <thead>\n",
       "    <tr>\n",
       "      <th></th>\n",
       "      <th>count</th>\n",
       "    </tr>\n",
       "    <tr>\n",
       "      <th></th>\n",
       "      <th>title</th>\n",
       "    </tr>\n",
       "    <tr>\n",
       "      <th>show_start_year</th>\n",
       "      <th></th>\n",
       "    </tr>\n",
       "  </thead>\n",
       "  <tbody>\n",
       "    <tr>\n",
       "      <th>2010</th>\n",
       "      <td>985</td>\n",
       "    </tr>\n",
       "    <tr>\n",
       "      <th>2011</th>\n",
       "      <td>622</td>\n",
       "    </tr>\n",
       "    <tr>\n",
       "      <th>2012</th>\n",
       "      <td>593</td>\n",
       "    </tr>\n",
       "    <tr>\n",
       "      <th>2013</th>\n",
       "      <td>630</td>\n",
       "    </tr>\n",
       "    <tr>\n",
       "      <th>2014</th>\n",
       "      <td>807</td>\n",
       "    </tr>\n",
       "    <tr>\n",
       "      <th>2015</th>\n",
       "      <td>705</td>\n",
       "    </tr>\n",
       "    <tr>\n",
       "      <th>2016</th>\n",
       "      <td>818</td>\n",
       "    </tr>\n",
       "    <tr>\n",
       "      <th>2017</th>\n",
       "      <td>505</td>\n",
       "    </tr>\n",
       "    <tr>\n",
       "      <th>2018</th>\n",
       "      <td>891</td>\n",
       "    </tr>\n",
       "    <tr>\n",
       "      <th>2019</th>\n",
       "      <td>930</td>\n",
       "    </tr>\n",
       "  </tbody>\n",
       "</table>\n",
       "</div>"
      ],
      "text/plain": [
       "                count\n",
       "                title\n",
       "show_start_year      \n",
       "2010              985\n",
       "2011              622\n",
       "2012              593\n",
       "2013              630\n",
       "2014              807\n",
       "2015              705\n",
       "2016              818\n",
       "2017              505\n",
       "2018              891\n",
       "2019              930"
      ]
     },
     "execution_count": 22,
     "metadata": {},
     "output_type": "execute_result"
    }
   ],
   "source": [
    "count_titles_for_year = mkrf_movies_show.pivot_table(\n",
    "    index='show_start_year',\n",
    "    values=['title'],\n",
    "    aggfunc=['count']\n",
    ").sort_values(by='show_start_year', ascending=True)\n",
    "count_titles_for_year"
   ]
  },
  {
   "cell_type": "code",
   "execution_count": 23,
   "metadata": {},
   "outputs": [
    {
     "data": {
      "text/html": [
       "<div>\n",
       "<style scoped>\n",
       "    .dataframe tbody tr th:only-of-type {\n",
       "        vertical-align: middle;\n",
       "    }\n",
       "\n",
       "    .dataframe tbody tr th {\n",
       "        vertical-align: top;\n",
       "    }\n",
       "\n",
       "    .dataframe thead th {\n",
       "        text-align: right;\n",
       "    }\n",
       "</style>\n",
       "<table border=\"1\" class=\"dataframe\">\n",
       "  <thead>\n",
       "    <tr style=\"text-align: right;\">\n",
       "      <th></th>\n",
       "      <th>count_title</th>\n",
       "      <th>count_title_box_office</th>\n",
       "      <th>share_counts</th>\n",
       "    </tr>\n",
       "    <tr>\n",
       "      <th>show_start_year</th>\n",
       "      <th></th>\n",
       "      <th></th>\n",
       "      <th></th>\n",
       "    </tr>\n",
       "  </thead>\n",
       "  <tbody>\n",
       "    <tr>\n",
       "      <th>2010</th>\n",
       "      <td>985</td>\n",
       "      <td>101</td>\n",
       "      <td>0.103</td>\n",
       "    </tr>\n",
       "    <tr>\n",
       "      <th>2011</th>\n",
       "      <td>622</td>\n",
       "      <td>109</td>\n",
       "      <td>0.175</td>\n",
       "    </tr>\n",
       "    <tr>\n",
       "      <th>2012</th>\n",
       "      <td>593</td>\n",
       "      <td>123</td>\n",
       "      <td>0.207</td>\n",
       "    </tr>\n",
       "    <tr>\n",
       "      <th>2013</th>\n",
       "      <td>630</td>\n",
       "      <td>179</td>\n",
       "      <td>0.284</td>\n",
       "    </tr>\n",
       "    <tr>\n",
       "      <th>2014</th>\n",
       "      <td>807</td>\n",
       "      <td>273</td>\n",
       "      <td>0.338</td>\n",
       "    </tr>\n",
       "    <tr>\n",
       "      <th>2015</th>\n",
       "      <td>705</td>\n",
       "      <td>462</td>\n",
       "      <td>0.655</td>\n",
       "    </tr>\n",
       "    <tr>\n",
       "      <th>2016</th>\n",
       "      <td>818</td>\n",
       "      <td>525</td>\n",
       "      <td>0.642</td>\n",
       "    </tr>\n",
       "    <tr>\n",
       "      <th>2017</th>\n",
       "      <td>505</td>\n",
       "      <td>357</td>\n",
       "      <td>0.707</td>\n",
       "    </tr>\n",
       "    <tr>\n",
       "      <th>2018</th>\n",
       "      <td>891</td>\n",
       "      <td>475</td>\n",
       "      <td>0.533</td>\n",
       "    </tr>\n",
       "    <tr>\n",
       "      <th>2019</th>\n",
       "      <td>930</td>\n",
       "      <td>530</td>\n",
       "      <td>0.570</td>\n",
       "    </tr>\n",
       "  </tbody>\n",
       "</table>\n",
       "</div>"
      ],
      "text/plain": [
       "                 count_title  count_title_box_office  share_counts\n",
       "show_start_year                                                   \n",
       "2010                     985                     101         0.103\n",
       "2011                     622                     109         0.175\n",
       "2012                     593                     123         0.207\n",
       "2013                     630                     179         0.284\n",
       "2014                     807                     273         0.338\n",
       "2015                     705                     462         0.655\n",
       "2016                     818                     525         0.642\n",
       "2017                     505                     357         0.707\n",
       "2018                     891                     475         0.533\n",
       "2019                     930                     530         0.570"
      ]
     },
     "metadata": {},
     "output_type": "display_data"
    }
   ],
   "source": [
    "count_titles_box_office = mkrf_movies_show.query(\n",
    "    'box_office > 0'\n",
    ").pivot_table(\n",
    "    index='show_start_year',\n",
    "    values=['title'],\n",
    "    aggfunc=['count']\n",
    ").sort_values(by='show_start_year', ascending=True)\n",
    "\n",
    "# Избавляемся от мультииндекса \n",
    "count_titles_for_year.columns = ['_'.join(col).strip() for col in count_titles_for_year.columns.values]\n",
    "count_titles_box_office.columns = ['_'.join(col).strip() for col in count_titles_box_office.columns.values]\n",
    "\n",
    "# Переименование колонки\n",
    "count_titles_box_office.rename(columns = {'count_title':'count_title_box_office'}, inplace = True)\n",
    "\n",
    "share_counts_titles_box_office_title = count_titles_for_year.join(count_titles_box_office,how='left')\n",
    "share_counts_titles_box_office_title['share_counts'] = share_counts_titles_box_office_title['count_title_box_office'] / share_counts_titles_box_office_title['count_title']\n",
    "display(share_counts_titles_box_office_title)"
   ]
  },
  {
   "cell_type": "markdown",
   "metadata": {},
   "source": [
    "**Вывод**\n",
    "\n",
    "За 2010 - 2014 годы, информация неполная , о чем говорит доля фильмов с указанными сборами, соответственно, делать какой либо вывод здесь нереально. Что касается фильмов с 2015 по 2019, то здесь ситуация немногим лучше, однако даже для 2017 года отсутствие информации о прокате по почти 30 % фильмов, выглядят тоже ненадежно, кассовые сборы могут быть безнадежно низкими, но не нулевыми.    \n",
    "     "
   ]
  },
  {
   "cell_type": "code",
   "execution_count": 24,
   "metadata": {
    "id": "ABeV47y7gFyW"
   },
   "outputs": [
    {
     "data": {
      "text/plain": [
       "count         3158.000\n",
       "mean      76478696.161\n",
       "std      240353122.823\n",
       "min              0.000\n",
       "25%          86239.000\n",
       "50%        2327987.550\n",
       "75%       23979671.025\n",
       "max     3073568690.790\n",
       "Name: box_office, dtype: float64"
      ]
     },
     "execution_count": 24,
     "metadata": {},
     "output_type": "execute_result"
    },
    {
     "data": {
      "image/png": "[encoded data removed]",
      "text/plain": [
       "<Figure size 1500x1500 with 2 Axes>"
      ]
     },
     "metadata": {},
     "output_type": "display_data"
    }
   ],
   "source": [
    "plt.figure(figsize=(15,15))\n",
    "plt.subplot(2, 2, 1)\n",
    "mkrf_movies_show.filter(items=['box_office']).boxplot()\n",
    "plt.ylim(-10, 61000000)\n",
    "plt.subplot(2,2,2)\n",
    "plt.ylabel(\"box_office\")\n",
    "plt.xlabel(\"#\")\n",
    "plt.title(\"box_office\")\n",
    "mkrf_movies_show['box_office'].hist(range=(0,25000000), bins=50, orientation='horizontal')\n",
    "\n",
    "mkrf_movies_show['box_office'].describe()"
   ]
  },
  {
   "cell_type": "markdown",
   "metadata": {},
   "source": [
    "Типичные значения кассовых сборов расположились в диапазоне от 0 до 25 млн рублей. В выбросы попали суммы превышающие 60 млн рублей. Максимальное значение сборов - 3 073 568 690 рублей. Построим график зависимости типичных сумм сборов от возрастных ограничений:"
   ]
  },
  {
   "cell_type": "code",
   "execution_count": 25,
   "metadata": {
    "tags": []
   },
   "outputs": [
    {
     "data": {
      "text/plain": [
       "<AxesSubplot: xlabel='age_restriction'>"
      ]
     },
     "execution_count": 25,
     "metadata": {},
     "output_type": "execute_result"
    },
    {
     "data": {
      "image/png": "[encoded data removed]",
      "text/plain": [
       "<Figure size 1500x600 with 1 Axes>"
      ]
     },
     "metadata": {},
     "output_type": "display_data"
    }
   ],
   "source": [
    "# display(mkrf_movies_show.groupby('show_start_year')['box_office_mln'])\n",
    "\n",
    "(mkrf_movies_show.query(\n",
    "'250000000 > box_office > 0'\n",
    ")\n",
    " .groupby('age_restriction')['box_office'].median()\n",
    " .plot(x='age_restriction',y='box_office', figsize=(15, 6),style='-*',legend=True)\n",
    ")"
   ]
  },
  {
   "cell_type": "markdown",
   "metadata": {},
   "source": [
    "Судя по графику средние сборы у фильмов 18+ выше"
   ]
  },
  {
   "cell_type": "markdown",
   "metadata": {
    "id": "BEOdcIrIgFyW"
   },
   "source": [
    "* Динамика проката по годам. "
   ]
  },
  {
   "cell_type": "code",
   "execution_count": 26,
   "metadata": {
    "id": "tfEhofYvgFyX"
   },
   "outputs": [
    {
     "data": {
      "text/plain": [
       "show_start_year\n",
       "2017   9968340.000\n",
       "2018   8891102.210\n",
       "2015   4920933.000\n",
       "2019   4627798.345\n",
       "2016   3846679.410\n",
       "2014     18160.000\n",
       "2012      5660.000\n",
       "2013      3522.500\n",
       "2011      3000.000\n",
       "2010      1700.000\n",
       "Name: box_office, dtype: float64"
      ]
     },
     "metadata": {},
     "output_type": "display_data"
    },
    {
     "data": {
      "text/plain": [
       "<AxesSubplot: xlabel='show_start_year'>"
      ]
     },
     "execution_count": 26,
     "metadata": {},
     "output_type": "execute_result"
    },
    {
     "data": {
      "image/png": "[encoded data removed]",
      "text/plain": [
       "<Figure size 600x300 with 1 Axes>"
      ]
     },
     "metadata": {},
     "output_type": "display_data"
    }
   ],
   "source": [
    "display(mkrf_movies_show.groupby('show_start_year')['box_office'].median().sort_values(ascending=False))\n",
    "\n",
    "(mkrf_movies_show\n",
    "     .groupby('show_start_year')['box_office'].sum()\n",
    "     .plot(x='box_office',y='show_start_year',figsize=(6, 3),style='-',legend=True)\n",
    ")"
   ]
  },
  {
   "cell_type": "markdown",
   "metadata": {},
   "source": [
    "**Вывод**\n",
    "\n",
    "График динамики отечественного кинопроката демонстрирует резкий подъем с 2013 года, с 2016 до 2018 - незначительный рост и снижение в 2018 году."
   ]
  },
  {
   "cell_type": "markdown",
   "metadata": {
    "id": "G-7qS-N-gFyY"
   },
   "source": [
    "* Расчет средней и медианной сумм сборов для каждого года."
   ]
  },
  {
   "cell_type": "code",
   "execution_count": 27,
   "metadata": {
    "id": "jmp-rgg9gFyY"
   },
   "outputs": [
    {
     "data": {
      "text/html": [
       "<div>\n",
       "<style scoped>\n",
       "    .dataframe tbody tr th:only-of-type {\n",
       "        vertical-align: middle;\n",
       "    }\n",
       "\n",
       "    .dataframe tbody tr th {\n",
       "        vertical-align: top;\n",
       "    }\n",
       "\n",
       "    .dataframe thead tr th {\n",
       "        text-align: left;\n",
       "    }\n",
       "\n",
       "    .dataframe thead tr:last-of-type th {\n",
       "        text-align: right;\n",
       "    }\n",
       "</style>\n",
       "<table border=\"1\" class=\"dataframe\">\n",
       "  <thead>\n",
       "    <tr>\n",
       "      <th></th>\n",
       "      <th>mean</th>\n",
       "      <th>median</th>\n",
       "    </tr>\n",
       "    <tr>\n",
       "      <th></th>\n",
       "      <th>box_office</th>\n",
       "      <th>box_office</th>\n",
       "    </tr>\n",
       "    <tr>\n",
       "      <th>show_start_year</th>\n",
       "      <th></th>\n",
       "      <th></th>\n",
       "    </tr>\n",
       "  </thead>\n",
       "  <tbody>\n",
       "    <tr>\n",
       "      <th>2010</th>\n",
       "      <td>23130.038</td>\n",
       "      <td>1700.000</td>\n",
       "    </tr>\n",
       "    <tr>\n",
       "      <th>2011</th>\n",
       "      <td>129383.165</td>\n",
       "      <td>3000.000</td>\n",
       "    </tr>\n",
       "    <tr>\n",
       "      <th>2012</th>\n",
       "      <td>54339.242</td>\n",
       "      <td>5660.000</td>\n",
       "    </tr>\n",
       "    <tr>\n",
       "      <th>2013</th>\n",
       "      <td>161954.925</td>\n",
       "      <td>3522.500</td>\n",
       "    </tr>\n",
       "    <tr>\n",
       "      <th>2014</th>\n",
       "      <td>26684415.266</td>\n",
       "      <td>18160.000</td>\n",
       "    </tr>\n",
       "    <tr>\n",
       "      <th>2015</th>\n",
       "      <td>84940570.315</td>\n",
       "      <td>4920933.000</td>\n",
       "    </tr>\n",
       "    <tr>\n",
       "      <th>2016</th>\n",
       "      <td>91000569.852</td>\n",
       "      <td>3846679.410</td>\n",
       "    </tr>\n",
       "    <tr>\n",
       "      <th>2017</th>\n",
       "      <td>136032793.326</td>\n",
       "      <td>9968340.000</td>\n",
       "    </tr>\n",
       "    <tr>\n",
       "      <th>2018</th>\n",
       "      <td>104565059.230</td>\n",
       "      <td>8891102.210</td>\n",
       "    </tr>\n",
       "    <tr>\n",
       "      <th>2019</th>\n",
       "      <td>91369261.848</td>\n",
       "      <td>4627798.345</td>\n",
       "    </tr>\n",
       "  </tbody>\n",
       "</table>\n",
       "</div>"
      ],
      "text/plain": [
       "                         mean      median\n",
       "                   box_office  box_office\n",
       "show_start_year                          \n",
       "2010                23130.038    1700.000\n",
       "2011               129383.165    3000.000\n",
       "2012                54339.242    5660.000\n",
       "2013               161954.925    3522.500\n",
       "2014             26684415.266   18160.000\n",
       "2015             84940570.315 4920933.000\n",
       "2016             91000569.852 3846679.410\n",
       "2017            136032793.326 9968340.000\n",
       "2018            104565059.230 8891102.210\n",
       "2019             91369261.848 4627798.345"
      ]
     },
     "metadata": {},
     "output_type": "display_data"
    }
   ],
   "source": [
    "mean_median_fees_for_year = mkrf_movies_show.pivot_table(\n",
    "    index='show_start_year',\n",
    "    values=['box_office'],\n",
    "    aggfunc=['mean', 'median']\n",
    ").sort_values(by='show_start_year', ascending=True)\n",
    "display(mean_median_fees_for_year)"
   ]
  },
  {
   "cell_type": "markdown",
   "metadata": {
    "id": "Ok89WFwJgFyZ"
   },
   "source": [
    "* Влияние возрастного ограничения аудиторий на сборы фильма в прокате в период с 2015 по 2018\n",
    "\n",
    "- Определите, влияет ли возрастное ограничение аудитории («6+», «12+», «16+», «18+» и т. д.) на сборы фильма в прокате в период с 2015 по 2019 год? Фильмы с каким возрастным ограничением собрали больше всего денег в прокате? Меняется ли картина в зависимости от года? Если да, предположите, с чем это может быть связано."
   ]
  },
  {
   "cell_type": "code",
   "execution_count": 28,
   "metadata": {},
   "outputs": [
    {
     "data": {
      "text/plain": [
       "<AxesSubplot: xlabel='age_restriction'>"
      ]
     },
     "execution_count": 28,
     "metadata": {},
     "output_type": "execute_result"
    },
    {
     "data": {
      "image/png": "[encoded data removed]",
      "text/plain": [
       "<Figure size 1500x600 with 1 Axes>"
      ]
     },
     "metadata": {},
     "output_type": "display_data"
    }
   ],
   "source": [
    "(mkrf_movies_show.query(\n",
    "'2015 <= show_start_year <=2019'\n",
    ")\n",
    " .groupby('age_restriction')['box_office'].median()\n",
    " .plot(x='age_restriction',y='box_office',figsize=(15, 6),style='-*',legend=True)\n",
    ")"
   ]
  },
  {
   "cell_type": "code",
   "execution_count": 29,
   "metadata": {
    "scrolled": true
   },
   "outputs": [
    {
     "data": {
      "text/plain": [
       "<matplotlib.legend.Legend at 0x7fd361bf8520>"
      ]
     },
     "execution_count": 29,
     "metadata": {},
     "output_type": "execute_result"
    },
    {
     "data": {
      "image/png": "[encoded data removed]",
      "text/plain": [
       "<Figure size 1500x500 with 1 Axes>"
      ]
     },
     "metadata": {},
     "output_type": "display_data"
    }
   ],
   "source": [
    "(mkrf_movies_show.query(\n",
    "'show_start_year == 2015'\n",
    ")\n",
    " .groupby('age_restriction')['box_office'].median()\n",
    " .plot(x='age_restriction',y='box_office',figsize=(15, 6),style='-',legend=True)\n",
    ")\n",
    "(mkrf_movies_show.query(\n",
    "'show_start_year == 2016'\n",
    ")\n",
    " .groupby('age_restriction')['box_office'].median()\n",
    " .plot(x='age_restriction',y='box_office',figsize=(15, 6),style='-*',legend=True)\n",
    ")\n",
    "(mkrf_movies_show.query(\n",
    "'show_start_year == 2017'\n",
    ")\n",
    " .groupby('age_restriction')['box_office'].median()\n",
    " .plot(x='age_restriction',y='box_office',figsize=(15, 6),style='-',legend=True)\n",
    ")\n",
    "(mkrf_movies_show.query(\n",
    "'show_start_year == 2018'\n",
    ")\n",
    " .groupby('age_restriction')['box_office'].median()\n",
    " .plot(x='age_restriction',y='box_office',figsize=(15, 6),style='-x',legend=True)\n",
    ")\n",
    "(mkrf_movies_show.query(\n",
    "'show_start_year == 2019'\n",
    ")\n",
    " .groupby('age_restriction')['box_office'].median()\n",
    " .plot(x='age_restriction',y='box_office',figsize=(15, 5),style='-o',legend=True)\n",
    ")\n",
    "plt.legend([\"2015\", \"2016\", \"2017\", \"2018\", \"2019\"])"
   ]
  },
  {
   "cell_type": "code",
   "execution_count": 30,
   "metadata": {
    "id": "jsSbEqfjgFya"
   },
   "outputs": [
    {
     "data": {
      "text/plain": [
       "age_restriction\n",
       "«16+» - для детей старше 16 лет          76583674040.930\n",
       "«12+» - для детей старше 12 лет          63225588059.830\n",
       "«6+» - для детей старше 6 лет            57530728855.080\n",
       "«18+» - запрещено для детей              42974727569.620\n",
       "«0+» - для любой зрительской аудитории    1205003951.670\n",
       "Name: box_office, dtype: float64"
      ]
     },
     "metadata": {},
     "output_type": "display_data"
    },
    {
     "data": {
      "text/plain": [
       "show_start_year\n",
       "2018   49668403134.320\n",
       "2017   48563707217.510\n",
       "2019   48425708779.590\n",
       "2016   47866299741.910\n",
       "2015   39497365196.400\n",
       "2014    7444951859.200\n",
       "2013      29799706.200\n",
       "2011      14102765.000\n",
       "2012       6955423.000\n",
       "2010       2428654.000\n",
       "Name: box_office, dtype: float64"
      ]
     },
     "metadata": {},
     "output_type": "display_data"
    }
   ],
   "source": [
    "display(mkrf_movies_show.groupby('age_restriction')['box_office'].sum().sort_values(ascending=False))\n",
    "display(mkrf_movies_show.groupby('show_start_year')['box_office'].sum().sort_values(ascending=False))"
   ]
  },
  {
   "cell_type": "code",
   "execution_count": null,
   "metadata": {},
   "outputs": [],
   "source": []
  },
  {
   "cell_type": "markdown",
   "metadata": {},
   "source": [
    "**Вывод**\n",
    "\n",
    "В целом возрастное ограничение аудитории влияет на сборы фильма в прокате в период с 2015 по 2019 год. Так фильмы с возрастным ограничением 16+ собрали больше всего денег в прокате. \n",
    "\n",
    "В зависимости от года медианное занчение сборов сильно не меняется, за исключением 2017 года. \n",
    "В 2017 году лидерами по сборам были фильмы в категории 6+ и 0+"
   ]
  },
  {
   "cell_type": "markdown",
   "metadata": {
    "id": "l_Kg6Ku4gFya"
   },
   "source": [
    "### 4. Фильмы с государственной поддержкой\n",
    "\n",
    "На этом этапе нет конкретных инструкций и заданий — поищите интересные закономерности в данных. Посмотрите, сколько выделяют средств на поддержку кино. Проверьте, хорошо ли окупаются такие фильмы, какой у них рейтинг."
   ]
  },
  {
   "cell_type": "code",
   "execution_count": 31,
   "metadata": {
    "scrolled": true
   },
   "outputs": [
    {
     "data": {
      "text/html": [
       "<div>\n",
       "<style scoped>\n",
       "    .dataframe tbody tr th:only-of-type {\n",
       "        vertical-align: middle;\n",
       "    }\n",
       "\n",
       "    .dataframe tbody tr th {\n",
       "        vertical-align: top;\n",
       "    }\n",
       "\n",
       "    .dataframe thead th {\n",
       "        text-align: right;\n",
       "    }\n",
       "</style>\n",
       "<table border=\"1\" class=\"dataframe\">\n",
       "  <thead>\n",
       "    <tr style=\"text-align: right;\">\n",
       "      <th></th>\n",
       "      <th>title</th>\n",
       "      <th>pu_number</th>\n",
       "      <th>show_start_date</th>\n",
       "      <th>type</th>\n",
       "      <th>film_studio</th>\n",
       "      <th>production_country</th>\n",
       "      <th>director</th>\n",
       "      <th>producer</th>\n",
       "      <th>age_restriction</th>\n",
       "      <th>refundable_support</th>\n",
       "      <th>nonrefundable_support</th>\n",
       "      <th>budget</th>\n",
       "      <th>financing_source</th>\n",
       "      <th>ratings</th>\n",
       "      <th>genres</th>\n",
       "      <th>box_office</th>\n",
       "      <th>show_start_year</th>\n",
       "      <th>the_first_director</th>\n",
       "      <th>first_genre</th>\n",
       "      <th>box_office_mln</th>\n",
       "      <th>share_budget_support</th>\n",
       "      <th>share_nonref_support</th>\n",
       "    </tr>\n",
       "  </thead>\n",
       "  <tbody>\n",
       "    <tr>\n",
       "      <th>1281</th>\n",
       "      <td>Пока еще жива</td>\n",
       "      <td>111005313</td>\n",
       "      <td>2013-10-11 12:00:00+00:00</td>\n",
       "      <td>Художественный</td>\n",
       "      <td>АНО содействия развитию кинематографии \"Ангел-...</td>\n",
       "      <td>Россия</td>\n",
       "      <td>А.Атанесян</td>\n",
       "      <td>А.Атанесян, М.Бабаханов, Р.Бутко</td>\n",
       "      <td>«16+» - для детей старше 16 лет</td>\n",
       "      <td>0.000</td>\n",
       "      <td>26500000.000</td>\n",
       "      <td>79411900.000</td>\n",
       "      <td>Министерство культуры</td>\n",
       "      <td>8.100</td>\n",
       "      <td>драма,мелодрама</td>\n",
       "      <td>365353.600</td>\n",
       "      <td>2013</td>\n",
       "      <td>А.Атанесян</td>\n",
       "      <td>драма</td>\n",
       "      <td>0.365</td>\n",
       "      <td>0.334</td>\n",
       "      <td>0.334</td>\n",
       "    </tr>\n",
       "    <tr>\n",
       "      <th>1448</th>\n",
       "      <td>Бесславные придурки</td>\n",
       "      <td>111003314</td>\n",
       "      <td>2014-03-28 12:00:00+00:00</td>\n",
       "      <td>Художественный</td>\n",
       "      <td>ООО \"Компания \"АТК-Студио\"</td>\n",
       "      <td>Россия</td>\n",
       "      <td>А.Якимчук</td>\n",
       "      <td>А.Тютрюмов</td>\n",
       "      <td>«12+» - для детей старше 12 лет</td>\n",
       "      <td>0.000</td>\n",
       "      <td>26000000.000</td>\n",
       "      <td>37142857.000</td>\n",
       "      <td>Министерство культуры</td>\n",
       "      <td>NaN</td>\n",
       "      <td>NaN</td>\n",
       "      <td>28140.000</td>\n",
       "      <td>2014</td>\n",
       "      <td>А.Якимчук</td>\n",
       "      <td>NaN</td>\n",
       "      <td>0.028</td>\n",
       "      <td>0.700</td>\n",
       "      <td>0.700</td>\n",
       "    </tr>\n",
       "    <tr>\n",
       "      <th>1498</th>\n",
       "      <td>Невидимки</td>\n",
       "      <td>111004213</td>\n",
       "      <td>2013-09-10 12:00:00+00:00</td>\n",
       "      <td>Художественный</td>\n",
       "      <td>ООО \"Компания \"РЕАЛ-ДАКОТА\"</td>\n",
       "      <td>Россия</td>\n",
       "      <td>Р.Давлетьяров, С.Комаров</td>\n",
       "      <td>Р.Давлетьяров, А.Котелевский, А.Олейников</td>\n",
       "      <td>«12+» - для детей старше 12 лет</td>\n",
       "      <td>0.000</td>\n",
       "      <td>107847945.000</td>\n",
       "      <td>176023490.000</td>\n",
       "      <td>Фонд кино</td>\n",
       "      <td>5.300</td>\n",
       "      <td>комедия,фантастика</td>\n",
       "      <td>19957031.500</td>\n",
       "      <td>2013</td>\n",
       "      <td>Р.Давлетьяров</td>\n",
       "      <td>комедия</td>\n",
       "      <td>19.957</td>\n",
       "      <td>0.613</td>\n",
       "      <td>0.613</td>\n",
       "    </tr>\n",
       "    <tr>\n",
       "      <th>1524</th>\n",
       "      <td>БЕРЦЫ</td>\n",
       "      <td>111004314</td>\n",
       "      <td>2014-05-05 12:00:00+00:00</td>\n",
       "      <td>Художественный</td>\n",
       "      <td>ООО \"Студия \"Пассажир\"</td>\n",
       "      <td>Россия</td>\n",
       "      <td>Е.Миндадзе (псевдоним Катя Шагалова)</td>\n",
       "      <td>Л.Антонова</td>\n",
       "      <td>«16+» - для детей старше 16 лет</td>\n",
       "      <td>0.000</td>\n",
       "      <td>28000000.000</td>\n",
       "      <td>40574140.000</td>\n",
       "      <td>Министерство культуры</td>\n",
       "      <td>4.200</td>\n",
       "      <td>драма</td>\n",
       "      <td>55917.500</td>\n",
       "      <td>2014</td>\n",
       "      <td>Е.Миндадзе (псевдоним Катя Шагалова)</td>\n",
       "      <td>драма</td>\n",
       "      <td>0.056</td>\n",
       "      <td>0.690</td>\n",
       "      <td>0.690</td>\n",
       "    </tr>\n",
       "    <tr>\n",
       "      <th>1792</th>\n",
       "      <td>Братья Ч</td>\n",
       "      <td>111004414</td>\n",
       "      <td>2014-04-23 12:00:00+00:00</td>\n",
       "      <td>Художественный</td>\n",
       "      <td>ООО \"Студия \"Пассажир\"</td>\n",
       "      <td>Россия</td>\n",
       "      <td>М.Угаров</td>\n",
       "      <td>А.Миндадзе, Л.Антонова</td>\n",
       "      <td>«16+» - для детей старше 16 лет</td>\n",
       "      <td>0.000</td>\n",
       "      <td>25000000.000</td>\n",
       "      <td>40015122.000</td>\n",
       "      <td>Министерство культуры</td>\n",
       "      <td>6.400</td>\n",
       "      <td>драма</td>\n",
       "      <td>232100.000</td>\n",
       "      <td>2014</td>\n",
       "      <td>М.Угаров</td>\n",
       "      <td>драма</td>\n",
       "      <td>0.232</td>\n",
       "      <td>0.625</td>\n",
       "      <td>0.625</td>\n",
       "    </tr>\n",
       "  </tbody>\n",
       "</table>\n",
       "</div>"
      ],
      "text/plain": [
       "                    title  pu_number           show_start_date  \\\n",
       "1281        Пока еще жива  111005313 2013-10-11 12:00:00+00:00   \n",
       "1448  Бесславные придурки  111003314 2014-03-28 12:00:00+00:00   \n",
       "1498            Невидимки  111004213 2013-09-10 12:00:00+00:00   \n",
       "1524                БЕРЦЫ  111004314 2014-05-05 12:00:00+00:00   \n",
       "1792             Братья Ч  111004414 2014-04-23 12:00:00+00:00   \n",
       "\n",
       "                type                                        film_studio  \\\n",
       "1281  Художественный  АНО содействия развитию кинематографии \"Ангел-...   \n",
       "1448  Художественный                         ООО \"Компания \"АТК-Студио\"   \n",
       "1498  Художественный                        ООО \"Компания \"РЕАЛ-ДАКОТА\"   \n",
       "1524  Художественный                             ООО \"Студия \"Пассажир\"   \n",
       "1792  Художественный                             ООО \"Студия \"Пассажир\"   \n",
       "\n",
       "     production_country                              director  \\\n",
       "1281             Россия                            А.Атанесян   \n",
       "1448             Россия                             А.Якимчук   \n",
       "1498             Россия              Р.Давлетьяров, С.Комаров   \n",
       "1524             Россия  Е.Миндадзе (псевдоним Катя Шагалова)   \n",
       "1792             Россия                              М.Угаров   \n",
       "\n",
       "                                       producer  \\\n",
       "1281           А.Атанесян, М.Бабаханов, Р.Бутко   \n",
       "1448                                 А.Тютрюмов   \n",
       "1498  Р.Давлетьяров, А.Котелевский, А.Олейников   \n",
       "1524                                 Л.Антонова   \n",
       "1792                     А.Миндадзе, Л.Антонова   \n",
       "\n",
       "                      age_restriction  refundable_support  \\\n",
       "1281  «16+» - для детей старше 16 лет               0.000   \n",
       "1448  «12+» - для детей старше 12 лет               0.000   \n",
       "1498  «12+» - для детей старше 12 лет               0.000   \n",
       "1524  «16+» - для детей старше 16 лет               0.000   \n",
       "1792  «16+» - для детей старше 16 лет               0.000   \n",
       "\n",
       "      nonrefundable_support        budget       financing_source  ratings  \\\n",
       "1281           26500000.000  79411900.000  Министерство культуры    8.100   \n",
       "1448           26000000.000  37142857.000  Министерство культуры      NaN   \n",
       "1498          107847945.000 176023490.000              Фонд кино    5.300   \n",
       "1524           28000000.000  40574140.000  Министерство культуры    4.200   \n",
       "1792           25000000.000  40015122.000  Министерство культуры    6.400   \n",
       "\n",
       "                  genres   box_office  show_start_year  \\\n",
       "1281     драма,мелодрама   365353.600             2013   \n",
       "1448                 NaN    28140.000             2014   \n",
       "1498  комедия,фантастика 19957031.500             2013   \n",
       "1524               драма    55917.500             2014   \n",
       "1792               драма   232100.000             2014   \n",
       "\n",
       "                        the_first_director first_genre  box_office_mln  \\\n",
       "1281                            А.Атанесян       драма           0.365   \n",
       "1448                             А.Якимчук         NaN           0.028   \n",
       "1498                         Р.Давлетьяров     комедия          19.957   \n",
       "1524  Е.Миндадзе (псевдоним Катя Шагалова)       драма           0.056   \n",
       "1792                              М.Угаров       драма           0.232   \n",
       "\n",
       "      share_budget_support  share_nonref_support  \n",
       "1281                 0.334                 0.334  \n",
       "1448                 0.700                 0.700  \n",
       "1498                 0.613                 0.613  \n",
       "1524                 0.690                 0.690  \n",
       "1792                 0.625                 0.625  "
      ]
     },
     "metadata": {},
     "output_type": "display_data"
    }
   ],
   "source": [
    "# Происвоим переменной 'budget_rf' срез по фильмам, получившим государственную поддержку \n",
    "budget_rf = mkrf_movies_show.query('budget > 0 and production_country == \"Россия\"')\n",
    "display(budget_rf.head())"
   ]
  },
  {
   "cell_type": "markdown",
   "metadata": {},
   "source": [
    "#### Шаг 4.1. Изучение финансовых показателей\n",
    "\n",
    "**Для визуализации общей динамики финансовых показателей по годам построим график сравнения.**"
   ]
  },
  {
   "cell_type": "code",
   "execution_count": 32,
   "metadata": {},
   "outputs": [
    {
     "data": {
      "text/plain": [
       "show_start_year\n",
       "2019   9270928727.000\n",
       "2016   7267140037.000\n",
       "2015   7069257560.000\n",
       "2017   7057172568.000\n",
       "2018   6693938654.000\n",
       "Name: budget, dtype: float64"
      ]
     },
     "metadata": {},
     "output_type": "display_data"
    },
    {
     "data": {
      "image/png": "[encoded data removed]",
      "text/plain": [
       "<Figure size 1500x700 with 1 Axes>"
      ]
     },
     "metadata": {},
     "output_type": "display_data"
    }
   ],
   "source": [
    "(budget_rf\n",
    "    .groupby('show_start_year')['box_office'].sum()\n",
    "    .plot(x='show_start_year',y='box_office',figsize=(15, 7),style='-',legend=True)\n",
    ")\n",
    "\n",
    "(budget_rf\n",
    "    .groupby('show_start_year')['budget'].sum()\n",
    "    .plot(x='show_start_year',y='budget',figsize=(15, 7),style='-',legend=True)\n",
    ")\n",
    "\n",
    "(budget_rf.groupby('show_start_year')['nonrefundable_support'].sum()\n",
    " .plot(x='show_start_year',y='nonrefundable_support',figsize=(15, 7),style='-',legend=True)\n",
    ")\n",
    "\n",
    "# Рассчет общего бюджета\n",
    "display(budget_rf.groupby('show_start_year')['budget'].sum().sort_values(ascending=False).head())\n"
   ]
  },
  {
   "cell_type": "markdown",
   "metadata": {},
   "source": [
    "С 2013 года наблюдается пропорциональный рост всех трёх показателей, причём до середины 2016 года бюджеты регулярно превышали кассовые сборы. \n",
    "\n",
    "С 2016 года тенденция поменятась, кассовые сборы стремительно росли до 2017 года и превышали общие расходы вплоть до 2018 года, при достаточно плавной динамике субсидий и общего бюджета. \n",
    "\n",
    "С наступлением 2018 года объём гос.поддержки увеличивался на ряду с общим бюджетом, тогда как кассовые сборы покатились вниз."
   ]
  },
  {
   "cell_type": "code",
   "execution_count": 33,
   "metadata": {
    "scrolled": true
   },
   "outputs": [
    {
     "data": {
      "text/html": [
       "<div>\n",
       "<style scoped>\n",
       "    .dataframe tbody tr th:only-of-type {\n",
       "        vertical-align: middle;\n",
       "    }\n",
       "\n",
       "    .dataframe tbody tr th {\n",
       "        vertical-align: top;\n",
       "    }\n",
       "\n",
       "    .dataframe thead tr th {\n",
       "        text-align: left;\n",
       "    }\n",
       "\n",
       "    .dataframe thead tr:last-of-type th {\n",
       "        text-align: right;\n",
       "    }\n",
       "</style>\n",
       "<table border=\"1\" class=\"dataframe\">\n",
       "  <thead>\n",
       "    <tr>\n",
       "      <th></th>\n",
       "      <th colspan=\"3\" halign=\"left\">sum</th>\n",
       "    </tr>\n",
       "    <tr>\n",
       "      <th></th>\n",
       "      <th>box_office</th>\n",
       "      <th>budget</th>\n",
       "      <th>nonrefundable_support</th>\n",
       "    </tr>\n",
       "    <tr>\n",
       "      <th>show_start_year</th>\n",
       "      <th></th>\n",
       "      <th></th>\n",
       "      <th></th>\n",
       "    </tr>\n",
       "  </thead>\n",
       "  <tbody>\n",
       "    <tr>\n",
       "      <th>2013</th>\n",
       "      <td>20322385.100</td>\n",
       "      <td>255435390.000</td>\n",
       "      <td>134347945.000</td>\n",
       "    </tr>\n",
       "    <tr>\n",
       "      <th>2014</th>\n",
       "      <td>1012690927.100</td>\n",
       "      <td>1216274716.000</td>\n",
       "      <td>454500000.000</td>\n",
       "    </tr>\n",
       "    <tr>\n",
       "      <th>2015</th>\n",
       "      <td>5376721000.930</td>\n",
       "      <td>7069257560.000</td>\n",
       "      <td>2838578340.000</td>\n",
       "    </tr>\n",
       "    <tr>\n",
       "      <th>2016</th>\n",
       "      <td>6030002853.100</td>\n",
       "      <td>7267140037.000</td>\n",
       "      <td>3346655482.000</td>\n",
       "    </tr>\n",
       "    <tr>\n",
       "      <th>2017</th>\n",
       "      <td>10865075300.960</td>\n",
       "      <td>7057172568.000</td>\n",
       "      <td>2464624781.000</td>\n",
       "    </tr>\n",
       "    <tr>\n",
       "      <th>2018</th>\n",
       "      <td>9909053917.990</td>\n",
       "      <td>6693938654.000</td>\n",
       "      <td>2684969465.000</td>\n",
       "    </tr>\n",
       "    <tr>\n",
       "      <th>2019</th>\n",
       "      <td>7711689662.090</td>\n",
       "      <td>9270928727.000</td>\n",
       "      <td>3708000000.000</td>\n",
       "    </tr>\n",
       "  </tbody>\n",
       "</table>\n",
       "</div>"
      ],
      "text/plain": [
       "                            sum                                     \n",
       "                     box_office         budget nonrefundable_support\n",
       "show_start_year                                                     \n",
       "2013               20322385.100  255435390.000         134347945.000\n",
       "2014             1012690927.100 1216274716.000         454500000.000\n",
       "2015             5376721000.930 7069257560.000        2838578340.000\n",
       "2016             6030002853.100 7267140037.000        3346655482.000\n",
       "2017            10865075300.960 7057172568.000        2464624781.000\n",
       "2018             9909053917.990 6693938654.000        2684969465.000\n",
       "2019             7711689662.090 9270928727.000        3708000000.000"
      ]
     },
     "metadata": {},
     "output_type": "display_data"
    },
    {
     "name": "stdout",
     "output_type": "stream",
     "text": [
      "Общий объём сборов  40.93 млрд.руб.\n",
      "Общий бюджет  38.83 млрд.руб.\n",
      "Общий объём невозвратных средств составил 15.63 млрд.руб.\n",
      "Доля субсидий в общем бюджете  40.26 %\n"
     ]
    }
   ],
   "source": [
    "count_titles_for_year = budget_rf.pivot_table(\n",
    "    index='show_start_year',\n",
    "    values=['budget', 'nonrefundable_support', 'box_office'],\n",
    "    aggfunc=['sum']\n",
    ").sort_values(by='show_start_year', ascending=True\n",
    ")\n",
    "display(count_titles_for_year)\n",
    "\n",
    "print(f'Общий объём сборов  {round(budget_rf[\"box_office\"].sum() / 1000000000,2)} млрд.руб.')\n",
    "print(f'Общий бюджет  {round(budget_rf[\"budget\"].sum() / 1000000000,2)} млрд.руб.')\n",
    "print(f'Общий объём невозвратных средств составил {round(budget_rf[\"nonrefundable_support\"].sum() / 1000000000,2)} млрд.руб.')\n",
    "print(f'Доля субсидий в общем бюджете  {round(budget_rf[\"nonrefundable_support\"].sum() / budget_rf[\"budget\"].sum() *100, 2)} %')"
   ]
  },
  {
   "cell_type": "markdown",
   "metadata": {},
   "source": [
    "Начиная с 2014 государство значительно увеличило поддержку киноиндустрии."
   ]
  },
  {
   "cell_type": "code",
   "execution_count": 34,
   "metadata": {},
   "outputs": [
    {
     "data": {
      "text/plain": [
       "type\n",
       "Художественный   13988186548.000\n",
       "Анимационный      1640489465.000\n",
       "Документальный       3000000.000\n",
       "Name: nonrefundable_support, dtype: float64"
      ]
     },
     "metadata": {},
     "output_type": "display_data"
    },
    {
     "name": "stdout",
     "output_type": "stream",
     "text": [
      "-----------------------------------------------\n"
     ]
    },
    {
     "data": {
      "text/plain": [
       "first_genre\n",
       "драма        4359557452.000\n",
       "комедия      2393782945.000\n",
       "мультфильм   1531520000.000\n",
       "фантастика   1216000000.000\n",
       "история       820000000.000\n",
       "Name: nonrefundable_support, dtype: float64"
      ]
     },
     "metadata": {},
     "output_type": "display_data"
    },
    {
     "data": {
      "text/plain": [
       "<AxesSubplot: ylabel='nonrefundable_support'>"
      ]
     },
     "execution_count": 34,
     "metadata": {},
     "output_type": "execute_result"
    },
    {
     "data": {
      "image/png": "[encoded data removed]",
      "text/plain": [
       "<Figure size 800x800 with 1 Axes>"
      ]
     },
     "metadata": {},
     "output_type": "display_data"
    }
   ],
   "source": [
    "display(budget_rf.groupby('type')['nonrefundable_support'].sum().sort_values(ascending=False))\n",
    "print('-----------------------------------------------')\n",
    "display(budget_rf.groupby('first_genre')['nonrefundable_support'].sum().sort_values(ascending=False).head())\n",
    "\n",
    "(budget_rf\n",
    "    .groupby('type')['nonrefundable_support'].sum()\n",
    "    .plot(kind='pie', figsize=(8,8), legend=True)\n",
    ")"
   ]
  },
  {
   "cell_type": "markdown",
   "metadata": {},
   "source": [
    "89 %  от объема невозвратной государтвенной поддержки  направляются на производство художественных фильмов. Документальные фильмы в аутсайдерах. \n",
    "\n",
    "Среди жанров лидируют драмы и комедии - наболее востребованые государством жанры, на них тратится больше всего бюджетных средств. Мультфильмы, фантастика,история занимают 3, 4 и 5 места соответсвенно."
   ]
  },
  {
   "cell_type": "code",
   "execution_count": 35,
   "metadata": {
    "id": "W9QKpjUdgFyb"
   },
   "outputs": [
    {
     "data": {
      "text/html": [
       "<div>\n",
       "<style scoped>\n",
       "    .dataframe tbody tr th:only-of-type {\n",
       "        vertical-align: middle;\n",
       "    }\n",
       "\n",
       "    .dataframe tbody tr th {\n",
       "        vertical-align: top;\n",
       "    }\n",
       "\n",
       "    .dataframe thead th {\n",
       "        text-align: right;\n",
       "    }\n",
       "</style>\n",
       "<table border=\"1\" class=\"dataframe\">\n",
       "  <thead>\n",
       "    <tr style=\"text-align: right;\">\n",
       "      <th></th>\n",
       "      <th>budget</th>\n",
       "    </tr>\n",
       "    <tr>\n",
       "      <th>first_genre</th>\n",
       "      <th></th>\n",
       "    </tr>\n",
       "  </thead>\n",
       "  <tbody>\n",
       "    <tr>\n",
       "      <th>драма</th>\n",
       "      <td>11126886688.000</td>\n",
       "    </tr>\n",
       "    <tr>\n",
       "      <th>комедия</th>\n",
       "      <td>6150586880.000</td>\n",
       "    </tr>\n",
       "    <tr>\n",
       "      <th>мультфильм</th>\n",
       "      <td>5815499467.000</td>\n",
       "    </tr>\n",
       "    <tr>\n",
       "      <th>приключения</th>\n",
       "      <td>3374742189.000</td>\n",
       "    </tr>\n",
       "    <tr>\n",
       "      <th>фантастика</th>\n",
       "      <td>2443100815.000</td>\n",
       "    </tr>\n",
       "    <tr>\n",
       "      <th>фэнтези</th>\n",
       "      <td>2340123765.000</td>\n",
       "    </tr>\n",
       "    <tr>\n",
       "      <th>история</th>\n",
       "      <td>2145062206.000</td>\n",
       "    </tr>\n",
       "    <tr>\n",
       "      <th>триллер</th>\n",
       "      <td>1350960940.000</td>\n",
       "    </tr>\n",
       "    <tr>\n",
       "      <th>военный</th>\n",
       "      <td>1285906825.000</td>\n",
       "    </tr>\n",
       "    <tr>\n",
       "      <th>детектив</th>\n",
       "      <td>1198222297.000</td>\n",
       "    </tr>\n",
       "  </tbody>\n",
       "</table>\n",
       "</div>"
      ],
      "text/plain": [
       "                     budget\n",
       "first_genre                \n",
       "драма       11126886688.000\n",
       "комедия      6150586880.000\n",
       "мультфильм   5815499467.000\n",
       "приключения  3374742189.000\n",
       "фантастика   2443100815.000\n",
       "фэнтези      2340123765.000\n",
       "история      2145062206.000\n",
       "триллер      1350960940.000\n",
       "военный      1285906825.000\n",
       "детектив     1198222297.000"
      ]
     },
     "execution_count": 35,
     "metadata": {},
     "output_type": "execute_result"
    }
   ],
   "source": [
    "# Жанры получившие больше всего субсидий.\n",
    "gov_films = mkrf_movies_show.groupby('first_genre').agg({'budget':'sum'})\n",
    "gov_films.sort_values(by='budget', ascending=False).head(10)"
   ]
  },
  {
   "cell_type": "code",
   "execution_count": 36,
   "metadata": {},
   "outputs": [
    {
     "data": {
      "text/html": [
       "<div>\n",
       "<style scoped>\n",
       "    .dataframe tbody tr th:only-of-type {\n",
       "        vertical-align: middle;\n",
       "    }\n",
       "\n",
       "    .dataframe tbody tr th {\n",
       "        vertical-align: top;\n",
       "    }\n",
       "\n",
       "    .dataframe thead th {\n",
       "        text-align: right;\n",
       "    }\n",
       "</style>\n",
       "<table border=\"1\" class=\"dataframe\">\n",
       "  <thead>\n",
       "    <tr style=\"text-align: right;\">\n",
       "      <th></th>\n",
       "      <th>title</th>\n",
       "    </tr>\n",
       "    <tr>\n",
       "      <th>first_genre</th>\n",
       "      <th></th>\n",
       "    </tr>\n",
       "  </thead>\n",
       "  <tbody>\n",
       "    <tr>\n",
       "      <th>драма</th>\n",
       "      <td>1688</td>\n",
       "    </tr>\n",
       "    <tr>\n",
       "      <th>комедия</th>\n",
       "      <td>697</td>\n",
       "    </tr>\n",
       "    <tr>\n",
       "      <th>боевик</th>\n",
       "      <td>617</td>\n",
       "    </tr>\n",
       "    <tr>\n",
       "      <th>ужасы</th>\n",
       "      <td>573</td>\n",
       "    </tr>\n",
       "    <tr>\n",
       "      <th>мультфильм</th>\n",
       "      <td>538</td>\n",
       "    </tr>\n",
       "    <tr>\n",
       "      <th>триллер</th>\n",
       "      <td>521</td>\n",
       "    </tr>\n",
       "    <tr>\n",
       "      <th>фантастика</th>\n",
       "      <td>410</td>\n",
       "    </tr>\n",
       "    <tr>\n",
       "      <th>мелодрама</th>\n",
       "      <td>383</td>\n",
       "    </tr>\n",
       "    <tr>\n",
       "      <th>фэнтези</th>\n",
       "      <td>358</td>\n",
       "    </tr>\n",
       "    <tr>\n",
       "      <th>документальный</th>\n",
       "      <td>219</td>\n",
       "    </tr>\n",
       "  </tbody>\n",
       "</table>\n",
       "</div>"
      ],
      "text/plain": [
       "                title\n",
       "first_genre          \n",
       "драма            1688\n",
       "комедия           697\n",
       "боевик            617\n",
       "ужасы             573\n",
       "мультфильм        538\n",
       "триллер           521\n",
       "фантастика        410\n",
       "мелодрама         383\n",
       "фэнтези           358\n",
       "документальный    219"
      ]
     },
     "execution_count": 36,
     "metadata": {},
     "output_type": "execute_result"
    }
   ],
   "source": [
    "# Определим, фильмов какого жанра больше всего \n",
    "most_popular_genre = mkrf_movies_show.groupby('first_genre').agg({'title':'count'})\n",
    "most_popular_genre.sort_values(by='title', ascending=False).head(10)\n"
   ]
  },
  {
   "cell_type": "markdown",
   "metadata": {},
   "source": [
    "\n",
    "<div class=\"alert alert-warning\">\n",
    "<h3>!! Комментарий ревьюера</h3>\n",
    "    \n",
    "Сумма это не самая хорошая метрика. Тут можно было посчитать отношение сборов к бюджету и для каждого года посмотреть на среднее такое соотношение. Таким образом можно найти самый окупившийся и неокупившийся фильм и в целом понять, окупаются в среднем фильмы или нет.\n",
    "\n",
    "Также можно было сравнить рейтинги фильмов с поддержкой с рейтингами фильмов без поддержки\n",
    "    \n",
    "    \n",
    "</div> "
   ]
  },
  {
   "cell_type": "markdown",
   "metadata": {},
   "source": [
    "* Рейтинг"
   ]
  },
  {
   "cell_type": "code",
   "execution_count": 37,
   "metadata": {},
   "outputs": [
    {
     "data": {
      "text/html": [
       "<div>\n",
       "<style scoped>\n",
       "    .dataframe tbody tr th:only-of-type {\n",
       "        vertical-align: middle;\n",
       "    }\n",
       "\n",
       "    .dataframe tbody tr th {\n",
       "        vertical-align: top;\n",
       "    }\n",
       "\n",
       "    .dataframe thead th {\n",
       "        text-align: right;\n",
       "    }\n",
       "</style>\n",
       "<table border=\"1\" class=\"dataframe\">\n",
       "  <thead>\n",
       "    <tr style=\"text-align: right;\">\n",
       "      <th></th>\n",
       "      <th>title</th>\n",
       "      <th>pu_number</th>\n",
       "      <th>show_start_date</th>\n",
       "      <th>type</th>\n",
       "      <th>film_studio</th>\n",
       "      <th>production_country</th>\n",
       "      <th>director</th>\n",
       "      <th>producer</th>\n",
       "      <th>age_restriction</th>\n",
       "      <th>refundable_support</th>\n",
       "      <th>nonrefundable_support</th>\n",
       "      <th>budget</th>\n",
       "      <th>financing_source</th>\n",
       "      <th>ratings</th>\n",
       "      <th>genres</th>\n",
       "      <th>box_office</th>\n",
       "      <th>show_start_year</th>\n",
       "      <th>the_first_director</th>\n",
       "      <th>first_genre</th>\n",
       "      <th>box_office_mln</th>\n",
       "      <th>share_budget_support</th>\n",
       "      <th>share_nonref_support</th>\n",
       "    </tr>\n",
       "  </thead>\n",
       "  <tbody>\n",
       "    <tr>\n",
       "      <th>1281</th>\n",
       "      <td>Пока еще жива</td>\n",
       "      <td>111005313</td>\n",
       "      <td>2013-10-11 12:00:00+00:00</td>\n",
       "      <td>Художественный</td>\n",
       "      <td>АНО содействия развитию кинематографии \"Ангел-...</td>\n",
       "      <td>Россия</td>\n",
       "      <td>А.Атанесян</td>\n",
       "      <td>А.Атанесян, М.Бабаханов, Р.Бутко</td>\n",
       "      <td>«16+» - для детей старше 16 лет</td>\n",
       "      <td>0.000</td>\n",
       "      <td>26500000.000</td>\n",
       "      <td>79411900.000</td>\n",
       "      <td>Министерство культуры</td>\n",
       "      <td>8.100</td>\n",
       "      <td>драма,мелодрама</td>\n",
       "      <td>365353.600</td>\n",
       "      <td>2013</td>\n",
       "      <td>А.Атанесян</td>\n",
       "      <td>драма</td>\n",
       "      <td>0.365</td>\n",
       "      <td>0.334</td>\n",
       "      <td>0.334</td>\n",
       "    </tr>\n",
       "    <tr>\n",
       "      <th>1448</th>\n",
       "      <td>Бесславные придурки</td>\n",
       "      <td>111003314</td>\n",
       "      <td>2014-03-28 12:00:00+00:00</td>\n",
       "      <td>Художественный</td>\n",
       "      <td>ООО \"Компания \"АТК-Студио\"</td>\n",
       "      <td>Россия</td>\n",
       "      <td>А.Якимчук</td>\n",
       "      <td>А.Тютрюмов</td>\n",
       "      <td>«12+» - для детей старше 12 лет</td>\n",
       "      <td>0.000</td>\n",
       "      <td>26000000.000</td>\n",
       "      <td>37142857.000</td>\n",
       "      <td>Министерство культуры</td>\n",
       "      <td>NaN</td>\n",
       "      <td>NaN</td>\n",
       "      <td>28140.000</td>\n",
       "      <td>2014</td>\n",
       "      <td>А.Якимчук</td>\n",
       "      <td>NaN</td>\n",
       "      <td>0.028</td>\n",
       "      <td>0.700</td>\n",
       "      <td>0.700</td>\n",
       "    </tr>\n",
       "    <tr>\n",
       "      <th>1498</th>\n",
       "      <td>Невидимки</td>\n",
       "      <td>111004213</td>\n",
       "      <td>2013-09-10 12:00:00+00:00</td>\n",
       "      <td>Художественный</td>\n",
       "      <td>ООО \"Компания \"РЕАЛ-ДАКОТА\"</td>\n",
       "      <td>Россия</td>\n",
       "      <td>Р.Давлетьяров, С.Комаров</td>\n",
       "      <td>Р.Давлетьяров, А.Котелевский, А.Олейников</td>\n",
       "      <td>«12+» - для детей старше 12 лет</td>\n",
       "      <td>0.000</td>\n",
       "      <td>107847945.000</td>\n",
       "      <td>176023490.000</td>\n",
       "      <td>Фонд кино</td>\n",
       "      <td>5.300</td>\n",
       "      <td>комедия,фантастика</td>\n",
       "      <td>19957031.500</td>\n",
       "      <td>2013</td>\n",
       "      <td>Р.Давлетьяров</td>\n",
       "      <td>комедия</td>\n",
       "      <td>19.957</td>\n",
       "      <td>0.613</td>\n",
       "      <td>0.613</td>\n",
       "    </tr>\n",
       "    <tr>\n",
       "      <th>1524</th>\n",
       "      <td>БЕРЦЫ</td>\n",
       "      <td>111004314</td>\n",
       "      <td>2014-05-05 12:00:00+00:00</td>\n",
       "      <td>Художественный</td>\n",
       "      <td>ООО \"Студия \"Пассажир\"</td>\n",
       "      <td>Россия</td>\n",
       "      <td>Е.Миндадзе (псевдоним Катя Шагалова)</td>\n",
       "      <td>Л.Антонова</td>\n",
       "      <td>«16+» - для детей старше 16 лет</td>\n",
       "      <td>0.000</td>\n",
       "      <td>28000000.000</td>\n",
       "      <td>40574140.000</td>\n",
       "      <td>Министерство культуры</td>\n",
       "      <td>4.200</td>\n",
       "      <td>драма</td>\n",
       "      <td>55917.500</td>\n",
       "      <td>2014</td>\n",
       "      <td>Е.Миндадзе (псевдоним Катя Шагалова)</td>\n",
       "      <td>драма</td>\n",
       "      <td>0.056</td>\n",
       "      <td>0.690</td>\n",
       "      <td>0.690</td>\n",
       "    </tr>\n",
       "    <tr>\n",
       "      <th>1792</th>\n",
       "      <td>Братья Ч</td>\n",
       "      <td>111004414</td>\n",
       "      <td>2014-04-23 12:00:00+00:00</td>\n",
       "      <td>Художественный</td>\n",
       "      <td>ООО \"Студия \"Пассажир\"</td>\n",
       "      <td>Россия</td>\n",
       "      <td>М.Угаров</td>\n",
       "      <td>А.Миндадзе, Л.Антонова</td>\n",
       "      <td>«16+» - для детей старше 16 лет</td>\n",
       "      <td>0.000</td>\n",
       "      <td>25000000.000</td>\n",
       "      <td>40015122.000</td>\n",
       "      <td>Министерство культуры</td>\n",
       "      <td>6.400</td>\n",
       "      <td>драма</td>\n",
       "      <td>232100.000</td>\n",
       "      <td>2014</td>\n",
       "      <td>М.Угаров</td>\n",
       "      <td>драма</td>\n",
       "      <td>0.232</td>\n",
       "      <td>0.625</td>\n",
       "      <td>0.625</td>\n",
       "    </tr>\n",
       "  </tbody>\n",
       "</table>\n",
       "</div>"
      ],
      "text/plain": [
       "                    title  pu_number           show_start_date  \\\n",
       "1281        Пока еще жива  111005313 2013-10-11 12:00:00+00:00   \n",
       "1448  Бесславные придурки  111003314 2014-03-28 12:00:00+00:00   \n",
       "1498            Невидимки  111004213 2013-09-10 12:00:00+00:00   \n",
       "1524                БЕРЦЫ  111004314 2014-05-05 12:00:00+00:00   \n",
       "1792             Братья Ч  111004414 2014-04-23 12:00:00+00:00   \n",
       "\n",
       "                type                                        film_studio  \\\n",
       "1281  Художественный  АНО содействия развитию кинематографии \"Ангел-...   \n",
       "1448  Художественный                         ООО \"Компания \"АТК-Студио\"   \n",
       "1498  Художественный                        ООО \"Компания \"РЕАЛ-ДАКОТА\"   \n",
       "1524  Художественный                             ООО \"Студия \"Пассажир\"   \n",
       "1792  Художественный                             ООО \"Студия \"Пассажир\"   \n",
       "\n",
       "     production_country                              director  \\\n",
       "1281             Россия                            А.Атанесян   \n",
       "1448             Россия                             А.Якимчук   \n",
       "1498             Россия              Р.Давлетьяров, С.Комаров   \n",
       "1524             Россия  Е.Миндадзе (псевдоним Катя Шагалова)   \n",
       "1792             Россия                              М.Угаров   \n",
       "\n",
       "                                       producer  \\\n",
       "1281           А.Атанесян, М.Бабаханов, Р.Бутко   \n",
       "1448                                 А.Тютрюмов   \n",
       "1498  Р.Давлетьяров, А.Котелевский, А.Олейников   \n",
       "1524                                 Л.Антонова   \n",
       "1792                     А.Миндадзе, Л.Антонова   \n",
       "\n",
       "                      age_restriction  refundable_support  \\\n",
       "1281  «16+» - для детей старше 16 лет               0.000   \n",
       "1448  «12+» - для детей старше 12 лет               0.000   \n",
       "1498  «12+» - для детей старше 12 лет               0.000   \n",
       "1524  «16+» - для детей старше 16 лет               0.000   \n",
       "1792  «16+» - для детей старше 16 лет               0.000   \n",
       "\n",
       "      nonrefundable_support        budget       financing_source  ratings  \\\n",
       "1281           26500000.000  79411900.000  Министерство культуры    8.100   \n",
       "1448           26000000.000  37142857.000  Министерство культуры      NaN   \n",
       "1498          107847945.000 176023490.000              Фонд кино    5.300   \n",
       "1524           28000000.000  40574140.000  Министерство культуры    4.200   \n",
       "1792           25000000.000  40015122.000  Министерство культуры    6.400   \n",
       "\n",
       "                  genres   box_office  show_start_year  \\\n",
       "1281     драма,мелодрама   365353.600             2013   \n",
       "1448                 NaN    28140.000             2014   \n",
       "1498  комедия,фантастика 19957031.500             2013   \n",
       "1524               драма    55917.500             2014   \n",
       "1792               драма   232100.000             2014   \n",
       "\n",
       "                        the_first_director first_genre  box_office_mln  \\\n",
       "1281                            А.Атанесян       драма           0.365   \n",
       "1448                             А.Якимчук         NaN           0.028   \n",
       "1498                         Р.Давлетьяров     комедия          19.957   \n",
       "1524  Е.Миндадзе (псевдоним Катя Шагалова)       драма           0.056   \n",
       "1792                              М.Угаров       драма           0.232   \n",
       "\n",
       "      share_budget_support  share_nonref_support  \n",
       "1281                 0.334                 0.334  \n",
       "1448                 0.700                 0.700  \n",
       "1498                 0.613                 0.613  \n",
       "1524                 0.690                 0.690  \n",
       "1792                 0.625                 0.625  "
      ]
     },
     "execution_count": 37,
     "metadata": {},
     "output_type": "execute_result"
    }
   ],
   "source": [
    "budget_rf.head()"
   ]
  },
  {
   "cell_type": "code",
   "execution_count": 38,
   "metadata": {},
   "outputs": [
    {
     "data": {
      "text/html": [
       "<div>\n",
       "<style scoped>\n",
       "    .dataframe tbody tr th:only-of-type {\n",
       "        vertical-align: middle;\n",
       "    }\n",
       "\n",
       "    .dataframe tbody tr th {\n",
       "        vertical-align: top;\n",
       "    }\n",
       "\n",
       "    .dataframe thead th {\n",
       "        text-align: right;\n",
       "    }\n",
       "</style>\n",
       "<table border=\"1\" class=\"dataframe\">\n",
       "  <thead>\n",
       "    <tr style=\"text-align: right;\">\n",
       "      <th></th>\n",
       "      <th>count</th>\n",
       "      <th>sumsuport</th>\n",
       "      <th>nonref_support</th>\n",
       "      <th>mean_rate</th>\n",
       "    </tr>\n",
       "    <tr>\n",
       "      <th>first_genre</th>\n",
       "      <th></th>\n",
       "      <th></th>\n",
       "      <th></th>\n",
       "      <th></th>\n",
       "    </tr>\n",
       "  </thead>\n",
       "  <tbody>\n",
       "    <tr>\n",
       "      <th>драма</th>\n",
       "      <td>85</td>\n",
       "      <td>9631521375.000</td>\n",
       "      <td>4359557452.000</td>\n",
       "      <td>6.411</td>\n",
       "    </tr>\n",
       "    <tr>\n",
       "      <th>комедия</th>\n",
       "      <td>73</td>\n",
       "      <td>5985806880.000</td>\n",
       "      <td>2393782945.000</td>\n",
       "      <td>5.532</td>\n",
       "    </tr>\n",
       "    <tr>\n",
       "      <th>мультфильм</th>\n",
       "      <td>31</td>\n",
       "      <td>5815499467.000</td>\n",
       "      <td>1531520000.000</td>\n",
       "      <td>5.800</td>\n",
       "    </tr>\n",
       "    <tr>\n",
       "      <th>триллер</th>\n",
       "      <td>14</td>\n",
       "      <td>1239148553.000</td>\n",
       "      <td>609645285.000</td>\n",
       "      <td>5.671</td>\n",
       "    </tr>\n",
       "    <tr>\n",
       "      <th>мелодрама</th>\n",
       "      <td>14</td>\n",
       "      <td>832486346.000</td>\n",
       "      <td>345000000.000</td>\n",
       "      <td>5.936</td>\n",
       "    </tr>\n",
       "    <tr>\n",
       "      <th>фантастика</th>\n",
       "      <td>11</td>\n",
       "      <td>2443100815.000</td>\n",
       "      <td>1216000000.000</td>\n",
       "      <td>5.820</td>\n",
       "    </tr>\n",
       "    <tr>\n",
       "      <th>фэнтези</th>\n",
       "      <td>11</td>\n",
       "      <td>2340123765.000</td>\n",
       "      <td>799900000.000</td>\n",
       "      <td>6.091</td>\n",
       "    </tr>\n",
       "    <tr>\n",
       "      <th>ужасы</th>\n",
       "      <td>10</td>\n",
       "      <td>563877625.000</td>\n",
       "      <td>244000000.000</td>\n",
       "      <td>5.200</td>\n",
       "    </tr>\n",
       "    <tr>\n",
       "      <th>военный</th>\n",
       "      <td>8</td>\n",
       "      <td>998104114.000</td>\n",
       "      <td>347000866.000</td>\n",
       "      <td>6.425</td>\n",
       "    </tr>\n",
       "    <tr>\n",
       "      <th>семейный</th>\n",
       "      <td>7</td>\n",
       "      <td>636799787.000</td>\n",
       "      <td>298000000.000</td>\n",
       "      <td>5.414</td>\n",
       "    </tr>\n",
       "    <tr>\n",
       "      <th>приключения</th>\n",
       "      <td>6</td>\n",
       "      <td>1069667886.000</td>\n",
       "      <td>351000000.000</td>\n",
       "      <td>5.883</td>\n",
       "    </tr>\n",
       "    <tr>\n",
       "      <th>боевик</th>\n",
       "      <td>5</td>\n",
       "      <td>533436808.000</td>\n",
       "      <td>270000000.000</td>\n",
       "      <td>6.440</td>\n",
       "    </tr>\n",
       "    <tr>\n",
       "      <th>детектив</th>\n",
       "      <td>5</td>\n",
       "      <td>1198222297.000</td>\n",
       "      <td>430000000.000</td>\n",
       "      <td>6.760</td>\n",
       "    </tr>\n",
       "    <tr>\n",
       "      <th>история</th>\n",
       "      <td>4</td>\n",
       "      <td>2145062206.000</td>\n",
       "      <td>820000000.000</td>\n",
       "      <td>5.350</td>\n",
       "    </tr>\n",
       "    <tr>\n",
       "      <th>детский</th>\n",
       "      <td>4</td>\n",
       "      <td>183898004.000</td>\n",
       "      <td>119000000.000</td>\n",
       "      <td>7.125</td>\n",
       "    </tr>\n",
       "    <tr>\n",
       "      <th>мюзикл</th>\n",
       "      <td>4</td>\n",
       "      <td>564197472.000</td>\n",
       "      <td>88300000.000</td>\n",
       "      <td>6.550</td>\n",
       "    </tr>\n",
       "    <tr>\n",
       "      <th>криминал</th>\n",
       "      <td>3</td>\n",
       "      <td>426594781.000</td>\n",
       "      <td>255000000.000</td>\n",
       "      <td>7.500</td>\n",
       "    </tr>\n",
       "    <tr>\n",
       "      <th>спорт</th>\n",
       "      <td>3</td>\n",
       "      <td>710468965.000</td>\n",
       "      <td>455000000.000</td>\n",
       "      <td>6.933</td>\n",
       "    </tr>\n",
       "    <tr>\n",
       "      <th>биография</th>\n",
       "      <td>2</td>\n",
       "      <td>397933637.000</td>\n",
       "      <td>85000000.000</td>\n",
       "      <td>6.600</td>\n",
       "    </tr>\n",
       "    <tr>\n",
       "      <th>реальное ТВ</th>\n",
       "      <td>1</td>\n",
       "      <td>80000000.000</td>\n",
       "      <td>25000000.000</td>\n",
       "      <td>5.600</td>\n",
       "    </tr>\n",
       "  </tbody>\n",
       "</table>\n",
       "</div>"
      ],
      "text/plain": [
       "             count      sumsuport  nonref_support  mean_rate\n",
       "first_genre                                                 \n",
       "драма           85 9631521375.000  4359557452.000      6.411\n",
       "комедия         73 5985806880.000  2393782945.000      5.532\n",
       "мультфильм      31 5815499467.000  1531520000.000      5.800\n",
       "триллер         14 1239148553.000   609645285.000      5.671\n",
       "мелодрама       14  832486346.000   345000000.000      5.936\n",
       "фантастика      11 2443100815.000  1216000000.000      5.820\n",
       "фэнтези         11 2340123765.000   799900000.000      6.091\n",
       "ужасы           10  563877625.000   244000000.000      5.200\n",
       "военный          8  998104114.000   347000866.000      6.425\n",
       "семейный         7  636799787.000   298000000.000      5.414\n",
       "приключения      6 1069667886.000   351000000.000      5.883\n",
       "боевик           5  533436808.000   270000000.000      6.440\n",
       "детектив         5 1198222297.000   430000000.000      6.760\n",
       "история          4 2145062206.000   820000000.000      5.350\n",
       "детский          4  183898004.000   119000000.000      7.125\n",
       "мюзикл           4  564197472.000    88300000.000      6.550\n",
       "криминал         3  426594781.000   255000000.000      7.500\n",
       "спорт            3  710468965.000   455000000.000      6.933\n",
       "биография        2  397933637.000    85000000.000      6.600\n",
       "реальное ТВ      1   80000000.000    25000000.000      5.600"
      ]
     },
     "metadata": {},
     "output_type": "display_data"
    }
   ],
   "source": [
    "rate_gov_films = budget_rf.groupby('first_genre').agg(count=('title','count'),\n",
    "                                                      sumsuport=('budget', 'sum'),\n",
    "                                                      nonref_support =('nonrefundable_support', 'sum'),                  \n",
    "                                                      mean_rate=('ratings', 'mean')).sort_values('count', ascending=False)\n",
    "display(rate_gov_films)"
   ]
  },
  {
   "cell_type": "markdown",
   "metadata": {
    "id": "V2gYwMcPgFyd"
   },
   "source": [
    "### 5. Общий вывод:"
   ]
  },
  {
   "cell_type": "markdown",
   "metadata": {
    "id": "AYRg3dzXgFye"
   },
   "source": [
    "\n",
    "Типичные значения кассовых сборов расположились в диапазоне от 0 до 25 млн рублей. В выбросы попали суммы превышающие 60 млн рублей. \n",
    "\n",
    "Отечественный кинопрокат начал резкий подъем с 2013 года и досиг плато в 2016.\n",
    "В целом возрастное ограничение аудитории влияет на сборы фильма в прокате в период с 2015 по 2019 год. Так фильмы с возрастным ограничением 16+ собрали больше всего денег в прокате.\n",
    "\n",
    "В зависимости от года медианное значение сборов сильно не меняется, за исключением 2017 года. В 2017 году лидерами по сборам были фильмы в категории 6+ и 0+\n",
    "\n",
    "**об отечественном кино**\n",
    "\n",
    "89 % от объема невозвратной государтвенной поддержки направляются на производство художественных фильмов.\n",
    "\n",
    "Среди жанров лидируют драмы и комедии - наболее востребованые государством жанры, на них тратится больше всего бюджетных средств. Мультфильмы, фантастика,история занимают 3, 4 и 5 места соответственно.\n",
    "\n",
    "refundable_support — объём возвратных средств государственной поддержки;\n",
    "nonrefundable_support — объём невозвратных средств государственной\n",
    "С 2013 года наблюдается пропорциональный рост всех трёх метрик, причём до середины 2016 года бюджеты регулярно превышали кассовые сборы. С 2016 года тенденция поменялась, кассовые сборы стремительно росли до 2017 года и превышали общие расходы вплоть до 2018 года, при достаточно плавной динамике субсидий и общего бюджета.\n",
    "С наступлением 2018 года объём субсидирования увеличивался на ряду с общим бюджетом, в то время, как кассовые сборы покатились вниз."
   ]
  },
  {
   "cell_type": "code",
   "execution_count": null,
   "metadata": {},
   "outputs": [],
   "source": []
  }
 ],
 "metadata": {
  "ExecuteTimeLog": [
   {
    "duration": 537,
    "start_time": "2021-07-07T10:12:08.634Z"
   },
   {
    "duration": 206,
    "start_time": "2021-07-07T10:12:30.191Z"
   },
   {
    "duration": 227,
    "start_time": "2021-07-07T10:12:33.078Z"
   },
   {
    "duration": 153,
    "start_time": "2021-07-07T10:13:42.146Z"
   },
   {
    "duration": 233,
    "start_time": "2021-07-07T10:30:09.252Z"
   },
   {
    "duration": 19,
    "start_time": "2021-07-07T10:30:15.577Z"
   },
   {
    "duration": 18,
    "start_time": "2021-07-07T10:30:57.348Z"
   },
   {
    "duration": 19,
    "start_time": "2021-07-07T10:31:17.452Z"
   },
   {
    "duration": 21,
    "start_time": "2021-07-07T10:31:32.227Z"
   },
   {
    "duration": 27,
    "start_time": "2021-07-07T10:32:06.588Z"
   },
   {
    "duration": 23,
    "start_time": "2021-07-07T10:32:43.645Z"
   },
   {
    "duration": 24,
    "start_time": "2021-07-07T10:33:06.948Z"
   },
   {
    "duration": 7,
    "start_time": "2021-07-07T10:33:28.558Z"
   },
   {
    "duration": 23,
    "start_time": "2021-07-07T10:33:43.761Z"
   },
   {
    "duration": 28,
    "start_time": "2021-07-07T10:34:13.466Z"
   },
   {
    "duration": 23,
    "start_time": "2021-07-07T10:35:56.187Z"
   },
   {
    "duration": 6,
    "start_time": "2021-07-07T10:36:48.182Z"
   },
   {
    "duration": 14,
    "start_time": "2021-07-07T10:37:49.641Z"
   },
   {
    "duration": 6,
    "start_time": "2021-07-07T10:38:06.694Z"
   },
   {
    "duration": 6,
    "start_time": "2021-07-07T10:38:13.493Z"
   },
   {
    "duration": 19,
    "start_time": "2021-07-07T10:38:44.056Z"
   },
   {
    "duration": 186,
    "start_time": "2021-07-07T10:48:35.618Z"
   },
   {
    "duration": 24,
    "start_time": "2021-07-07T10:48:51.498Z"
   },
   {
    "duration": 20,
    "start_time": "2021-07-07T10:48:59.415Z"
   },
   {
    "duration": 20,
    "start_time": "2021-07-07T10:53:02.195Z"
   },
   {
    "duration": 188,
    "start_time": "2021-07-07T10:54:40.486Z"
   },
   {
    "duration": 115,
    "start_time": "2021-07-07T10:54:52.552Z"
   },
   {
    "duration": 214,
    "start_time": "2021-07-07T10:54:56.354Z"
   },
   {
    "duration": 47,
    "start_time": "2021-07-07T10:54:58.282Z"
   },
   {
    "duration": 217,
    "start_time": "2021-07-07T10:59:16.075Z"
   },
   {
    "duration": 51,
    "start_time": "2021-07-07T10:59:16.243Z"
   },
   {
    "duration": 578,
    "start_time": "2021-07-07T10:59:18.774Z"
   },
   {
    "duration": 161,
    "start_time": "2021-07-07T10:59:21.238Z"
   },
   {
    "duration": 59,
    "start_time": "2021-07-07T10:59:21.453Z"
   },
   {
    "duration": 3,
    "start_time": "2021-07-07T11:02:10.786Z"
   },
   {
    "duration": 13,
    "start_time": "2021-07-07T11:07:07.722Z"
   },
   {
    "duration": 26,
    "start_time": "2021-07-07T11:07:17.958Z"
   },
   {
    "duration": 22,
    "start_time": "2021-07-07T11:08:17.939Z"
   },
   {
    "duration": 212,
    "start_time": "2021-07-07T11:08:19.665Z"
   },
   {
    "duration": 21,
    "start_time": "2021-07-07T11:08:29.945Z"
   },
   {
    "duration": 31,
    "start_time": "2021-07-07T11:08:38.899Z"
   },
   {
    "duration": 23,
    "start_time": "2021-07-07T11:08:54.527Z"
   },
   {
    "duration": 8,
    "start_time": "2021-07-07T11:18:55.974Z"
   },
   {
    "duration": 7,
    "start_time": "2021-07-07T11:19:03.639Z"
   },
   {
    "duration": 7,
    "start_time": "2021-07-07T11:19:06.444Z"
   },
   {
    "duration": 578,
    "start_time": "2021-07-07T12:09:59.576Z"
   },
   {
    "duration": 195,
    "start_time": "2021-07-07T12:10:00.156Z"
   },
   {
    "duration": 115,
    "start_time": "2021-07-07T12:10:00.353Z"
   },
   {
    "duration": 3,
    "start_time": "2021-07-07T12:10:00.470Z"
   },
   {
    "duration": 32,
    "start_time": "2021-07-07T12:10:00.474Z"
   },
   {
    "duration": 23,
    "start_time": "2021-07-07T12:10:00.508Z"
   },
   {
    "duration": 19,
    "start_time": "2021-07-07T12:10:00.533Z"
   },
   {
    "duration": 44,
    "start_time": "2021-07-07T12:10:00.553Z"
   },
   {
    "duration": 7,
    "start_time": "2021-07-07T12:10:00.600Z"
   },
   {
    "duration": 7,
    "start_time": "2021-07-07T12:19:45.761Z"
   },
   {
    "duration": 21,
    "start_time": "2021-07-07T12:21:35.482Z"
   },
   {
    "duration": 21,
    "start_time": "2021-07-07T12:29:23.569Z"
   },
   {
    "duration": 525,
    "start_time": "2021-07-07T12:29:44.542Z"
   },
   {
    "duration": 214,
    "start_time": "2021-07-07T12:29:45.069Z"
   },
   {
    "duration": 92,
    "start_time": "2021-07-07T12:29:45.285Z"
   },
   {
    "duration": 3,
    "start_time": "2021-07-07T12:29:45.379Z"
   },
   {
    "duration": 28,
    "start_time": "2021-07-07T12:29:45.384Z"
   },
   {
    "duration": 23,
    "start_time": "2021-07-07T12:29:45.413Z"
   },
   {
    "duration": 21,
    "start_time": "2021-07-07T12:29:45.437Z"
   },
   {
    "duration": 41,
    "start_time": "2021-07-07T12:29:45.460Z"
   },
   {
    "duration": 7,
    "start_time": "2021-07-07T12:29:45.502Z"
   },
   {
    "duration": 20,
    "start_time": "2021-07-07T12:29:45.511Z"
   },
   {
    "duration": 12,
    "start_time": "2021-07-07T12:34:02.800Z"
   },
   {
    "duration": 7,
    "start_time": "2021-07-07T12:35:10.479Z"
   },
   {
    "duration": 8,
    "start_time": "2021-07-07T12:35:22.440Z"
   },
   {
    "duration": 6,
    "start_time": "2021-07-07T12:35:35.649Z"
   },
   {
    "duration": 6,
    "start_time": "2021-07-07T12:35:43.107Z"
   },
   {
    "duration": 22,
    "start_time": "2021-07-07T12:38:03.029Z"
   },
   {
    "duration": 10,
    "start_time": "2021-07-07T12:38:06.592Z"
   },
   {
    "duration": 563,
    "start_time": "2021-07-07T12:38:46.493Z"
   },
   {
    "duration": 265,
    "start_time": "2021-07-07T12:38:47.058Z"
   },
   {
    "duration": 94,
    "start_time": "2021-07-07T12:38:47.325Z"
   },
   {
    "duration": 3,
    "start_time": "2021-07-07T12:38:47.422Z"
   },
   {
    "duration": 30,
    "start_time": "2021-07-07T12:38:47.427Z"
   },
   {
    "duration": 16,
    "start_time": "2021-07-07T12:38:53.305Z"
   },
   {
    "duration": 10,
    "start_time": "2021-07-07T12:38:53.499Z"
   },
   {
    "duration": 8,
    "start_time": "2021-07-07T12:39:48.161Z"
   },
   {
    "duration": 27,
    "start_time": "2021-07-07T12:41:17.629Z"
   },
   {
    "duration": 17,
    "start_time": "2021-07-07T12:41:17.867Z"
   },
   {
    "duration": 21,
    "start_time": "2021-07-07T12:41:19.310Z"
   },
   {
    "duration": 7,
    "start_time": "2021-07-07T12:41:19.544Z"
   },
   {
    "duration": 20,
    "start_time": "2021-07-07T12:41:20.504Z"
   },
   {
    "duration": 554,
    "start_time": "2021-07-07T12:56:23.696Z"
   },
   {
    "duration": 200,
    "start_time": "2021-07-07T12:56:25.234Z"
   },
   {
    "duration": 119,
    "start_time": "2021-07-07T12:56:25.480Z"
   },
   {
    "duration": 4,
    "start_time": "2021-07-07T12:56:25.762Z"
   },
   {
    "duration": 26,
    "start_time": "2021-07-07T12:56:27.172Z"
   },
   {
    "duration": 12,
    "start_time": "2021-07-07T12:56:29.051Z"
   },
   {
    "duration": 10,
    "start_time": "2021-07-07T12:56:29.291Z"
   },
   {
    "duration": 8,
    "start_time": "2021-07-07T12:56:29.623Z"
   },
   {
    "duration": 28,
    "start_time": "2021-07-07T12:56:32.137Z"
   },
   {
    "duration": 19,
    "start_time": "2021-07-07T12:56:39.785Z"
   },
   {
    "duration": 20,
    "start_time": "2021-07-07T12:56:44.297Z"
   },
   {
    "duration": 7,
    "start_time": "2021-07-07T12:56:45.392Z"
   },
   {
    "duration": 23,
    "start_time": "2021-07-07T12:56:46.615Z"
   },
   {
    "duration": 4,
    "start_time": "2021-07-07T12:57:06.625Z"
   },
   {
    "duration": 32,
    "start_time": "2021-07-07T12:57:36.690Z"
   },
   {
    "duration": 18,
    "start_time": "2021-07-07T12:58:00.149Z"
   },
   {
    "duration": 15,
    "start_time": "2021-07-07T12:59:16.793Z"
   },
   {
    "duration": 7,
    "start_time": "2021-07-07T13:19:22.624Z"
   },
   {
    "duration": 6,
    "start_time": "2021-07-07T14:17:33.527Z"
   },
   {
    "duration": 9,
    "start_time": "2021-07-07T14:17:48.409Z"
   },
   {
    "duration": 8,
    "start_time": "2021-07-07T14:20:13.060Z"
   },
   {
    "duration": 8,
    "start_time": "2021-07-07T14:20:37.957Z"
   },
   {
    "duration": 8,
    "start_time": "2021-07-07T14:20:47.470Z"
   },
   {
    "duration": 9,
    "start_time": "2021-07-07T14:20:54.503Z"
   },
   {
    "duration": 10,
    "start_time": "2021-07-07T14:28:57.763Z"
   },
   {
    "duration": 3,
    "start_time": "2021-07-07T14:30:23.377Z"
   },
   {
    "duration": 3,
    "start_time": "2021-07-07T14:30:36.489Z"
   },
   {
    "duration": 103,
    "start_time": "2021-07-07T14:30:52.351Z"
   },
   {
    "duration": 8,
    "start_time": "2021-07-07T14:30:54.763Z"
   },
   {
    "duration": 8,
    "start_time": "2021-07-07T14:31:29.301Z"
   },
   {
    "duration": 13,
    "start_time": "2021-07-07T14:31:44.516Z"
   },
   {
    "duration": 7,
    "start_time": "2021-07-07T14:33:10.972Z"
   },
   {
    "duration": 11,
    "start_time": "2021-07-07T14:33:27.780Z"
   },
   {
    "duration": 8,
    "start_time": "2021-07-07T14:34:44.588Z"
   },
   {
    "duration": 57,
    "start_time": "2021-07-07T14:35:59.042Z"
   },
   {
    "duration": 3,
    "start_time": "2021-07-07T14:36:28.168Z"
   },
   {
    "duration": 5,
    "start_time": "2021-07-07T14:36:46.254Z"
   },
   {
    "duration": 4,
    "start_time": "2021-07-07T14:36:52.714Z"
   },
   {
    "duration": 3,
    "start_time": "2021-07-07T14:36:56.612Z"
   },
   {
    "duration": 4,
    "start_time": "2021-07-07T14:36:57.049Z"
   },
   {
    "duration": 3,
    "start_time": "2021-07-07T14:39:21.214Z"
   },
   {
    "duration": 7,
    "start_time": "2021-07-07T14:39:52.406Z"
   },
   {
    "duration": 11,
    "start_time": "2021-07-07T14:39:58.576Z"
   },
   {
    "duration": 9,
    "start_time": "2021-07-07T14:40:26.301Z"
   },
   {
    "duration": 10,
    "start_time": "2021-07-07T14:40:31.704Z"
   },
   {
    "duration": 11,
    "start_time": "2021-07-07T14:40:36.249Z"
   },
   {
    "duration": 10,
    "start_time": "2021-07-07T14:40:39.783Z"
   },
   {
    "duration": 9,
    "start_time": "2021-07-07T14:40:48.558Z"
   },
   {
    "duration": 10,
    "start_time": "2021-07-07T14:40:57.143Z"
   },
   {
    "duration": 9,
    "start_time": "2021-07-07T14:41:06.074Z"
   },
   {
    "duration": 4324,
    "start_time": "2021-07-07T14:41:22.004Z"
   },
   {
    "duration": 11,
    "start_time": "2021-07-07T14:41:33.392Z"
   },
   {
    "duration": 9,
    "start_time": "2021-07-07T14:41:39.288Z"
   },
   {
    "duration": 569,
    "start_time": "2021-07-07T14:42:14.387Z"
   },
   {
    "duration": 197,
    "start_time": "2021-07-07T14:42:14.959Z"
   },
   {
    "duration": 84,
    "start_time": "2021-07-07T14:42:16.052Z"
   },
   {
    "duration": 4,
    "start_time": "2021-07-07T14:42:16.900Z"
   },
   {
    "duration": 27,
    "start_time": "2021-07-07T14:42:19.898Z"
   },
   {
    "duration": 12,
    "start_time": "2021-07-07T14:42:21.577Z"
   },
   {
    "duration": 9,
    "start_time": "2021-07-07T14:42:21.813Z"
   },
   {
    "duration": 9,
    "start_time": "2021-07-07T14:42:22.569Z"
   },
   {
    "duration": 29,
    "start_time": "2021-07-07T14:42:25.837Z"
   },
   {
    "duration": 20,
    "start_time": "2021-07-07T14:42:27.003Z"
   },
   {
    "duration": 21,
    "start_time": "2021-07-07T14:42:28.767Z"
   },
   {
    "duration": 7,
    "start_time": "2021-07-07T14:42:29.838Z"
   },
   {
    "duration": 4,
    "start_time": "2021-07-07T14:43:25.493Z"
   },
   {
    "duration": 7,
    "start_time": "2021-07-07T14:43:26.573Z"
   },
   {
    "duration": 10,
    "start_time": "2021-07-07T14:43:31.639Z"
   },
   {
    "duration": 9,
    "start_time": "2021-07-07T14:43:32.046Z"
   },
   {
    "duration": 10,
    "start_time": "2021-07-07T14:43:33.301Z"
   },
   {
    "duration": 12,
    "start_time": "2021-07-07T14:43:33.658Z"
   },
   {
    "duration": 8,
    "start_time": "2021-07-07T14:43:34.552Z"
   },
   {
    "duration": 9,
    "start_time": "2021-07-07T14:43:35.058Z"
   },
   {
    "duration": 12,
    "start_time": "2021-07-07T14:43:35.914Z"
   },
   {
    "duration": 17,
    "start_time": "2021-07-07T14:45:34.368Z"
   },
   {
    "duration": 512,
    "start_time": "2021-07-07T14:51:58.236Z"
   },
   {
    "duration": 223,
    "start_time": "2021-07-07T14:51:58.750Z"
   },
   {
    "duration": 93,
    "start_time": "2021-07-07T14:51:58.977Z"
   },
   {
    "duration": 4,
    "start_time": "2021-07-07T14:51:59.071Z"
   },
   {
    "duration": 37,
    "start_time": "2021-07-07T14:51:59.077Z"
   },
   {
    "duration": 18,
    "start_time": "2021-07-07T14:51:59.116Z"
   },
   {
    "duration": 10,
    "start_time": "2021-07-07T14:51:59.137Z"
   },
   {
    "duration": 8,
    "start_time": "2021-07-07T14:51:59.149Z"
   },
   {
    "duration": 54,
    "start_time": "2021-07-07T14:51:59.158Z"
   },
   {
    "duration": 18,
    "start_time": "2021-07-07T14:51:59.213Z"
   },
   {
    "duration": 22,
    "start_time": "2021-07-07T14:51:59.232Z"
   },
   {
    "duration": 36,
    "start_time": "2021-07-07T14:51:59.255Z"
   },
   {
    "duration": 7,
    "start_time": "2021-07-07T14:51:59.293Z"
   },
   {
    "duration": 10,
    "start_time": "2021-07-07T14:51:59.302Z"
   },
   {
    "duration": 9,
    "start_time": "2021-07-07T14:51:59.313Z"
   },
   {
    "duration": 11,
    "start_time": "2021-07-07T14:51:59.324Z"
   },
   {
    "duration": 8,
    "start_time": "2021-07-07T14:51:59.337Z"
   },
   {
    "duration": 46,
    "start_time": "2021-07-07T14:51:59.347Z"
   },
   {
    "duration": 22,
    "start_time": "2021-07-07T14:51:59.395Z"
   },
   {
    "duration": 24,
    "start_time": "2021-07-07T14:57:32.911Z"
   },
   {
    "duration": 7,
    "start_time": "2021-07-07T14:58:22.070Z"
   },
   {
    "duration": 4,
    "start_time": "2021-07-07T14:59:11.239Z"
   },
   {
    "duration": 25,
    "start_time": "2021-07-07T15:07:22.208Z"
   },
   {
    "duration": 16,
    "start_time": "2021-07-07T15:08:25.560Z"
   },
   {
    "duration": 15,
    "start_time": "2021-07-07T15:08:40.647Z"
   },
   {
    "duration": 14,
    "start_time": "2021-07-07T15:08:46.669Z"
   },
   {
    "duration": 533,
    "start_time": "2021-07-07T15:18:07.440Z"
   },
   {
    "duration": 173,
    "start_time": "2021-07-07T15:18:07.974Z"
   },
   {
    "duration": 84,
    "start_time": "2021-07-07T15:18:08.149Z"
   },
   {
    "duration": 3,
    "start_time": "2021-07-07T15:18:08.235Z"
   },
   {
    "duration": 30,
    "start_time": "2021-07-07T15:18:08.240Z"
   },
   {
    "duration": 22,
    "start_time": "2021-07-07T15:18:08.272Z"
   },
   {
    "duration": 11,
    "start_time": "2021-07-07T15:18:08.295Z"
   },
   {
    "duration": 11,
    "start_time": "2021-07-07T15:18:08.309Z"
   },
   {
    "duration": 40,
    "start_time": "2021-07-07T15:18:08.322Z"
   },
   {
    "duration": 42,
    "start_time": "2021-07-07T15:18:08.364Z"
   },
   {
    "duration": 22,
    "start_time": "2021-07-07T15:18:08.408Z"
   },
   {
    "duration": 5,
    "start_time": "2021-07-07T15:18:08.432Z"
   },
   {
    "duration": 13,
    "start_time": "2021-07-07T15:18:08.439Z"
   },
   {
    "duration": 9,
    "start_time": "2021-07-07T15:18:08.454Z"
   },
   {
    "duration": 32,
    "start_time": "2021-07-07T15:18:08.465Z"
   },
   {
    "duration": 10,
    "start_time": "2021-07-07T15:18:08.501Z"
   },
   {
    "duration": 7,
    "start_time": "2021-07-07T15:18:08.513Z"
   },
   {
    "duration": 11,
    "start_time": "2021-07-07T15:18:08.521Z"
   },
   {
    "duration": 17,
    "start_time": "2021-07-07T15:18:08.534Z"
   },
   {
    "duration": 44,
    "start_time": "2021-07-07T15:18:08.553Z"
   },
   {
    "duration": 22,
    "start_time": "2021-07-07T15:18:08.599Z"
   },
   {
    "duration": 61,
    "start_time": "2021-07-07T15:18:08.622Z"
   },
   {
    "duration": 7,
    "start_time": "2021-07-07T15:18:39.457Z"
   },
   {
    "duration": 5,
    "start_time": "2021-07-07T16:05:17.020Z"
   },
   {
    "duration": 5,
    "start_time": "2021-07-07T16:51:28.794Z"
   },
   {
    "duration": 546,
    "start_time": "2021-07-07T16:52:26.306Z"
   },
   {
    "duration": 203,
    "start_time": "2021-07-07T16:52:27.523Z"
   },
   {
    "duration": 85,
    "start_time": "2021-07-07T16:52:27.736Z"
   },
   {
    "duration": 4,
    "start_time": "2021-07-07T16:52:27.899Z"
   },
   {
    "duration": 25,
    "start_time": "2021-07-07T16:52:28.674Z"
   },
   {
    "duration": 8,
    "start_time": "2021-07-07T16:52:32.956Z"
   },
   {
    "duration": 18,
    "start_time": "2021-07-07T16:52:35.616Z"
   },
   {
    "duration": 6,
    "start_time": "2021-07-07T16:52:36.913Z"
   },
   {
    "duration": 11,
    "start_time": "2021-07-07T16:52:40.258Z"
   },
   {
    "duration": 10,
    "start_time": "2021-07-07T16:52:46.251Z"
   },
   {
    "duration": 8,
    "start_time": "2021-07-07T16:52:47.182Z"
   },
   {
    "duration": 27,
    "start_time": "2021-07-07T16:53:20.391Z"
   },
   {
    "duration": 20,
    "start_time": "2021-07-07T16:53:22.022Z"
   },
   {
    "duration": 23,
    "start_time": "2021-07-07T16:53:23.690Z"
   },
   {
    "duration": 8,
    "start_time": "2021-07-07T16:53:24.261Z"
   },
   {
    "duration": 4,
    "start_time": "2021-07-07T16:53:38.733Z"
   },
   {
    "duration": 7,
    "start_time": "2021-07-07T16:53:40.445Z"
   },
   {
    "duration": 11,
    "start_time": "2021-07-07T16:53:41.348Z"
   },
   {
    "duration": 13,
    "start_time": "2021-07-07T16:53:45.250Z"
   },
   {
    "duration": 12,
    "start_time": "2021-07-07T16:53:45.467Z"
   },
   {
    "duration": 4,
    "start_time": "2021-07-07T16:55:32.704Z"
   },
   {
    "duration": 12,
    "start_time": "2021-07-07T16:55:49.012Z"
   },
   {
    "duration": 18,
    "start_time": "2021-07-07T16:55:49.547Z"
   },
   {
    "duration": 611,
    "start_time": "2021-07-07T16:58:35.156Z"
   },
   {
    "duration": 200,
    "start_time": "2021-07-07T16:58:35.770Z"
   },
   {
    "duration": 86,
    "start_time": "2021-07-07T16:58:35.972Z"
   },
   {
    "duration": 3,
    "start_time": "2021-07-07T16:58:36.060Z"
   },
   {
    "duration": 27,
    "start_time": "2021-07-07T16:58:36.065Z"
   },
   {
    "duration": 8,
    "start_time": "2021-07-07T16:58:36.094Z"
   },
   {
    "duration": 17,
    "start_time": "2021-07-07T16:58:36.103Z"
   },
   {
    "duration": 5,
    "start_time": "2021-07-07T16:58:36.123Z"
   },
   {
    "duration": 11,
    "start_time": "2021-07-07T16:58:36.130Z"
   },
   {
    "duration": 7,
    "start_time": "2021-07-07T16:58:36.143Z"
   },
   {
    "duration": 37,
    "start_time": "2021-07-07T16:58:36.152Z"
   },
   {
    "duration": 27,
    "start_time": "2021-07-07T16:58:36.191Z"
   },
   {
    "duration": 19,
    "start_time": "2021-07-07T16:58:36.219Z"
   },
   {
    "duration": 49,
    "start_time": "2021-07-07T16:58:36.240Z"
   },
   {
    "duration": 6,
    "start_time": "2021-07-07T16:58:36.291Z"
   },
   {
    "duration": 3,
    "start_time": "2021-07-07T16:58:36.299Z"
   },
   {
    "duration": 13,
    "start_time": "2021-07-07T16:58:36.304Z"
   },
   {
    "duration": 10,
    "start_time": "2021-07-07T16:58:36.319Z"
   },
   {
    "duration": 10,
    "start_time": "2021-07-07T16:58:36.331Z"
   },
   {
    "duration": 44,
    "start_time": "2021-07-07T16:58:36.343Z"
   },
   {
    "duration": 4,
    "start_time": "2021-07-07T16:58:36.388Z"
   },
   {
    "duration": 13,
    "start_time": "2021-07-07T16:58:36.394Z"
   },
   {
    "duration": 16,
    "start_time": "2021-07-07T16:58:36.410Z"
   },
   {
    "duration": 8,
    "start_time": "2021-07-07T17:02:31.629Z"
   },
   {
    "duration": 8,
    "start_time": "2021-07-07T17:02:34.308Z"
   },
   {
    "duration": 6,
    "start_time": "2021-07-07T17:05:13.483Z"
   },
   {
    "duration": 17,
    "start_time": "2021-07-07T17:05:20.606Z"
   },
   {
    "duration": 7,
    "start_time": "2021-07-07T17:05:34.638Z"
   },
   {
    "duration": 3,
    "start_time": "2021-07-07T17:06:31.883Z"
   },
   {
    "duration": 570,
    "start_time": "2021-07-07T17:06:37.165Z"
   },
   {
    "duration": 174,
    "start_time": "2021-07-07T17:06:37.737Z"
   },
   {
    "duration": 47,
    "start_time": "2021-07-07T17:06:37.913Z"
   },
   {
    "duration": 3,
    "start_time": "2021-07-07T17:06:37.962Z"
   },
   {
    "duration": 27,
    "start_time": "2021-07-07T17:06:37.967Z"
   },
   {
    "duration": 7,
    "start_time": "2021-07-07T17:06:37.996Z"
   },
   {
    "duration": 16,
    "start_time": "2021-07-07T17:06:38.005Z"
   },
   {
    "duration": 6,
    "start_time": "2021-07-07T17:06:38.024Z"
   },
   {
    "duration": 12,
    "start_time": "2021-07-07T17:06:38.031Z"
   },
   {
    "duration": 41,
    "start_time": "2021-07-07T17:06:38.045Z"
   },
   {
    "duration": 8,
    "start_time": "2021-07-07T17:06:38.088Z"
   },
   {
    "duration": 26,
    "start_time": "2021-07-07T17:06:38.098Z"
   },
   {
    "duration": 17,
    "start_time": "2021-07-07T17:06:38.126Z"
   },
   {
    "duration": 43,
    "start_time": "2021-07-07T17:06:38.144Z"
   },
   {
    "duration": 6,
    "start_time": "2021-07-07T17:06:38.188Z"
   },
   {
    "duration": 5,
    "start_time": "2021-07-07T17:06:38.195Z"
   },
   {
    "duration": 9,
    "start_time": "2021-07-07T17:06:38.201Z"
   },
   {
    "duration": 12,
    "start_time": "2021-07-07T17:06:38.212Z"
   },
   {
    "duration": 11,
    "start_time": "2021-07-07T17:06:38.226Z"
   },
   {
    "duration": 47,
    "start_time": "2021-07-07T17:06:38.239Z"
   },
   {
    "duration": 4,
    "start_time": "2021-07-07T17:06:38.288Z"
   },
   {
    "duration": 13,
    "start_time": "2021-07-07T17:06:38.293Z"
   },
   {
    "duration": 5,
    "start_time": "2021-07-07T17:06:38.309Z"
   },
   {
    "duration": 18,
    "start_time": "2021-07-07T17:06:38.325Z"
   },
   {
    "duration": 20,
    "start_time": "2021-07-07T17:07:02.805Z"
   },
   {
    "duration": 19,
    "start_time": "2021-07-07T17:07:08.527Z"
   },
   {
    "duration": 19,
    "start_time": "2021-07-07T17:07:12.758Z"
   },
   {
    "duration": 22,
    "start_time": "2021-07-07T17:07:17.497Z"
   },
   {
    "duration": 19,
    "start_time": "2021-07-07T17:07:19.645Z"
   },
   {
    "duration": 10,
    "start_time": "2021-07-07T17:07:34.239Z"
   },
   {
    "duration": 17,
    "start_time": "2021-07-07T17:07:54.144Z"
   },
   {
    "duration": 14,
    "start_time": "2021-07-07T17:08:14.357Z"
   },
   {
    "duration": 616,
    "start_time": "2021-07-07T17:08:45.254Z"
   },
   {
    "duration": 178,
    "start_time": "2021-07-07T17:08:45.872Z"
   },
   {
    "duration": 60,
    "start_time": "2021-07-07T17:08:46.054Z"
   },
   {
    "duration": 3,
    "start_time": "2021-07-07T17:08:46.116Z"
   },
   {
    "duration": 26,
    "start_time": "2021-07-07T17:08:46.121Z"
   },
   {
    "duration": 7,
    "start_time": "2021-07-07T17:08:46.149Z"
   },
   {
    "duration": 17,
    "start_time": "2021-07-07T17:08:46.158Z"
   },
   {
    "duration": 14,
    "start_time": "2021-07-07T17:08:46.176Z"
   },
   {
    "duration": 17,
    "start_time": "2021-07-07T17:08:46.193Z"
   },
   {
    "duration": 9,
    "start_time": "2021-07-07T17:08:46.211Z"
   },
   {
    "duration": 21,
    "start_time": "2021-07-07T17:08:46.221Z"
   },
   {
    "duration": 49,
    "start_time": "2021-07-07T17:08:46.244Z"
   },
   {
    "duration": 24,
    "start_time": "2021-07-07T17:08:46.295Z"
   },
   {
    "duration": 22,
    "start_time": "2021-07-07T17:08:46.321Z"
   },
   {
    "duration": 6,
    "start_time": "2021-07-07T17:08:46.345Z"
   },
   {
    "duration": 5,
    "start_time": "2021-07-07T17:08:46.353Z"
   },
   {
    "duration": 13,
    "start_time": "2021-07-07T17:08:46.386Z"
   },
   {
    "duration": 12,
    "start_time": "2021-07-07T17:08:46.402Z"
   },
   {
    "duration": 10,
    "start_time": "2021-07-07T17:08:46.415Z"
   },
   {
    "duration": 7,
    "start_time": "2021-07-07T17:08:46.427Z"
   },
   {
    "duration": 8,
    "start_time": "2021-07-07T17:08:46.435Z"
   },
   {
    "duration": 68,
    "start_time": "2021-07-07T17:08:46.446Z"
   },
   {
    "duration": 13,
    "start_time": "2021-07-07T17:08:46.516Z"
   },
   {
    "duration": 78,
    "start_time": "2021-07-07T17:08:46.530Z"
   },
   {
    "duration": 40,
    "start_time": "2021-07-07T17:09:08.185Z"
   },
   {
    "duration": 16,
    "start_time": "2021-07-07T17:09:19.324Z"
   },
   {
    "duration": 21,
    "start_time": "2021-07-07T17:09:23.290Z"
   },
   {
    "duration": 13,
    "start_time": "2021-07-07T17:09:54.812Z"
   },
   {
    "duration": 13,
    "start_time": "2021-07-07T17:10:02.039Z"
   },
   {
    "duration": 10,
    "start_time": "2021-07-07T17:10:29.632Z"
   },
   {
    "duration": 13,
    "start_time": "2021-07-07T17:10:52.372Z"
   },
   {
    "duration": 13,
    "start_time": "2021-07-07T17:11:17.270Z"
   },
   {
    "duration": 13,
    "start_time": "2021-07-07T17:14:59.284Z"
   },
   {
    "duration": 547,
    "start_time": "2021-07-07T17:18:52.403Z"
   },
   {
    "duration": 163,
    "start_time": "2021-07-07T17:18:52.952Z"
   },
   {
    "duration": 44,
    "start_time": "2021-07-07T17:18:53.117Z"
   },
   {
    "duration": 3,
    "start_time": "2021-07-07T17:18:53.162Z"
   },
   {
    "duration": 26,
    "start_time": "2021-07-07T17:18:53.167Z"
   },
   {
    "duration": 6,
    "start_time": "2021-07-07T17:18:53.195Z"
   },
   {
    "duration": 15,
    "start_time": "2021-07-07T17:18:53.203Z"
   },
   {
    "duration": 5,
    "start_time": "2021-07-07T17:18:53.220Z"
   },
   {
    "duration": 11,
    "start_time": "2021-07-07T17:18:53.228Z"
   },
   {
    "duration": 9,
    "start_time": "2021-07-07T17:18:53.241Z"
   },
   {
    "duration": 41,
    "start_time": "2021-07-07T17:18:53.252Z"
   },
   {
    "duration": 33,
    "start_time": "2021-07-07T17:18:53.295Z"
   },
   {
    "duration": 19,
    "start_time": "2021-07-07T17:18:53.330Z"
   },
   {
    "duration": 49,
    "start_time": "2021-07-07T17:18:53.350Z"
   },
   {
    "duration": 5,
    "start_time": "2021-07-07T17:18:53.401Z"
   },
   {
    "duration": 5,
    "start_time": "2021-07-07T17:18:53.408Z"
   },
   {
    "duration": 11,
    "start_time": "2021-07-07T17:18:53.414Z"
   },
   {
    "duration": 9,
    "start_time": "2021-07-07T17:18:53.427Z"
   },
   {
    "duration": 10,
    "start_time": "2021-07-07T17:18:53.437Z"
   },
   {
    "duration": 39,
    "start_time": "2021-07-07T17:18:53.448Z"
   },
   {
    "duration": 26,
    "start_time": "2021-07-07T17:18:55.799Z"
   },
   {
    "duration": 598,
    "start_time": "2021-07-07T17:20:17.862Z"
   },
   {
    "duration": 161,
    "start_time": "2021-07-07T17:20:18.462Z"
   },
   {
    "duration": 45,
    "start_time": "2021-07-07T17:20:18.626Z"
   },
   {
    "duration": 4,
    "start_time": "2021-07-07T17:20:18.673Z"
   },
   {
    "duration": 38,
    "start_time": "2021-07-07T17:20:26.877Z"
   },
   {
    "duration": 7,
    "start_time": "2021-07-07T17:20:37.405Z"
   },
   {
    "duration": 19,
    "start_time": "2021-07-07T17:20:51.534Z"
   },
   {
    "duration": 5,
    "start_time": "2021-07-07T17:20:57.228Z"
   },
   {
    "duration": 7,
    "start_time": "2021-07-07T17:21:08.235Z"
   },
   {
    "duration": 19,
    "start_time": "2021-07-07T17:21:42.158Z"
   },
   {
    "duration": 14,
    "start_time": "2021-07-07T17:21:50.225Z"
   },
   {
    "duration": 22,
    "start_time": "2021-07-07T17:22:54.104Z"
   },
   {
    "duration": 5,
    "start_time": "2021-07-07T17:22:56.371Z"
   },
   {
    "duration": 14,
    "start_time": "2021-07-07T17:22:58.316Z"
   },
   {
    "duration": 5,
    "start_time": "2021-07-07T17:22:58.493Z"
   },
   {
    "duration": 35,
    "start_time": "2021-07-07T17:22:59.666Z"
   },
   {
    "duration": 6,
    "start_time": "2021-07-07T17:23:02.410Z"
   },
   {
    "duration": 611,
    "start_time": "2021-07-07T17:24:59.664Z"
   },
   {
    "duration": 178,
    "start_time": "2021-07-07T17:25:01.945Z"
   },
   {
    "duration": 47,
    "start_time": "2021-07-07T17:25:02.125Z"
   },
   {
    "duration": 2,
    "start_time": "2021-07-07T17:25:07.903Z"
   },
   {
    "duration": 254,
    "start_time": "2021-07-07T17:25:08.232Z"
   },
   {
    "duration": 182,
    "start_time": "2021-07-07T17:25:08.671Z"
   },
   {
    "duration": 6,
    "start_time": "2021-07-07T17:25:13.104Z"
   },
   {
    "duration": 36,
    "start_time": "2021-07-07T17:25:13.662Z"
   },
   {
    "duration": 7,
    "start_time": "2021-07-07T17:25:14.528Z"
   },
   {
    "duration": 24,
    "start_time": "2021-07-07T17:25:27.982Z"
   },
   {
    "duration": 3,
    "start_time": "2021-07-07T17:25:48.982Z"
   },
   {
    "duration": 165,
    "start_time": "2021-07-07T17:25:48.987Z"
   },
   {
    "duration": 50,
    "start_time": "2021-07-07T17:25:49.154Z"
   },
   {
    "duration": 4,
    "start_time": "2021-07-07T17:25:49.206Z"
   },
   {
    "duration": 26,
    "start_time": "2021-07-07T17:25:49.212Z"
   },
   {
    "duration": 7,
    "start_time": "2021-07-07T17:25:49.240Z"
   },
   {
    "duration": 16,
    "start_time": "2021-07-07T17:25:49.249Z"
   },
   {
    "duration": 22,
    "start_time": "2021-07-07T17:25:49.266Z"
   },
   {
    "duration": 16,
    "start_time": "2021-07-07T17:25:49.291Z"
   },
   {
    "duration": 9,
    "start_time": "2021-07-07T17:25:49.309Z"
   },
   {
    "duration": 7,
    "start_time": "2021-07-07T17:25:49.319Z"
   },
   {
    "duration": 28,
    "start_time": "2021-07-07T17:25:49.328Z"
   },
   {
    "duration": 44,
    "start_time": "2021-07-07T17:25:49.357Z"
   },
   {
    "duration": 22,
    "start_time": "2021-07-07T17:25:49.403Z"
   },
   {
    "duration": 7,
    "start_time": "2021-07-07T17:25:49.427Z"
   },
   {
    "duration": 3,
    "start_time": "2021-07-07T17:25:49.436Z"
   },
   {
    "duration": 44,
    "start_time": "2021-07-07T17:25:49.441Z"
   },
   {
    "duration": 12,
    "start_time": "2021-07-07T17:25:49.488Z"
   },
   {
    "duration": 13,
    "start_time": "2021-07-07T17:25:49.502Z"
   },
   {
    "duration": 10,
    "start_time": "2021-07-07T17:25:49.516Z"
   },
   {
    "duration": 62,
    "start_time": "2021-07-07T17:25:49.527Z"
   },
   {
    "duration": 26,
    "start_time": "2021-07-07T17:26:51.809Z"
   },
   {
    "duration": 26,
    "start_time": "2021-07-07T17:26:55.759Z"
   },
   {
    "duration": 26,
    "start_time": "2021-07-07T17:27:04.501Z"
   },
   {
    "duration": 25,
    "start_time": "2021-07-07T17:28:24.859Z"
   },
   {
    "duration": 21,
    "start_time": "2021-07-07T17:28:55.250Z"
   },
   {
    "duration": 21,
    "start_time": "2021-07-07T17:28:58.885Z"
   },
   {
    "duration": 7,
    "start_time": "2021-07-07T17:45:40.972Z"
   },
   {
    "duration": 13,
    "start_time": "2021-07-07T17:45:42.529Z"
   },
   {
    "duration": 27,
    "start_time": "2021-07-07T17:45:51.026Z"
   },
   {
    "duration": 518,
    "start_time": "2021-07-07T17:46:15.532Z"
   },
   {
    "duration": 235,
    "start_time": "2021-07-07T17:46:16.053Z"
   },
   {
    "duration": 80,
    "start_time": "2021-07-07T17:46:16.292Z"
   },
   {
    "duration": 5,
    "start_time": "2021-07-07T17:46:16.373Z"
   },
   {
    "duration": 26,
    "start_time": "2021-07-07T17:46:16.380Z"
   },
   {
    "duration": 7,
    "start_time": "2021-07-07T17:46:16.408Z"
   },
   {
    "duration": 16,
    "start_time": "2021-07-07T17:46:16.418Z"
   },
   {
    "duration": 5,
    "start_time": "2021-07-07T17:46:16.436Z"
   },
   {
    "duration": 13,
    "start_time": "2021-07-07T17:46:16.442Z"
   },
   {
    "duration": 35,
    "start_time": "2021-07-07T17:46:16.456Z"
   },
   {
    "duration": 8,
    "start_time": "2021-07-07T17:46:16.493Z"
   },
   {
    "duration": 28,
    "start_time": "2021-07-07T17:46:16.502Z"
   },
   {
    "duration": 17,
    "start_time": "2021-07-07T17:46:16.532Z"
   },
   {
    "duration": 44,
    "start_time": "2021-07-07T17:46:16.551Z"
   },
   {
    "duration": 6,
    "start_time": "2021-07-07T17:46:16.597Z"
   },
   {
    "duration": 4,
    "start_time": "2021-07-07T17:46:16.605Z"
   },
   {
    "duration": 9,
    "start_time": "2021-07-07T17:46:16.610Z"
   },
   {
    "duration": 9,
    "start_time": "2021-07-07T17:46:16.621Z"
   },
   {
    "duration": 10,
    "start_time": "2021-07-07T17:46:16.632Z"
   },
   {
    "duration": 43,
    "start_time": "2021-07-07T17:46:16.644Z"
   },
   {
    "duration": 26,
    "start_time": "2021-07-07T17:46:16.689Z"
   },
   {
    "duration": 19,
    "start_time": "2021-07-07T17:46:16.718Z"
   },
   {
    "duration": 8,
    "start_time": "2021-07-07T17:46:16.738Z"
   },
   {
    "duration": 43,
    "start_time": "2021-07-07T17:46:16.747Z"
   },
   {
    "duration": 19,
    "start_time": "2021-07-07T17:46:16.791Z"
   },
   {
    "duration": 9,
    "start_time": "2021-07-07T17:46:16.812Z"
   },
   {
    "duration": 60,
    "start_time": "2021-07-07T17:46:16.822Z"
   },
   {
    "duration": -8,
    "start_time": "2021-07-07T17:46:16.892Z"
   },
   {
    "duration": 12,
    "start_time": "2021-07-07T17:48:47.707Z"
   },
   {
    "duration": 553,
    "start_time": "2021-07-07T18:10:09.350Z"
   },
   {
    "duration": 230,
    "start_time": "2021-07-07T18:10:09.905Z"
   },
   {
    "duration": 97,
    "start_time": "2021-07-07T18:10:10.137Z"
   },
   {
    "duration": 5,
    "start_time": "2021-07-07T18:10:10.236Z"
   },
   {
    "duration": 29,
    "start_time": "2021-07-07T18:10:10.242Z"
   },
   {
    "duration": 7,
    "start_time": "2021-07-07T18:10:10.272Z"
   },
   {
    "duration": 15,
    "start_time": "2021-07-07T18:10:10.281Z"
   },
   {
    "duration": 4,
    "start_time": "2021-07-07T18:10:10.299Z"
   },
   {
    "duration": 14,
    "start_time": "2021-07-07T18:10:10.305Z"
   },
   {
    "duration": 8,
    "start_time": "2021-07-07T18:10:10.321Z"
   },
   {
    "duration": 8,
    "start_time": "2021-07-07T18:10:10.331Z"
   },
   {
    "duration": 56,
    "start_time": "2021-07-07T18:10:10.341Z"
   },
   {
    "duration": 19,
    "start_time": "2021-07-07T18:10:10.399Z"
   },
   {
    "duration": 23,
    "start_time": "2021-07-07T18:10:10.419Z"
   },
   {
    "duration": 6,
    "start_time": "2021-07-07T18:10:10.444Z"
   },
   {
    "duration": 9,
    "start_time": "2021-07-07T18:10:10.451Z"
   },
   {
    "duration": 30,
    "start_time": "2021-07-07T18:10:10.462Z"
   },
   {
    "duration": 9,
    "start_time": "2021-07-07T18:10:10.494Z"
   },
   {
    "duration": 14,
    "start_time": "2021-07-07T18:10:10.505Z"
   },
   {
    "duration": 7,
    "start_time": "2021-07-07T18:10:10.521Z"
   },
   {
    "duration": 26,
    "start_time": "2021-07-07T18:10:10.530Z"
   },
   {
    "duration": 44,
    "start_time": "2021-07-07T18:10:10.558Z"
   },
   {
    "duration": 7,
    "start_time": "2021-07-07T18:10:10.605Z"
   },
   {
    "duration": 11,
    "start_time": "2021-07-07T18:10:10.614Z"
   },
   {
    "duration": 19,
    "start_time": "2021-07-07T18:10:10.626Z"
   },
   {
    "duration": 44,
    "start_time": "2021-07-07T18:10:10.646Z"
   },
   {
    "duration": 516,
    "start_time": "2021-07-07T18:14:00.826Z"
   },
   {
    "duration": 230,
    "start_time": "2021-07-07T18:14:01.344Z"
   },
   {
    "duration": 105,
    "start_time": "2021-07-07T18:14:01.576Z"
   },
   {
    "duration": 5,
    "start_time": "2021-07-07T18:14:01.683Z"
   },
   {
    "duration": 46,
    "start_time": "2021-07-07T18:14:01.690Z"
   },
   {
    "duration": 7,
    "start_time": "2021-07-07T18:14:01.738Z"
   },
   {
    "duration": 20,
    "start_time": "2021-07-07T18:14:01.747Z"
   },
   {
    "duration": 16,
    "start_time": "2021-07-07T18:14:01.769Z"
   },
   {
    "duration": 14,
    "start_time": "2021-07-07T18:14:01.787Z"
   },
   {
    "duration": 15,
    "start_time": "2021-07-07T18:14:01.803Z"
   },
   {
    "duration": 12,
    "start_time": "2021-07-07T18:14:01.820Z"
   },
   {
    "duration": 35,
    "start_time": "2021-07-07T18:14:01.833Z"
   },
   {
    "duration": 31,
    "start_time": "2021-07-07T18:14:01.869Z"
   },
   {
    "duration": 37,
    "start_time": "2021-07-07T18:14:01.902Z"
   },
   {
    "duration": 8,
    "start_time": "2021-07-07T18:14:01.942Z"
   },
   {
    "duration": 16,
    "start_time": "2021-07-07T18:14:01.952Z"
   },
   {
    "duration": 13,
    "start_time": "2021-07-07T18:14:01.970Z"
   },
   {
    "duration": 32,
    "start_time": "2021-07-07T18:14:01.985Z"
   },
   {
    "duration": 11,
    "start_time": "2021-07-07T18:14:02.019Z"
   },
   {
    "duration": 22,
    "start_time": "2021-07-07T18:14:02.031Z"
   },
   {
    "duration": 27,
    "start_time": "2021-07-07T18:14:02.055Z"
   },
   {
    "duration": 18,
    "start_time": "2021-07-07T18:14:02.084Z"
   },
   {
    "duration": 18,
    "start_time": "2021-07-07T18:14:02.106Z"
   },
   {
    "duration": 11,
    "start_time": "2021-07-07T18:14:02.126Z"
   },
   {
    "duration": 21,
    "start_time": "2021-07-07T18:14:02.138Z"
   },
   {
    "duration": 32,
    "start_time": "2021-07-07T18:14:02.161Z"
   },
   {
    "duration": 28,
    "start_time": "2021-07-07T18:14:44.295Z"
   },
   {
    "duration": 6,
    "start_time": "2021-07-07T18:15:05.834Z"
   },
   {
    "duration": 511,
    "start_time": "2021-07-07T18:15:41.541Z"
   },
   {
    "duration": 183,
    "start_time": "2021-07-07T18:15:42.054Z"
   },
   {
    "duration": 50,
    "start_time": "2021-07-07T18:15:42.239Z"
   },
   {
    "duration": 5,
    "start_time": "2021-07-07T18:15:42.291Z"
   },
   {
    "duration": 48,
    "start_time": "2021-07-07T18:15:42.297Z"
   },
   {
    "duration": 8,
    "start_time": "2021-07-07T18:15:42.346Z"
   },
   {
    "duration": 17,
    "start_time": "2021-07-07T18:15:42.356Z"
   },
   {
    "duration": 15,
    "start_time": "2021-07-07T18:15:42.375Z"
   },
   {
    "duration": 12,
    "start_time": "2021-07-07T18:15:42.392Z"
   },
   {
    "duration": 7,
    "start_time": "2021-07-07T18:15:42.406Z"
   },
   {
    "duration": 7,
    "start_time": "2021-07-07T18:15:42.415Z"
   },
   {
    "duration": 29,
    "start_time": "2021-07-07T18:15:42.423Z"
   },
   {
    "duration": 43,
    "start_time": "2021-07-07T18:15:42.453Z"
   },
   {
    "duration": 18,
    "start_time": "2021-07-07T18:15:42.497Z"
   },
   {
    "duration": 6,
    "start_time": "2021-07-07T18:15:42.516Z"
   },
   {
    "duration": 3,
    "start_time": "2021-07-07T18:15:42.523Z"
   },
   {
    "duration": 18,
    "start_time": "2021-07-07T18:15:42.528Z"
   },
   {
    "duration": 10,
    "start_time": "2021-07-07T18:15:42.547Z"
   },
   {
    "duration": 36,
    "start_time": "2021-07-07T18:15:42.559Z"
   },
   {
    "duration": 8,
    "start_time": "2021-07-07T18:15:42.597Z"
   },
   {
    "duration": 28,
    "start_time": "2021-07-07T18:15:42.606Z"
   },
   {
    "duration": 52,
    "start_time": "2021-07-07T18:15:42.635Z"
   },
   {
    "duration": 7,
    "start_time": "2021-07-07T18:15:42.690Z"
   },
   {
    "duration": 10,
    "start_time": "2021-07-07T18:15:42.699Z"
   },
   {
    "duration": 19,
    "start_time": "2021-07-07T18:15:42.711Z"
   },
   {
    "duration": 9,
    "start_time": "2021-07-07T18:15:42.732Z"
   },
   {
    "duration": 5,
    "start_time": "2021-07-07T18:15:42.743Z"
   },
   {
    "duration": 1450,
    "start_time": "2021-07-07T18:15:51.984Z"
   },
   {
    "duration": 161,
    "start_time": "2021-07-07T18:15:53.435Z"
   },
   {
    "duration": 124,
    "start_time": "2021-07-07T18:15:53.598Z"
   },
   {
    "duration": 5,
    "start_time": "2021-07-07T18:15:53.724Z"
   },
   {
    "duration": 34,
    "start_time": "2021-07-07T18:15:53.730Z"
   },
   {
    "duration": 7,
    "start_time": "2021-07-07T18:15:53.765Z"
   },
   {
    "duration": 15,
    "start_time": "2021-07-07T18:15:53.773Z"
   },
   {
    "duration": 5,
    "start_time": "2021-07-07T18:15:53.791Z"
   },
   {
    "duration": 19,
    "start_time": "2021-07-07T18:15:53.798Z"
   },
   {
    "duration": 9,
    "start_time": "2021-07-07T18:15:53.818Z"
   },
   {
    "duration": 19,
    "start_time": "2021-07-07T18:15:53.828Z"
   },
   {
    "duration": 27,
    "start_time": "2021-07-07T18:15:53.848Z"
   },
   {
    "duration": 16,
    "start_time": "2021-07-07T18:15:53.884Z"
   },
   {
    "duration": 29,
    "start_time": "2021-07-07T18:15:53.901Z"
   },
   {
    "duration": 5,
    "start_time": "2021-07-07T18:15:53.932Z"
   },
   {
    "duration": 15,
    "start_time": "2021-07-07T18:15:53.939Z"
   },
   {
    "duration": 13,
    "start_time": "2021-07-07T18:15:53.956Z"
   },
   {
    "duration": 20,
    "start_time": "2021-07-07T18:15:53.971Z"
   },
   {
    "duration": 14,
    "start_time": "2021-07-07T18:15:53.992Z"
   },
   {
    "duration": 9,
    "start_time": "2021-07-07T18:15:54.009Z"
   },
   {
    "duration": 28,
    "start_time": "2021-07-07T18:15:54.020Z"
   },
   {
    "duration": 50,
    "start_time": "2021-07-07T18:15:54.051Z"
   },
   {
    "duration": 8,
    "start_time": "2021-07-07T18:15:54.105Z"
   },
   {
    "duration": 11,
    "start_time": "2021-07-07T18:15:54.115Z"
   },
   {
    "duration": 20,
    "start_time": "2021-07-07T18:15:54.128Z"
   },
   {
    "duration": 13,
    "start_time": "2021-07-07T18:15:54.184Z"
   },
   {
    "duration": 7,
    "start_time": "2021-07-07T18:15:54.199Z"
   },
   {
    "duration": 7,
    "start_time": "2021-07-07T18:17:08.042Z"
   },
   {
    "duration": 8,
    "start_time": "2021-07-07T18:17:21.008Z"
   },
   {
    "duration": 7,
    "start_time": "2021-07-07T18:17:29.003Z"
   },
   {
    "duration": 8,
    "start_time": "2021-07-07T18:17:32.492Z"
   },
   {
    "duration": 9,
    "start_time": "2021-07-07T18:17:41.758Z"
   },
   {
    "duration": 255,
    "start_time": "2021-07-07T18:20:20.897Z"
   },
   {
    "duration": 173,
    "start_time": "2021-07-07T18:20:26.636Z"
   },
   {
    "duration": 7,
    "start_time": "2021-07-07T18:21:47.164Z"
   },
   {
    "duration": 254,
    "start_time": "2021-07-07T18:23:08.703Z"
   },
   {
    "duration": 21,
    "start_time": "2021-07-07T18:23:22.506Z"
   },
   {
    "duration": 315,
    "start_time": "2021-07-07T18:25:54.801Z"
   },
   {
    "duration": 34,
    "start_time": "2021-07-07T18:26:51.817Z"
   },
   {
    "duration": 327,
    "start_time": "2021-07-07T18:26:56.147Z"
   },
   {
    "duration": 342,
    "start_time": "2021-07-07T18:27:15.887Z"
   },
   {
    "duration": 302,
    "start_time": "2021-07-07T18:28:18.569Z"
   },
   {
    "duration": 226,
    "start_time": "2021-07-07T18:29:20.879Z"
   },
   {
    "duration": 207,
    "start_time": "2021-07-07T18:29:58.114Z"
   },
   {
    "duration": 140,
    "start_time": "2021-07-07T18:32:04.372Z"
   },
   {
    "duration": 158,
    "start_time": "2021-07-07T18:32:32.508Z"
   },
   {
    "duration": 145,
    "start_time": "2021-07-07T18:32:41.365Z"
   },
   {
    "duration": 132,
    "start_time": "2021-07-07T18:32:45.199Z"
   },
   {
    "duration": 11,
    "start_time": "2021-07-07T18:35:24.679Z"
   },
   {
    "duration": 268,
    "start_time": "2021-07-07T18:36:16.145Z"
   },
   {
    "duration": 227,
    "start_time": "2021-07-07T18:37:04.918Z"
   },
   {
    "duration": 3,
    "start_time": "2021-07-07T18:37:33.012Z"
   },
   {
    "duration": 671,
    "start_time": "2021-07-07T18:37:38.295Z"
   },
   {
    "duration": 54,
    "start_time": "2021-07-07T18:37:53.406Z"
   },
   {
    "duration": 631,
    "start_time": "2021-07-07T18:37:56.463Z"
   },
   {
    "duration": 19,
    "start_time": "2021-07-07T18:39:40.535Z"
   },
   {
    "duration": 20,
    "start_time": "2021-07-07T18:40:12.236Z"
   },
   {
    "duration": 633,
    "start_time": "2021-07-07T18:42:00.398Z"
   },
   {
    "duration": 218,
    "start_time": "2021-07-07T18:42:01.033Z"
   },
   {
    "duration": 49,
    "start_time": "2021-07-07T18:42:01.253Z"
   },
   {
    "duration": 5,
    "start_time": "2021-07-07T18:42:01.303Z"
   },
   {
    "duration": 27,
    "start_time": "2021-07-07T18:42:01.310Z"
   },
   {
    "duration": 8,
    "start_time": "2021-07-07T18:42:01.339Z"
   },
   {
    "duration": 20,
    "start_time": "2021-07-07T18:42:01.348Z"
   },
   {
    "duration": 6,
    "start_time": "2021-07-07T18:42:01.386Z"
   },
   {
    "duration": 16,
    "start_time": "2021-07-07T18:42:01.394Z"
   },
   {
    "duration": 9,
    "start_time": "2021-07-07T18:42:01.411Z"
   },
   {
    "duration": 11,
    "start_time": "2021-07-07T18:42:01.421Z"
   },
   {
    "duration": 31,
    "start_time": "2021-07-07T18:42:01.434Z"
   },
   {
    "duration": 18,
    "start_time": "2021-07-07T18:42:01.485Z"
   },
   {
    "duration": 23,
    "start_time": "2021-07-07T18:42:01.505Z"
   },
   {
    "duration": 6,
    "start_time": "2021-07-07T18:42:01.530Z"
   },
   {
    "duration": 10,
    "start_time": "2021-07-07T18:42:01.538Z"
   },
   {
    "duration": 13,
    "start_time": "2021-07-07T18:42:01.550Z"
   },
   {
    "duration": 24,
    "start_time": "2021-07-07T18:42:01.564Z"
   },
   {
    "duration": 20,
    "start_time": "2021-07-07T18:42:01.590Z"
   },
   {
    "duration": 8,
    "start_time": "2021-07-07T18:42:01.611Z"
   },
   {
    "duration": 31,
    "start_time": "2021-07-07T18:42:01.620Z"
   },
   {
    "duration": 39,
    "start_time": "2021-07-07T18:42:01.653Z"
   },
   {
    "duration": 8,
    "start_time": "2021-07-07T18:42:01.696Z"
   },
   {
    "duration": 13,
    "start_time": "2021-07-07T18:42:01.705Z"
   },
   {
    "duration": 20,
    "start_time": "2021-07-07T18:42:01.720Z"
   },
   {
    "duration": 12,
    "start_time": "2021-07-07T18:42:01.741Z"
   },
   {
    "duration": 35,
    "start_time": "2021-07-07T18:42:01.755Z"
   },
   {
    "duration": 14,
    "start_time": "2021-07-07T18:42:01.792Z"
   },
   {
    "duration": 188,
    "start_time": "2021-07-07T18:42:01.808Z"
   },
   {
    "duration": 19,
    "start_time": "2021-07-07T18:42:01.998Z"
   },
   {
    "duration": 175,
    "start_time": "2021-07-07T18:42:02.019Z"
   },
   {
    "duration": 134,
    "start_time": "2021-07-07T18:42:02.196Z"
   },
   {
    "duration": 10,
    "start_time": "2021-07-07T18:42:02.331Z"
   },
   {
    "duration": 19,
    "start_time": "2021-07-07T18:42:02.343Z"
   },
   {
    "duration": 628,
    "start_time": "2021-07-07T18:46:30.701Z"
   },
   {
    "duration": 183,
    "start_time": "2021-07-07T18:46:31.331Z"
   },
   {
    "duration": 48,
    "start_time": "2021-07-07T18:46:31.516Z"
   },
   {
    "duration": 5,
    "start_time": "2021-07-07T18:46:31.566Z"
   },
   {
    "duration": 28,
    "start_time": "2021-07-07T18:46:31.572Z"
   },
   {
    "duration": 8,
    "start_time": "2021-07-07T18:46:31.602Z"
   },
   {
    "duration": 19,
    "start_time": "2021-07-07T18:46:31.611Z"
   },
   {
    "duration": 6,
    "start_time": "2021-07-07T18:46:31.633Z"
   },
   {
    "duration": 17,
    "start_time": "2021-07-07T18:46:31.642Z"
   },
   {
    "duration": 10,
    "start_time": "2021-07-07T18:46:31.684Z"
   },
   {
    "duration": 9,
    "start_time": "2021-07-07T18:46:31.695Z"
   },
   {
    "duration": 28,
    "start_time": "2021-07-07T18:46:31.705Z"
   },
   {
    "duration": 18,
    "start_time": "2021-07-07T18:46:31.735Z"
   },
   {
    "duration": 48,
    "start_time": "2021-07-07T18:46:31.755Z"
   },
   {
    "duration": 6,
    "start_time": "2021-07-07T18:46:31.804Z"
   },
   {
    "duration": 4,
    "start_time": "2021-07-07T18:46:31.812Z"
   },
   {
    "duration": 9,
    "start_time": "2021-07-07T18:46:31.817Z"
   },
   {
    "duration": 10,
    "start_time": "2021-07-07T18:46:31.827Z"
   },
   {
    "duration": 12,
    "start_time": "2021-07-07T18:46:31.838Z"
   },
   {
    "duration": 39,
    "start_time": "2021-07-07T18:46:31.851Z"
   },
   {
    "duration": 24,
    "start_time": "2021-07-07T18:46:31.892Z"
   },
   {
    "duration": 15,
    "start_time": "2021-07-07T18:46:31.918Z"
   },
   {
    "duration": 7,
    "start_time": "2021-07-07T18:46:31.936Z"
   },
   {
    "duration": 8,
    "start_time": "2021-07-07T18:46:31.944Z"
   },
   {
    "duration": 19,
    "start_time": "2021-07-07T18:46:31.984Z"
   },
   {
    "duration": 10,
    "start_time": "2021-07-07T18:46:32.004Z"
   },
   {
    "duration": 5,
    "start_time": "2021-07-07T18:46:32.016Z"
   },
   {
    "duration": 9,
    "start_time": "2021-07-07T18:46:32.023Z"
   },
   {
    "duration": 199,
    "start_time": "2021-07-07T18:46:32.033Z"
   },
   {
    "duration": 19,
    "start_time": "2021-07-07T18:46:32.234Z"
   },
   {
    "duration": 159,
    "start_time": "2021-07-07T18:46:32.255Z"
   },
   {
    "duration": 134,
    "start_time": "2021-07-07T18:46:32.416Z"
   },
   {
    "duration": 10,
    "start_time": "2021-07-07T18:46:32.552Z"
   },
   {
    "duration": 34,
    "start_time": "2021-07-07T18:46:32.563Z"
   },
   {
    "duration": 1039,
    "start_time": "2021-07-08T08:41:09.419Z"
   },
   {
    "duration": 333,
    "start_time": "2021-07-08T08:41:10.459Z"
   },
   {
    "duration": 173,
    "start_time": "2021-07-08T08:41:10.794Z"
   },
   {
    "duration": 5,
    "start_time": "2021-07-08T08:41:10.968Z"
   },
   {
    "duration": 25,
    "start_time": "2021-07-08T08:41:10.975Z"
   },
   {
    "duration": 9,
    "start_time": "2021-07-08T08:41:11.002Z"
   },
   {
    "duration": 18,
    "start_time": "2021-07-08T08:41:11.013Z"
   },
   {
    "duration": 6,
    "start_time": "2021-07-08T08:41:11.033Z"
   },
   {
    "duration": 44,
    "start_time": "2021-07-08T08:41:11.042Z"
   },
   {
    "duration": 10,
    "start_time": "2021-07-08T08:41:11.088Z"
   },
   {
    "duration": 9,
    "start_time": "2021-07-08T08:41:11.100Z"
   },
   {
    "duration": 27,
    "start_time": "2021-07-08T08:41:11.111Z"
   },
   {
    "duration": 46,
    "start_time": "2021-07-08T08:41:11.140Z"
   },
   {
    "duration": 17,
    "start_time": "2021-07-08T08:41:11.187Z"
   },
   {
    "duration": 6,
    "start_time": "2021-07-08T08:41:11.206Z"
   },
   {
    "duration": 5,
    "start_time": "2021-07-08T08:41:11.213Z"
   },
   {
    "duration": 10,
    "start_time": "2021-07-08T08:41:11.219Z"
   },
   {
    "duration": 9,
    "start_time": "2021-07-08T08:41:11.230Z"
   },
   {
    "duration": 45,
    "start_time": "2021-07-08T08:41:11.241Z"
   },
   {
    "duration": 7,
    "start_time": "2021-07-08T08:41:11.287Z"
   },
   {
    "duration": 24,
    "start_time": "2021-07-08T08:41:11.296Z"
   },
   {
    "duration": 16,
    "start_time": "2021-07-08T08:41:11.322Z"
   },
   {
    "duration": 7,
    "start_time": "2021-07-08T08:41:11.341Z"
   },
   {
    "duration": 41,
    "start_time": "2021-07-08T08:41:11.349Z"
   },
   {
    "duration": 17,
    "start_time": "2021-07-08T08:41:11.391Z"
   },
   {
    "duration": 9,
    "start_time": "2021-07-08T08:41:11.410Z"
   },
   {
    "duration": 5,
    "start_time": "2021-07-08T08:41:11.421Z"
   },
   {
    "duration": 6,
    "start_time": "2021-07-08T08:41:11.428Z"
   },
   {
    "duration": 198,
    "start_time": "2021-07-08T08:41:11.435Z"
   },
   {
    "duration": 18,
    "start_time": "2021-07-08T08:41:11.635Z"
   },
   {
    "duration": 155,
    "start_time": "2021-07-08T08:41:11.655Z"
   },
   {
    "duration": 138,
    "start_time": "2021-07-08T08:41:11.811Z"
   },
   {
    "duration": 10,
    "start_time": "2021-07-08T08:41:11.950Z"
   },
   {
    "duration": 29,
    "start_time": "2021-07-08T08:41:11.961Z"
   },
   {
    "duration": 171,
    "start_time": "2021-07-08T08:47:44.522Z"
   },
   {
    "duration": 124,
    "start_time": "2021-07-08T08:47:46.872Z"
   },
   {
    "duration": 191,
    "start_time": "2021-07-08T08:47:58.148Z"
   },
   {
    "duration": 191,
    "start_time": "2021-07-08T08:48:07.412Z"
   },
   {
    "duration": 261,
    "start_time": "2021-07-08T08:48:10.385Z"
   },
   {
    "duration": 255,
    "start_time": "2021-07-08T08:48:14.494Z"
   },
   {
    "duration": 219,
    "start_time": "2021-07-08T08:48:22.752Z"
   },
   {
    "duration": 173,
    "start_time": "2021-07-08T08:49:06.395Z"
   },
   {
    "duration": 180,
    "start_time": "2021-07-08T08:49:21.011Z"
   },
   {
    "duration": 6,
    "start_time": "2021-07-08T08:50:31.697Z"
   },
   {
    "duration": 10,
    "start_time": "2021-07-08T08:50:47.394Z"
   },
   {
    "duration": 11,
    "start_time": "2021-07-08T08:53:49.332Z"
   },
   {
    "duration": 171,
    "start_time": "2021-07-08T08:54:28.408Z"
   },
   {
    "duration": 636,
    "start_time": "2021-07-08T09:02:48.385Z"
   },
   {
    "duration": 227,
    "start_time": "2021-07-08T09:02:49.023Z"
   },
   {
    "duration": 104,
    "start_time": "2021-07-08T09:02:49.252Z"
   },
   {
    "duration": 5,
    "start_time": "2021-07-08T09:02:49.358Z"
   },
   {
    "duration": 27,
    "start_time": "2021-07-08T09:02:49.365Z"
   },
   {
    "duration": 8,
    "start_time": "2021-07-08T09:02:49.394Z"
   },
   {
    "duration": 18,
    "start_time": "2021-07-08T09:02:49.404Z"
   },
   {
    "duration": 6,
    "start_time": "2021-07-08T09:02:49.424Z"
   },
   {
    "duration": 11,
    "start_time": "2021-07-08T09:02:49.433Z"
   },
   {
    "duration": 13,
    "start_time": "2021-07-08T09:02:49.485Z"
   },
   {
    "duration": 9,
    "start_time": "2021-07-08T09:02:49.500Z"
   },
   {
    "duration": 38,
    "start_time": "2021-07-08T09:02:49.511Z"
   },
   {
    "duration": 42,
    "start_time": "2021-07-08T09:02:49.551Z"
   },
   {
    "duration": 21,
    "start_time": "2021-07-08T09:02:49.594Z"
   },
   {
    "duration": 6,
    "start_time": "2021-07-08T09:02:49.616Z"
   },
   {
    "duration": 3,
    "start_time": "2021-07-08T09:02:49.623Z"
   },
   {
    "duration": 9,
    "start_time": "2021-07-08T09:02:49.628Z"
   },
   {
    "duration": 52,
    "start_time": "2021-07-08T09:02:49.638Z"
   },
   {
    "duration": 11,
    "start_time": "2021-07-08T09:02:49.692Z"
   },
   {
    "duration": 8,
    "start_time": "2021-07-08T09:02:49.704Z"
   },
   {
    "duration": 27,
    "start_time": "2021-07-08T09:02:49.713Z"
   },
   {
    "duration": 59,
    "start_time": "2021-07-08T09:02:49.741Z"
   },
   {
    "duration": 8,
    "start_time": "2021-07-08T09:02:49.803Z"
   },
   {
    "duration": 14,
    "start_time": "2021-07-08T09:02:49.813Z"
   },
   {
    "duration": 20,
    "start_time": "2021-07-08T09:02:49.829Z"
   },
   {
    "duration": 44,
    "start_time": "2021-07-08T09:02:49.851Z"
   },
   {
    "duration": 14,
    "start_time": "2021-07-08T09:02:49.896Z"
   },
   {
    "duration": 221,
    "start_time": "2021-07-08T09:02:49.912Z"
   },
   {
    "duration": 6,
    "start_time": "2021-07-08T09:02:50.134Z"
   },
   {
    "duration": 206,
    "start_time": "2021-07-08T09:02:50.142Z"
   },
   {
    "duration": 19,
    "start_time": "2021-07-08T09:02:50.350Z"
   },
   {
    "duration": 21,
    "start_time": "2021-07-08T09:02:50.370Z"
   },
   {
    "duration": 20,
    "start_time": "2021-07-08T09:02:50.393Z"
   },
   {
    "duration": 5,
    "start_time": "2021-07-08T09:02:50.414Z"
   },
   {
    "duration": 5,
    "start_time": "2021-07-08T09:03:34.173Z"
   },
   {
    "duration": 6,
    "start_time": "2021-07-08T09:04:49.062Z"
   },
   {
    "duration": 9,
    "start_time": "2021-07-08T09:04:50.118Z"
   },
   {
    "duration": 14,
    "start_time": "2021-07-08T09:04:58.512Z"
   },
   {
    "duration": 9,
    "start_time": "2021-07-08T09:05:10.988Z"
   },
   {
    "duration": 11,
    "start_time": "2021-07-08T09:05:11.743Z"
   },
   {
    "duration": 7,
    "start_time": "2021-07-08T09:05:25.677Z"
   },
   {
    "duration": 13,
    "start_time": "2021-07-08T09:05:47.189Z"
   },
   {
    "duration": 13,
    "start_time": "2021-07-08T09:05:54.755Z"
   },
   {
    "duration": 4,
    "start_time": "2021-07-08T09:06:29.189Z"
   },
   {
    "duration": 244,
    "start_time": "2021-07-08T09:06:29.195Z"
   },
   {
    "duration": 91,
    "start_time": "2021-07-08T09:06:29.441Z"
   },
   {
    "duration": 4,
    "start_time": "2021-07-08T09:06:29.534Z"
   },
   {
    "duration": 28,
    "start_time": "2021-07-08T09:06:29.540Z"
   },
   {
    "duration": 6,
    "start_time": "2021-07-08T09:06:29.570Z"
   },
   {
    "duration": 18,
    "start_time": "2021-07-08T09:06:29.578Z"
   },
   {
    "duration": 5,
    "start_time": "2021-07-08T09:06:29.597Z"
   },
   {
    "duration": 13,
    "start_time": "2021-07-08T09:06:29.605Z"
   },
   {
    "duration": 8,
    "start_time": "2021-07-08T09:06:29.620Z"
   },
   {
    "duration": 7,
    "start_time": "2021-07-08T09:06:29.630Z"
   },
   {
    "duration": 63,
    "start_time": "2021-07-08T09:06:29.639Z"
   },
   {
    "duration": 17,
    "start_time": "2021-07-08T09:06:29.704Z"
   },
   {
    "duration": 20,
    "start_time": "2021-07-08T09:06:29.723Z"
   },
   {
    "duration": 6,
    "start_time": "2021-07-08T09:06:29.745Z"
   },
   {
    "duration": 3,
    "start_time": "2021-07-08T09:06:29.752Z"
   },
   {
    "duration": 7,
    "start_time": "2021-07-08T09:06:29.785Z"
   },
   {
    "duration": 11,
    "start_time": "2021-07-08T09:06:29.794Z"
   },
   {
    "duration": 15,
    "start_time": "2021-07-08T09:06:29.807Z"
   },
   {
    "duration": 8,
    "start_time": "2021-07-08T09:06:29.823Z"
   },
   {
    "duration": 70,
    "start_time": "2021-07-08T09:06:29.832Z"
   },
   {
    "duration": 17,
    "start_time": "2021-07-08T09:06:29.903Z"
   },
   {
    "duration": 9,
    "start_time": "2021-07-08T09:06:29.921Z"
   },
   {
    "duration": 9,
    "start_time": "2021-07-08T09:06:29.932Z"
   },
   {
    "duration": 57,
    "start_time": "2021-07-08T09:06:29.942Z"
   },
   {
    "duration": 11,
    "start_time": "2021-07-08T09:06:30.001Z"
   },
   {
    "duration": 19,
    "start_time": "2021-07-08T09:06:30.016Z"
   },
   {
    "duration": 217,
    "start_time": "2021-07-08T09:06:30.037Z"
   },
   {
    "duration": 6,
    "start_time": "2021-07-08T09:06:30.255Z"
   },
   {
    "duration": 205,
    "start_time": "2021-07-08T09:06:30.263Z"
   },
   {
    "duration": 27,
    "start_time": "2021-07-08T09:06:30.470Z"
   },
   {
    "duration": 11,
    "start_time": "2021-07-08T09:06:30.500Z"
   },
   {
    "duration": 31,
    "start_time": "2021-07-08T09:06:30.513Z"
   },
   {
    "duration": 18,
    "start_time": "2021-07-08T09:06:30.546Z"
   },
   {
    "duration": 11,
    "start_time": "2021-07-08T09:06:30.566Z"
   },
   {
    "duration": 19,
    "start_time": "2021-07-08T09:06:30.579Z"
   },
   {
    "duration": 20,
    "start_time": "2021-07-08T09:06:49.466Z"
   },
   {
    "duration": 9,
    "start_time": "2021-07-08T09:06:51.994Z"
   },
   {
    "duration": 20,
    "start_time": "2021-07-08T09:06:52.273Z"
   },
   {
    "duration": 246,
    "start_time": "2021-07-08T09:10:21.272Z"
   },
   {
    "duration": 84,
    "start_time": "2021-07-08T09:10:21.436Z"
   },
   {
    "duration": 7,
    "start_time": "2021-07-08T09:10:37.608Z"
   },
   {
    "duration": 189,
    "start_time": "2021-07-08T09:10:38.573Z"
   },
   {
    "duration": 185,
    "start_time": "2021-07-08T09:10:53.181Z"
   },
   {
    "duration": 11,
    "start_time": "2021-07-08T09:10:59.549Z"
   },
   {
    "duration": 42,
    "start_time": "2021-07-08T09:10:59.709Z"
   },
   {
    "duration": 12,
    "start_time": "2021-07-08T09:11:02.857Z"
   },
   {
    "duration": 28,
    "start_time": "2021-07-08T09:11:10.062Z"
   },
   {
    "duration": 249,
    "start_time": "2021-07-08T09:11:37.388Z"
   },
   {
    "duration": 232,
    "start_time": "2021-07-08T09:11:49.485Z"
   },
   {
    "duration": 453,
    "start_time": "2021-07-08T09:12:01.546Z"
   },
   {
    "duration": 440,
    "start_time": "2021-07-08T09:12:12.347Z"
   },
   {
    "duration": 213,
    "start_time": "2021-07-08T09:13:32.196Z"
   },
   {
    "duration": 172,
    "start_time": "2021-07-08T09:14:07.400Z"
   },
   {
    "duration": 185,
    "start_time": "2021-07-08T09:14:14.905Z"
   },
   {
    "duration": 209,
    "start_time": "2021-07-08T09:14:40.109Z"
   },
   {
    "duration": 201,
    "start_time": "2021-07-08T09:14:54.506Z"
   },
   {
    "duration": 622,
    "start_time": "2021-07-08T09:18:14.497Z"
   },
   {
    "duration": 220,
    "start_time": "2021-07-08T09:18:15.121Z"
   },
   {
    "duration": 79,
    "start_time": "2021-07-08T09:18:15.343Z"
   },
   {
    "duration": 4,
    "start_time": "2021-07-08T09:18:15.425Z"
   },
   {
    "duration": 24,
    "start_time": "2021-07-08T09:18:15.431Z"
   },
   {
    "duration": 8,
    "start_time": "2021-07-08T09:18:15.457Z"
   },
   {
    "duration": 16,
    "start_time": "2021-07-08T09:18:15.466Z"
   },
   {
    "duration": 5,
    "start_time": "2021-07-08T09:18:15.484Z"
   },
   {
    "duration": 10,
    "start_time": "2021-07-08T09:18:15.493Z"
   },
   {
    "duration": 8,
    "start_time": "2021-07-08T09:18:15.504Z"
   },
   {
    "duration": 7,
    "start_time": "2021-07-08T09:18:15.513Z"
   },
   {
    "duration": 26,
    "start_time": "2021-07-08T09:18:15.522Z"
   },
   {
    "duration": 49,
    "start_time": "2021-07-08T09:18:15.550Z"
   },
   {
    "duration": 21,
    "start_time": "2021-07-08T09:18:15.601Z"
   },
   {
    "duration": 8,
    "start_time": "2021-07-08T09:18:15.624Z"
   },
   {
    "duration": 3,
    "start_time": "2021-07-08T09:18:15.634Z"
   },
   {
    "duration": 8,
    "start_time": "2021-07-08T09:18:15.639Z"
   },
   {
    "duration": 45,
    "start_time": "2021-07-08T09:18:15.649Z"
   },
   {
    "duration": 13,
    "start_time": "2021-07-08T09:18:15.696Z"
   },
   {
    "duration": 10,
    "start_time": "2021-07-08T09:18:15.711Z"
   },
   {
    "duration": 64,
    "start_time": "2021-07-08T09:18:15.722Z"
   },
   {
    "duration": 19,
    "start_time": "2021-07-08T09:18:15.788Z"
   },
   {
    "duration": 9,
    "start_time": "2021-07-08T09:18:15.809Z"
   },
   {
    "duration": 9,
    "start_time": "2021-07-08T09:18:15.820Z"
   },
   {
    "duration": 18,
    "start_time": "2021-07-08T09:18:15.831Z"
   },
   {
    "duration": 43,
    "start_time": "2021-07-08T09:18:15.851Z"
   },
   {
    "duration": 12,
    "start_time": "2021-07-08T09:18:15.897Z"
   },
   {
    "duration": 219,
    "start_time": "2021-07-08T09:18:15.911Z"
   },
   {
    "duration": 8,
    "start_time": "2021-07-08T09:18:16.132Z"
   },
   {
    "duration": 199,
    "start_time": "2021-07-08T09:18:16.141Z"
   },
   {
    "duration": 18,
    "start_time": "2021-07-08T09:18:16.341Z"
   },
   {
    "duration": 24,
    "start_time": "2021-07-08T09:18:16.361Z"
   },
   {
    "duration": 24,
    "start_time": "2021-07-08T09:18:16.387Z"
   },
   {
    "duration": 211,
    "start_time": "2021-07-08T09:18:16.413Z"
   },
   {
    "duration": 18,
    "start_time": "2021-07-08T09:18:16.626Z"
   },
   {
    "duration": 596,
    "start_time": "2021-07-08T10:06:33.623Z"
   },
   {
    "duration": 181,
    "start_time": "2021-07-08T10:06:34.221Z"
   },
   {
    "duration": 176,
    "start_time": "2021-07-08T10:06:34.635Z"
   },
   {
    "duration": 239,
    "start_time": "2021-07-08T10:06:55.572Z"
   },
   {
    "duration": 6,
    "start_time": "2021-07-08T10:06:57.687Z"
   },
   {
    "duration": 4,
    "start_time": "2021-07-08T10:07:03.956Z"
   },
   {
    "duration": 4,
    "start_time": "2021-07-08T10:07:10.376Z"
   },
   {
    "duration": 4,
    "start_time": "2021-07-08T10:17:19.889Z"
   },
   {
    "duration": 3,
    "start_time": "2021-07-08T10:19:19.407Z"
   },
   {
    "duration": 197,
    "start_time": "2021-07-08T10:19:19.412Z"
   },
   {
    "duration": 127,
    "start_time": "2021-07-08T10:19:19.611Z"
   },
   {
    "duration": 4,
    "start_time": "2021-07-08T10:19:19.740Z"
   },
   {
    "duration": 27,
    "start_time": "2021-07-08T10:19:19.746Z"
   },
   {
    "duration": 7,
    "start_time": "2021-07-08T10:19:19.775Z"
   },
   {
    "duration": 30,
    "start_time": "2021-07-08T10:19:19.784Z"
   },
   {
    "duration": 7,
    "start_time": "2021-07-08T10:19:19.817Z"
   },
   {
    "duration": 26,
    "start_time": "2021-07-08T10:19:19.826Z"
   },
   {
    "duration": 18,
    "start_time": "2021-07-08T10:19:19.854Z"
   },
   {
    "duration": 14,
    "start_time": "2021-07-08T10:19:19.874Z"
   },
   {
    "duration": 48,
    "start_time": "2021-07-08T10:19:19.890Z"
   },
   {
    "duration": 17,
    "start_time": "2021-07-08T10:19:19.940Z"
   },
   {
    "duration": 38,
    "start_time": "2021-07-08T10:19:19.959Z"
   },
   {
    "duration": 8,
    "start_time": "2021-07-08T10:19:19.999Z"
   },
   {
    "duration": 15,
    "start_time": "2021-07-08T10:19:20.009Z"
   },
   {
    "duration": 22,
    "start_time": "2021-07-08T10:19:20.026Z"
   },
   {
    "duration": 10,
    "start_time": "2021-07-08T10:19:20.050Z"
   },
   {
    "duration": 10,
    "start_time": "2021-07-08T10:19:20.062Z"
   },
   {
    "duration": 20,
    "start_time": "2021-07-08T10:19:20.073Z"
   },
   {
    "duration": 29,
    "start_time": "2021-07-08T10:19:20.095Z"
   },
   {
    "duration": 17,
    "start_time": "2021-07-08T10:19:20.126Z"
   },
   {
    "duration": 40,
    "start_time": "2021-07-08T10:19:20.146Z"
   },
   {
    "duration": 15,
    "start_time": "2021-07-08T10:19:20.189Z"
   },
   {
    "duration": 19,
    "start_time": "2021-07-08T10:19:20.206Z"
   },
   {
    "duration": 10,
    "start_time": "2021-07-08T10:19:20.226Z"
   },
   {
    "duration": 11,
    "start_time": "2021-07-08T10:19:20.238Z"
   },
   {
    "duration": 297,
    "start_time": "2021-07-08T10:19:20.250Z"
   },
   {
    "duration": 6,
    "start_time": "2021-07-08T10:19:20.549Z"
   },
   {
    "duration": 191,
    "start_time": "2021-07-08T10:19:20.557Z"
   },
   {
    "duration": 19,
    "start_time": "2021-07-08T10:19:20.750Z"
   },
   {
    "duration": 20,
    "start_time": "2021-07-08T10:19:20.771Z"
   },
   {
    "duration": 15,
    "start_time": "2021-07-08T10:19:20.793Z"
   },
   {
    "duration": 222,
    "start_time": "2021-07-08T10:19:20.809Z"
   },
   {
    "duration": 20,
    "start_time": "2021-07-08T10:19:21.033Z"
   },
   {
    "duration": 27,
    "start_time": "2021-07-08T10:45:04.055Z"
   },
   {
    "duration": 8,
    "start_time": "2021-07-08T10:45:08.478Z"
   },
   {
    "duration": 8,
    "start_time": "2021-07-08T10:45:31.982Z"
   },
   {
    "duration": 10,
    "start_time": "2021-07-08T10:46:01.221Z"
   },
   {
    "duration": 17,
    "start_time": "2021-07-08T10:46:40.011Z"
   },
   {
    "duration": 193,
    "start_time": "2021-07-08T10:48:19.471Z"
   },
   {
    "duration": 225,
    "start_time": "2021-07-08T10:49:26.480Z"
   },
   {
    "duration": 204,
    "start_time": "2021-07-08T10:49:59.992Z"
   },
   {
    "duration": 435,
    "start_time": "2021-07-08T10:50:06.779Z"
   },
   {
    "duration": 199,
    "start_time": "2021-07-08T10:50:14.891Z"
   },
   {
    "duration": 204,
    "start_time": "2021-07-08T10:50:18.501Z"
   },
   {
    "duration": 244,
    "start_time": "2021-07-08T10:50:23.359Z"
   },
   {
    "duration": 192,
    "start_time": "2021-07-08T10:50:29.135Z"
   },
   {
    "duration": 218,
    "start_time": "2021-07-08T10:50:33.092Z"
   },
   {
    "duration": 207,
    "start_time": "2021-07-08T10:52:45.381Z"
   },
   {
    "duration": 5,
    "start_time": "2021-07-08T10:53:34.641Z"
   },
   {
    "duration": 196,
    "start_time": "2021-07-08T10:53:41.478Z"
   },
   {
    "duration": 43,
    "start_time": "2021-07-08T10:53:50.335Z"
   },
   {
    "duration": 32,
    "start_time": "2021-07-08T10:53:55.294Z"
   },
   {
    "duration": 55,
    "start_time": "2021-07-08T10:54:09.675Z"
   },
   {
    "duration": 16,
    "start_time": "2021-07-08T10:54:12.260Z"
   },
   {
    "duration": 15,
    "start_time": "2021-07-08T10:54:49.150Z"
   },
   {
    "duration": 20,
    "start_time": "2021-07-08T10:56:07.596Z"
   },
   {
    "duration": 16,
    "start_time": "2021-07-08T10:58:26.276Z"
   },
   {
    "duration": 22,
    "start_time": "2021-07-08T10:59:00.486Z"
   },
   {
    "duration": 18,
    "start_time": "2021-07-08T11:02:09.653Z"
   },
   {
    "duration": 10,
    "start_time": "2021-07-08T11:03:44.331Z"
   },
   {
    "duration": 10,
    "start_time": "2021-07-08T11:03:54.055Z"
   },
   {
    "duration": 12,
    "start_time": "2021-07-08T11:04:41.967Z"
   },
   {
    "duration": 24,
    "start_time": "2021-07-08T11:07:30.732Z"
   },
   {
    "duration": 6,
    "start_time": "2021-07-08T11:07:37.364Z"
   },
   {
    "duration": 16,
    "start_time": "2021-07-08T11:08:01.819Z"
   },
   {
    "duration": 17,
    "start_time": "2021-07-08T11:09:47.488Z"
   },
   {
    "duration": 246,
    "start_time": "2021-07-08T11:10:00.830Z"
   },
   {
    "duration": 18,
    "start_time": "2021-07-08T11:13:55.195Z"
   },
   {
    "duration": 204,
    "start_time": "2021-07-08T11:14:04.951Z"
   },
   {
    "duration": 19,
    "start_time": "2021-07-08T11:15:10.613Z"
   },
   {
    "duration": 680,
    "start_time": "2021-07-08T11:16:25.793Z"
   },
   {
    "duration": 451,
    "start_time": "2021-07-08T11:16:40.313Z"
   },
   {
    "duration": 469,
    "start_time": "2021-07-08T11:17:21.286Z"
   },
   {
    "duration": 20,
    "start_time": "2021-07-08T11:19:12.554Z"
   },
   {
    "duration": 35,
    "start_time": "2021-07-08T11:20:05.484Z"
   },
   {
    "duration": 53,
    "start_time": "2021-07-08T11:21:40.050Z"
   },
   {
    "duration": 13,
    "start_time": "2021-07-08T11:22:26.059Z"
   },
   {
    "duration": 19,
    "start_time": "2021-07-08T11:22:47.419Z"
   },
   {
    "duration": 25,
    "start_time": "2021-07-08T11:23:19.958Z"
   },
   {
    "duration": 29,
    "start_time": "2021-07-08T11:23:25.415Z"
   },
   {
    "duration": 10,
    "start_time": "2021-07-08T11:24:45.138Z"
   },
   {
    "duration": 19,
    "start_time": "2021-07-08T11:24:54.498Z"
   },
   {
    "duration": 12,
    "start_time": "2021-07-08T11:25:32.225Z"
   },
   {
    "duration": 19,
    "start_time": "2021-07-08T11:25:37.092Z"
   },
   {
    "duration": 17,
    "start_time": "2021-07-08T11:25:58.116Z"
   },
   {
    "duration": 15,
    "start_time": "2021-07-08T11:26:02.258Z"
   },
   {
    "duration": 8,
    "start_time": "2021-07-08T11:26:59.682Z"
   },
   {
    "duration": 184,
    "start_time": "2021-07-08T11:27:21.894Z"
   },
   {
    "duration": 8,
    "start_time": "2021-07-08T11:27:23.824Z"
   },
   {
    "duration": 202,
    "start_time": "2021-07-08T11:27:23.962Z"
   },
   {
    "duration": 360,
    "start_time": "2021-07-08T11:28:33.215Z"
   },
   {
    "duration": 231,
    "start_time": "2021-07-08T11:32:05.542Z"
   },
   {
    "duration": 607,
    "start_time": "2021-07-08T11:36:27.854Z"
   },
   {
    "duration": 241,
    "start_time": "2021-07-08T11:36:28.463Z"
   },
   {
    "duration": 67,
    "start_time": "2021-07-08T11:36:28.709Z"
   },
   {
    "duration": 5,
    "start_time": "2021-07-08T11:36:28.778Z"
   },
   {
    "duration": 32,
    "start_time": "2021-07-08T11:36:28.784Z"
   },
   {
    "duration": 11,
    "start_time": "2021-07-08T11:36:28.819Z"
   },
   {
    "duration": 20,
    "start_time": "2021-07-08T11:36:28.834Z"
   },
   {
    "duration": 36,
    "start_time": "2021-07-08T11:36:28.857Z"
   },
   {
    "duration": 16,
    "start_time": "2021-07-08T11:36:28.895Z"
   },
   {
    "duration": 14,
    "start_time": "2021-07-08T11:36:28.913Z"
   },
   {
    "duration": 9,
    "start_time": "2021-07-08T11:36:28.930Z"
   },
   {
    "duration": 55,
    "start_time": "2021-07-08T11:36:28.941Z"
   },
   {
    "duration": 27,
    "start_time": "2021-07-08T11:36:28.999Z"
   },
   {
    "duration": 30,
    "start_time": "2021-07-08T11:36:29.028Z"
   },
   {
    "duration": 31,
    "start_time": "2021-07-08T11:36:29.060Z"
   },
   {
    "duration": 3,
    "start_time": "2021-07-08T11:36:29.093Z"
   },
   {
    "duration": 12,
    "start_time": "2021-07-08T11:36:29.099Z"
   },
   {
    "duration": 11,
    "start_time": "2021-07-08T11:36:29.112Z"
   },
   {
    "duration": 12,
    "start_time": "2021-07-08T11:36:29.125Z"
   },
   {
    "duration": 9,
    "start_time": "2021-07-08T11:36:29.139Z"
   },
   {
    "duration": 31,
    "start_time": "2021-07-08T11:36:29.191Z"
   },
   {
    "duration": 17,
    "start_time": "2021-07-08T11:36:29.226Z"
   },
   {
    "duration": 7,
    "start_time": "2021-07-08T11:36:29.245Z"
   },
   {
    "duration": 10,
    "start_time": "2021-07-08T11:36:29.254Z"
   },
   {
    "duration": 30,
    "start_time": "2021-07-08T11:36:29.292Z"
   },
   {
    "duration": 11,
    "start_time": "2021-07-08T11:36:29.324Z"
   },
   {
    "duration": 11,
    "start_time": "2021-07-08T11:36:29.337Z"
   },
   {
    "duration": 230,
    "start_time": "2021-07-08T11:36:29.349Z"
   },
   {
    "duration": 13,
    "start_time": "2021-07-08T11:36:29.588Z"
   },
   {
    "duration": 205,
    "start_time": "2021-07-08T11:36:29.603Z"
   },
   {
    "duration": 20,
    "start_time": "2021-07-08T11:36:29.810Z"
   },
   {
    "duration": 9,
    "start_time": "2021-07-08T11:36:29.832Z"
   },
   {
    "duration": 16,
    "start_time": "2021-07-08T11:36:29.843Z"
   },
   {
    "duration": 283,
    "start_time": "2021-07-08T11:36:29.861Z"
   },
   {
    "duration": 50,
    "start_time": "2021-07-08T11:36:30.146Z"
   },
   {
    "duration": 14,
    "start_time": "2021-07-08T11:36:30.198Z"
   },
   {
    "duration": 11,
    "start_time": "2021-07-08T11:36:30.214Z"
   },
   {
    "duration": 245,
    "start_time": "2021-07-08T11:36:30.227Z"
   },
   {
    "duration": 439,
    "start_time": "2021-07-08T11:36:30.474Z"
   },
   {
    "duration": 210,
    "start_time": "2021-07-08T11:36:30.915Z"
   },
   {
    "duration": 15,
    "start_time": "2021-07-08T11:36:31.127Z"
   },
   {
    "duration": 17,
    "start_time": "2021-07-08T11:38:20.451Z"
   },
   {
    "duration": 642,
    "start_time": "2021-07-08T11:46:17.881Z"
   },
   {
    "duration": 210,
    "start_time": "2021-07-08T11:46:18.525Z"
   },
   {
    "duration": 104,
    "start_time": "2021-07-08T11:46:18.741Z"
   },
   {
    "duration": 8,
    "start_time": "2021-07-08T11:46:18.847Z"
   },
   {
    "duration": 25,
    "start_time": "2021-07-08T11:46:18.857Z"
   },
   {
    "duration": 14,
    "start_time": "2021-07-08T11:46:18.884Z"
   },
   {
    "duration": 22,
    "start_time": "2021-07-08T11:46:18.900Z"
   },
   {
    "duration": 5,
    "start_time": "2021-07-08T11:46:18.924Z"
   },
   {
    "duration": 13,
    "start_time": "2021-07-08T11:46:18.931Z"
   },
   {
    "duration": 45,
    "start_time": "2021-07-08T11:46:18.946Z"
   },
   {
    "duration": 12,
    "start_time": "2021-07-08T11:46:18.993Z"
   },
   {
    "duration": 38,
    "start_time": "2021-07-08T11:46:19.006Z"
   },
   {
    "duration": 50,
    "start_time": "2021-07-08T11:46:19.046Z"
   },
   {
    "duration": 29,
    "start_time": "2021-07-08T11:46:19.099Z"
   },
   {
    "duration": 7,
    "start_time": "2021-07-08T11:46:19.130Z"
   },
   {
    "duration": 3,
    "start_time": "2021-07-08T11:46:19.139Z"
   },
   {
    "duration": 11,
    "start_time": "2021-07-08T11:46:19.144Z"
   },
   {
    "duration": 40,
    "start_time": "2021-07-08T11:46:19.157Z"
   },
   {
    "duration": 15,
    "start_time": "2021-07-08T11:46:19.199Z"
   },
   {
    "duration": 10,
    "start_time": "2021-07-08T11:46:19.217Z"
   },
   {
    "duration": 68,
    "start_time": "2021-07-08T11:46:19.230Z"
   },
   {
    "duration": 17,
    "start_time": "2021-07-08T11:46:19.301Z"
   },
   {
    "duration": 7,
    "start_time": "2021-07-08T11:46:19.321Z"
   },
   {
    "duration": 11,
    "start_time": "2021-07-08T11:46:19.330Z"
   },
   {
    "duration": 59,
    "start_time": "2021-07-08T11:46:19.343Z"
   },
   {
    "duration": 17,
    "start_time": "2021-07-08T11:46:19.405Z"
   },
   {
    "duration": 16,
    "start_time": "2021-07-08T11:46:19.424Z"
   },
   {
    "duration": 252,
    "start_time": "2021-07-08T11:46:19.443Z"
   },
   {
    "duration": 9,
    "start_time": "2021-07-08T11:46:19.697Z"
   },
   {
    "duration": 224,
    "start_time": "2021-07-08T11:46:19.708Z"
   },
   {
    "duration": 21,
    "start_time": "2021-07-08T11:46:19.934Z"
   },
   {
    "duration": 9,
    "start_time": "2021-07-08T11:46:19.956Z"
   },
   {
    "duration": 32,
    "start_time": "2021-07-08T11:46:19.967Z"
   },
   {
    "duration": 288,
    "start_time": "2021-07-08T11:46:20.004Z"
   },
   {
    "duration": 23,
    "start_time": "2021-07-08T11:46:20.300Z"
   },
   {
    "duration": 11,
    "start_time": "2021-07-08T11:46:20.325Z"
   },
   {
    "duration": 11,
    "start_time": "2021-07-08T11:46:20.339Z"
   },
   {
    "duration": 259,
    "start_time": "2021-07-08T11:46:20.352Z"
   },
   {
    "duration": 438,
    "start_time": "2021-07-08T11:46:20.613Z"
   },
   {
    "duration": 207,
    "start_time": "2021-07-08T11:46:21.054Z"
   },
   {
    "duration": 27,
    "start_time": "2021-07-08T11:46:21.262Z"
   },
   {
    "duration": 19,
    "start_time": "2021-07-08T11:46:21.291Z"
   },
   {
    "duration": 820,
    "start_time": "2021-07-08T11:49:01.655Z"
   },
   {
    "duration": 372,
    "start_time": "2021-07-08T11:49:02.478Z"
   },
   {
    "duration": 98,
    "start_time": "2021-07-08T11:49:02.853Z"
   },
   {
    "duration": 6,
    "start_time": "2021-07-08T11:49:02.953Z"
   },
   {
    "duration": 39,
    "start_time": "2021-07-08T11:49:02.960Z"
   },
   {
    "duration": 9,
    "start_time": "2021-07-08T11:49:03.003Z"
   },
   {
    "duration": 23,
    "start_time": "2021-07-08T11:49:03.014Z"
   },
   {
    "duration": 6,
    "start_time": "2021-07-08T11:49:03.041Z"
   },
   {
    "duration": 20,
    "start_time": "2021-07-08T11:49:03.049Z"
   },
   {
    "duration": 18,
    "start_time": "2021-07-08T11:49:03.084Z"
   },
   {
    "duration": 14,
    "start_time": "2021-07-08T11:49:03.104Z"
   },
   {
    "duration": 39,
    "start_time": "2021-07-08T11:49:03.119Z"
   },
   {
    "duration": 38,
    "start_time": "2021-07-08T11:49:03.160Z"
   },
   {
    "duration": 26,
    "start_time": "2021-07-08T11:49:03.200Z"
   },
   {
    "duration": 7,
    "start_time": "2021-07-08T11:49:03.227Z"
   },
   {
    "duration": 4,
    "start_time": "2021-07-08T11:49:03.236Z"
   },
   {
    "duration": 15,
    "start_time": "2021-07-08T11:49:03.243Z"
   },
   {
    "duration": 21,
    "start_time": "2021-07-08T11:49:03.285Z"
   },
   {
    "duration": 17,
    "start_time": "2021-07-08T11:49:03.309Z"
   },
   {
    "duration": 10,
    "start_time": "2021-07-08T11:49:03.328Z"
   },
   {
    "duration": 65,
    "start_time": "2021-07-08T11:49:03.340Z"
   },
   {
    "duration": 18,
    "start_time": "2021-07-08T11:49:03.407Z"
   },
   {
    "duration": 8,
    "start_time": "2021-07-08T11:49:03.428Z"
   },
   {
    "duration": 15,
    "start_time": "2021-07-08T11:49:03.438Z"
   },
   {
    "duration": 40,
    "start_time": "2021-07-08T11:49:03.455Z"
   },
   {
    "duration": 12,
    "start_time": "2021-07-08T11:49:03.497Z"
   },
   {
    "duration": 29,
    "start_time": "2021-07-08T11:49:03.511Z"
   },
   {
    "duration": 285,
    "start_time": "2021-07-08T11:49:03.542Z"
   },
   {
    "duration": 8,
    "start_time": "2021-07-08T11:49:03.829Z"
   },
   {
    "duration": 227,
    "start_time": "2021-07-08T11:49:03.838Z"
   },
   {
    "duration": 40,
    "start_time": "2021-07-08T11:49:04.066Z"
   },
   {
    "duration": 10,
    "start_time": "2021-07-08T11:49:04.108Z"
   },
   {
    "duration": 26,
    "start_time": "2021-07-08T11:49:04.121Z"
   },
   {
    "duration": 290,
    "start_time": "2021-07-08T11:49:04.149Z"
   },
   {
    "duration": 26,
    "start_time": "2021-07-08T11:49:04.441Z"
   },
   {
    "duration": 31,
    "start_time": "2021-07-08T11:49:04.470Z"
   },
   {
    "duration": 14,
    "start_time": "2021-07-08T11:49:04.503Z"
   },
   {
    "duration": 259,
    "start_time": "2021-07-08T11:49:04.521Z"
   },
   {
    "duration": 480,
    "start_time": "2021-07-08T11:49:04.782Z"
   },
   {
    "duration": 225,
    "start_time": "2021-07-08T11:49:05.264Z"
   },
   {
    "duration": 22,
    "start_time": "2021-07-08T11:49:05.491Z"
   },
   {
    "duration": 24,
    "start_time": "2021-07-08T11:49:05.515Z"
   },
   {
    "duration": 634,
    "start_time": "2021-07-08T11:52:24.960Z"
   },
   {
    "duration": 199,
    "start_time": "2021-07-08T11:52:25.599Z"
   },
   {
    "duration": 106,
    "start_time": "2021-07-08T11:52:25.803Z"
   },
   {
    "duration": 7,
    "start_time": "2021-07-08T11:52:25.911Z"
   },
   {
    "duration": 29,
    "start_time": "2021-07-08T11:52:25.920Z"
   },
   {
    "duration": 7,
    "start_time": "2021-07-08T11:52:25.951Z"
   },
   {
    "duration": 26,
    "start_time": "2021-07-08T11:52:25.961Z"
   },
   {
    "duration": 11,
    "start_time": "2021-07-08T11:52:25.990Z"
   },
   {
    "duration": 29,
    "start_time": "2021-07-08T11:52:26.005Z"
   },
   {
    "duration": 9,
    "start_time": "2021-07-08T11:52:26.036Z"
   },
   {
    "duration": 8,
    "start_time": "2021-07-08T11:52:26.047Z"
   },
   {
    "duration": 63,
    "start_time": "2021-07-08T11:52:26.057Z"
   },
   {
    "duration": 17,
    "start_time": "2021-07-08T11:52:26.122Z"
   },
   {
    "duration": 43,
    "start_time": "2021-07-08T11:52:26.142Z"
   },
   {
    "duration": 17,
    "start_time": "2021-07-08T11:52:26.187Z"
   },
   {
    "duration": 5,
    "start_time": "2021-07-08T11:52:26.206Z"
   },
   {
    "duration": 12,
    "start_time": "2021-07-08T11:52:26.212Z"
   },
   {
    "duration": 11,
    "start_time": "2021-07-08T11:52:26.226Z"
   },
   {
    "duration": 12,
    "start_time": "2021-07-08T11:52:26.238Z"
   },
   {
    "duration": 38,
    "start_time": "2021-07-08T11:52:26.252Z"
   },
   {
    "duration": 40,
    "start_time": "2021-07-08T11:52:26.292Z"
   },
   {
    "duration": 17,
    "start_time": "2021-07-08T11:52:26.336Z"
   },
   {
    "duration": 39,
    "start_time": "2021-07-08T11:52:26.355Z"
   },
   {
    "duration": 11,
    "start_time": "2021-07-08T11:52:26.395Z"
   },
   {
    "duration": 23,
    "start_time": "2021-07-08T11:52:26.408Z"
   },
   {
    "duration": 12,
    "start_time": "2021-07-08T11:52:26.432Z"
   },
   {
    "duration": 41,
    "start_time": "2021-07-08T11:52:26.446Z"
   },
   {
    "duration": 215,
    "start_time": "2021-07-08T11:52:26.493Z"
   },
   {
    "duration": 8,
    "start_time": "2021-07-08T11:52:26.710Z"
   },
   {
    "duration": 228,
    "start_time": "2021-07-08T11:52:26.720Z"
   },
   {
    "duration": 18,
    "start_time": "2021-07-08T11:52:26.950Z"
   },
   {
    "duration": 35,
    "start_time": "2021-07-08T11:52:26.969Z"
   },
   {
    "duration": 23,
    "start_time": "2021-07-08T11:52:27.006Z"
   },
   {
    "duration": 258,
    "start_time": "2021-07-08T11:52:27.030Z"
   },
   {
    "duration": 24,
    "start_time": "2021-07-08T11:52:27.290Z"
   },
   {
    "duration": 12,
    "start_time": "2021-07-08T11:52:27.316Z"
   },
   {
    "duration": 10,
    "start_time": "2021-07-08T11:52:27.329Z"
   },
   {
    "duration": 298,
    "start_time": "2021-07-08T11:52:27.341Z"
   },
   {
    "duration": 436,
    "start_time": "2021-07-08T11:52:27.641Z"
   },
   {
    "duration": 216,
    "start_time": "2021-07-08T11:52:28.079Z"
   },
   {
    "duration": 20,
    "start_time": "2021-07-08T11:52:28.297Z"
   },
   {
    "duration": 17,
    "start_time": "2021-07-08T11:52:28.319Z"
   },
   {
    "duration": 1475,
    "start_time": "2021-12-16T07:47:09.697Z"
   },
   {
    "duration": 89,
    "start_time": "2021-12-16T07:47:30.724Z"
   },
   {
    "duration": 85,
    "start_time": "2021-12-16T07:48:24.887Z"
   },
   {
    "duration": 42,
    "start_time": "2021-12-16T07:50:59.790Z"
   },
   {
    "duration": 80,
    "start_time": "2021-12-16T08:05:33.698Z"
   },
   {
    "duration": 1050,
    "start_time": "2021-12-16T08:16:56.265Z"
   },
   {
    "duration": 273,
    "start_time": "2021-12-16T08:17:44.165Z"
   },
   {
    "duration": 279,
    "start_time": "2021-12-16T08:18:22.340Z"
   },
   {
    "duration": 11,
    "start_time": "2021-12-16T08:23:48.229Z"
   },
   {
    "duration": 11,
    "start_time": "2021-12-16T08:25:14.255Z"
   },
   {
    "duration": 13,
    "start_time": "2021-12-16T08:25:36.480Z"
   },
   {
    "duration": 14,
    "start_time": "2021-12-16T08:25:57.309Z"
   },
   {
    "duration": 13,
    "start_time": "2021-12-16T08:26:38.603Z"
   },
   {
    "duration": 16,
    "start_time": "2021-12-16T08:28:52.851Z"
   },
   {
    "duration": 13,
    "start_time": "2021-12-16T08:29:19.860Z"
   },
   {
    "duration": 1404,
    "start_time": "2021-12-16T08:29:35.018Z"
   },
   {
    "duration": 43,
    "start_time": "2021-12-16T08:29:36.423Z"
   },
   {
    "duration": 35,
    "start_time": "2021-12-16T08:29:36.468Z"
   },
   {
    "duration": 1989,
    "start_time": "2021-12-16T08:30:21.766Z"
   },
   {
    "duration": 95,
    "start_time": "2021-12-16T08:30:45.536Z"
   },
   {
    "duration": 13,
    "start_time": "2021-12-16T08:31:13.448Z"
   },
   {
    "duration": 1313,
    "start_time": "2021-12-16T08:32:47.063Z"
   },
   {
    "duration": 14,
    "start_time": "2021-12-16T08:33:46.624Z"
   },
   {
    "duration": 18,
    "start_time": "2021-12-16T08:38:50.758Z"
   },
   {
    "duration": 288,
    "start_time": "2021-12-16T08:38:57.270Z"
   },
   {
    "duration": 292,
    "start_time": "2021-12-16T08:39:35.147Z"
   },
   {
    "duration": 11,
    "start_time": "2021-12-16T08:41:28.557Z"
   },
   {
    "duration": 20,
    "start_time": "2021-12-16T08:42:05.009Z"
   },
   {
    "duration": 12,
    "start_time": "2021-12-16T08:42:36.215Z"
   },
   {
    "duration": 12,
    "start_time": "2021-12-16T08:44:21.843Z"
   },
   {
    "duration": 14,
    "start_time": "2021-12-16T08:44:28.773Z"
   },
   {
    "duration": 14,
    "start_time": "2021-12-16T08:45:05.697Z"
   },
   {
    "duration": 13,
    "start_time": "2021-12-16T08:45:25.930Z"
   },
   {
    "duration": 41,
    "start_time": "2021-12-16T08:48:13.990Z"
   },
   {
    "duration": 37,
    "start_time": "2021-12-16T08:49:08.171Z"
   },
   {
    "duration": 21,
    "start_time": "2021-12-16T08:50:38.200Z"
   },
   {
    "duration": 360,
    "start_time": "2021-12-16T08:51:24.749Z"
   },
   {
    "duration": 356,
    "start_time": "2021-12-16T08:51:33.231Z"
   },
   {
    "duration": 14,
    "start_time": "2021-12-16T08:51:59.701Z"
   },
   {
    "duration": 14,
    "start_time": "2021-12-16T08:52:04.221Z"
   },
   {
    "duration": 40,
    "start_time": "2021-12-16T08:56:22.125Z"
   },
   {
    "duration": 32,
    "start_time": "2021-12-16T08:56:29.622Z"
   },
   {
    "duration": 33,
    "start_time": "2021-12-16T08:57:25.329Z"
   },
   {
    "duration": 38,
    "start_time": "2021-12-16T08:59:02.801Z"
   },
   {
    "duration": 257,
    "start_time": "2021-12-17T13:01:28.911Z"
   },
   {
    "duration": 1255,
    "start_time": "2021-12-17T13:01:43.551Z"
   },
   {
    "duration": 45,
    "start_time": "2021-12-17T13:01:44.808Z"
   },
   {
    "duration": 37,
    "start_time": "2021-12-17T13:01:44.857Z"
   },
   {
    "duration": 12,
    "start_time": "2021-12-17T13:01:44.896Z"
   },
   {
    "duration": 9,
    "start_time": "2021-12-17T13:52:25.239Z"
   },
   {
    "duration": 6542,
    "start_time": "2021-12-17T13:53:54.773Z"
   },
   {
    "duration": 10,
    "start_time": "2021-12-17T13:54:20.177Z"
   },
   {
    "duration": 67,
    "start_time": "2021-12-17T14:54:23.686Z"
   },
   {
    "duration": 20,
    "start_time": "2021-12-17T14:54:31.274Z"
   },
   {
    "duration": 41,
    "start_time": "2021-12-17T15:01:47.737Z"
   },
   {
    "duration": 275,
    "start_time": "2021-12-17T15:02:04.713Z"
   },
   {
    "duration": 324,
    "start_time": "2021-12-17T15:02:11.207Z"
   },
   {
    "duration": 73,
    "start_time": "2021-12-17T15:02:38.052Z"
   },
   {
    "duration": 55,
    "start_time": "2021-12-17T15:04:39.074Z"
   },
   {
    "duration": 7,
    "start_time": "2021-12-17T15:13:48.128Z"
   },
   {
    "duration": 7,
    "start_time": "2021-12-17T15:14:26.856Z"
   },
   {
    "duration": 8,
    "start_time": "2021-12-17T15:14:44.245Z"
   },
   {
    "duration": 1483,
    "start_time": "2021-12-17T15:15:01.724Z"
   },
   {
    "duration": 48,
    "start_time": "2021-12-17T15:15:03.209Z"
   },
   {
    "duration": 37,
    "start_time": "2021-12-17T15:15:03.259Z"
   },
   {
    "duration": 14,
    "start_time": "2021-12-17T15:15:03.298Z"
   },
   {
    "duration": 326,
    "start_time": "2021-12-17T15:15:03.314Z"
   },
   {
    "duration": -559,
    "start_time": "2021-12-17T15:15:04.201Z"
   },
   {
    "duration": -563,
    "start_time": "2021-12-17T15:15:04.206Z"
   },
   {
    "duration": -581,
    "start_time": "2021-12-17T15:15:04.226Z"
   },
   {
    "duration": 12,
    "start_time": "2021-12-17T15:15:53.997Z"
   },
   {
    "duration": 14,
    "start_time": "2021-12-17T15:16:27.801Z"
   },
   {
    "duration": 32,
    "start_time": "2021-12-17T15:17:09.245Z"
   },
   {
    "duration": 33,
    "start_time": "2021-12-17T15:19:48.939Z"
   },
   {
    "duration": 1193,
    "start_time": "2021-12-17T15:19:56.911Z"
   },
   {
    "duration": 45,
    "start_time": "2021-12-17T15:19:58.106Z"
   },
   {
    "duration": 35,
    "start_time": "2021-12-17T15:19:58.153Z"
   },
   {
    "duration": 13,
    "start_time": "2021-12-17T15:19:58.190Z"
   },
   {
    "duration": 31,
    "start_time": "2021-12-17T15:19:58.204Z"
   },
   {
    "duration": 27,
    "start_time": "2021-12-17T15:19:58.236Z"
   },
   {
    "duration": 60,
    "start_time": "2021-12-17T15:19:58.265Z"
   },
   {
    "duration": 8,
    "start_time": "2021-12-17T15:19:58.327Z"
   },
   {
    "duration": 52,
    "start_time": "2021-12-17T15:21:19.908Z"
   },
   {
    "duration": 46,
    "start_time": "2021-12-17T15:22:24.416Z"
   },
   {
    "duration": 324,
    "start_time": "2021-12-18T05:56:44.201Z"
   },
   {
    "duration": 1266,
    "start_time": "2021-12-18T05:56:56.284Z"
   },
   {
    "duration": 67,
    "start_time": "2021-12-18T05:56:57.552Z"
   },
   {
    "duration": 36,
    "start_time": "2021-12-18T05:56:57.621Z"
   },
   {
    "duration": 11,
    "start_time": "2021-12-18T05:56:57.659Z"
   },
   {
    "duration": 51,
    "start_time": "2021-12-18T05:56:57.672Z"
   },
   {
    "duration": 9,
    "start_time": "2021-12-18T05:56:57.725Z"
   },
   {
    "duration": 80,
    "start_time": "2021-12-18T05:56:57.736Z"
   },
   {
    "duration": 46,
    "start_time": "2021-12-18T05:56:57.818Z"
   },
   {
    "duration": 11,
    "start_time": "2021-12-18T06:10:51.327Z"
   },
   {
    "duration": 428,
    "start_time": "2021-12-18T08:47:38.609Z"
   },
   {
    "duration": 32,
    "start_time": "2021-12-18T08:47:54.905Z"
   },
   {
    "duration": 43,
    "start_time": "2021-12-18T11:46:30.841Z"
   },
   {
    "duration": 6,
    "start_time": "2021-12-18T13:30:39.546Z"
   },
   {
    "duration": 301,
    "start_time": "2021-12-18T13:31:13.102Z"
   },
   {
    "duration": 6,
    "start_time": "2021-12-18T13:31:36.220Z"
   },
   {
    "duration": 5,
    "start_time": "2021-12-18T13:32:59.075Z"
   },
   {
    "duration": 7,
    "start_time": "2021-12-18T13:36:28.539Z"
   },
   {
    "duration": 7,
    "start_time": "2021-12-18T13:37:32.714Z"
   },
   {
    "duration": 1232,
    "start_time": "2021-12-18T13:37:43.907Z"
   },
   {
    "duration": 110,
    "start_time": "2021-12-18T13:37:45.141Z"
   },
   {
    "duration": 38,
    "start_time": "2021-12-18T13:37:45.255Z"
   },
   {
    "duration": 11,
    "start_time": "2021-12-18T13:37:45.295Z"
   },
   {
    "duration": 26,
    "start_time": "2021-12-18T13:37:45.308Z"
   },
   {
    "duration": 31,
    "start_time": "2021-12-18T13:37:45.335Z"
   },
   {
    "duration": 61,
    "start_time": "2021-12-18T13:37:45.369Z"
   },
   {
    "duration": 49,
    "start_time": "2021-12-18T13:37:45.432Z"
   },
   {
    "duration": 29,
    "start_time": "2021-12-18T13:37:45.483Z"
   },
   {
    "duration": 18,
    "start_time": "2021-12-18T13:46:17.282Z"
   },
   {
    "duration": 374,
    "start_time": "2021-12-18T14:12:27.782Z"
   },
   {
    "duration": 16,
    "start_time": "2021-12-18T14:13:26.659Z"
   },
   {
    "duration": 29,
    "start_time": "2021-12-18T14:14:10.393Z"
   },
   {
    "duration": 33,
    "start_time": "2021-12-18T14:14:54.004Z"
   },
   {
    "duration": 32,
    "start_time": "2021-12-18T14:15:12.238Z"
   },
   {
    "duration": 30,
    "start_time": "2021-12-18T14:15:26.107Z"
   },
   {
    "duration": 32,
    "start_time": "2021-12-18T14:15:42.949Z"
   },
   {
    "duration": 27,
    "start_time": "2021-12-18T14:15:57.014Z"
   },
   {
    "duration": 54,
    "start_time": "2021-12-18T14:16:38.570Z"
   },
   {
    "duration": 86,
    "start_time": "2021-12-18T14:17:05.291Z"
   },
   {
    "duration": 28,
    "start_time": "2021-12-18T14:28:27.159Z"
   },
   {
    "duration": 32,
    "start_time": "2021-12-18T14:28:43.491Z"
   },
   {
    "duration": 94,
    "start_time": "2021-12-18T14:29:16.953Z"
   },
   {
    "duration": 35,
    "start_time": "2021-12-18T14:29:28.061Z"
   },
   {
    "duration": 46,
    "start_time": "2021-12-18T14:30:17.795Z"
   },
   {
    "duration": 39,
    "start_time": "2021-12-18T14:30:27.973Z"
   },
   {
    "duration": 39,
    "start_time": "2021-12-18T14:30:41.412Z"
   },
   {
    "duration": 28,
    "start_time": "2021-12-18T14:30:57.072Z"
   },
   {
    "duration": 85,
    "start_time": "2021-12-18T15:23:09.321Z"
   },
   {
    "duration": 94,
    "start_time": "2021-12-18T15:28:09.527Z"
   },
   {
    "duration": 108,
    "start_time": "2021-12-18T15:28:28.042Z"
   },
   {
    "duration": 99,
    "start_time": "2021-12-18T15:28:50.467Z"
   },
   {
    "duration": -1096,
    "start_time": "2021-12-18T15:29:46.003Z"
   },
   {
    "duration": 8433,
    "start_time": "2021-12-18T15:30:09.777Z"
   },
   {
    "duration": 116,
    "start_time": "2021-12-18T15:34:00.113Z"
   },
   {
    "duration": 752,
    "start_time": "2021-12-18T15:35:41.468Z"
   },
   {
    "duration": 1055,
    "start_time": "2021-12-18T15:36:04.952Z"
   },
   {
    "duration": 1824,
    "start_time": "2021-12-20T05:31:23.188Z"
   },
   {
    "duration": 59,
    "start_time": "2021-12-20T05:31:25.016Z"
   },
   {
    "duration": 102,
    "start_time": "2021-12-20T05:31:25.079Z"
   },
   {
    "duration": 17,
    "start_time": "2021-12-20T05:31:25.184Z"
   },
   {
    "duration": 72,
    "start_time": "2021-12-20T05:31:25.203Z"
   },
   {
    "duration": 50,
    "start_time": "2021-12-20T05:31:25.277Z"
   },
   {
    "duration": 138,
    "start_time": "2021-12-20T05:31:25.330Z"
   },
   {
    "duration": 134,
    "start_time": "2021-12-20T05:31:25.472Z"
   },
   {
    "duration": 11,
    "start_time": "2021-12-20T05:31:25.609Z"
   },
   {
    "duration": 61,
    "start_time": "2021-12-20T05:31:25.623Z"
   },
   {
    "duration": 1343,
    "start_time": "2021-12-20T05:31:25.686Z"
   },
   {
    "duration": 795,
    "start_time": "2021-12-20T05:31:54.047Z"
   },
   {
    "duration": 1198,
    "start_time": "2021-12-20T05:35:23.315Z"
   },
   {
    "duration": 31,
    "start_time": "2021-12-20T05:56:31.467Z"
   },
   {
    "duration": 55,
    "start_time": "2021-12-20T05:56:45.728Z"
   },
   {
    "duration": 131,
    "start_time": "2021-12-20T05:57:00.961Z"
   },
   {
    "duration": 1527,
    "start_time": "2021-12-20T05:57:19.505Z"
   },
   {
    "duration": 59,
    "start_time": "2021-12-20T05:57:21.035Z"
   },
   {
    "duration": 66,
    "start_time": "2021-12-20T05:57:21.099Z"
   },
   {
    "duration": 17,
    "start_time": "2021-12-20T05:57:21.168Z"
   },
   {
    "duration": 72,
    "start_time": "2021-12-20T05:57:21.187Z"
   },
   {
    "duration": 69,
    "start_time": "2021-12-20T05:57:21.263Z"
   },
   {
    "duration": 83,
    "start_time": "2021-12-20T05:57:21.335Z"
   },
   {
    "duration": 107,
    "start_time": "2021-12-20T05:57:21.423Z"
   },
   {
    "duration": 33,
    "start_time": "2021-12-20T05:57:21.533Z"
   },
   {
    "duration": 30,
    "start_time": "2021-12-20T05:57:21.569Z"
   },
   {
    "duration": 88,
    "start_time": "2021-12-20T05:57:21.602Z"
   },
   {
    "duration": 14,
    "start_time": "2021-12-20T06:13:06.105Z"
   },
   {
    "duration": 9,
    "start_time": "2021-12-20T06:14:00.132Z"
   },
   {
    "duration": 15,
    "start_time": "2021-12-20T06:53:34.420Z"
   },
   {
    "duration": 2938,
    "start_time": "2021-12-20T11:42:04.133Z"
   },
   {
    "duration": 52,
    "start_time": "2021-12-20T11:43:17.582Z"
   },
   {
    "duration": 48,
    "start_time": "2021-12-20T11:47:24.866Z"
   },
   {
    "duration": 213,
    "start_time": "2021-12-21T05:56:15.601Z"
   },
   {
    "duration": 1270,
    "start_time": "2021-12-21T05:56:47.343Z"
   },
   {
    "duration": 46,
    "start_time": "2021-12-21T05:56:48.615Z"
   },
   {
    "duration": 33,
    "start_time": "2021-12-21T05:56:48.663Z"
   },
   {
    "duration": 10,
    "start_time": "2021-12-21T05:56:48.698Z"
   },
   {
    "duration": 35,
    "start_time": "2021-12-21T05:56:48.710Z"
   },
   {
    "duration": 29,
    "start_time": "2021-12-21T05:56:48.746Z"
   },
   {
    "duration": 37,
    "start_time": "2021-12-21T05:56:48.777Z"
   },
   {
    "duration": 67,
    "start_time": "2021-12-21T05:56:48.816Z"
   },
   {
    "duration": 6,
    "start_time": "2021-12-21T05:56:48.885Z"
   },
   {
    "duration": 17,
    "start_time": "2021-12-21T05:56:48.892Z"
   },
   {
    "duration": 54,
    "start_time": "2021-12-21T05:56:48.911Z"
   },
   {
    "duration": 12,
    "start_time": "2021-12-21T05:56:48.967Z"
   },
   {
    "duration": 8,
    "start_time": "2021-12-21T05:57:03.971Z"
   },
   {
    "duration": 80,
    "start_time": "2021-12-21T06:34:58.775Z"
   },
   {
    "duration": 75,
    "start_time": "2021-12-21T06:35:33.361Z"
   },
   {
    "duration": 89,
    "start_time": "2021-12-21T06:37:02.128Z"
   },
   {
    "duration": 77,
    "start_time": "2021-12-21T06:38:50.570Z"
   },
   {
    "duration": 75,
    "start_time": "2021-12-21T06:38:59.105Z"
   },
   {
    "duration": 75,
    "start_time": "2021-12-21T06:39:38.807Z"
   },
   {
    "duration": 78,
    "start_time": "2021-12-21T06:40:01.730Z"
   },
   {
    "duration": 76,
    "start_time": "2021-12-21T06:40:11.681Z"
   },
   {
    "duration": 78,
    "start_time": "2021-12-21T06:40:19.967Z"
   },
   {
    "duration": 47,
    "start_time": "2021-12-21T07:22:32.189Z"
   },
   {
    "duration": 6,
    "start_time": "2021-12-21T07:23:29.267Z"
   },
   {
    "duration": 68,
    "start_time": "2021-12-21T07:50:48.841Z"
   },
   {
    "duration": 66,
    "start_time": "2021-12-21T07:51:05.995Z"
   },
   {
    "duration": 12,
    "start_time": "2021-12-21T07:51:14.763Z"
   },
   {
    "duration": 90,
    "start_time": "2021-12-21T08:07:00.373Z"
   },
   {
    "duration": 73,
    "start_time": "2021-12-21T08:07:16.494Z"
   },
   {
    "duration": 69,
    "start_time": "2021-12-21T08:08:02.706Z"
   },
   {
    "duration": 305,
    "start_time": "2021-12-21T08:08:12.927Z"
   },
   {
    "duration": 217,
    "start_time": "2021-12-21T08:08:37.567Z"
   },
   {
    "duration": 5277,
    "start_time": "2021-12-21T08:08:52.254Z"
   },
   {
    "duration": 5883,
    "start_time": "2021-12-21T08:09:33.211Z"
   },
   {
    "duration": 221,
    "start_time": "2021-12-21T08:10:35.784Z"
   },
   {
    "duration": 7,
    "start_time": "2021-12-21T08:10:51.583Z"
   },
   {
    "duration": 13,
    "start_time": "2021-12-21T08:11:12.984Z"
   },
   {
    "duration": 7,
    "start_time": "2021-12-21T08:11:48.844Z"
   },
   {
    "duration": 13,
    "start_time": "2021-12-21T08:12:13.986Z"
   },
   {
    "duration": 23,
    "start_time": "2021-12-21T08:30:05.598Z"
   },
   {
    "duration": 18,
    "start_time": "2021-12-21T08:39:26.912Z"
   },
   {
    "duration": 10,
    "start_time": "2021-12-21T08:39:33.556Z"
   },
   {
    "duration": 17,
    "start_time": "2021-12-21T08:39:50.217Z"
   },
   {
    "duration": 6,
    "start_time": "2021-12-21T08:40:10.813Z"
   },
   {
    "duration": 6,
    "start_time": "2021-12-21T08:40:16.758Z"
   },
   {
    "duration": 9,
    "start_time": "2021-12-21T08:40:22.105Z"
   },
   {
    "duration": 1399,
    "start_time": "2021-12-21T08:40:30.972Z"
   },
   {
    "duration": 49,
    "start_time": "2021-12-21T08:40:32.373Z"
   },
   {
    "duration": 42,
    "start_time": "2021-12-21T08:40:32.425Z"
   },
   {
    "duration": 13,
    "start_time": "2021-12-21T08:40:32.470Z"
   },
   {
    "duration": 31,
    "start_time": "2021-12-21T08:40:32.485Z"
   },
   {
    "duration": 32,
    "start_time": "2021-12-21T08:40:32.518Z"
   },
   {
    "duration": 52,
    "start_time": "2021-12-21T08:40:32.552Z"
   },
   {
    "duration": 12,
    "start_time": "2021-12-21T08:40:32.607Z"
   },
   {
    "duration": 73,
    "start_time": "2021-12-21T08:40:32.642Z"
   },
   {
    "duration": -5264,
    "start_time": "2021-12-21T08:40:37.981Z"
   },
   {
    "duration": -5267,
    "start_time": "2021-12-21T08:40:37.985Z"
   },
   {
    "duration": -5269,
    "start_time": "2021-12-21T08:40:37.988Z"
   },
   {
    "duration": -5271,
    "start_time": "2021-12-21T08:40:37.991Z"
   },
   {
    "duration": 58,
    "start_time": "2021-12-21T08:40:52.584Z"
   },
   {
    "duration": 1772,
    "start_time": "2021-12-21T08:40:59.937Z"
   },
   {
    "duration": 49,
    "start_time": "2021-12-21T08:41:01.711Z"
   },
   {
    "duration": 47,
    "start_time": "2021-12-21T08:41:01.763Z"
   },
   {
    "duration": 30,
    "start_time": "2021-12-21T08:41:01.813Z"
   },
   {
    "duration": 27,
    "start_time": "2021-12-21T08:41:01.845Z"
   },
   {
    "duration": 11,
    "start_time": "2021-12-21T08:41:01.875Z"
   },
   {
    "duration": 98,
    "start_time": "2021-12-21T08:41:01.888Z"
   },
   {
    "duration": 19,
    "start_time": "2021-12-21T08:41:01.990Z"
   },
   {
    "duration": 83,
    "start_time": "2021-12-21T08:41:02.011Z"
   },
   {
    "duration": 9,
    "start_time": "2021-12-21T08:41:02.096Z"
   },
   {
    "duration": 51,
    "start_time": "2021-12-21T08:41:02.107Z"
   },
   {
    "duration": 40,
    "start_time": "2021-12-21T08:41:02.160Z"
   },
   {
    "duration": 26,
    "start_time": "2021-12-21T08:41:02.202Z"
   },
   {
    "duration": 73,
    "start_time": "2021-12-21T09:17:05.134Z"
   },
   {
    "duration": 16,
    "start_time": "2021-12-21T12:12:10.459Z"
   },
   {
    "duration": 17,
    "start_time": "2021-12-21T12:23:24.810Z"
   },
   {
    "duration": 10,
    "start_time": "2021-12-21T12:23:33.786Z"
   },
   {
    "duration": 15,
    "start_time": "2021-12-21T13:06:48.902Z"
   },
   {
    "duration": 15,
    "start_time": "2021-12-21T13:07:04.398Z"
   },
   {
    "duration": 11,
    "start_time": "2021-12-21T13:08:35.721Z"
   },
   {
    "duration": 10,
    "start_time": "2021-12-21T13:46:42.452Z"
   },
   {
    "duration": 20,
    "start_time": "2021-12-21T13:46:49.048Z"
   },
   {
    "duration": 1204,
    "start_time": "2021-12-21T13:47:02.661Z"
   },
   {
    "duration": 46,
    "start_time": "2021-12-21T13:47:03.867Z"
   },
   {
    "duration": 35,
    "start_time": "2021-12-21T13:47:03.917Z"
   },
   {
    "duration": 11,
    "start_time": "2021-12-21T13:47:03.954Z"
   },
   {
    "duration": 22,
    "start_time": "2021-12-21T13:47:03.966Z"
   },
   {
    "duration": 10,
    "start_time": "2021-12-21T13:47:03.989Z"
   },
   {
    "duration": 84,
    "start_time": "2021-12-21T13:47:04.001Z"
   },
   {
    "duration": 13,
    "start_time": "2021-12-21T13:47:04.087Z"
   },
   {
    "duration": 29,
    "start_time": "2021-12-21T13:47:04.102Z"
   },
   {
    "duration": 61,
    "start_time": "2021-12-21T13:47:04.132Z"
   },
   {
    "duration": 7,
    "start_time": "2021-12-21T13:47:04.194Z"
   },
   {
    "duration": 36,
    "start_time": "2021-12-21T13:47:04.202Z"
   },
   {
    "duration": 34,
    "start_time": "2021-12-21T13:47:04.240Z"
   },
   {
    "duration": 17,
    "start_time": "2021-12-21T13:47:04.276Z"
   },
   {
    "duration": 17,
    "start_time": "2021-12-21T13:51:31.724Z"
   },
   {
    "duration": 6,
    "start_time": "2021-12-21T13:55:28.147Z"
   },
   {
    "duration": 6,
    "start_time": "2021-12-21T13:55:51.865Z"
   },
   {
    "duration": 6,
    "start_time": "2021-12-21T13:56:04.999Z"
   },
   {
    "duration": 19,
    "start_time": "2021-12-21T13:58:02.463Z"
   },
   {
    "duration": 8,
    "start_time": "2021-12-21T13:58:19.531Z"
   },
   {
    "duration": 6,
    "start_time": "2021-12-21T14:02:46.003Z"
   },
   {
    "duration": 6,
    "start_time": "2021-12-21T14:02:55.077Z"
   },
   {
    "duration": 12,
    "start_time": "2021-12-21T14:03:16.095Z"
   },
   {
    "duration": 1278,
    "start_time": "2021-12-21T15:03:14.021Z"
   },
   {
    "duration": 46,
    "start_time": "2021-12-21T15:03:15.301Z"
   },
   {
    "duration": 37,
    "start_time": "2021-12-21T15:03:15.349Z"
   },
   {
    "duration": 12,
    "start_time": "2021-12-21T15:03:15.388Z"
   },
   {
    "duration": 42,
    "start_time": "2021-12-21T15:03:15.402Z"
   },
   {
    "duration": 9,
    "start_time": "2021-12-21T15:03:15.446Z"
   },
   {
    "duration": 11,
    "start_time": "2021-12-21T15:03:15.456Z"
   },
   {
    "duration": 91,
    "start_time": "2021-12-21T15:03:15.469Z"
   },
   {
    "duration": 15,
    "start_time": "2021-12-21T15:03:15.562Z"
   },
   {
    "duration": 14,
    "start_time": "2021-12-21T15:03:15.578Z"
   },
   {
    "duration": 74,
    "start_time": "2021-12-21T15:03:15.593Z"
   },
   {
    "duration": 7,
    "start_time": "2021-12-21T15:03:15.668Z"
   },
   {
    "duration": 20,
    "start_time": "2021-12-21T15:03:15.677Z"
   },
   {
    "duration": 50,
    "start_time": "2021-12-21T15:03:15.699Z"
   },
   {
    "duration": 27,
    "start_time": "2021-12-21T15:03:15.751Z"
   },
   {
    "duration": 10,
    "start_time": "2021-12-21T15:26:47.088Z"
   },
   {
    "duration": 9,
    "start_time": "2021-12-21T15:27:16.944Z"
   },
   {
    "duration": 5,
    "start_time": "2021-12-21T15:27:41.676Z"
   },
   {
    "duration": 8,
    "start_time": "2021-12-21T15:38:00.325Z"
   },
   {
    "duration": 5,
    "start_time": "2021-12-21T15:38:27.808Z"
   },
   {
    "duration": 4,
    "start_time": "2021-12-21T15:38:41.199Z"
   },
   {
    "duration": 8,
    "start_time": "2021-12-21T15:39:58.900Z"
   },
   {
    "duration": 10,
    "start_time": "2021-12-21T15:40:12.818Z"
   },
   {
    "duration": 21,
    "start_time": "2021-12-21T15:40:58.641Z"
   },
   {
    "duration": 4956,
    "start_time": "2021-12-21T15:41:16.235Z"
   },
   {
    "duration": 13,
    "start_time": "2021-12-21T15:42:38.653Z"
   },
   {
    "duration": 226,
    "start_time": "2021-12-21T15:44:25.215Z"
   },
   {
    "duration": 8,
    "start_time": "2021-12-21T15:44:36.026Z"
   },
   {
    "duration": 66,
    "start_time": "2021-12-21T15:46:14.437Z"
   },
   {
    "duration": 27,
    "start_time": "2021-12-21T15:47:21.189Z"
   },
   {
    "duration": 24,
    "start_time": "2021-12-21T15:47:31.897Z"
   },
   {
    "duration": 28,
    "start_time": "2021-12-21T15:48:50.045Z"
   },
   {
    "duration": 31,
    "start_time": "2021-12-21T15:55:50.781Z"
   },
   {
    "duration": 60,
    "start_time": "2021-12-21T16:21:18.814Z"
   },
   {
    "duration": 201,
    "start_time": "2021-12-21T16:21:31.259Z"
   },
   {
    "duration": 63,
    "start_time": "2021-12-21T16:31:38.383Z"
   },
   {
    "duration": 60,
    "start_time": "2021-12-21T16:31:48.662Z"
   },
   {
    "duration": 200,
    "start_time": "2021-12-21T16:31:58.265Z"
   },
   {
    "duration": 188,
    "start_time": "2021-12-21T16:34:32.962Z"
   },
   {
    "duration": 187,
    "start_time": "2021-12-21T16:34:44.135Z"
   },
   {
    "duration": 1584,
    "start_time": "2021-12-22T05:53:56.650Z"
   },
   {
    "duration": 97,
    "start_time": "2021-12-22T05:54:39.300Z"
   },
   {
    "duration": 46,
    "start_time": "2021-12-22T05:55:50.035Z"
   },
   {
    "duration": 1344,
    "start_time": "2021-12-22T05:57:23.867Z"
   },
   {
    "duration": 402,
    "start_time": "2021-12-22T05:57:31.306Z"
   },
   {
    "duration": 100,
    "start_time": "2021-12-22T05:58:10.215Z"
   },
   {
    "duration": 548,
    "start_time": "2021-12-22T05:58:29.010Z"
   },
   {
    "duration": 91,
    "start_time": "2021-12-22T05:58:41.330Z"
   },
   {
    "duration": 110,
    "start_time": "2021-12-22T05:59:02.069Z"
   },
   {
    "duration": 1589,
    "start_time": "2021-12-22T05:59:51.868Z"
   },
   {
    "duration": 99,
    "start_time": "2021-12-22T05:59:53.460Z"
   },
   {
    "duration": 44,
    "start_time": "2021-12-22T05:59:53.562Z"
   },
   {
    "duration": 26,
    "start_time": "2021-12-22T05:59:53.608Z"
   },
   {
    "duration": 40,
    "start_time": "2021-12-22T05:59:53.637Z"
   },
   {
    "duration": 13,
    "start_time": "2021-12-22T05:59:53.679Z"
   },
   {
    "duration": 49,
    "start_time": "2021-12-22T05:59:53.695Z"
   },
   {
    "duration": 107,
    "start_time": "2021-12-22T05:59:53.749Z"
   },
   {
    "duration": 24,
    "start_time": "2021-12-22T05:59:53.859Z"
   },
   {
    "duration": 51,
    "start_time": "2021-12-22T05:59:53.885Z"
   },
   {
    "duration": 90,
    "start_time": "2021-12-22T05:59:53.941Z"
   },
   {
    "duration": 622,
    "start_time": "2021-12-22T05:59:54.034Z"
   },
   {
    "duration": -59,
    "start_time": "2021-12-22T05:59:54.718Z"
   },
   {
    "duration": -61,
    "start_time": "2021-12-22T05:59:54.721Z"
   },
   {
    "duration": -67,
    "start_time": "2021-12-22T05:59:54.728Z"
   },
   {
    "duration": 1603,
    "start_time": "2021-12-22T06:04:17.591Z"
   },
   {
    "duration": 93,
    "start_time": "2021-12-22T06:04:19.197Z"
   },
   {
    "duration": 49,
    "start_time": "2021-12-22T06:04:19.293Z"
   },
   {
    "duration": 16,
    "start_time": "2021-12-22T06:04:19.345Z"
   },
   {
    "duration": 48,
    "start_time": "2021-12-22T06:04:19.363Z"
   },
   {
    "duration": 27,
    "start_time": "2021-12-22T06:04:19.413Z"
   },
   {
    "duration": 24,
    "start_time": "2021-12-22T06:04:19.444Z"
   },
   {
    "duration": 119,
    "start_time": "2021-12-22T06:04:19.470Z"
   },
   {
    "duration": 37,
    "start_time": "2021-12-22T06:04:19.593Z"
   },
   {
    "duration": 37,
    "start_time": "2021-12-22T06:04:19.634Z"
   },
   {
    "duration": 78,
    "start_time": "2021-12-22T06:04:19.673Z"
   },
   {
    "duration": 496,
    "start_time": "2021-12-22T06:04:19.753Z"
   },
   {
    "duration": -73,
    "start_time": "2021-12-22T06:04:20.324Z"
   },
   {
    "duration": -74,
    "start_time": "2021-12-22T06:04:20.327Z"
   },
   {
    "duration": -76,
    "start_time": "2021-12-22T06:04:20.330Z"
   },
   {
    "duration": 167,
    "start_time": "2021-12-22T06:14:41.267Z"
   },
   {
    "duration": 762,
    "start_time": "2021-12-22T06:14:50.986Z"
   },
   {
    "duration": 44,
    "start_time": "2021-12-22T06:15:23.181Z"
   },
   {
    "duration": 45,
    "start_time": "2021-12-22T06:15:30.929Z"
   },
   {
    "duration": 1296,
    "start_time": "2021-12-22T06:19:26.769Z"
   },
   {
    "duration": 1323,
    "start_time": "2021-12-22T06:20:27.075Z"
   },
   {
    "duration": 400,
    "start_time": "2021-12-22T06:20:51.962Z"
   },
   {
    "duration": 1586,
    "start_time": "2021-12-22T06:21:09.314Z"
   },
   {
    "duration": 60,
    "start_time": "2021-12-22T06:21:10.903Z"
   },
   {
    "duration": 46,
    "start_time": "2021-12-22T06:21:10.968Z"
   },
   {
    "duration": 25,
    "start_time": "2021-12-22T06:21:11.017Z"
   },
   {
    "duration": 40,
    "start_time": "2021-12-22T06:21:11.045Z"
   },
   {
    "duration": 40,
    "start_time": "2021-12-22T06:21:11.088Z"
   },
   {
    "duration": 18,
    "start_time": "2021-12-22T06:21:11.131Z"
   },
   {
    "duration": 109,
    "start_time": "2021-12-22T06:21:11.153Z"
   },
   {
    "duration": 22,
    "start_time": "2021-12-22T06:21:11.265Z"
   },
   {
    "duration": 42,
    "start_time": "2021-12-22T06:21:11.290Z"
   },
   {
    "duration": 90,
    "start_time": "2021-12-22T06:21:11.335Z"
   },
   {
    "duration": 46,
    "start_time": "2021-12-22T06:21:11.429Z"
   },
   {
    "duration": 25,
    "start_time": "2021-12-22T06:21:11.477Z"
   },
   {
    "duration": 74,
    "start_time": "2021-12-22T06:21:11.504Z"
   },
   {
    "duration": 12,
    "start_time": "2021-12-22T06:21:11.581Z"
   },
   {
    "duration": 54,
    "start_time": "2021-12-22T06:24:03.480Z"
   },
   {
    "duration": 51,
    "start_time": "2021-12-22T06:24:26.331Z"
   },
   {
    "duration": 50,
    "start_time": "2021-12-22T06:28:35.640Z"
   },
   {
    "duration": 1616,
    "start_time": "2021-12-22T06:29:04.482Z"
   },
   {
    "duration": 68,
    "start_time": "2021-12-22T06:29:06.102Z"
   },
   {
    "duration": 46,
    "start_time": "2021-12-22T06:29:06.175Z"
   },
   {
    "duration": 24,
    "start_time": "2021-12-22T06:29:06.224Z"
   },
   {
    "duration": 40,
    "start_time": "2021-12-22T06:29:06.250Z"
   },
   {
    "duration": 41,
    "start_time": "2021-12-22T06:29:06.292Z"
   },
   {
    "duration": 30,
    "start_time": "2021-12-22T06:29:06.336Z"
   },
   {
    "duration": 107,
    "start_time": "2021-12-22T06:29:06.369Z"
   },
   {
    "duration": 23,
    "start_time": "2021-12-22T06:29:06.478Z"
   },
   {
    "duration": 51,
    "start_time": "2021-12-22T06:29:06.504Z"
   },
   {
    "duration": 79,
    "start_time": "2021-12-22T06:29:06.558Z"
   },
   {
    "duration": 45,
    "start_time": "2021-12-22T06:29:06.640Z"
   },
   {
    "duration": 63,
    "start_time": "2021-12-22T06:29:06.687Z"
   },
   {
    "duration": 56,
    "start_time": "2021-12-22T06:29:06.753Z"
   },
   {
    "duration": 25,
    "start_time": "2021-12-22T06:29:06.823Z"
   },
   {
    "duration": 55,
    "start_time": "2021-12-22T06:47:01.229Z"
   },
   {
    "duration": 55,
    "start_time": "2021-12-22T06:47:39.142Z"
   },
   {
    "duration": 486,
    "start_time": "2021-12-22T06:54:41.635Z"
   },
   {
    "duration": 773,
    "start_time": "2021-12-22T06:56:08.386Z"
   },
   {
    "duration": 750,
    "start_time": "2021-12-22T06:56:32.755Z"
   },
   {
    "duration": 52,
    "start_time": "2021-12-22T07:04:12.152Z"
   },
   {
    "duration": 1553,
    "start_time": "2021-12-22T07:04:22.946Z"
   },
   {
    "duration": 51,
    "start_time": "2021-12-22T07:04:24.502Z"
   },
   {
    "duration": 42,
    "start_time": "2021-12-22T07:04:24.556Z"
   },
   {
    "duration": 26,
    "start_time": "2021-12-22T07:04:24.601Z"
   },
   {
    "duration": 39,
    "start_time": "2021-12-22T07:04:24.630Z"
   },
   {
    "duration": 13,
    "start_time": "2021-12-22T07:04:24.672Z"
   },
   {
    "duration": 47,
    "start_time": "2021-12-22T07:04:24.687Z"
   },
   {
    "duration": 108,
    "start_time": "2021-12-22T07:04:24.739Z"
   },
   {
    "duration": 22,
    "start_time": "2021-12-22T07:04:24.851Z"
   },
   {
    "duration": 36,
    "start_time": "2021-12-22T07:04:24.875Z"
   },
   {
    "duration": 92,
    "start_time": "2021-12-22T07:04:24.913Z"
   },
   {
    "duration": 58,
    "start_time": "2021-12-22T07:04:25.008Z"
   },
   {
    "duration": 25,
    "start_time": "2021-12-22T07:04:25.069Z"
   },
   {
    "duration": 58,
    "start_time": "2021-12-22T07:04:25.123Z"
   },
   {
    "duration": 17,
    "start_time": "2021-12-22T07:04:25.183Z"
   },
   {
    "duration": 2341,
    "start_time": "2021-12-22T07:05:17.448Z"
   },
   {
    "duration": 109,
    "start_time": "2021-12-22T07:06:20.760Z"
   },
   {
    "duration": 2267,
    "start_time": "2021-12-22T07:06:49.618Z"
   },
   {
    "duration": 1305,
    "start_time": "2021-12-22T07:10:49.606Z"
   },
   {
    "duration": 2418,
    "start_time": "2021-12-22T07:11:09.056Z"
   },
   {
    "duration": 9,
    "start_time": "2021-12-22T07:12:17.787Z"
   },
   {
    "duration": 9,
    "start_time": "2021-12-22T07:13:34.354Z"
   },
   {
    "duration": 470,
    "start_time": "2021-12-22T09:10:51.773Z"
   },
   {
    "duration": 385,
    "start_time": "2021-12-22T09:11:12.445Z"
   },
   {
    "duration": 8,
    "start_time": "2021-12-22T09:11:26.825Z"
   },
   {
    "duration": 28,
    "start_time": "2021-12-22T10:39:29.827Z"
   },
   {
    "duration": 1677,
    "start_time": "2021-12-22T10:52:50.277Z"
   },
   {
    "duration": 50,
    "start_time": "2021-12-22T10:52:51.957Z"
   },
   {
    "duration": 53,
    "start_time": "2021-12-22T10:52:52.012Z"
   },
   {
    "duration": 19,
    "start_time": "2021-12-22T10:52:52.068Z"
   },
   {
    "duration": 73,
    "start_time": "2021-12-22T10:52:52.090Z"
   },
   {
    "duration": 13,
    "start_time": "2021-12-22T10:52:52.166Z"
   },
   {
    "duration": 15,
    "start_time": "2021-12-22T10:52:52.181Z"
   },
   {
    "duration": 129,
    "start_time": "2021-12-22T10:52:52.200Z"
   },
   {
    "duration": 25,
    "start_time": "2021-12-22T10:52:52.333Z"
   },
   {
    "duration": 27,
    "start_time": "2021-12-22T10:52:52.360Z"
   },
   {
    "duration": 106,
    "start_time": "2021-12-22T10:52:52.389Z"
   },
   {
    "duration": 67,
    "start_time": "2021-12-22T10:52:52.498Z"
   },
   {
    "duration": 23,
    "start_time": "2021-12-22T10:52:52.567Z"
   },
   {
    "duration": 2688,
    "start_time": "2021-12-22T10:52:52.593Z"
   },
   {
    "duration": 7,
    "start_time": "2021-12-22T10:52:55.283Z"
   },
   {
    "duration": 43,
    "start_time": "2021-12-22T10:53:22.513Z"
   },
   {
    "duration": 1606,
    "start_time": "2021-12-23T07:04:22.886Z"
   },
   {
    "duration": 42,
    "start_time": "2021-12-23T07:04:24.494Z"
   },
   {
    "duration": 44,
    "start_time": "2021-12-23T07:04:24.542Z"
   },
   {
    "duration": 42,
    "start_time": "2021-12-23T07:04:24.589Z"
   },
   {
    "duration": 33,
    "start_time": "2021-12-23T07:04:24.633Z"
   },
   {
    "duration": 17,
    "start_time": "2021-12-23T07:04:24.668Z"
   },
   {
    "duration": 15,
    "start_time": "2021-12-23T07:04:24.717Z"
   },
   {
    "duration": 112,
    "start_time": "2021-12-23T07:04:24.735Z"
   },
   {
    "duration": 22,
    "start_time": "2021-12-23T07:04:24.850Z"
   },
   {
    "duration": 53,
    "start_time": "2021-12-23T07:04:24.874Z"
   },
   {
    "duration": 88,
    "start_time": "2021-12-23T07:04:24.929Z"
   },
   {
    "duration": 38,
    "start_time": "2021-12-23T07:04:25.019Z"
   },
   {
    "duration": 24,
    "start_time": "2021-12-23T07:04:25.059Z"
   },
   {
    "duration": 2298,
    "start_time": "2021-12-23T07:04:25.118Z"
   },
   {
    "duration": 6,
    "start_time": "2021-12-23T07:04:27.418Z"
   },
   {
    "duration": 476,
    "start_time": "2021-12-23T07:04:27.426Z"
   },
   {
    "duration": 315,
    "start_time": "2021-12-23T07:06:54.551Z"
   },
   {
    "duration": 290,
    "start_time": "2021-12-23T07:08:25.333Z"
   },
   {
    "duration": 109,
    "start_time": "2021-12-23T07:09:16.958Z"
   },
   {
    "duration": 106,
    "start_time": "2021-12-23T07:10:18.844Z"
   },
   {
    "duration": 128,
    "start_time": "2021-12-23T07:10:39.092Z"
   },
   {
    "duration": 10,
    "start_time": "2021-12-23T07:26:25.871Z"
   },
   {
    "duration": 7,
    "start_time": "2021-12-23T07:27:44.947Z"
   },
   {
    "duration": 8,
    "start_time": "2021-12-23T07:28:21.995Z"
   },
   {
    "duration": 9,
    "start_time": "2021-12-23T07:28:40.862Z"
   },
   {
    "duration": 9,
    "start_time": "2021-12-23T07:29:16.601Z"
   },
   {
    "duration": 7,
    "start_time": "2021-12-23T07:31:35.195Z"
   },
   {
    "duration": 9,
    "start_time": "2021-12-23T07:31:48.645Z"
   },
   {
    "duration": 14,
    "start_time": "2021-12-23T07:35:10.285Z"
   },
   {
    "duration": 4,
    "start_time": "2021-12-23T07:36:30.254Z"
   },
   {
    "duration": 9,
    "start_time": "2021-12-23T07:39:16.747Z"
   },
   {
    "duration": 9,
    "start_time": "2021-12-23T07:42:48.245Z"
   },
   {
    "duration": 8,
    "start_time": "2021-12-23T07:43:28.192Z"
   },
   {
    "duration": 6,
    "start_time": "2021-12-23T07:44:06.561Z"
   },
   {
    "duration": 107,
    "start_time": "2021-12-23T07:46:17.253Z"
   },
   {
    "duration": 8,
    "start_time": "2021-12-23T07:46:28.086Z"
   },
   {
    "duration": 1650,
    "start_time": "2021-12-23T07:46:55.770Z"
   },
   {
    "duration": 45,
    "start_time": "2021-12-23T07:46:57.423Z"
   },
   {
    "duration": 48,
    "start_time": "2021-12-23T07:46:57.472Z"
   },
   {
    "duration": 16,
    "start_time": "2021-12-23T07:46:57.523Z"
   },
   {
    "duration": 35,
    "start_time": "2021-12-23T07:46:57.541Z"
   },
   {
    "duration": 46,
    "start_time": "2021-12-23T07:46:57.578Z"
   },
   {
    "duration": 15,
    "start_time": "2021-12-23T07:46:57.626Z"
   },
   {
    "duration": 113,
    "start_time": "2021-12-23T07:46:57.645Z"
   },
   {
    "duration": 22,
    "start_time": "2021-12-23T07:46:57.760Z"
   },
   {
    "duration": 53,
    "start_time": "2021-12-23T07:46:57.784Z"
   },
   {
    "duration": 96,
    "start_time": "2021-12-23T07:46:57.839Z"
   },
   {
    "duration": 40,
    "start_time": "2021-12-23T07:46:57.938Z"
   },
   {
    "duration": 48,
    "start_time": "2021-12-23T07:46:57.981Z"
   },
   {
    "duration": 2166,
    "start_time": "2021-12-23T07:46:58.032Z"
   },
   {
    "duration": 19,
    "start_time": "2021-12-23T07:47:00.200Z"
   },
   {
    "duration": 5,
    "start_time": "2021-12-23T07:47:00.222Z"
   },
   {
    "duration": 15,
    "start_time": "2021-12-23T07:47:00.229Z"
   },
   {
    "duration": 13,
    "start_time": "2021-12-23T07:47:00.246Z"
   },
   {
    "duration": 293,
    "start_time": "2021-12-23T07:58:03.045Z"
   },
   {
    "duration": 579,
    "start_time": "2021-12-23T07:58:34.298Z"
   },
   {
    "duration": 269,
    "start_time": "2021-12-23T08:01:09.131Z"
   },
   {
    "duration": 276,
    "start_time": "2021-12-23T08:03:05.310Z"
   },
   {
    "duration": 291,
    "start_time": "2021-12-23T08:04:38.517Z"
   },
   {
    "duration": 1592,
    "start_time": "2021-12-23T08:05:02.010Z"
   },
   {
    "duration": 42,
    "start_time": "2021-12-23T08:05:03.605Z"
   },
   {
    "duration": 45,
    "start_time": "2021-12-23T08:05:03.650Z"
   },
   {
    "duration": 30,
    "start_time": "2021-12-23T08:05:03.698Z"
   },
   {
    "duration": 33,
    "start_time": "2021-12-23T08:05:03.730Z"
   },
   {
    "duration": 14,
    "start_time": "2021-12-23T08:05:03.766Z"
   },
   {
    "duration": 73,
    "start_time": "2021-12-23T08:05:03.782Z"
   },
   {
    "duration": 94,
    "start_time": "2021-12-23T08:05:03.859Z"
   },
   {
    "duration": 21,
    "start_time": "2021-12-23T08:05:03.955Z"
   },
   {
    "duration": 48,
    "start_time": "2021-12-23T08:05:03.978Z"
   },
   {
    "duration": 95,
    "start_time": "2021-12-23T08:05:04.029Z"
   },
   {
    "duration": 39,
    "start_time": "2021-12-23T08:05:04.126Z"
   },
   {
    "duration": 54,
    "start_time": "2021-12-23T08:05:04.167Z"
   },
   {
    "duration": 2244,
    "start_time": "2021-12-23T08:05:04.223Z"
   },
   {
    "duration": 97,
    "start_time": "2021-12-23T08:05:06.469Z"
   },
   {
    "duration": -50,
    "start_time": "2021-12-23T08:05:06.619Z"
   },
   {
    "duration": -53,
    "start_time": "2021-12-23T08:05:06.623Z"
   },
   {
    "duration": -55,
    "start_time": "2021-12-23T08:05:06.627Z"
   },
   {
    "duration": 11,
    "start_time": "2021-12-23T08:05:47.295Z"
   },
   {
    "duration": 1613,
    "start_time": "2021-12-23T08:05:53.371Z"
   },
   {
    "duration": 47,
    "start_time": "2021-12-23T08:05:54.988Z"
   },
   {
    "duration": 49,
    "start_time": "2021-12-23T08:05:55.038Z"
   },
   {
    "duration": 39,
    "start_time": "2021-12-23T08:05:55.090Z"
   },
   {
    "duration": 34,
    "start_time": "2021-12-23T08:05:55.131Z"
   },
   {
    "duration": 50,
    "start_time": "2021-12-23T08:05:55.169Z"
   },
   {
    "duration": 17,
    "start_time": "2021-12-23T08:05:55.222Z"
   },
   {
    "duration": 130,
    "start_time": "2021-12-23T08:05:55.243Z"
   },
   {
    "duration": 22,
    "start_time": "2021-12-23T08:05:55.375Z"
   },
   {
    "duration": 40,
    "start_time": "2021-12-23T08:05:55.399Z"
   },
   {
    "duration": 113,
    "start_time": "2021-12-23T08:05:55.442Z"
   },
   {
    "duration": 61,
    "start_time": "2021-12-23T08:05:55.558Z"
   },
   {
    "duration": 26,
    "start_time": "2021-12-23T08:05:55.621Z"
   },
   {
    "duration": 2561,
    "start_time": "2021-12-23T08:05:55.649Z"
   },
   {
    "duration": 14,
    "start_time": "2021-12-23T08:05:58.212Z"
   },
   {
    "duration": 8,
    "start_time": "2021-12-23T08:05:58.228Z"
   },
   {
    "duration": 314,
    "start_time": "2021-12-23T08:05:58.239Z"
   },
   {
    "duration": 14,
    "start_time": "2021-12-23T08:05:58.555Z"
   },
   {
    "duration": 273,
    "start_time": "2021-12-23T08:07:03.898Z"
   },
   {
    "duration": 335,
    "start_time": "2021-12-23T08:07:25.185Z"
   },
   {
    "duration": 333,
    "start_time": "2021-12-23T08:07:36.797Z"
   },
   {
    "duration": 275,
    "start_time": "2021-12-23T08:08:30.562Z"
   },
   {
    "duration": 327,
    "start_time": "2021-12-23T08:08:39.404Z"
   },
   {
    "duration": 288,
    "start_time": "2021-12-23T08:09:15.434Z"
   },
   {
    "duration": 129,
    "start_time": "2021-12-23T08:09:55.482Z"
   },
   {
    "duration": 9,
    "start_time": "2021-12-23T08:10:06.250Z"
   },
   {
    "duration": 6,
    "start_time": "2021-12-23T08:10:46.307Z"
   },
   {
    "duration": 627,
    "start_time": "2021-12-23T08:11:37.749Z"
   },
   {
    "duration": 615,
    "start_time": "2021-12-23T08:11:55.676Z"
   },
   {
    "duration": 121,
    "start_time": "2021-12-23T08:12:06.584Z"
   },
   {
    "duration": 443,
    "start_time": "2021-12-23T08:12:24.043Z"
   },
   {
    "duration": 299,
    "start_time": "2021-12-23T08:12:44.761Z"
   },
   {
    "duration": 320,
    "start_time": "2021-12-23T08:13:09.911Z"
   },
   {
    "duration": 46,
    "start_time": "2021-12-23T08:25:49.045Z"
   },
   {
    "duration": 47,
    "start_time": "2021-12-23T08:28:18.869Z"
   },
   {
    "duration": 48,
    "start_time": "2021-12-23T08:29:13.327Z"
   },
   {
    "duration": 43,
    "start_time": "2021-12-23T08:29:47.230Z"
   },
   {
    "duration": 127,
    "start_time": "2021-12-23T08:41:15.616Z"
   },
   {
    "duration": 30,
    "start_time": "2021-12-23T10:33:53.013Z"
   },
   {
    "duration": 17,
    "start_time": "2021-12-23T10:33:59.561Z"
   },
   {
    "duration": 18,
    "start_time": "2021-12-23T10:34:02.821Z"
   },
   {
    "duration": 18,
    "start_time": "2021-12-23T10:34:16.218Z"
   },
   {
    "duration": 1628,
    "start_time": "2021-12-23T10:34:30.093Z"
   },
   {
    "duration": 49,
    "start_time": "2021-12-23T10:34:31.724Z"
   },
   {
    "duration": 55,
    "start_time": "2021-12-23T10:34:31.776Z"
   },
   {
    "duration": 22,
    "start_time": "2021-12-23T10:34:31.835Z"
   },
   {
    "duration": 83,
    "start_time": "2021-12-23T10:34:31.860Z"
   },
   {
    "duration": 15,
    "start_time": "2021-12-23T10:34:31.947Z"
   },
   {
    "duration": 21,
    "start_time": "2021-12-23T10:34:31.965Z"
   },
   {
    "duration": 172,
    "start_time": "2021-12-23T10:34:31.988Z"
   },
   {
    "duration": 38,
    "start_time": "2021-12-23T10:34:32.164Z"
   },
   {
    "duration": 43,
    "start_time": "2021-12-23T10:34:32.206Z"
   },
   {
    "duration": 97,
    "start_time": "2021-12-23T10:34:32.252Z"
   },
   {
    "duration": 42,
    "start_time": "2021-12-23T10:34:32.352Z"
   },
   {
    "duration": 26,
    "start_time": "2021-12-23T10:34:32.418Z"
   },
   {
    "duration": 2522,
    "start_time": "2021-12-23T10:34:32.447Z"
   },
   {
    "duration": 14,
    "start_time": "2021-12-23T10:34:34.972Z"
   },
   {
    "duration": 30,
    "start_time": "2021-12-23T10:34:34.989Z"
   },
   {
    "duration": 378,
    "start_time": "2021-12-23T10:34:35.022Z"
   },
   {
    "duration": 23,
    "start_time": "2021-12-23T10:34:35.402Z"
   },
   {
    "duration": 14,
    "start_time": "2021-12-23T10:34:58.064Z"
   },
   {
    "duration": 103,
    "start_time": "2021-12-23T10:35:09.084Z"
   },
   {
    "duration": 43,
    "start_time": "2021-12-23T10:35:09.190Z"
   },
   {
    "duration": 45,
    "start_time": "2021-12-23T10:35:09.235Z"
   },
   {
    "duration": 48,
    "start_time": "2021-12-23T10:35:09.283Z"
   },
   {
    "duration": 34,
    "start_time": "2021-12-23T10:35:09.334Z"
   },
   {
    "duration": 47,
    "start_time": "2021-12-23T10:35:09.370Z"
   },
   {
    "duration": 16,
    "start_time": "2021-12-23T10:35:09.419Z"
   },
   {
    "duration": 108,
    "start_time": "2021-12-23T10:35:09.438Z"
   },
   {
    "duration": 1657,
    "start_time": "2021-12-23T10:35:30.737Z"
   },
   {
    "duration": 45,
    "start_time": "2021-12-23T10:35:32.397Z"
   },
   {
    "duration": 47,
    "start_time": "2021-12-23T10:35:32.446Z"
   },
   {
    "duration": 40,
    "start_time": "2021-12-23T10:35:32.495Z"
   },
   {
    "duration": 33,
    "start_time": "2021-12-23T10:35:32.538Z"
   },
   {
    "duration": 12,
    "start_time": "2021-12-23T10:35:32.573Z"
   },
   {
    "duration": 45,
    "start_time": "2021-12-23T10:35:32.587Z"
   },
   {
    "duration": 109,
    "start_time": "2021-12-23T10:35:32.636Z"
   },
   {
    "duration": 21,
    "start_time": "2021-12-23T10:35:32.747Z"
   },
   {
    "duration": 49,
    "start_time": "2021-12-23T10:35:32.770Z"
   },
   {
    "duration": 75,
    "start_time": "2021-12-23T10:35:32.822Z"
   },
   {
    "duration": 58,
    "start_time": "2021-12-23T10:35:32.899Z"
   },
   {
    "duration": 58,
    "start_time": "2021-12-23T10:35:32.959Z"
   },
   {
    "duration": 2180,
    "start_time": "2021-12-23T10:35:33.019Z"
   },
   {
    "duration": 16,
    "start_time": "2021-12-23T10:35:35.201Z"
   },
   {
    "duration": 8,
    "start_time": "2021-12-23T10:35:35.219Z"
   },
   {
    "duration": 330,
    "start_time": "2021-12-23T10:35:35.229Z"
   },
   {
    "duration": 15,
    "start_time": "2021-12-23T10:35:35.561Z"
   },
   {
    "duration": 31,
    "start_time": "2021-12-23T10:40:15.728Z"
   },
   {
    "duration": 29,
    "start_time": "2021-12-23T10:44:28.085Z"
   },
   {
    "duration": 38,
    "start_time": "2021-12-23T10:45:43.554Z"
   },
   {
    "duration": 40,
    "start_time": "2021-12-23T10:50:21.107Z"
   },
   {
    "duration": 432,
    "start_time": "2021-12-23T11:02:35.983Z"
   },
   {
    "duration": 1218,
    "start_time": "2021-12-23T11:03:27.375Z"
   },
   {
    "duration": 307,
    "start_time": "2021-12-23T11:05:45.045Z"
   },
   {
    "duration": 507,
    "start_time": "2021-12-23T11:08:56.621Z"
   },
   {
    "duration": 317,
    "start_time": "2021-12-23T11:10:22.175Z"
   },
   {
    "duration": 47,
    "start_time": "2021-12-23T11:10:32.051Z"
   },
   {
    "duration": 334,
    "start_time": "2021-12-23T11:10:49.268Z"
   },
   {
    "duration": 47,
    "start_time": "2021-12-23T11:12:04.246Z"
   },
   {
    "duration": 47,
    "start_time": "2021-12-23T11:12:11.659Z"
   },
   {
    "duration": 354,
    "start_time": "2021-12-23T11:24:56.182Z"
   },
   {
    "duration": 354,
    "start_time": "2021-12-23T11:25:09.075Z"
   },
   {
    "duration": 41,
    "start_time": "2021-12-23T11:25:27.709Z"
   },
   {
    "duration": 360,
    "start_time": "2021-12-23T11:26:55.764Z"
   },
   {
    "duration": 49,
    "start_time": "2021-12-23T11:27:08.307Z"
   },
   {
    "duration": 47,
    "start_time": "2021-12-23T11:27:17.188Z"
   },
   {
    "duration": 12,
    "start_time": "2021-12-23T11:28:56.388Z"
   },
   {
    "duration": 17,
    "start_time": "2021-12-23T11:36:46.695Z"
   },
   {
    "duration": 7,
    "start_time": "2021-12-23T11:37:30.141Z"
   },
   {
    "duration": 40,
    "start_time": "2021-12-23T11:56:37.647Z"
   },
   {
    "duration": 43,
    "start_time": "2021-12-23T12:01:12.157Z"
   },
   {
    "duration": 31,
    "start_time": "2021-12-23T12:18:21.145Z"
   },
   {
    "duration": 25,
    "start_time": "2021-12-23T12:18:40.001Z"
   },
   {
    "duration": 29,
    "start_time": "2021-12-23T12:18:56.161Z"
   },
   {
    "duration": 28,
    "start_time": "2021-12-23T12:21:13.920Z"
   },
   {
    "duration": 364,
    "start_time": "2021-12-23T12:25:17.237Z"
   },
   {
    "duration": 335,
    "start_time": "2021-12-23T12:25:56.115Z"
   },
   {
    "duration": 392,
    "start_time": "2021-12-23T12:29:36.436Z"
   },
   {
    "duration": 1636,
    "start_time": "2021-12-23T12:29:50.285Z"
   },
   {
    "duration": 42,
    "start_time": "2021-12-23T12:29:51.924Z"
   },
   {
    "duration": 63,
    "start_time": "2021-12-23T12:29:51.969Z"
   },
   {
    "duration": 45,
    "start_time": "2021-12-23T12:29:52.036Z"
   },
   {
    "duration": 35,
    "start_time": "2021-12-23T12:29:52.084Z"
   },
   {
    "duration": 44,
    "start_time": "2021-12-23T12:29:52.121Z"
   },
   {
    "duration": 14,
    "start_time": "2021-12-23T12:29:52.167Z"
   },
   {
    "duration": 40,
    "start_time": "2021-12-23T12:29:52.185Z"
   },
   {
    "duration": 103,
    "start_time": "2021-12-23T12:29:52.228Z"
   },
   {
    "duration": 28,
    "start_time": "2021-12-23T12:29:52.333Z"
   },
   {
    "duration": 54,
    "start_time": "2021-12-23T12:29:52.363Z"
   },
   {
    "duration": 100,
    "start_time": "2021-12-23T12:29:52.419Z"
   },
   {
    "duration": 38,
    "start_time": "2021-12-23T12:29:52.521Z"
   },
   {
    "duration": 32,
    "start_time": "2021-12-23T12:29:52.562Z"
   },
   {
    "duration": 2290,
    "start_time": "2021-12-23T12:29:52.619Z"
   },
   {
    "duration": 15,
    "start_time": "2021-12-23T12:29:54.911Z"
   },
   {
    "duration": 8,
    "start_time": "2021-12-23T12:29:54.928Z"
   },
   {
    "duration": 327,
    "start_time": "2021-12-23T12:29:54.938Z"
   },
   {
    "duration": 15,
    "start_time": "2021-12-23T12:29:55.267Z"
   },
   {
    "duration": 8,
    "start_time": "2021-12-23T12:29:55.284Z"
   },
   {
    "duration": 9,
    "start_time": "2021-12-23T12:30:11.338Z"
   },
   {
    "duration": 9,
    "start_time": "2021-12-23T12:30:16.228Z"
   },
   {
    "duration": 17,
    "start_time": "2021-12-23T12:33:39.479Z"
   },
   {
    "duration": 19,
    "start_time": "2021-12-23T12:33:54.242Z"
   },
   {
    "duration": 18,
    "start_time": "2021-12-23T12:34:05.605Z"
   },
   {
    "duration": 19,
    "start_time": "2021-12-23T12:34:30.939Z"
   },
   {
    "duration": 304,
    "start_time": "2021-12-23T12:47:48.126Z"
   },
   {
    "duration": 371,
    "start_time": "2021-12-23T12:48:28.921Z"
   },
   {
    "duration": 9,
    "start_time": "2021-12-23T12:48:56.203Z"
   },
   {
    "duration": 494,
    "start_time": "2021-12-23T12:49:18.458Z"
   },
   {
    "duration": 118,
    "start_time": "2021-12-23T12:59:27.717Z"
   },
   {
    "duration": 115,
    "start_time": "2021-12-23T12:59:42.086Z"
   },
   {
    "duration": 102,
    "start_time": "2021-12-23T13:00:04.791Z"
   },
   {
    "duration": 493,
    "start_time": "2021-12-23T13:00:25.454Z"
   },
   {
    "duration": 312,
    "start_time": "2021-12-23T13:01:12.097Z"
   },
   {
    "duration": 33,
    "start_time": "2021-12-23T13:01:20.518Z"
   },
   {
    "duration": 40,
    "start_time": "2021-12-23T13:01:46.210Z"
   },
   {
    "duration": 40,
    "start_time": "2021-12-23T13:05:22.786Z"
   },
   {
    "duration": 316,
    "start_time": "2021-12-23T13:11:15.776Z"
   },
   {
    "duration": 44,
    "start_time": "2021-12-23T13:11:44.426Z"
   },
   {
    "duration": 46,
    "start_time": "2021-12-23T13:12:42.096Z"
   },
   {
    "duration": 58,
    "start_time": "2021-12-23T13:16:02.528Z"
   },
   {
    "duration": 352,
    "start_time": "2021-12-23T13:24:04.739Z"
   },
   {
    "duration": 2379,
    "start_time": "2021-12-23T13:24:10.804Z"
   },
   {
    "duration": 46,
    "start_time": "2021-12-23T13:24:30.109Z"
   },
   {
    "duration": 7,
    "start_time": "2021-12-23T13:30:22.199Z"
   },
   {
    "duration": 6,
    "start_time": "2021-12-23T13:30:25.599Z"
   },
   {
    "duration": 7,
    "start_time": "2021-12-23T13:30:49.148Z"
   },
   {
    "duration": 27,
    "start_time": "2021-12-23T13:31:10.452Z"
   },
   {
    "duration": 43,
    "start_time": "2021-12-23T13:31:37.345Z"
   },
   {
    "duration": 31,
    "start_time": "2021-12-23T13:41:08.707Z"
   },
   {
    "duration": 2183,
    "start_time": "2021-12-23T13:44:20.404Z"
   },
   {
    "duration": 60,
    "start_time": "2021-12-23T13:45:56.600Z"
   },
   {
    "duration": 45,
    "start_time": "2021-12-23T13:47:50.059Z"
   },
   {
    "duration": 106,
    "start_time": "2021-12-23T14:54:21.907Z"
   },
   {
    "duration": 7863,
    "start_time": "2021-12-23T14:54:56.606Z"
   },
   {
    "duration": 7932,
    "start_time": "2021-12-23T14:55:10.918Z"
   },
   {
    "duration": 8000,
    "start_time": "2021-12-23T14:56:15.672Z"
   },
   {
    "duration": 7385,
    "start_time": "2021-12-23T14:57:01.216Z"
   },
   {
    "duration": 289,
    "start_time": "2021-12-23T14:58:25.942Z"
   },
   {
    "duration": 338,
    "start_time": "2021-12-23T14:58:59.371Z"
   },
   {
    "duration": 299,
    "start_time": "2021-12-23T14:59:29.685Z"
   },
   {
    "duration": 465,
    "start_time": "2021-12-23T14:59:48.843Z"
   },
   {
    "duration": 673,
    "start_time": "2021-12-23T15:00:16.907Z"
   },
   {
    "duration": 437,
    "start_time": "2021-12-23T15:03:33.771Z"
   },
   {
    "duration": 97,
    "start_time": "2021-12-23T15:03:56.473Z"
   },
   {
    "duration": 100,
    "start_time": "2021-12-23T15:04:05.886Z"
   },
   {
    "duration": 324,
    "start_time": "2021-12-23T15:04:29.625Z"
   },
   {
    "duration": 515,
    "start_time": "2021-12-23T15:05:06.390Z"
   },
   {
    "duration": 408,
    "start_time": "2021-12-23T15:05:46.114Z"
   },
   {
    "duration": 352,
    "start_time": "2021-12-23T15:07:40.059Z"
   },
   {
    "duration": 287,
    "start_time": "2021-12-23T15:07:57.659Z"
   },
   {
    "duration": 417,
    "start_time": "2021-12-23T15:08:29.802Z"
   },
   {
    "duration": 410,
    "start_time": "2021-12-23T15:09:29.271Z"
   },
   {
    "duration": 432,
    "start_time": "2021-12-23T15:11:27.480Z"
   },
   {
    "duration": 447,
    "start_time": "2021-12-23T15:11:36.668Z"
   },
   {
    "duration": 606,
    "start_time": "2021-12-23T15:12:28.483Z"
   },
   {
    "duration": 406,
    "start_time": "2021-12-23T15:21:22.721Z"
   },
   {
    "duration": 743,
    "start_time": "2021-12-23T15:29:15.127Z"
   },
   {
    "duration": 506,
    "start_time": "2021-12-23T15:29:23.915Z"
   },
   {
    "duration": 497,
    "start_time": "2021-12-23T15:29:58.291Z"
   },
   {
    "duration": 502,
    "start_time": "2021-12-23T15:30:23.335Z"
   },
   {
    "duration": 507,
    "start_time": "2021-12-23T15:30:39.737Z"
   },
   {
    "duration": 510,
    "start_time": "2021-12-23T15:35:51.525Z"
   },
   {
    "duration": 495,
    "start_time": "2021-12-23T15:37:10.769Z"
   },
   {
    "duration": 496,
    "start_time": "2021-12-23T15:37:24.348Z"
   },
   {
    "duration": 489,
    "start_time": "2021-12-23T15:38:27.528Z"
   },
   {
    "duration": 578,
    "start_time": "2021-12-23T15:38:46.600Z"
   },
   {
    "duration": 429,
    "start_time": "2021-12-23T15:38:57.182Z"
   },
   {
    "duration": 684,
    "start_time": "2021-12-23T15:39:09.768Z"
   },
   {
    "duration": 658,
    "start_time": "2021-12-23T15:39:22.647Z"
   },
   {
    "duration": 661,
    "start_time": "2021-12-23T15:39:45.795Z"
   },
   {
    "duration": 393,
    "start_time": "2021-12-23T15:39:59.056Z"
   },
   {
    "duration": 486,
    "start_time": "2021-12-23T15:40:45.634Z"
   },
   {
    "duration": 491,
    "start_time": "2021-12-23T15:41:07.246Z"
   },
   {
    "duration": 491,
    "start_time": "2021-12-23T15:42:31.579Z"
   },
   {
    "duration": 519,
    "start_time": "2021-12-23T15:42:47.772Z"
   },
   {
    "duration": 14,
    "start_time": "2021-12-23T15:44:59.349Z"
   },
   {
    "duration": 14,
    "start_time": "2021-12-23T15:45:22.244Z"
   },
   {
    "duration": 480,
    "start_time": "2021-12-23T16:06:52.687Z"
   },
   {
    "duration": 492,
    "start_time": "2021-12-23T16:07:13.182Z"
   },
   {
    "duration": 512,
    "start_time": "2021-12-23T16:07:35.098Z"
   },
   {
    "duration": 496,
    "start_time": "2021-12-23T16:07:48.372Z"
   },
   {
    "duration": 504,
    "start_time": "2021-12-23T16:08:00.207Z"
   },
   {
    "duration": 999,
    "start_time": "2021-12-23T16:08:20.873Z"
   },
   {
    "duration": 500,
    "start_time": "2021-12-23T16:08:26.178Z"
   },
   {
    "duration": 513,
    "start_time": "2021-12-23T16:08:37.561Z"
   },
   {
    "duration": 500,
    "start_time": "2021-12-23T16:08:52.073Z"
   },
   {
    "duration": 235,
    "start_time": "2021-12-26T06:53:08.572Z"
   },
   {
    "duration": 1201,
    "start_time": "2021-12-26T06:53:16.321Z"
   },
   {
    "duration": 46,
    "start_time": "2021-12-26T06:53:17.524Z"
   },
   {
    "duration": 28,
    "start_time": "2021-12-26T06:53:17.573Z"
   },
   {
    "duration": 26,
    "start_time": "2021-12-26T06:53:17.603Z"
   },
   {
    "duration": 17,
    "start_time": "2021-12-26T06:53:17.631Z"
   },
   {
    "duration": 20,
    "start_time": "2021-12-26T06:53:17.650Z"
   },
   {
    "duration": 8,
    "start_time": "2021-12-26T06:53:17.672Z"
   },
   {
    "duration": 9,
    "start_time": "2021-12-26T06:53:17.682Z"
   },
   {
    "duration": 79,
    "start_time": "2021-12-26T06:53:17.693Z"
   },
   {
    "duration": 17,
    "start_time": "2021-12-26T06:53:17.774Z"
   },
   {
    "duration": 13,
    "start_time": "2021-12-26T06:53:17.793Z"
   },
   {
    "duration": 65,
    "start_time": "2021-12-26T06:53:17.808Z"
   },
   {
    "duration": 21,
    "start_time": "2021-12-26T06:53:17.875Z"
   },
   {
    "duration": 15,
    "start_time": "2021-12-26T06:53:17.898Z"
   },
   {
    "duration": 1032,
    "start_time": "2021-12-26T06:53:17.914Z"
   },
   {
    "duration": 27,
    "start_time": "2021-12-26T06:53:18.948Z"
   },
   {
    "duration": 6,
    "start_time": "2021-12-26T06:53:18.977Z"
   },
   {
    "duration": 197,
    "start_time": "2021-12-26T06:53:18.984Z"
   },
   {
    "duration": 19,
    "start_time": "2021-12-26T06:53:19.183Z"
   },
   {
    "duration": 250,
    "start_time": "2021-12-26T06:53:19.204Z"
   },
   {
    "duration": 344,
    "start_time": "2021-12-26T06:53:19.456Z"
   },
   {
    "duration": 10,
    "start_time": "2021-12-26T06:53:19.802Z"
   },
   {
    "duration": 29,
    "start_time": "2021-12-26T06:53:19.815Z"
   },
   {
    "duration": 4,
    "start_time": "2021-12-26T06:53:40.836Z"
   },
   {
    "duration": 515,
    "start_time": "2021-12-26T06:55:36.614Z"
   },
   {
    "duration": 629,
    "start_time": "2021-12-26T06:56:01.546Z"
   },
   {
    "duration": 500,
    "start_time": "2021-12-26T06:56:12.084Z"
   },
   {
    "duration": 185920,
    "start_time": "2021-12-26T06:57:29.257Z"
   },
   {
    "duration": 600,
    "start_time": "2021-12-26T07:01:19.008Z"
   },
   {
    "duration": 752,
    "start_time": "2021-12-26T07:01:29.326Z"
   },
   {
    "duration": 501,
    "start_time": "2021-12-26T07:03:28.421Z"
   },
   {
    "duration": 499,
    "start_time": "2021-12-26T07:03:39.217Z"
   },
   {
    "duration": 508,
    "start_time": "2021-12-26T07:03:52.561Z"
   },
   {
    "duration": 505,
    "start_time": "2021-12-26T07:04:11.504Z"
   },
   {
    "duration": 619,
    "start_time": "2021-12-26T07:04:20.083Z"
   },
   {
    "duration": 515,
    "start_time": "2021-12-26T07:04:26.396Z"
   },
   {
    "duration": 513,
    "start_time": "2021-12-26T07:04:36.111Z"
   },
   {
    "duration": 511,
    "start_time": "2021-12-26T07:04:44.053Z"
   },
   {
    "duration": 846,
    "start_time": "2021-12-26T07:04:49.729Z"
   },
   {
    "duration": 531,
    "start_time": "2021-12-26T07:04:55.310Z"
   },
   {
    "duration": 628,
    "start_time": "2021-12-26T07:05:01.027Z"
   },
   {
    "duration": 1013,
    "start_time": "2021-12-26T07:11:35.196Z"
   },
   {
    "duration": 4997,
    "start_time": "2021-12-26T07:11:41.457Z"
   },
   {
    "duration": 21,
    "start_time": "2021-12-26T07:12:00.793Z"
   },
   {
    "duration": 4,
    "start_time": "2021-12-26T07:14:59.398Z"
   },
   {
    "duration": 211,
    "start_time": "2021-12-26T07:15:34.429Z"
   },
   {
    "duration": 67,
    "start_time": "2021-12-26T07:18:56.706Z"
   },
   {
    "duration": 28,
    "start_time": "2021-12-26T07:19:05.527Z"
   },
   {
    "duration": 28,
    "start_time": "2021-12-26T07:19:34.960Z"
   },
   {
    "duration": 42,
    "start_time": "2021-12-26T07:20:39.132Z"
   },
   {
    "duration": 523,
    "start_time": "2021-12-26T07:32:42.477Z"
   },
   {
    "duration": 530,
    "start_time": "2021-12-26T07:32:55.992Z"
   },
   {
    "duration": 535,
    "start_time": "2021-12-26T07:33:04.336Z"
   },
   {
    "duration": 530,
    "start_time": "2021-12-26T07:33:23.765Z"
   },
   {
    "duration": 521,
    "start_time": "2021-12-26T07:33:36.567Z"
   },
   {
    "duration": 528,
    "start_time": "2021-12-26T07:34:13.774Z"
   },
   {
    "duration": 1187,
    "start_time": "2021-12-26T07:34:25.764Z"
   },
   {
    "duration": 1965,
    "start_time": "2021-12-26T07:34:38.384Z"
   },
   {
    "duration": 828,
    "start_time": "2021-12-26T07:36:08.557Z"
   },
   {
    "duration": 36,
    "start_time": "2021-12-26T08:28:44.717Z"
   },
   {
    "duration": 362,
    "start_time": "2021-12-27T06:09:02.787Z"
   },
   {
    "duration": 1523,
    "start_time": "2021-12-27T06:09:11.916Z"
   },
   {
    "duration": 52,
    "start_time": "2021-12-27T06:09:13.442Z"
   },
   {
    "duration": 43,
    "start_time": "2021-12-27T06:09:13.498Z"
   },
   {
    "duration": 47,
    "start_time": "2021-12-27T06:09:13.543Z"
   },
   {
    "duration": 14,
    "start_time": "2021-12-27T06:09:13.593Z"
   },
   {
    "duration": 59,
    "start_time": "2021-12-27T06:09:13.609Z"
   },
   {
    "duration": 13,
    "start_time": "2021-12-27T06:09:13.671Z"
   },
   {
    "duration": 15,
    "start_time": "2021-12-27T06:09:13.688Z"
   },
   {
    "duration": 114,
    "start_time": "2021-12-27T06:09:13.706Z"
   },
   {
    "duration": 49,
    "start_time": "2021-12-27T06:09:13.822Z"
   },
   {
    "duration": 40,
    "start_time": "2021-12-27T06:09:13.874Z"
   },
   {
    "duration": 96,
    "start_time": "2021-12-27T06:09:13.917Z"
   },
   {
    "duration": 57,
    "start_time": "2021-12-27T06:09:14.015Z"
   },
   {
    "duration": 7,
    "start_time": "2021-12-27T06:09:14.074Z"
   },
   {
    "duration": 2382,
    "start_time": "2021-12-27T06:09:14.083Z"
   },
   {
    "duration": 45,
    "start_time": "2021-12-27T06:09:16.468Z"
   },
   {
    "duration": 78,
    "start_time": "2021-12-27T06:09:16.515Z"
   },
   {
    "duration": 1672,
    "start_time": "2021-12-27T06:09:16.596Z"
   },
   {
    "duration": 311,
    "start_time": "2021-12-27T06:09:18.271Z"
   },
   {
    "duration": 31,
    "start_time": "2021-12-27T06:09:18.584Z"
   },
   {
    "duration": 447,
    "start_time": "2021-12-27T06:09:18.618Z"
   },
   {
    "duration": 545,
    "start_time": "2021-12-27T06:09:19.068Z"
   },
   {
    "duration": 14,
    "start_time": "2021-12-27T06:09:19.618Z"
   },
   {
    "duration": 41,
    "start_time": "2021-12-27T06:09:19.635Z"
   },
   {
    "duration": 1534,
    "start_time": "2021-12-27T06:09:34.522Z"
   },
   {
    "duration": 6,
    "start_time": "2021-12-27T06:09:50.959Z"
   },
   {
    "duration": 6,
    "start_time": "2021-12-27T06:10:14.182Z"
   },
   {
    "duration": 6,
    "start_time": "2021-12-27T06:10:41.447Z"
   },
   {
    "duration": 6,
    "start_time": "2021-12-27T06:12:53.359Z"
   },
   {
    "duration": 398,
    "start_time": "2021-12-27T06:19:01.613Z"
   },
   {
    "duration": 1607,
    "start_time": "2021-12-27T06:19:45.544Z"
   },
   {
    "duration": 404,
    "start_time": "2021-12-27T06:20:28.146Z"
   },
   {
    "duration": 1532,
    "start_time": "2021-12-27T06:22:31.263Z"
   },
   {
    "duration": 1598,
    "start_time": "2021-12-27T06:23:12.272Z"
   },
   {
    "duration": 1532,
    "start_time": "2021-12-27T06:24:38.365Z"
   },
   {
    "duration": 1705,
    "start_time": "2021-12-27T06:25:05.294Z"
   },
   {
    "duration": 1702,
    "start_time": "2021-12-27T06:25:31.735Z"
   },
   {
    "duration": 140,
    "start_time": "2021-12-27T06:26:22.394Z"
   },
   {
    "duration": 1567,
    "start_time": "2021-12-27T06:26:31.044Z"
   },
   {
    "duration": 10612,
    "start_time": "2021-12-27T06:33:23.944Z"
   },
   {
    "duration": 10660,
    "start_time": "2021-12-27T06:34:27.519Z"
   },
   {
    "duration": 10529,
    "start_time": "2021-12-27T06:35:00.476Z"
   },
   {
    "duration": 10520,
    "start_time": "2021-12-27T06:35:38.698Z"
   },
   {
    "duration": 10805,
    "start_time": "2021-12-27T06:36:32.741Z"
   },
   {
    "duration": 1607,
    "start_time": "2021-12-27T06:39:19.177Z"
   },
   {
    "duration": 51,
    "start_time": "2021-12-27T06:39:20.787Z"
   },
   {
    "duration": 46,
    "start_time": "2021-12-27T06:39:20.841Z"
   },
   {
    "duration": 73,
    "start_time": "2021-12-27T06:39:20.890Z"
   },
   {
    "duration": 22,
    "start_time": "2021-12-27T06:39:20.966Z"
   },
   {
    "duration": 47,
    "start_time": "2021-12-27T06:39:20.990Z"
   },
   {
    "duration": 15,
    "start_time": "2021-12-27T06:39:21.064Z"
   },
   {
    "duration": 24,
    "start_time": "2021-12-27T06:39:21.085Z"
   },
   {
    "duration": 117,
    "start_time": "2021-12-27T06:39:21.112Z"
   },
   {
    "duration": 51,
    "start_time": "2021-12-27T06:39:21.232Z"
   },
   {
    "duration": 40,
    "start_time": "2021-12-27T06:39:21.286Z"
   },
   {
    "duration": 108,
    "start_time": "2021-12-27T06:39:21.329Z"
   },
   {
    "duration": 58,
    "start_time": "2021-12-27T06:39:21.440Z"
   },
   {
    "duration": 25,
    "start_time": "2021-12-27T06:39:21.501Z"
   },
   {
    "duration": 2408,
    "start_time": "2021-12-27T06:39:21.530Z"
   },
   {
    "duration": 49,
    "start_time": "2021-12-27T06:39:23.940Z"
   },
   {
    "duration": 84,
    "start_time": "2021-12-27T06:39:23.992Z"
   },
   {
    "duration": 10002,
    "start_time": "2021-12-27T06:39:24.079Z"
   },
   {
    "duration": 436,
    "start_time": "2021-12-27T06:39:34.084Z"
   },
   {
    "duration": 982,
    "start_time": "2021-12-27T06:39:34.522Z"
   },
   {
    "duration": 30,
    "start_time": "2021-12-27T06:39:35.507Z"
   },
   {
    "duration": 426,
    "start_time": "2021-12-27T06:39:35.539Z"
   },
   {
    "duration": 516,
    "start_time": "2021-12-27T06:39:35.970Z"
   },
   {
    "duration": 17,
    "start_time": "2021-12-27T06:39:36.489Z"
   },
   {
    "duration": 55,
    "start_time": "2021-12-27T06:39:36.509Z"
   },
   {
    "duration": 109,
    "start_time": "2021-12-27T06:40:41.726Z"
   },
   {
    "duration": 58,
    "start_time": "2021-12-27T06:40:49.071Z"
   },
   {
    "duration": 62,
    "start_time": "2021-12-27T06:43:47.649Z"
   },
   {
    "duration": 60,
    "start_time": "2021-12-27T06:45:08.914Z"
   },
   {
    "duration": 372,
    "start_time": "2021-12-27T06:47:40.381Z"
   },
   {
    "duration": 61,
    "start_time": "2021-12-27T06:48:09.020Z"
   },
   {
    "duration": 254,
    "start_time": "2021-12-27T06:57:56.826Z"
   },
   {
    "duration": 289,
    "start_time": "2021-12-27T06:58:48.551Z"
   },
   {
    "duration": 1593,
    "start_time": "2021-12-27T06:59:08.942Z"
   },
   {
    "duration": 51,
    "start_time": "2021-12-27T06:59:10.539Z"
   },
   {
    "duration": 47,
    "start_time": "2021-12-27T06:59:10.594Z"
   },
   {
    "duration": 43,
    "start_time": "2021-12-27T06:59:10.662Z"
   },
   {
    "duration": 15,
    "start_time": "2021-12-27T06:59:10.707Z"
   },
   {
    "duration": 58,
    "start_time": "2021-12-27T06:59:10.724Z"
   },
   {
    "duration": 13,
    "start_time": "2021-12-27T06:59:10.785Z"
   },
   {
    "duration": 16,
    "start_time": "2021-12-27T06:59:10.802Z"
   },
   {
    "duration": 115,
    "start_time": "2021-12-27T06:59:10.821Z"
   },
   {
    "duration": 49,
    "start_time": "2021-12-27T06:59:10.939Z"
   },
   {
    "duration": 43,
    "start_time": "2021-12-27T06:59:10.991Z"
   },
   {
    "duration": 71,
    "start_time": "2021-12-27T06:59:11.064Z"
   },
   {
    "duration": 61,
    "start_time": "2021-12-27T06:59:11.138Z"
   },
   {
    "duration": 6,
    "start_time": "2021-12-27T06:59:11.201Z"
   },
   {
    "duration": 2256,
    "start_time": "2021-12-27T06:59:11.210Z"
   },
   {
    "duration": 46,
    "start_time": "2021-12-27T06:59:13.468Z"
   },
   {
    "duration": 422,
    "start_time": "2021-12-27T06:59:13.516Z"
   },
   {
    "duration": -88,
    "start_time": "2021-12-27T06:59:14.028Z"
   },
   {
    "duration": -92,
    "start_time": "2021-12-27T06:59:14.033Z"
   },
   {
    "duration": -95,
    "start_time": "2021-12-27T06:59:14.038Z"
   },
   {
    "duration": -98,
    "start_time": "2021-12-27T06:59:14.042Z"
   },
   {
    "duration": -101,
    "start_time": "2021-12-27T06:59:14.046Z"
   },
   {
    "duration": -102,
    "start_time": "2021-12-27T06:59:14.049Z"
   },
   {
    "duration": -105,
    "start_time": "2021-12-27T06:59:14.053Z"
   },
   {
    "duration": -107,
    "start_time": "2021-12-27T06:59:14.057Z"
   },
   {
    "duration": 6,
    "start_time": "2021-12-27T06:59:40.342Z"
   },
   {
    "duration": 59,
    "start_time": "2021-12-27T06:59:58.574Z"
   },
   {
    "duration": 381,
    "start_time": "2021-12-27T07:00:26.574Z"
   },
   {
    "duration": 60,
    "start_time": "2021-12-27T07:00:40.198Z"
   },
   {
    "duration": 87,
    "start_time": "2021-12-27T07:00:57.033Z"
   },
   {
    "duration": 61,
    "start_time": "2021-12-27T07:01:07.866Z"
   },
   {
    "duration": 1600,
    "start_time": "2021-12-27T07:02:15.044Z"
   },
   {
    "duration": 50,
    "start_time": "2021-12-27T07:02:16.647Z"
   },
   {
    "duration": 46,
    "start_time": "2021-12-27T07:02:16.703Z"
   },
   {
    "duration": 49,
    "start_time": "2021-12-27T07:02:16.752Z"
   },
   {
    "duration": 15,
    "start_time": "2021-12-27T07:02:16.803Z"
   },
   {
    "duration": 64,
    "start_time": "2021-12-27T07:02:16.820Z"
   },
   {
    "duration": 12,
    "start_time": "2021-12-27T07:02:16.887Z"
   },
   {
    "duration": 15,
    "start_time": "2021-12-27T07:02:16.902Z"
   },
   {
    "duration": 117,
    "start_time": "2021-12-27T07:02:16.919Z"
   },
   {
    "duration": 48,
    "start_time": "2021-12-27T07:02:17.040Z"
   },
   {
    "duration": 74,
    "start_time": "2021-12-27T07:02:17.091Z"
   },
   {
    "duration": 71,
    "start_time": "2021-12-27T07:02:17.169Z"
   },
   {
    "duration": 39,
    "start_time": "2021-12-27T07:02:17.264Z"
   },
   {
    "duration": 5,
    "start_time": "2021-12-27T07:02:17.306Z"
   },
   {
    "duration": 2371,
    "start_time": "2021-12-27T07:02:17.313Z"
   },
   {
    "duration": 47,
    "start_time": "2021-12-27T07:02:19.686Z"
   },
   {
    "duration": 78,
    "start_time": "2021-12-27T07:02:19.735Z"
   },
   {
    "duration": 10620,
    "start_time": "2021-12-27T07:02:19.816Z"
   },
   {
    "duration": 439,
    "start_time": "2021-12-27T07:02:30.439Z"
   },
   {
    "duration": 326,
    "start_time": "2021-12-27T07:02:30.881Z"
   },
   {
    "duration": 33,
    "start_time": "2021-12-27T07:02:31.209Z"
   },
   {
    "duration": 422,
    "start_time": "2021-12-27T07:02:31.264Z"
   },
   {
    "duration": 874,
    "start_time": "2021-12-27T07:02:31.689Z"
   },
   {
    "duration": 13,
    "start_time": "2021-12-27T07:02:32.566Z"
   },
   {
    "duration": 17,
    "start_time": "2021-12-27T07:02:32.582Z"
   },
   {
    "duration": 62,
    "start_time": "2021-12-27T07:03:57.804Z"
   },
   {
    "duration": 92,
    "start_time": "2021-12-27T07:10:04.432Z"
   },
   {
    "duration": 11,
    "start_time": "2021-12-27T07:10:12.003Z"
   },
   {
    "duration": 11,
    "start_time": "2021-12-27T07:11:43.524Z"
   },
   {
    "duration": 56,
    "start_time": "2021-12-27T07:12:05.114Z"
   },
   {
    "duration": 59,
    "start_time": "2021-12-27T07:13:12.638Z"
   },
   {
    "duration": 755,
    "start_time": "2021-12-27T07:40:15.861Z"
   },
   {
    "duration": 612,
    "start_time": "2021-12-27T07:41:23.390Z"
   },
   {
    "duration": 95,
    "start_time": "2021-12-27T07:47:46.173Z"
   },
   {
    "duration": 63,
    "start_time": "2021-12-27T07:47:54.721Z"
   },
   {
    "duration": 63,
    "start_time": "2021-12-27T07:50:07.629Z"
   },
   {
    "duration": 114,
    "start_time": "2021-12-27T12:25:22.357Z"
   },
   {
    "duration": 1563,
    "start_time": "2021-12-27T12:25:54.300Z"
   },
   {
    "duration": 47,
    "start_time": "2021-12-27T12:25:55.866Z"
   },
   {
    "duration": 48,
    "start_time": "2021-12-27T12:25:55.917Z"
   },
   {
    "duration": 42,
    "start_time": "2021-12-27T12:25:55.967Z"
   },
   {
    "duration": 14,
    "start_time": "2021-12-27T12:25:56.012Z"
   },
   {
    "duration": 67,
    "start_time": "2021-12-27T12:25:56.029Z"
   },
   {
    "duration": 14,
    "start_time": "2021-12-27T12:25:56.099Z"
   },
   {
    "duration": 45,
    "start_time": "2021-12-27T12:25:56.118Z"
   },
   {
    "duration": 109,
    "start_time": "2021-12-27T12:25:56.166Z"
   },
   {
    "duration": 48,
    "start_time": "2021-12-27T12:25:56.278Z"
   },
   {
    "duration": 93,
    "start_time": "2021-12-27T12:25:56.329Z"
   },
   {
    "duration": 142,
    "start_time": "2021-12-27T12:25:56.425Z"
   },
   {
    "duration": 56,
    "start_time": "2021-12-27T12:25:56.570Z"
   },
   {
    "duration": 6,
    "start_time": "2021-12-27T12:25:56.629Z"
   },
   {
    "duration": 2270,
    "start_time": "2021-12-27T12:25:56.664Z"
   },
   {
    "duration": 58,
    "start_time": "2021-12-27T12:25:58.937Z"
   },
   {
    "duration": 97,
    "start_time": "2021-12-27T12:25:58.998Z"
   },
   {
    "duration": -637,
    "start_time": "2021-12-27T12:25:59.735Z"
   },
   {
    "duration": -640,
    "start_time": "2021-12-27T12:25:59.739Z"
   },
   {
    "duration": -642,
    "start_time": "2021-12-27T12:25:59.743Z"
   },
   {
    "duration": -645,
    "start_time": "2021-12-27T12:25:59.747Z"
   },
   {
    "duration": -648,
    "start_time": "2021-12-27T12:25:59.751Z"
   },
   {
    "duration": -649,
    "start_time": "2021-12-27T12:25:59.754Z"
   },
   {
    "duration": -656,
    "start_time": "2021-12-27T12:25:59.763Z"
   },
   {
    "duration": -657,
    "start_time": "2021-12-27T12:25:59.766Z"
   },
   {
    "duration": 52,
    "start_time": "2021-12-27T12:26:27.903Z"
   },
   {
    "duration": 136,
    "start_time": "2021-12-27T12:26:52.619Z"
   },
   {
    "duration": 118,
    "start_time": "2021-12-27T12:27:40.336Z"
   },
   {
    "duration": 183,
    "start_time": "2021-12-27T12:28:23.361Z"
   },
   {
    "duration": 119,
    "start_time": "2021-12-27T12:28:53.648Z"
   },
   {
    "duration": 45,
    "start_time": "2021-12-27T12:31:15.572Z"
   },
   {
    "duration": 47,
    "start_time": "2021-12-27T13:04:55.677Z"
   },
   {
    "duration": 782,
    "start_time": "2021-12-27T13:15:59.498Z"
   },
   {
    "duration": 245,
    "start_time": "2021-12-27T13:16:09.507Z"
   },
   {
    "duration": 467,
    "start_time": "2021-12-27T13:17:14.298Z"
   },
   {
    "duration": 254,
    "start_time": "2021-12-27T13:19:37.892Z"
   },
   {
    "duration": 57,
    "start_time": "2021-12-27T14:24:07.981Z"
   },
   {
    "duration": 64,
    "start_time": "2021-12-27T14:24:57.165Z"
   },
   {
    "duration": 12,
    "start_time": "2021-12-27T15:07:08.622Z"
   },
   {
    "duration": 54,
    "start_time": "2021-12-27T15:07:44.687Z"
   },
   {
    "duration": 81,
    "start_time": "2021-12-27T15:08:36.296Z"
   },
   {
    "duration": 76,
    "start_time": "2021-12-27T15:09:07.210Z"
   },
   {
    "duration": 1594,
    "start_time": "2021-12-27T15:13:09.275Z"
   },
   {
    "duration": 48,
    "start_time": "2021-12-27T15:13:10.871Z"
   },
   {
    "duration": 50,
    "start_time": "2021-12-27T15:13:10.922Z"
   },
   {
    "duration": 46,
    "start_time": "2021-12-27T15:13:10.975Z"
   },
   {
    "duration": 41,
    "start_time": "2021-12-27T15:13:11.024Z"
   },
   {
    "duration": 37,
    "start_time": "2021-12-27T15:13:11.068Z"
   },
   {
    "duration": 14,
    "start_time": "2021-12-27T15:13:11.107Z"
   },
   {
    "duration": 52,
    "start_time": "2021-12-27T15:13:11.124Z"
   },
   {
    "duration": 103,
    "start_time": "2021-12-27T15:13:11.179Z"
   },
   {
    "duration": 31,
    "start_time": "2021-12-27T15:13:11.284Z"
   },
   {
    "duration": 70,
    "start_time": "2021-12-27T15:13:11.317Z"
   },
   {
    "duration": 101,
    "start_time": "2021-12-27T15:13:11.390Z"
   },
   {
    "duration": 42,
    "start_time": "2021-12-27T15:13:11.493Z"
   },
   {
    "duration": 33,
    "start_time": "2021-12-27T15:13:11.538Z"
   },
   {
    "duration": 2269,
    "start_time": "2021-12-27T15:13:11.574Z"
   },
   {
    "duration": 51,
    "start_time": "2021-12-27T15:13:13.846Z"
   },
   {
    "duration": 133,
    "start_time": "2021-12-27T15:13:13.900Z"
   },
   {
    "duration": 11842,
    "start_time": "2021-12-27T15:13:14.035Z"
   },
   {
    "duration": 540,
    "start_time": "2021-12-27T15:13:25.880Z"
   },
   {
    "duration": 324,
    "start_time": "2021-12-27T15:13:26.423Z"
   },
   {
    "duration": 38,
    "start_time": "2021-12-27T15:13:26.750Z"
   },
   {
    "duration": 808,
    "start_time": "2021-12-27T15:13:26.791Z"
   },
   {
    "duration": 530,
    "start_time": "2021-12-27T15:13:27.604Z"
   },
   {
    "duration": 27,
    "start_time": "2021-12-27T15:13:28.137Z"
   },
   {
    "duration": 20,
    "start_time": "2021-12-27T15:13:28.167Z"
   },
   {
    "duration": 506,
    "start_time": "2021-12-27T15:17:18.721Z"
   },
   {
    "duration": 105,
    "start_time": "2021-12-27T15:20:38.594Z"
   },
   {
    "duration": 117,
    "start_time": "2021-12-27T15:55:48.400Z"
   },
   {
    "duration": 1593,
    "start_time": "2021-12-27T15:55:57.683Z"
   },
   {
    "duration": 47,
    "start_time": "2021-12-27T15:55:59.279Z"
   },
   {
    "duration": 49,
    "start_time": "2021-12-27T15:55:59.330Z"
   },
   {
    "duration": 45,
    "start_time": "2021-12-27T15:55:59.382Z"
   },
   {
    "duration": 41,
    "start_time": "2021-12-27T15:55:59.429Z"
   },
   {
    "duration": 44,
    "start_time": "2021-12-27T15:55:59.473Z"
   },
   {
    "duration": 46,
    "start_time": "2021-12-27T15:55:59.520Z"
   },
   {
    "duration": 18,
    "start_time": "2021-12-27T15:55:59.569Z"
   },
   {
    "duration": 117,
    "start_time": "2021-12-27T15:55:59.590Z"
   },
   {
    "duration": 51,
    "start_time": "2021-12-27T15:55:59.713Z"
   },
   {
    "duration": 46,
    "start_time": "2021-12-27T15:55:59.768Z"
   },
   {
    "duration": 108,
    "start_time": "2021-12-27T15:55:59.817Z"
   },
   {
    "duration": 65,
    "start_time": "2021-12-27T15:55:59.928Z"
   },
   {
    "duration": 9,
    "start_time": "2021-12-27T15:55:59.996Z"
   },
   {
    "duration": 2957,
    "start_time": "2021-12-27T15:56:00.008Z"
   },
   {
    "duration": 43,
    "start_time": "2021-12-27T15:56:02.968Z"
   },
   {
    "duration": 133,
    "start_time": "2021-12-27T15:56:03.014Z"
   },
   {
    "duration": 11418,
    "start_time": "2021-12-27T15:56:03.151Z"
   },
   {
    "duration": 448,
    "start_time": "2021-12-27T15:56:14.571Z"
   },
   {
    "duration": 342,
    "start_time": "2021-12-27T15:56:15.021Z"
   },
   {
    "duration": 33,
    "start_time": "2021-12-27T15:56:15.366Z"
   },
   {
    "duration": 834,
    "start_time": "2021-12-27T15:56:15.401Z"
   },
   {
    "duration": 549,
    "start_time": "2021-12-27T15:56:16.238Z"
   },
   {
    "duration": 15,
    "start_time": "2021-12-27T15:56:16.789Z"
   },
   {
    "duration": 20,
    "start_time": "2021-12-27T15:56:16.807Z"
   },
   {
    "duration": 15,
    "start_time": "2021-12-27T16:38:22.633Z"
   },
   {
    "duration": 15,
    "start_time": "2021-12-27T16:39:19.963Z"
   },
   {
    "duration": 16,
    "start_time": "2021-12-27T16:40:03.178Z"
   },
   {
    "duration": 16,
    "start_time": "2021-12-27T16:40:40.499Z"
   },
   {
    "duration": 42,
    "start_time": "2021-12-27T16:51:38.862Z"
   },
   {
    "duration": 1583,
    "start_time": "2021-12-27T16:55:02.462Z"
   },
   {
    "duration": 46,
    "start_time": "2021-12-27T16:55:04.048Z"
   },
   {
    "duration": 46,
    "start_time": "2021-12-27T16:55:04.097Z"
   },
   {
    "duration": 22,
    "start_time": "2021-12-27T16:55:04.146Z"
   },
   {
    "duration": 35,
    "start_time": "2021-12-27T16:55:04.171Z"
   },
   {
    "duration": 81,
    "start_time": "2021-12-27T16:55:04.208Z"
   },
   {
    "duration": 15,
    "start_time": "2021-12-27T16:55:04.291Z"
   },
   {
    "duration": 16,
    "start_time": "2021-12-27T16:55:04.310Z"
   },
   {
    "duration": 104,
    "start_time": "2021-12-27T16:55:04.363Z"
   },
   {
    "duration": 29,
    "start_time": "2021-12-27T16:55:04.470Z"
   },
   {
    "duration": 72,
    "start_time": "2021-12-27T16:55:04.502Z"
   },
   {
    "duration": 90,
    "start_time": "2021-12-27T16:55:04.576Z"
   },
   {
    "duration": 38,
    "start_time": "2021-12-27T16:55:04.669Z"
   },
   {
    "duration": 9,
    "start_time": "2021-12-27T16:55:04.710Z"
   },
   {
    "duration": 2292,
    "start_time": "2021-12-27T16:55:04.721Z"
   },
   {
    "duration": 50,
    "start_time": "2021-12-27T16:55:07.016Z"
   },
   {
    "duration": 119,
    "start_time": "2021-12-27T16:55:07.069Z"
   },
   {
    "duration": 11175,
    "start_time": "2021-12-27T16:55:07.190Z"
   },
   {
    "duration": 453,
    "start_time": "2021-12-27T16:55:18.369Z"
   },
   {
    "duration": 313,
    "start_time": "2021-12-27T16:55:18.825Z"
   },
   {
    "duration": 53,
    "start_time": "2021-12-27T16:55:19.140Z"
   },
   {
    "duration": 860,
    "start_time": "2021-12-27T16:55:19.196Z"
   },
   {
    "duration": 524,
    "start_time": "2021-12-27T16:55:20.065Z"
   },
   {
    "duration": 20,
    "start_time": "2021-12-27T16:55:20.592Z"
   },
   {
    "duration": 47,
    "start_time": "2021-12-27T16:55:20.615Z"
   },
   {
    "duration": 433,
    "start_time": "2021-12-28T12:26:56.832Z"
   },
   {
    "duration": 1701,
    "start_time": "2021-12-28T12:27:14.101Z"
   },
   {
    "duration": 56,
    "start_time": "2021-12-28T12:27:15.805Z"
   },
   {
    "duration": 48,
    "start_time": "2021-12-28T12:27:15.864Z"
   },
   {
    "duration": 22,
    "start_time": "2021-12-28T12:27:15.915Z"
   },
   {
    "duration": 34,
    "start_time": "2021-12-28T12:27:15.940Z"
   },
   {
    "duration": 123,
    "start_time": "2021-12-28T12:27:15.977Z"
   },
   {
    "duration": 23,
    "start_time": "2021-12-28T12:27:16.103Z"
   },
   {
    "duration": 16,
    "start_time": "2021-12-28T12:27:16.131Z"
   },
   {
    "duration": 116,
    "start_time": "2021-12-28T12:27:16.150Z"
   },
   {
    "duration": 31,
    "start_time": "2021-12-28T12:27:16.269Z"
   },
   {
    "duration": 74,
    "start_time": "2021-12-28T12:27:16.304Z"
   },
   {
    "duration": 101,
    "start_time": "2021-12-28T12:27:16.381Z"
   },
   {
    "duration": 12,
    "start_time": "2021-12-28T12:27:16.485Z"
   },
   {
    "duration": 27,
    "start_time": "2021-12-28T12:27:16.500Z"
   },
   {
    "duration": 2364,
    "start_time": "2021-12-28T12:27:16.530Z"
   },
   {
    "duration": 53,
    "start_time": "2021-12-28T12:27:18.897Z"
   },
   {
    "duration": 124,
    "start_time": "2021-12-28T12:27:18.953Z"
   },
   {
    "duration": 10837,
    "start_time": "2021-12-28T12:27:19.080Z"
   },
   {
    "duration": 440,
    "start_time": "2021-12-28T12:27:29.919Z"
   },
   {
    "duration": 332,
    "start_time": "2021-12-28T12:27:30.362Z"
   },
   {
    "duration": 43,
    "start_time": "2021-12-28T12:27:30.697Z"
   },
   {
    "duration": 773,
    "start_time": "2021-12-28T12:27:30.743Z"
   },
   {
    "duration": 536,
    "start_time": "2021-12-28T12:27:31.522Z"
   },
   {
    "duration": 16,
    "start_time": "2021-12-28T12:27:32.061Z"
   },
   {
    "duration": 46,
    "start_time": "2021-12-28T12:27:32.080Z"
   },
   {
    "duration": 10693,
    "start_time": "2021-12-28T12:55:50.982Z"
   },
   {
    "duration": 10002,
    "start_time": "2021-12-28T13:06:34.813Z"
   },
   {
    "duration": 9072,
    "start_time": "2021-12-28T13:06:49.089Z"
   },
   {
    "duration": 20,
    "start_time": "2021-12-28T13:07:23.607Z"
   },
   {
    "duration": 106,
    "start_time": "2021-12-28T14:14:29.718Z"
   },
   {
    "duration": 113,
    "start_time": "2021-12-28T14:15:32.039Z"
   },
   {
    "duration": 4926,
    "start_time": "2021-12-28T14:16:56.194Z"
   },
   {
    "duration": 109,
    "start_time": "2021-12-28T14:20:54.380Z"
   },
   {
    "duration": 109,
    "start_time": "2021-12-28T14:21:16.064Z"
   },
   {
    "duration": 9829,
    "start_time": "2021-12-28T14:21:25.387Z"
   },
   {
    "duration": 4759,
    "start_time": "2021-12-28T14:21:51.320Z"
   },
   {
    "duration": 9780,
    "start_time": "2021-12-28T14:29:27.747Z"
   },
   {
    "duration": 1341,
    "start_time": "2021-12-28T14:30:56.084Z"
   },
   {
    "duration": 8,
    "start_time": "2021-12-28T14:39:35.427Z"
   },
   {
    "duration": 6,
    "start_time": "2021-12-28T14:55:14.967Z"
   },
   {
    "duration": 11,
    "start_time": "2021-12-28T15:09:43.080Z"
   },
   {
    "duration": 2255,
    "start_time": "2021-12-28T15:12:26.890Z"
   },
   {
    "duration": 113,
    "start_time": "2021-12-28T15:13:51.733Z"
   },
   {
    "duration": 108,
    "start_time": "2021-12-28T15:14:39.408Z"
   },
   {
    "duration": 117,
    "start_time": "2021-12-28T15:15:37.640Z"
   },
   {
    "duration": 113,
    "start_time": "2021-12-28T15:15:44.757Z"
   },
   {
    "duration": 19,
    "start_time": "2021-12-28T15:16:12.543Z"
   },
   {
    "duration": 31,
    "start_time": "2021-12-28T15:16:22.247Z"
   },
   {
    "duration": 28,
    "start_time": "2021-12-28T15:17:09.728Z"
   },
   {
    "duration": 47,
    "start_time": "2021-12-28T15:32:40.791Z"
   },
   {
    "duration": 54,
    "start_time": "2021-12-28T15:37:09.163Z"
   },
   {
    "duration": 59,
    "start_time": "2021-12-28T15:38:51.083Z"
   },
   {
    "duration": 58,
    "start_time": "2021-12-28T15:47:00.064Z"
   },
   {
    "duration": 16,
    "start_time": "2021-12-28T16:11:34.667Z"
   },
   {
    "duration": 104,
    "start_time": "2021-12-28T16:25:44.968Z"
   },
   {
    "duration": 15,
    "start_time": "2021-12-28T16:28:05.653Z"
   },
   {
    "duration": 106,
    "start_time": "2021-12-28T16:47:22.837Z"
   },
   {
    "duration": 44,
    "start_time": "2021-12-28T16:55:52.677Z"
   },
   {
    "duration": 44,
    "start_time": "2021-12-28T16:57:30.139Z"
   },
   {
    "duration": 162,
    "start_time": "2021-12-28T16:57:53.336Z"
   },
   {
    "duration": 118,
    "start_time": "2021-12-28T17:01:08.026Z"
   },
   {
    "duration": 58,
    "start_time": "2021-12-28T17:01:24.291Z"
   },
   {
    "duration": 64,
    "start_time": "2021-12-28T17:02:07.239Z"
   },
   {
    "duration": 44,
    "start_time": "2021-12-28T17:02:17.631Z"
   },
   {
    "duration": 33,
    "start_time": "2021-12-28T17:03:35.617Z"
   },
   {
    "duration": 41,
    "start_time": "2021-12-28T17:03:41.773Z"
   },
   {
    "duration": 34,
    "start_time": "2021-12-28T17:05:05.076Z"
   },
   {
    "duration": 17,
    "start_time": "2021-12-28T17:13:09.330Z"
   },
   {
    "duration": 23,
    "start_time": "2021-12-28T17:13:24.517Z"
   },
   {
    "duration": 20,
    "start_time": "2021-12-28T17:14:05.537Z"
   },
   {
    "duration": 1505,
    "start_time": "2021-12-28T17:14:23.669Z"
   },
   {
    "duration": 40,
    "start_time": "2021-12-28T17:14:25.176Z"
   },
   {
    "duration": 43,
    "start_time": "2021-12-28T17:14:25.220Z"
   },
   {
    "duration": 19,
    "start_time": "2021-12-28T17:14:25.266Z"
   },
   {
    "duration": 6,
    "start_time": "2021-12-28T17:14:25.287Z"
   },
   {
    "duration": 15,
    "start_time": "2021-12-28T17:14:25.323Z"
   },
   {
    "duration": 11,
    "start_time": "2021-12-28T17:14:25.340Z"
   },
   {
    "duration": 16,
    "start_time": "2021-12-28T17:14:25.354Z"
   },
   {
    "duration": 111,
    "start_time": "2021-12-28T17:14:25.373Z"
   },
   {
    "duration": 48,
    "start_time": "2021-12-28T17:14:25.487Z"
   },
   {
    "duration": 24,
    "start_time": "2021-12-28T17:14:25.537Z"
   },
   {
    "duration": 14,
    "start_time": "2021-12-28T17:14:25.564Z"
   },
   {
    "duration": 1351,
    "start_time": "2021-12-28T17:14:25.580Z"
   },
   {
    "duration": 11,
    "start_time": "2021-12-28T17:14:26.933Z"
   },
   {
    "duration": 8,
    "start_time": "2021-12-28T17:14:26.946Z"
   },
   {
    "duration": 2483,
    "start_time": "2021-12-28T17:14:26.956Z"
   },
   {
    "duration": 49,
    "start_time": "2021-12-28T17:14:29.441Z"
   },
   {
    "duration": 97,
    "start_time": "2021-12-28T17:14:29.493Z"
   },
   {
    "duration": 10237,
    "start_time": "2021-12-28T17:14:29.592Z"
   },
   {
    "duration": 838,
    "start_time": "2021-12-28T17:14:39.832Z"
   },
   {
    "duration": 308,
    "start_time": "2021-12-28T17:14:40.673Z"
   },
   {
    "duration": 50,
    "start_time": "2021-12-28T17:14:40.984Z"
   },
   {
    "duration": 396,
    "start_time": "2021-12-28T17:14:41.038Z"
   },
   {
    "duration": 523,
    "start_time": "2021-12-28T17:14:41.438Z"
   },
   {
    "duration": 16,
    "start_time": "2021-12-28T17:14:41.963Z"
   },
   {
    "duration": 44,
    "start_time": "2021-12-28T17:14:41.981Z"
   },
   {
    "duration": 39,
    "start_time": "2021-12-28T17:21:10.518Z"
   },
   {
    "duration": 113,
    "start_time": "2021-12-28T17:25:51.745Z"
   },
   {
    "duration": 5,
    "start_time": "2021-12-28T17:25:59.024Z"
   },
   {
    "duration": 6,
    "start_time": "2021-12-28T17:26:14.857Z"
   },
   {
    "duration": 5,
    "start_time": "2021-12-28T17:26:54.324Z"
   },
   {
    "duration": 5,
    "start_time": "2021-12-28T17:27:10.101Z"
   },
   {
    "duration": 14,
    "start_time": "2021-12-28T17:40:25.215Z"
   },
   {
    "duration": 13,
    "start_time": "2021-12-28T17:42:03.100Z"
   },
   {
    "duration": 11,
    "start_time": "2021-12-28T17:42:22.925Z"
   },
   {
    "duration": 12,
    "start_time": "2021-12-28T17:43:19.740Z"
   },
   {
    "duration": 13,
    "start_time": "2021-12-28T17:43:43.595Z"
   },
   {
    "duration": 462,
    "start_time": "2021-12-28T17:54:48.467Z"
   },
   {
    "duration": 38,
    "start_time": "2021-12-28T17:57:14.156Z"
   },
   {
    "duration": 103,
    "start_time": "2021-12-28T18:05:59.301Z"
   },
   {
    "duration": 156,
    "start_time": "2021-12-28T18:06:27.722Z"
   },
   {
    "duration": 125,
    "start_time": "2021-12-28T18:07:33.679Z"
   },
   {
    "duration": 163,
    "start_time": "2021-12-28T18:07:58.150Z"
   },
   {
    "duration": 109,
    "start_time": "2021-12-28T18:08:05.232Z"
   },
   {
    "duration": 95,
    "start_time": "2021-12-28T18:09:01.234Z"
   },
   {
    "duration": 120,
    "start_time": "2021-12-28T18:09:09.595Z"
   },
   {
    "duration": 188,
    "start_time": "2021-12-28T18:10:55.916Z"
   },
   {
    "duration": 43,
    "start_time": "2021-12-28T18:11:52.483Z"
   },
   {
    "duration": 10578,
    "start_time": "2021-12-28T18:13:06.589Z"
   },
   {
    "duration": 12670,
    "start_time": "2021-12-28T18:14:11.032Z"
   },
   {
    "duration": 634,
    "start_time": "2021-12-28T18:15:57.011Z"
   },
   {
    "duration": 754,
    "start_time": "2021-12-28T18:17:35.572Z"
   },
   {
    "duration": 812,
    "start_time": "2021-12-28T18:18:18.452Z"
   },
   {
    "duration": 798,
    "start_time": "2021-12-28T18:19:39.678Z"
   },
   {
    "duration": 785,
    "start_time": "2021-12-28T18:19:55.647Z"
   },
   {
    "duration": 1120,
    "start_time": "2021-12-28T18:20:06.123Z"
   },
   {
    "duration": 784,
    "start_time": "2021-12-28T18:20:34.431Z"
   },
   {
    "duration": 11,
    "start_time": "2021-12-28T18:21:29.733Z"
   },
   {
    "duration": 757,
    "start_time": "2021-12-28T18:23:36.173Z"
   },
   {
    "duration": 742,
    "start_time": "2021-12-28T18:23:47.253Z"
   },
   {
    "duration": 764,
    "start_time": "2021-12-28T18:23:59.395Z"
   },
   {
    "duration": 762,
    "start_time": "2021-12-28T18:24:41.741Z"
   },
   {
    "duration": 758,
    "start_time": "2021-12-28T18:25:09.167Z"
   },
   {
    "duration": 606,
    "start_time": "2021-12-28T18:25:44.203Z"
   },
   {
    "duration": 647,
    "start_time": "2021-12-28T18:26:47.223Z"
   },
   {
    "duration": 731,
    "start_time": "2021-12-28T18:27:38.371Z"
   },
   {
    "duration": 652,
    "start_time": "2021-12-28T18:29:59.353Z"
   },
   {
    "duration": 615,
    "start_time": "2021-12-28T18:30:13.261Z"
   },
   {
    "duration": 640,
    "start_time": "2021-12-28T18:30:22.553Z"
   },
   {
    "duration": 656,
    "start_time": "2021-12-28T18:30:42.769Z"
   },
   {
    "duration": 1151,
    "start_time": "2021-12-28T18:31:00.263Z"
   },
   {
    "duration": 1578,
    "start_time": "2021-12-28T18:32:27.537Z"
   },
   {
    "duration": 565,
    "start_time": "2021-12-28T18:32:35.526Z"
   },
   {
    "duration": 551,
    "start_time": "2021-12-28T18:33:04.992Z"
   },
   {
    "duration": 566,
    "start_time": "2021-12-28T18:33:30.330Z"
   },
   {
    "duration": 578,
    "start_time": "2021-12-28T18:34:23.425Z"
   },
   {
    "duration": 837,
    "start_time": "2021-12-28T18:35:53.257Z"
   },
   {
    "duration": 387,
    "start_time": "2021-12-28T18:40:53.847Z"
   },
   {
    "duration": 610,
    "start_time": "2021-12-28T18:43:11.680Z"
   },
   {
    "duration": 622,
    "start_time": "2021-12-28T18:44:14.689Z"
   },
   {
    "duration": 638,
    "start_time": "2021-12-28T18:44:21.285Z"
   },
   {
    "duration": 619,
    "start_time": "2021-12-28T18:44:46.777Z"
   },
   {
    "duration": 651,
    "start_time": "2021-12-28T18:45:32.004Z"
   },
   {
    "duration": 641,
    "start_time": "2021-12-28T18:46:07.711Z"
   },
   {
    "duration": 646,
    "start_time": "2021-12-28T18:46:33.311Z"
   },
   {
    "duration": 23,
    "start_time": "2021-12-28T18:52:56.628Z"
   },
   {
    "duration": 1564,
    "start_time": "2021-12-28T18:53:19.888Z"
   },
   {
    "duration": 50,
    "start_time": "2021-12-28T18:53:21.454Z"
   },
   {
    "duration": 40,
    "start_time": "2021-12-28T18:53:21.507Z"
   },
   {
    "duration": 15,
    "start_time": "2021-12-28T18:53:21.550Z"
   },
   {
    "duration": 5,
    "start_time": "2021-12-28T18:53:21.567Z"
   },
   {
    "duration": 17,
    "start_time": "2021-12-28T18:53:21.574Z"
   },
   {
    "duration": 40,
    "start_time": "2021-12-28T18:53:21.593Z"
   },
   {
    "duration": 16,
    "start_time": "2021-12-28T18:53:21.636Z"
   },
   {
    "duration": 102,
    "start_time": "2021-12-28T18:53:21.655Z"
   },
   {
    "duration": 29,
    "start_time": "2021-12-28T18:53:21.760Z"
   },
   {
    "duration": 49,
    "start_time": "2021-12-28T18:53:21.791Z"
   },
   {
    "duration": 13,
    "start_time": "2021-12-28T18:53:21.842Z"
   },
   {
    "duration": 1231,
    "start_time": "2021-12-28T18:53:21.857Z"
   },
   {
    "duration": 12,
    "start_time": "2021-12-28T18:53:23.090Z"
   },
   {
    "duration": 5,
    "start_time": "2021-12-28T18:53:23.123Z"
   },
   {
    "duration": 2266,
    "start_time": "2021-12-28T18:53:23.131Z"
   },
   {
    "duration": 53,
    "start_time": "2021-12-28T18:53:25.399Z"
   },
   {
    "duration": 118,
    "start_time": "2021-12-28T18:53:25.455Z"
   },
   {
    "duration": 571,
    "start_time": "2021-12-28T18:53:25.576Z"
   },
   {
    "duration": -852,
    "start_time": "2021-12-28T18:53:27.003Z"
   },
   {
    "duration": -856,
    "start_time": "2021-12-28T18:53:27.008Z"
   },
   {
    "duration": -865,
    "start_time": "2021-12-28T18:53:27.019Z"
   },
   {
    "duration": -866,
    "start_time": "2021-12-28T18:53:27.022Z"
   },
   {
    "duration": -869,
    "start_time": "2021-12-28T18:53:27.026Z"
   },
   {
    "duration": -871,
    "start_time": "2021-12-28T18:53:27.030Z"
   },
   {
    "duration": -874,
    "start_time": "2021-12-28T18:53:27.034Z"
   },
   {
    "duration": -875,
    "start_time": "2021-12-28T18:53:27.037Z"
   },
   {
    "duration": -878,
    "start_time": "2021-12-28T18:53:27.042Z"
   },
   {
    "duration": 338,
    "start_time": "2021-12-28T18:54:16.240Z"
   },
   {
    "duration": 21,
    "start_time": "2021-12-28T18:54:36.611Z"
   },
   {
    "duration": 1570,
    "start_time": "2021-12-28T18:55:32.198Z"
   },
   {
    "duration": 41,
    "start_time": "2021-12-28T18:55:33.774Z"
   },
   {
    "duration": 43,
    "start_time": "2021-12-28T18:55:33.817Z"
   },
   {
    "duration": 15,
    "start_time": "2021-12-28T18:55:33.862Z"
   },
   {
    "duration": 7,
    "start_time": "2021-12-28T18:55:33.879Z"
   },
   {
    "duration": 46,
    "start_time": "2021-12-28T18:55:33.889Z"
   },
   {
    "duration": 11,
    "start_time": "2021-12-28T18:55:33.939Z"
   },
   {
    "duration": 14,
    "start_time": "2021-12-28T18:55:33.953Z"
   },
   {
    "duration": 121,
    "start_time": "2021-12-28T18:55:33.970Z"
   },
   {
    "duration": 50,
    "start_time": "2021-12-28T18:55:34.093Z"
   },
   {
    "duration": 28,
    "start_time": "2021-12-28T18:55:34.145Z"
   },
   {
    "duration": 13,
    "start_time": "2021-12-28T18:55:34.176Z"
   },
   {
    "duration": 1203,
    "start_time": "2021-12-28T18:55:34.192Z"
   },
   {
    "duration": 26,
    "start_time": "2021-12-28T18:55:35.397Z"
   },
   {
    "duration": 5,
    "start_time": "2021-12-28T18:55:35.425Z"
   },
   {
    "duration": 2147,
    "start_time": "2021-12-28T18:55:35.433Z"
   },
   {
    "duration": 48,
    "start_time": "2021-12-28T18:55:37.582Z"
   },
   {
    "duration": 120,
    "start_time": "2021-12-28T18:55:37.633Z"
   },
   {
    "duration": 27,
    "start_time": "2021-12-28T18:55:37.755Z"
   },
   {
    "duration": 643,
    "start_time": "2021-12-28T18:55:37.785Z"
   },
   {
    "duration": 640,
    "start_time": "2021-12-28T18:55:38.431Z"
   },
   {
    "duration": 407,
    "start_time": "2021-12-28T18:55:39.075Z"
   },
   {
    "duration": 299,
    "start_time": "2021-12-28T18:55:39.486Z"
   },
   {
    "duration": 46,
    "start_time": "2021-12-28T18:55:39.787Z"
   },
   {
    "duration": 385,
    "start_time": "2021-12-28T18:55:39.835Z"
   },
   {
    "duration": 506,
    "start_time": "2021-12-28T18:55:40.224Z"
   },
   {
    "duration": 17,
    "start_time": "2021-12-28T18:55:40.733Z"
   },
   {
    "duration": 19,
    "start_time": "2021-12-28T18:55:40.752Z"
   },
   {
    "duration": 457,
    "start_time": "2021-12-28T18:56:04.559Z"
   },
   {
    "duration": 388,
    "start_time": "2021-12-29T06:10:47.062Z"
   },
   {
    "duration": 1700,
    "start_time": "2021-12-29T06:11:20.431Z"
   },
   {
    "duration": 5511,
    "start_time": "2021-12-29T06:11:22.133Z"
   },
   {
    "duration": 4054,
    "start_time": "2021-12-29T06:11:27.647Z"
   },
   {
    "duration": 2441,
    "start_time": "2021-12-29T06:11:31.705Z"
   },
   {
    "duration": 2634,
    "start_time": "2021-12-29T06:11:34.148Z"
   },
   {
    "duration": 3906,
    "start_time": "2021-12-29T06:11:36.785Z"
   },
   {
    "duration": 3213,
    "start_time": "2021-12-29T06:11:40.693Z"
   },
   {
    "duration": 1790,
    "start_time": "2021-12-29T06:11:43.910Z"
   },
   {
    "duration": 1426,
    "start_time": "2021-12-29T06:11:45.705Z"
   },
   {
    "duration": 3709,
    "start_time": "2021-12-29T06:11:47.134Z"
   },
   {
    "duration": 1060,
    "start_time": "2021-12-29T06:11:50.846Z"
   },
   {
    "duration": 984,
    "start_time": "2021-12-29T06:11:51.909Z"
   },
   {
    "duration": 2178,
    "start_time": "2021-12-29T06:11:52.895Z"
   },
   {
    "duration": 12,
    "start_time": "2021-12-29T06:11:55.075Z"
   },
   {
    "duration": 842,
    "start_time": "2021-12-29T06:11:55.090Z"
   },
   {
    "duration": 2936,
    "start_time": "2021-12-29T06:11:55.935Z"
   },
   {
    "duration": 53,
    "start_time": "2021-12-29T06:11:58.873Z"
   },
   {
    "duration": 758,
    "start_time": "2021-12-29T06:11:58.928Z"
   },
   {
    "duration": 665,
    "start_time": "2021-12-29T06:11:59.688Z"
   },
   {
    "duration": 1484,
    "start_time": "2021-12-29T06:12:00.356Z"
   },
   {
    "duration": 1030,
    "start_time": "2021-12-29T06:12:01.843Z"
   },
   {
    "duration": 667,
    "start_time": "2021-12-29T06:12:02.876Z"
   },
   {
    "duration": 733,
    "start_time": "2021-12-29T06:12:03.547Z"
   },
   {
    "duration": 783,
    "start_time": "2021-12-29T06:12:04.283Z"
   },
   {
    "duration": 1354,
    "start_time": "2021-12-29T06:12:05.068Z"
   },
   {
    "duration": 1039,
    "start_time": "2021-12-29T06:12:06.424Z"
   },
   {
    "duration": 528,
    "start_time": "2021-12-29T06:12:07.466Z"
   },
   {
    "duration": 1135,
    "start_time": "2021-12-29T06:12:07.998Z"
   },
   {
    "duration": 21,
    "start_time": "2021-12-29T06:12:53.507Z"
   },
   {
    "duration": 20,
    "start_time": "2021-12-29T06:12:59.170Z"
   },
   {
    "duration": 9,
    "start_time": "2021-12-29T06:29:29.188Z"
   },
   {
    "duration": 11,
    "start_time": "2021-12-29T06:29:51.221Z"
   },
   {
    "duration": 8,
    "start_time": "2021-12-29T06:31:46.673Z"
   },
   {
    "duration": 10,
    "start_time": "2021-12-29T06:33:27.635Z"
   },
   {
    "duration": 656,
    "start_time": "2021-12-29T06:37:49.674Z"
   },
   {
    "duration": 336,
    "start_time": "2021-12-29T06:38:11.593Z"
   },
   {
    "duration": 8385,
    "start_time": "2021-12-29T06:38:23.149Z"
   },
   {
    "duration": -1643,
    "start_time": "2021-12-29T06:38:48.616Z"
   },
   {
    "duration": 28,
    "start_time": "2021-12-29T06:38:50.796Z"
   },
   {
    "duration": 697,
    "start_time": "2021-12-29T06:52:30.177Z"
   },
   {
    "duration": 834,
    "start_time": "2021-12-29T06:52:37.197Z"
   },
   {
    "duration": 837,
    "start_time": "2021-12-29T06:53:12.027Z"
   },
   {
    "duration": 820,
    "start_time": "2021-12-29T06:54:35.199Z"
   },
   {
    "duration": 339,
    "start_time": "2021-12-29T07:02:42.439Z"
   },
   {
    "duration": 332,
    "start_time": "2021-12-29T07:03:13.010Z"
   },
   {
    "duration": 11,
    "start_time": "2021-12-29T07:03:26.528Z"
   },
   {
    "duration": 493,
    "start_time": "2021-12-29T07:16:50.745Z"
   },
   {
    "duration": 449,
    "start_time": "2021-12-29T07:16:59.975Z"
   },
   {
    "duration": 424,
    "start_time": "2021-12-29T07:17:32.018Z"
   },
   {
    "duration": 413,
    "start_time": "2021-12-29T07:17:55.897Z"
   },
   {
    "duration": 452,
    "start_time": "2021-12-29T07:18:50.530Z"
   },
   {
    "duration": 519,
    "start_time": "2021-12-29T07:29:39.154Z"
   },
   {
    "duration": 978,
    "start_time": "2021-12-29T07:29:55.303Z"
   },
   {
    "duration": 493,
    "start_time": "2021-12-29T07:30:17.444Z"
   },
   {
    "duration": 19,
    "start_time": "2021-12-29T08:16:16.942Z"
   },
   {
    "duration": 27,
    "start_time": "2021-12-29T08:41:16.020Z"
   },
   {
    "duration": 17,
    "start_time": "2021-12-29T08:42:00.284Z"
   },
   {
    "duration": 19,
    "start_time": "2021-12-29T08:42:04.993Z"
   },
   {
    "duration": 439,
    "start_time": "2021-12-29T08:42:28.364Z"
   },
   {
    "duration": 39,
    "start_time": "2021-12-29T08:42:44.551Z"
   },
   {
    "duration": 30,
    "start_time": "2021-12-29T08:43:14.947Z"
   },
   {
    "duration": 34,
    "start_time": "2021-12-29T08:48:27.737Z"
   },
   {
    "duration": 24,
    "start_time": "2021-12-29T08:48:33.281Z"
   },
   {
    "duration": 24,
    "start_time": "2021-12-29T08:48:52.549Z"
   },
   {
    "duration": 53,
    "start_time": "2021-12-29T08:52:46.160Z"
   },
   {
    "duration": 54,
    "start_time": "2021-12-29T08:53:05.023Z"
   },
   {
    "duration": 67,
    "start_time": "2021-12-29T08:53:22.074Z"
   },
   {
    "duration": 20,
    "start_time": "2021-12-29T08:53:29.194Z"
   },
   {
    "duration": 54,
    "start_time": "2021-12-29T08:53:39.526Z"
   },
   {
    "duration": 34,
    "start_time": "2021-12-29T08:53:51.308Z"
   },
   {
    "duration": 32,
    "start_time": "2021-12-29T08:54:02.006Z"
   },
   {
    "duration": 68,
    "start_time": "2021-12-29T08:54:10.086Z"
   },
   {
    "duration": 19,
    "start_time": "2021-12-29T08:55:11.438Z"
   },
   {
    "duration": 81,
    "start_time": "2021-12-29T08:55:21.195Z"
   },
   {
    "duration": 14,
    "start_time": "2021-12-29T08:56:13.575Z"
   },
   {
    "duration": 53,
    "start_time": "2021-12-29T08:56:24.431Z"
   },
   {
    "duration": 75,
    "start_time": "2021-12-29T08:58:22.698Z"
   },
   {
    "duration": 112,
    "start_time": "2021-12-29T09:00:10.514Z"
   },
   {
    "duration": 124,
    "start_time": "2021-12-29T09:01:32.690Z"
   },
   {
    "duration": 141,
    "start_time": "2021-12-29T09:01:52.122Z"
   },
   {
    "duration": 116,
    "start_time": "2021-12-29T09:02:08.921Z"
   },
   {
    "duration": 26,
    "start_time": "2021-12-29T09:03:13.649Z"
   },
   {
    "duration": 21,
    "start_time": "2021-12-29T09:04:12.667Z"
   },
   {
    "duration": 28,
    "start_time": "2021-12-29T09:15:11.667Z"
   },
   {
    "duration": 14,
    "start_time": "2021-12-29T09:20:10.975Z"
   },
   {
    "duration": 10,
    "start_time": "2021-12-29T09:21:18.622Z"
   },
   {
    "duration": 12,
    "start_time": "2021-12-29T09:21:37.963Z"
   },
   {
    "duration": 28,
    "start_time": "2021-12-29T09:23:25.593Z"
   },
   {
    "duration": 26,
    "start_time": "2021-12-29T09:23:47.624Z"
   },
   {
    "duration": 28,
    "start_time": "2021-12-29T09:29:44.182Z"
   },
   {
    "duration": 13,
    "start_time": "2021-12-29T09:30:29.285Z"
   },
   {
    "duration": 29,
    "start_time": "2021-12-29T09:35:44.945Z"
   },
   {
    "duration": 24,
    "start_time": "2021-12-29T09:36:17.148Z"
   },
   {
    "duration": 27,
    "start_time": "2021-12-29T09:37:03.684Z"
   },
   {
    "duration": 41,
    "start_time": "2021-12-29T09:37:44.037Z"
   },
   {
    "duration": 344,
    "start_time": "2021-12-29T09:38:17.426Z"
   },
   {
    "duration": 38,
    "start_time": "2021-12-29T09:38:24.111Z"
   },
   {
    "duration": 30,
    "start_time": "2021-12-29T09:38:38.633Z"
   },
   {
    "duration": 132,
    "start_time": "2021-12-29T09:39:10.022Z"
   },
   {
    "duration": 29,
    "start_time": "2021-12-29T09:39:17.968Z"
   },
   {
    "duration": 48,
    "start_time": "2021-12-29T09:41:15.618Z"
   },
   {
    "duration": 47,
    "start_time": "2021-12-29T09:41:24.734Z"
   },
   {
    "duration": 1220,
    "start_time": "2021-12-29T09:45:16.856Z"
   },
   {
    "duration": 1254,
    "start_time": "2021-12-29T09:45:26.526Z"
   },
   {
    "duration": 464,
    "start_time": "2021-12-29T09:45:40.247Z"
   },
   {
    "duration": 22,
    "start_time": "2021-12-29T09:45:49.865Z"
   },
   {
    "duration": 29,
    "start_time": "2021-12-29T09:46:08.523Z"
   },
   {
    "duration": 14,
    "start_time": "2021-12-29T10:22:24.080Z"
   },
   {
    "duration": 14,
    "start_time": "2021-12-29T10:22:37.839Z"
   },
   {
    "duration": 47,
    "start_time": "2021-12-29T11:01:33.572Z"
   },
   {
    "duration": 46,
    "start_time": "2021-12-29T11:02:20.439Z"
   },
   {
    "duration": 460,
    "start_time": "2021-12-29T11:02:54.738Z"
   },
   {
    "duration": 1807,
    "start_time": "2021-12-29T11:04:12.360Z"
   },
   {
    "duration": 379,
    "start_time": "2021-12-29T11:04:41.058Z"
   },
   {
    "duration": 61,
    "start_time": "2021-12-29T11:07:24.039Z"
   },
   {
    "duration": 56,
    "start_time": "2021-12-29T11:18:03.850Z"
   },
   {
    "duration": 60,
    "start_time": "2021-12-29T11:19:37.435Z"
   },
   {
    "duration": 390,
    "start_time": "2021-12-29T11:23:29.561Z"
   },
   {
    "duration": 57,
    "start_time": "2021-12-29T11:24:37.386Z"
   },
   {
    "duration": 348,
    "start_time": "2021-12-29T11:27:14.323Z"
   },
   {
    "duration": 54,
    "start_time": "2021-12-29T11:27:32.693Z"
   },
   {
    "duration": 116,
    "start_time": "2021-12-29T11:31:33.246Z"
   },
   {
    "duration": 63,
    "start_time": "2021-12-29T11:32:15.828Z"
   },
   {
    "duration": 51,
    "start_time": "2021-12-29T11:36:42.289Z"
   },
   {
    "duration": 45,
    "start_time": "2021-12-29T11:41:43.881Z"
   },
   {
    "duration": 49,
    "start_time": "2021-12-29T11:44:16.151Z"
   },
   {
    "duration": 444,
    "start_time": "2021-12-29T11:45:00.510Z"
   },
   {
    "duration": 404,
    "start_time": "2021-12-29T11:51:34.479Z"
   },
   {
    "duration": 44,
    "start_time": "2021-12-29T11:52:40.030Z"
   },
   {
    "duration": 1049,
    "start_time": "2021-12-29T12:00:09.791Z"
   },
   {
    "duration": 141,
    "start_time": "2021-12-29T12:04:44.702Z"
   },
   {
    "duration": 2086,
    "start_time": "2021-12-29T12:05:33.550Z"
   },
   {
    "duration": 51,
    "start_time": "2021-12-29T12:05:35.640Z"
   },
   {
    "duration": 71,
    "start_time": "2021-12-29T12:05:35.695Z"
   },
   {
    "duration": 27,
    "start_time": "2021-12-29T12:05:35.770Z"
   },
   {
    "duration": 9,
    "start_time": "2021-12-29T12:05:35.819Z"
   },
   {
    "duration": 19,
    "start_time": "2021-12-29T12:05:35.831Z"
   },
   {
    "duration": 12,
    "start_time": "2021-12-29T12:05:35.853Z"
   },
   {
    "duration": 64,
    "start_time": "2021-12-29T12:05:35.869Z"
   },
   {
    "duration": 111,
    "start_time": "2021-12-29T12:05:35.936Z"
   },
   {
    "duration": 31,
    "start_time": "2021-12-29T12:05:36.049Z"
   },
   {
    "duration": 53,
    "start_time": "2021-12-29T12:05:36.083Z"
   },
   {
    "duration": 19,
    "start_time": "2021-12-29T12:05:36.139Z"
   },
   {
    "duration": 2212,
    "start_time": "2021-12-29T12:05:36.161Z"
   },
   {
    "duration": 14,
    "start_time": "2021-12-29T12:05:38.375Z"
   },
   {
    "duration": 28,
    "start_time": "2021-12-29T12:05:38.392Z"
   },
   {
    "duration": 2494,
    "start_time": "2021-12-29T12:05:38.423Z"
   },
   {
    "duration": 45,
    "start_time": "2021-12-29T12:05:40.919Z"
   },
   {
    "duration": 139,
    "start_time": "2021-12-29T12:05:40.966Z"
   },
   {
    "duration": 15,
    "start_time": "2021-12-29T12:05:41.108Z"
   },
   {
    "duration": 30,
    "start_time": "2021-12-29T12:05:41.125Z"
   },
   {
    "duration": 883,
    "start_time": "2021-12-29T12:05:41.157Z"
   },
   {
    "duration": 420,
    "start_time": "2021-12-29T12:05:42.043Z"
   },
   {
    "duration": 332,
    "start_time": "2021-12-29T12:05:42.467Z"
   },
   {
    "duration": 36,
    "start_time": "2021-12-29T12:05:42.802Z"
   },
   {
    "duration": 446,
    "start_time": "2021-12-29T12:05:42.840Z"
   },
   {
    "duration": 487,
    "start_time": "2021-12-29T12:05:43.289Z"
   },
   {
    "duration": 37,
    "start_time": "2021-12-29T12:05:43.779Z"
   },
   {
    "duration": 23,
    "start_time": "2021-12-29T12:05:43.819Z"
   },
   {
    "duration": 757,
    "start_time": "2021-12-29T12:05:43.845Z"
   },
   {
    "duration": 19,
    "start_time": "2021-12-29T12:05:44.605Z"
   },
   {
    "duration": 12,
    "start_time": "2021-12-29T12:05:44.627Z"
   },
   {
    "duration": 27,
    "start_time": "2021-12-29T12:05:44.642Z"
   },
   {
    "duration": 181,
    "start_time": "2021-12-29T12:07:33.471Z"
   },
   {
    "duration": 2196,
    "start_time": "2021-12-29T12:08:30.204Z"
   },
   {
    "duration": 48,
    "start_time": "2021-12-29T12:08:32.404Z"
   },
   {
    "duration": 66,
    "start_time": "2021-12-29T12:08:32.456Z"
   },
   {
    "duration": 26,
    "start_time": "2021-12-29T12:08:32.526Z"
   },
   {
    "duration": 9,
    "start_time": "2021-12-29T12:08:32.555Z"
   },
   {
    "duration": 52,
    "start_time": "2021-12-29T12:08:32.567Z"
   },
   {
    "duration": 13,
    "start_time": "2021-12-29T12:08:32.622Z"
   },
   {
    "duration": 28,
    "start_time": "2021-12-29T12:08:32.640Z"
   },
   {
    "duration": 119,
    "start_time": "2021-12-29T12:08:32.671Z"
   },
   {
    "duration": 56,
    "start_time": "2021-12-29T12:08:32.793Z"
   },
   {
    "duration": 27,
    "start_time": "2021-12-29T12:08:32.852Z"
   },
   {
    "duration": 47,
    "start_time": "2021-12-29T12:08:32.882Z"
   },
   {
    "duration": 1358,
    "start_time": "2021-12-29T12:08:32.931Z"
   },
   {
    "duration": 26,
    "start_time": "2021-12-29T12:08:34.291Z"
   },
   {
    "duration": 12,
    "start_time": "2021-12-29T12:08:34.320Z"
   },
   {
    "duration": 2322,
    "start_time": "2021-12-29T12:08:34.335Z"
   },
   {
    "duration": 46,
    "start_time": "2021-12-29T12:08:36.660Z"
   },
   {
    "duration": 130,
    "start_time": "2021-12-29T12:08:36.709Z"
   },
   {
    "duration": 10,
    "start_time": "2021-12-29T12:08:36.842Z"
   },
   {
    "duration": 23,
    "start_time": "2021-12-29T12:08:36.855Z"
   },
   {
    "duration": 969,
    "start_time": "2021-12-29T12:08:36.880Z"
   },
   {
    "duration": 419,
    "start_time": "2021-12-29T12:08:37.852Z"
   },
   {
    "duration": 327,
    "start_time": "2021-12-29T12:08:38.277Z"
   },
   {
    "duration": 38,
    "start_time": "2021-12-29T12:08:38.607Z"
   },
   {
    "duration": 432,
    "start_time": "2021-12-29T12:08:38.648Z"
   },
   {
    "duration": 489,
    "start_time": "2021-12-29T12:08:39.082Z"
   },
   {
    "duration": 18,
    "start_time": "2021-12-29T12:08:39.574Z"
   },
   {
    "duration": 48,
    "start_time": "2021-12-29T12:08:39.595Z"
   },
   {
    "duration": 745,
    "start_time": "2021-12-29T12:08:39.646Z"
   },
   {
    "duration": 23,
    "start_time": "2021-12-29T12:08:40.394Z"
   },
   {
    "duration": 11,
    "start_time": "2021-12-29T12:08:40.420Z"
   },
   {
    "duration": 26,
    "start_time": "2021-12-29T12:08:40.433Z"
   },
   {
    "duration": 54,
    "start_time": "2021-12-29T12:11:46.993Z"
   },
   {
    "duration": 6,
    "start_time": "2021-12-29T12:13:28.034Z"
   },
   {
    "duration": 111,
    "start_time": "2021-12-29T12:21:05.285Z"
   },
   {
    "duration": 6,
    "start_time": "2021-12-29T12:21:27.703Z"
   },
   {
    "duration": 124,
    "start_time": "2021-12-29T12:24:58.027Z"
   },
   {
    "duration": 6,
    "start_time": "2021-12-29T12:25:24.350Z"
   },
   {
    "duration": 6,
    "start_time": "2021-12-29T12:25:49.949Z"
   },
   {
    "duration": 7,
    "start_time": "2021-12-29T12:29:23.105Z"
   },
   {
    "duration": 8,
    "start_time": "2021-12-29T12:29:57.412Z"
   },
   {
    "duration": 7,
    "start_time": "2021-12-29T12:30:39.253Z"
   },
   {
    "duration": 10,
    "start_time": "2021-12-29T12:31:25.476Z"
   },
   {
    "duration": 10,
    "start_time": "2021-12-29T12:32:25.291Z"
   },
   {
    "duration": 8,
    "start_time": "2021-12-29T12:32:52.542Z"
   },
   {
    "duration": 11,
    "start_time": "2021-12-29T12:33:10.731Z"
   },
   {
    "duration": 7,
    "start_time": "2021-12-29T12:34:21.068Z"
   },
   {
    "duration": 9,
    "start_time": "2021-12-29T12:34:39.464Z"
   },
   {
    "duration": 6,
    "start_time": "2021-12-29T12:35:07.599Z"
   },
   {
    "duration": 8,
    "start_time": "2021-12-29T12:35:31.113Z"
   },
   {
    "duration": 8,
    "start_time": "2021-12-29T12:40:28.449Z"
   },
   {
    "duration": 8,
    "start_time": "2021-12-29T12:40:42.826Z"
   },
   {
    "duration": 7,
    "start_time": "2021-12-29T12:40:56.499Z"
   },
   {
    "duration": 33,
    "start_time": "2021-12-29T12:41:37.453Z"
   },
   {
    "duration": 25,
    "start_time": "2021-12-29T12:41:46.264Z"
   },
   {
    "duration": 32,
    "start_time": "2021-12-29T12:42:13.942Z"
   },
   {
    "duration": 102,
    "start_time": "2021-12-29T12:49:52.330Z"
   },
   {
    "duration": 57,
    "start_time": "2021-12-29T12:53:27.145Z"
   },
   {
    "duration": 27,
    "start_time": "2021-12-29T13:02:03.365Z"
   },
   {
    "duration": 423,
    "start_time": "2021-12-29T13:08:40.337Z"
   },
   {
    "duration": 867,
    "start_time": "2021-12-29T13:10:40.314Z"
   },
   {
    "duration": 312,
    "start_time": "2021-12-29T13:10:47.550Z"
   },
   {
    "duration": 342,
    "start_time": "2021-12-29T13:11:28.406Z"
   },
   {
    "duration": 468,
    "start_time": "2021-12-29T13:14:08.280Z"
   },
   {
    "duration": 351,
    "start_time": "2021-12-29T13:16:34.417Z"
   },
   {
    "duration": 365,
    "start_time": "2021-12-29T13:17:02.019Z"
   },
   {
    "duration": 560,
    "start_time": "2021-12-29T13:18:08.616Z"
   },
   {
    "duration": 528,
    "start_time": "2021-12-29T13:19:33.006Z"
   },
   {
    "duration": 126,
    "start_time": "2021-12-29T13:21:57.394Z"
   },
   {
    "duration": 112,
    "start_time": "2021-12-29T13:23:39.352Z"
   },
   {
    "duration": 114,
    "start_time": "2021-12-29T13:24:10.589Z"
   },
   {
    "duration": 335,
    "start_time": "2021-12-29T13:24:18.540Z"
   },
   {
    "duration": 352,
    "start_time": "2021-12-29T13:24:28.321Z"
   },
   {
    "duration": 119,
    "start_time": "2021-12-29T13:25:47.602Z"
   },
   {
    "duration": 111,
    "start_time": "2021-12-29T13:26:11.700Z"
   },
   {
    "duration": 106,
    "start_time": "2021-12-29T13:26:32.663Z"
   },
   {
    "duration": 121,
    "start_time": "2021-12-29T13:26:58.352Z"
   },
   {
    "duration": 126,
    "start_time": "2021-12-29T13:27:09.250Z"
   },
   {
    "duration": 134,
    "start_time": "2021-12-29T13:27:26.946Z"
   },
   {
    "duration": 507,
    "start_time": "2021-12-29T13:27:35.362Z"
   },
   {
    "duration": 373,
    "start_time": "2021-12-29T13:28:19.894Z"
   },
   {
    "duration": 111,
    "start_time": "2021-12-29T13:29:25.924Z"
   },
   {
    "duration": 126,
    "start_time": "2021-12-29T13:29:46.622Z"
   },
   {
    "duration": 445,
    "start_time": "2021-12-29T13:30:05.423Z"
   },
   {
    "duration": 699,
    "start_time": "2021-12-29T13:31:09.140Z"
   },
   {
    "duration": 532,
    "start_time": "2021-12-29T13:33:53.185Z"
   },
   {
    "duration": 1686,
    "start_time": "2021-12-29T14:02:20.045Z"
   },
   {
    "duration": 44,
    "start_time": "2021-12-29T14:02:21.734Z"
   },
   {
    "duration": 80,
    "start_time": "2021-12-29T14:02:21.787Z"
   },
   {
    "duration": 48,
    "start_time": "2021-12-29T14:02:21.871Z"
   },
   {
    "duration": 8,
    "start_time": "2021-12-29T14:02:21.923Z"
   },
   {
    "duration": 28,
    "start_time": "2021-12-29T14:02:21.934Z"
   },
   {
    "duration": 15,
    "start_time": "2021-12-29T14:02:21.968Z"
   },
   {
    "duration": 39,
    "start_time": "2021-12-29T14:02:22.022Z"
   },
   {
    "duration": 119,
    "start_time": "2021-12-29T14:02:22.064Z"
   },
   {
    "duration": 56,
    "start_time": "2021-12-29T14:02:22.185Z"
   },
   {
    "duration": 29,
    "start_time": "2021-12-29T14:02:22.244Z"
   },
   {
    "duration": 45,
    "start_time": "2021-12-29T14:02:22.276Z"
   },
   {
    "duration": 1270,
    "start_time": "2021-12-29T14:02:22.324Z"
   },
   {
    "duration": 23,
    "start_time": "2021-12-29T14:02:23.597Z"
   },
   {
    "duration": 9,
    "start_time": "2021-12-29T14:02:23.623Z"
   },
   {
    "duration": 3838,
    "start_time": "2021-12-29T14:02:23.635Z"
   },
   {
    "duration": 76,
    "start_time": "2021-12-29T14:02:27.476Z"
   },
   {
    "duration": 205,
    "start_time": "2021-12-29T14:02:27.555Z"
   },
   {
    "duration": 13,
    "start_time": "2021-12-29T14:02:27.763Z"
   },
   {
    "duration": 59,
    "start_time": "2021-12-29T14:02:27.779Z"
   },
   {
    "duration": 1231,
    "start_time": "2021-12-29T14:02:27.841Z"
   },
   {
    "duration": 601,
    "start_time": "2021-12-29T14:02:29.078Z"
   },
   {
    "duration": 484,
    "start_time": "2021-12-29T14:02:29.683Z"
   },
   {
    "duration": 57,
    "start_time": "2021-12-29T14:02:30.171Z"
   },
   {
    "duration": 456,
    "start_time": "2021-12-29T14:02:30.230Z"
   },
   {
    "duration": 721,
    "start_time": "2021-12-29T14:02:30.689Z"
   },
   {
    "duration": 18,
    "start_time": "2021-12-29T14:02:31.414Z"
   },
   {
    "duration": 85,
    "start_time": "2021-12-29T14:02:31.435Z"
   },
   {
    "duration": 741,
    "start_time": "2021-12-29T14:02:31.523Z"
   },
   {
    "duration": 50,
    "start_time": "2021-12-29T14:02:32.267Z"
   },
   {
    "duration": 14,
    "start_time": "2021-12-29T14:02:32.321Z"
   },
   {
    "duration": 30,
    "start_time": "2021-12-29T14:02:32.338Z"
   },
   {
    "duration": 726,
    "start_time": "2021-12-29T14:03:07.876Z"
   },
   {
    "duration": 22,
    "start_time": "2021-12-29T14:19:46.508Z"
   },
   {
    "duration": 18,
    "start_time": "2021-12-29T14:20:16.515Z"
   },
   {
    "duration": 18,
    "start_time": "2021-12-29T14:20:57.751Z"
   },
   {
    "duration": 121,
    "start_time": "2021-12-29T14:28:50.481Z"
   },
   {
    "duration": 639,
    "start_time": "2021-12-29T14:29:08.227Z"
   },
   {
    "duration": 582,
    "start_time": "2021-12-29T14:29:47.469Z"
   },
   {
    "duration": 384,
    "start_time": "2021-12-29T14:29:55.710Z"
   },
   {
    "duration": 182,
    "start_time": "2021-12-29T14:30:23.253Z"
   },
   {
    "duration": 106,
    "start_time": "2021-12-29T14:46:30.487Z"
   },
   {
    "duration": 372,
    "start_time": "2021-12-29T14:48:08.247Z"
   },
   {
    "duration": 205,
    "start_time": "2021-12-29T14:48:33.622Z"
   },
   {
    "duration": 276,
    "start_time": "2021-12-29T14:48:52.620Z"
   },
   {
    "duration": 17,
    "start_time": "2021-12-29T14:49:41.254Z"
   },
   {
    "duration": 22,
    "start_time": "2021-12-29T14:50:15.501Z"
   },
   {
    "duration": 15,
    "start_time": "2021-12-29T14:50:52.570Z"
   },
   {
    "duration": 16,
    "start_time": "2021-12-29T14:51:00.192Z"
   },
   {
    "duration": 1618,
    "start_time": "2021-12-29T15:08:44.578Z"
   },
   {
    "duration": 45,
    "start_time": "2021-12-29T15:08:46.199Z"
   },
   {
    "duration": 43,
    "start_time": "2021-12-29T15:08:46.247Z"
   },
   {
    "duration": 35,
    "start_time": "2021-12-29T15:08:46.293Z"
   },
   {
    "duration": 6,
    "start_time": "2021-12-29T15:08:46.331Z"
   },
   {
    "duration": 23,
    "start_time": "2021-12-29T15:08:46.340Z"
   },
   {
    "duration": 10,
    "start_time": "2021-12-29T15:08:46.365Z"
   },
   {
    "duration": 53,
    "start_time": "2021-12-29T15:08:46.379Z"
   },
   {
    "duration": 105,
    "start_time": "2021-12-29T15:08:46.435Z"
   },
   {
    "duration": 30,
    "start_time": "2021-12-29T15:08:46.543Z"
   },
   {
    "duration": 64,
    "start_time": "2021-12-29T15:08:46.576Z"
   },
   {
    "duration": 19,
    "start_time": "2021-12-29T15:08:46.643Z"
   },
   {
    "duration": 1290,
    "start_time": "2021-12-29T15:08:46.665Z"
   },
   {
    "duration": 11,
    "start_time": "2021-12-29T15:08:47.958Z"
   },
   {
    "duration": 9,
    "start_time": "2021-12-29T15:08:47.972Z"
   },
   {
    "duration": 2300,
    "start_time": "2021-12-29T15:08:47.984Z"
   },
   {
    "duration": 49,
    "start_time": "2021-12-29T15:08:50.286Z"
   },
   {
    "duration": 133,
    "start_time": "2021-12-29T15:08:50.337Z"
   },
   {
    "duration": 9,
    "start_time": "2021-12-29T15:08:50.472Z"
   },
   {
    "duration": 48,
    "start_time": "2021-12-29T15:08:50.485Z"
   },
   {
    "duration": 853,
    "start_time": "2021-12-29T15:08:50.536Z"
   },
   {
    "duration": 434,
    "start_time": "2021-12-29T15:08:51.391Z"
   },
   {
    "duration": 443,
    "start_time": "2021-12-29T15:08:51.830Z"
   },
   {
    "duration": 47,
    "start_time": "2021-12-29T15:08:52.276Z"
   },
   {
    "duration": 444,
    "start_time": "2021-12-29T15:08:52.325Z"
   },
   {
    "duration": 705,
    "start_time": "2021-12-29T15:08:52.772Z"
   },
   {
    "duration": 20,
    "start_time": "2021-12-29T15:08:53.481Z"
   },
   {
    "duration": 48,
    "start_time": "2021-12-29T15:08:53.518Z"
   },
   {
    "duration": 498,
    "start_time": "2021-12-29T15:08:53.569Z"
   },
   {
    "duration": 27,
    "start_time": "2021-12-29T15:08:54.069Z"
   },
   {
    "duration": 261,
    "start_time": "2021-12-29T15:08:54.117Z"
   },
   {
    "duration": 14,
    "start_time": "2021-12-29T15:08:54.380Z"
   },
   {
    "duration": 40,
    "start_time": "2021-12-29T15:08:54.397Z"
   },
   {
    "duration": 297,
    "start_time": "2021-12-30T16:03:33.933Z"
   },
   {
    "duration": 1199,
    "start_time": "2021-12-30T16:03:37.604Z"
   },
   {
    "duration": 41,
    "start_time": "2021-12-30T16:03:38.805Z"
   },
   {
    "duration": 30,
    "start_time": "2021-12-30T16:03:38.848Z"
   },
   {
    "duration": 11,
    "start_time": "2021-12-30T16:03:38.880Z"
   },
   {
    "duration": 9,
    "start_time": "2021-12-30T16:03:38.893Z"
   },
   {
    "duration": 26,
    "start_time": "2021-12-30T16:03:38.904Z"
   },
   {
    "duration": 8,
    "start_time": "2021-12-30T16:03:38.932Z"
   },
   {
    "duration": 28,
    "start_time": "2021-12-30T16:03:38.942Z"
   },
   {
    "duration": 54,
    "start_time": "2021-12-30T16:03:38.972Z"
   },
   {
    "duration": 33,
    "start_time": "2021-12-30T16:03:39.028Z"
   },
   {
    "duration": 26,
    "start_time": "2021-12-30T16:03:39.063Z"
   },
   {
    "duration": 29,
    "start_time": "2021-12-30T16:03:39.091Z"
   },
   {
    "duration": 629,
    "start_time": "2021-12-30T16:03:39.121Z"
   },
   {
    "duration": 13,
    "start_time": "2021-12-30T16:03:39.752Z"
   },
   {
    "duration": 21,
    "start_time": "2021-12-30T16:03:39.767Z"
   },
   {
    "duration": 1131,
    "start_time": "2021-12-30T16:03:39.790Z"
   },
   {
    "duration": 30,
    "start_time": "2021-12-30T16:03:40.923Z"
   },
   {
    "duration": 81,
    "start_time": "2021-12-30T16:03:40.955Z"
   },
   {
    "duration": 24,
    "start_time": "2021-12-30T16:03:41.037Z"
   },
   {
    "duration": 22,
    "start_time": "2021-12-30T16:03:41.063Z"
   },
   {
    "duration": 499,
    "start_time": "2021-12-30T16:03:41.086Z"
   },
   {
    "duration": 253,
    "start_time": "2021-12-30T16:03:41.586Z"
   },
   {
    "duration": 195,
    "start_time": "2021-12-30T16:03:41.842Z"
   },
   {
    "duration": 30,
    "start_time": "2021-12-30T16:03:42.039Z"
   },
   {
    "duration": 265,
    "start_time": "2021-12-30T16:03:42.071Z"
   },
   {
    "duration": 302,
    "start_time": "2021-12-30T16:03:42.337Z"
   },
   {
    "duration": 49,
    "start_time": "2021-12-30T16:03:42.641Z"
   },
   {
    "duration": 9,
    "start_time": "2021-12-30T16:03:42.692Z"
   },
   {
    "duration": 25,
    "start_time": "2021-12-30T16:03:42.702Z"
   },
   {
    "duration": 298,
    "start_time": "2021-12-30T16:03:42.729Z"
   },
   {
    "duration": 19,
    "start_time": "2021-12-30T16:03:43.028Z"
   },
   {
    "duration": 181,
    "start_time": "2021-12-30T16:03:43.048Z"
   },
   {
    "duration": 10,
    "start_time": "2021-12-30T16:03:43.231Z"
   },
   {
    "duration": 19,
    "start_time": "2021-12-30T16:03:43.242Z"
   },
   {
    "duration": 20,
    "start_time": "2021-12-30T16:03:59.472Z"
   },
   {
    "duration": 138,
    "start_time": "2021-12-30T16:04:17.835Z"
   },
   {
    "duration": 324,
    "start_time": "2021-12-30T16:04:34.936Z"
   },
   {
    "duration": 301,
    "start_time": "2021-12-30T16:08:47.461Z"
   },
   {
    "duration": 116,
    "start_time": "2022-01-01T08:30:52.435Z"
   },
   {
    "duration": 496,
    "start_time": "2022-01-01T08:31:20.875Z"
   },
   {
    "duration": 1499,
    "start_time": "2022-01-01T08:31:35.061Z"
   },
   {
    "duration": 84,
    "start_time": "2022-01-01T08:31:36.563Z"
   },
   {
    "duration": 42,
    "start_time": "2022-01-01T08:31:36.650Z"
   },
   {
    "duration": 31,
    "start_time": "2022-01-01T08:31:36.695Z"
   },
   {
    "duration": 6,
    "start_time": "2022-01-01T08:31:36.728Z"
   },
   {
    "duration": 15,
    "start_time": "2022-01-01T08:31:36.736Z"
   },
   {
    "duration": 11,
    "start_time": "2022-01-01T08:31:36.753Z"
   },
   {
    "duration": 59,
    "start_time": "2022-01-01T08:31:36.767Z"
   },
   {
    "duration": 99,
    "start_time": "2022-01-01T08:31:36.829Z"
   },
   {
    "duration": 28,
    "start_time": "2022-01-01T08:31:36.930Z"
   },
   {
    "duration": 23,
    "start_time": "2022-01-01T08:31:36.960Z"
   },
   {
    "duration": 45,
    "start_time": "2022-01-01T08:31:36.986Z"
   },
   {
    "duration": 1216,
    "start_time": "2022-01-01T08:31:37.033Z"
   },
   {
    "duration": 11,
    "start_time": "2022-01-01T08:31:38.251Z"
   },
   {
    "duration": 6,
    "start_time": "2022-01-01T08:31:38.264Z"
   },
   {
    "duration": 2205,
    "start_time": "2022-01-01T08:31:38.272Z"
   },
   {
    "duration": 47,
    "start_time": "2022-01-01T08:31:40.479Z"
   },
   {
    "duration": 135,
    "start_time": "2022-01-01T08:31:40.528Z"
   },
   {
    "duration": 9,
    "start_time": "2022-01-01T08:31:40.665Z"
   },
   {
    "duration": 20,
    "start_time": "2022-01-01T08:31:40.676Z"
   },
   {
    "duration": 26,
    "start_time": "2022-01-01T08:31:40.724Z"
   },
   {
    "duration": 771,
    "start_time": "2022-01-01T08:31:40.753Z"
   },
   {
    "duration": 378,
    "start_time": "2022-01-01T08:31:41.529Z"
   },
   {
    "duration": 288,
    "start_time": "2022-01-01T08:31:41.910Z"
   },
   {
    "duration": 37,
    "start_time": "2022-01-01T08:31:42.200Z"
   },
   {
    "duration": 396,
    "start_time": "2022-01-01T08:31:42.240Z"
   },
   {
    "duration": 465,
    "start_time": "2022-01-01T08:31:42.638Z"
   },
   {
    "duration": 25,
    "start_time": "2022-01-01T08:31:43.105Z"
   },
   {
    "duration": 33,
    "start_time": "2022-01-01T08:31:43.132Z"
   },
   {
    "duration": 500,
    "start_time": "2022-01-01T08:31:43.168Z"
   },
   {
    "duration": 27,
    "start_time": "2022-01-01T08:31:43.671Z"
   },
   {
    "duration": 265,
    "start_time": "2022-01-01T08:31:43.700Z"
   },
   {
    "duration": 14,
    "start_time": "2022-01-01T08:31:43.968Z"
   },
   {
    "duration": 39,
    "start_time": "2022-01-01T08:31:43.984Z"
   },
   {
    "duration": 683,
    "start_time": "2022-01-01T09:33:56.526Z"
   },
   {
    "duration": 334,
    "start_time": "2022-01-01T09:36:53.831Z"
   },
   {
    "duration": 365,
    "start_time": "2022-01-01T09:37:44.055Z"
   },
   {
    "duration": 341,
    "start_time": "2022-01-01T09:39:26.633Z"
   },
   {
    "duration": 365,
    "start_time": "2022-01-01T09:40:17.871Z"
   },
   {
    "duration": 349,
    "start_time": "2022-01-01T09:40:30.164Z"
   },
   {
    "duration": 1439,
    "start_time": "2022-01-01T09:40:39.310Z"
   },
   {
    "duration": 54,
    "start_time": "2022-01-01T09:40:40.751Z"
   },
   {
    "duration": 42,
    "start_time": "2022-01-01T09:40:40.808Z"
   },
   {
    "duration": 16,
    "start_time": "2022-01-01T09:40:40.853Z"
   },
   {
    "duration": 7,
    "start_time": "2022-01-01T09:40:40.871Z"
   },
   {
    "duration": 45,
    "start_time": "2022-01-01T09:40:40.880Z"
   },
   {
    "duration": 10,
    "start_time": "2022-01-01T09:40:40.927Z"
   },
   {
    "duration": 26,
    "start_time": "2022-01-01T09:40:40.941Z"
   },
   {
    "duration": 107,
    "start_time": "2022-01-01T09:40:40.970Z"
   },
   {
    "duration": 50,
    "start_time": "2022-01-01T09:40:41.079Z"
   },
   {
    "duration": 25,
    "start_time": "2022-01-01T09:40:41.131Z"
   },
   {
    "duration": 14,
    "start_time": "2022-01-01T09:40:41.158Z"
   },
   {
    "duration": 1241,
    "start_time": "2022-01-01T09:40:41.174Z"
   },
   {
    "duration": 15,
    "start_time": "2022-01-01T09:40:42.417Z"
   },
   {
    "duration": 6,
    "start_time": "2022-01-01T09:40:42.435Z"
   },
   {
    "duration": 2137,
    "start_time": "2022-01-01T09:40:42.443Z"
   },
   {
    "duration": 47,
    "start_time": "2022-01-01T09:40:44.582Z"
   },
   {
    "duration": 124,
    "start_time": "2022-01-01T09:40:44.632Z"
   },
   {
    "duration": 10,
    "start_time": "2022-01-01T09:40:44.758Z"
   },
   {
    "duration": 21,
    "start_time": "2022-01-01T09:40:44.771Z"
   },
   {
    "duration": 34,
    "start_time": "2022-01-01T09:40:44.824Z"
   },
   {
    "duration": 780,
    "start_time": "2022-01-01T09:40:44.860Z"
   },
   {
    "duration": 390,
    "start_time": "2022-01-01T09:40:45.645Z"
   },
   {
    "duration": 299,
    "start_time": "2022-01-01T09:40:46.037Z"
   },
   {
    "duration": 30,
    "start_time": "2022-01-01T09:40:46.338Z"
   },
   {
    "duration": 396,
    "start_time": "2022-01-01T09:40:46.370Z"
   },
   {
    "duration": 455,
    "start_time": "2022-01-01T09:40:46.768Z"
   },
   {
    "duration": 16,
    "start_time": "2022-01-01T09:40:47.226Z"
   },
   {
    "duration": 30,
    "start_time": "2022-01-01T09:40:47.245Z"
   },
   {
    "duration": 504,
    "start_time": "2022-01-01T09:40:47.278Z"
   },
   {
    "duration": 44,
    "start_time": "2022-01-01T09:40:47.784Z"
   },
   {
    "duration": 258,
    "start_time": "2022-01-01T09:40:47.831Z"
   },
   {
    "duration": 15,
    "start_time": "2022-01-01T09:40:48.091Z"
   },
   {
    "duration": 19,
    "start_time": "2022-01-01T09:40:48.124Z"
   },
   {
    "duration": 479,
    "start_time": "2022-01-01T09:41:21.544Z"
   },
   {
    "duration": 24,
    "start_time": "2022-01-01T09:41:43.505Z"
   },
   {
    "duration": 28,
    "start_time": "2022-01-01T09:41:51.614Z"
   },
   {
    "duration": 1698,
    "start_time": "2022-01-01T09:41:59.658Z"
   },
   {
    "duration": 48,
    "start_time": "2022-01-01T09:42:01.358Z"
   },
   {
    "duration": 44,
    "start_time": "2022-01-01T09:42:01.409Z"
   },
   {
    "duration": 15,
    "start_time": "2022-01-01T09:42:01.455Z"
   },
   {
    "duration": 15,
    "start_time": "2022-01-01T09:42:01.473Z"
   },
   {
    "duration": 35,
    "start_time": "2022-01-01T09:42:01.490Z"
   },
   {
    "duration": 10,
    "start_time": "2022-01-01T09:42:01.527Z"
   },
   {
    "duration": 29,
    "start_time": "2022-01-01T09:42:01.541Z"
   },
   {
    "duration": 106,
    "start_time": "2022-01-01T09:42:01.573Z"
   },
   {
    "duration": 45,
    "start_time": "2022-01-01T09:42:01.681Z"
   },
   {
    "duration": 28,
    "start_time": "2022-01-01T09:42:01.729Z"
   },
   {
    "duration": 13,
    "start_time": "2022-01-01T09:42:01.759Z"
   },
   {
    "duration": 1227,
    "start_time": "2022-01-01T09:42:01.774Z"
   },
   {
    "duration": 21,
    "start_time": "2022-01-01T09:42:03.003Z"
   },
   {
    "duration": 14,
    "start_time": "2022-01-01T09:42:03.026Z"
   },
   {
    "duration": 2218,
    "start_time": "2022-01-01T09:42:03.043Z"
   },
   {
    "duration": 41,
    "start_time": "2022-01-01T09:42:05.263Z"
   },
   {
    "duration": 121,
    "start_time": "2022-01-01T09:42:05.307Z"
   },
   {
    "duration": 9,
    "start_time": "2022-01-01T09:42:05.430Z"
   },
   {
    "duration": 27,
    "start_time": "2022-01-01T09:42:05.441Z"
   },
   {
    "duration": 52,
    "start_time": "2022-01-01T09:42:05.471Z"
   },
   {
    "duration": 757,
    "start_time": "2022-01-01T09:42:05.525Z"
   },
   {
    "duration": 405,
    "start_time": "2022-01-01T09:42:06.286Z"
   },
   {
    "duration": 306,
    "start_time": "2022-01-01T09:42:06.693Z"
   },
   {
    "duration": 38,
    "start_time": "2022-01-01T09:42:07.001Z"
   },
   {
    "duration": 390,
    "start_time": "2022-01-01T09:42:07.041Z"
   },
   {
    "duration": 451,
    "start_time": "2022-01-01T09:42:07.433Z"
   },
   {
    "duration": 14,
    "start_time": "2022-01-01T09:42:07.887Z"
   },
   {
    "duration": 46,
    "start_time": "2022-01-01T09:42:07.904Z"
   },
   {
    "duration": 473,
    "start_time": "2022-01-01T09:42:07.953Z"
   },
   {
    "duration": 30,
    "start_time": "2022-01-01T09:42:08.429Z"
   },
   {
    "duration": 275,
    "start_time": "2022-01-01T09:42:08.462Z"
   },
   {
    "duration": 16,
    "start_time": "2022-01-01T09:42:08.740Z"
   },
   {
    "duration": 19,
    "start_time": "2022-01-01T09:42:08.759Z"
   },
   {
    "duration": 23,
    "start_time": "2022-01-01T09:42:42.631Z"
   },
   {
    "duration": 27,
    "start_time": "2022-01-01T09:46:15.275Z"
   },
   {
    "duration": 38,
    "start_time": "2022-01-01T09:51:38.930Z"
   },
   {
    "duration": 35,
    "start_time": "2022-01-01T09:52:23.804Z"
   },
   {
    "duration": 474,
    "start_time": "2022-01-01T09:52:36.011Z"
   },
   {
    "duration": 1415,
    "start_time": "2022-01-01T09:52:53.840Z"
   },
   {
    "duration": 48,
    "start_time": "2022-01-01T09:52:55.258Z"
   },
   {
    "duration": 43,
    "start_time": "2022-01-01T09:52:55.309Z"
   },
   {
    "duration": 16,
    "start_time": "2022-01-01T09:52:55.355Z"
   },
   {
    "duration": 6,
    "start_time": "2022-01-01T09:52:55.374Z"
   },
   {
    "duration": 46,
    "start_time": "2022-01-01T09:52:55.383Z"
   },
   {
    "duration": 11,
    "start_time": "2022-01-01T09:52:55.431Z"
   },
   {
    "duration": 26,
    "start_time": "2022-01-01T09:52:55.445Z"
   },
   {
    "duration": 110,
    "start_time": "2022-01-01T09:52:55.474Z"
   },
   {
    "duration": 49,
    "start_time": "2022-01-01T09:52:55.587Z"
   },
   {
    "duration": 27,
    "start_time": "2022-01-01T09:52:55.639Z"
   },
   {
    "duration": 13,
    "start_time": "2022-01-01T09:52:55.669Z"
   },
   {
    "duration": 1251,
    "start_time": "2022-01-01T09:52:55.684Z"
   },
   {
    "duration": 11,
    "start_time": "2022-01-01T09:52:56.937Z"
   },
   {
    "duration": 7,
    "start_time": "2022-01-01T09:52:56.950Z"
   },
   {
    "duration": 2308,
    "start_time": "2022-01-01T09:52:56.959Z"
   },
   {
    "duration": 43,
    "start_time": "2022-01-01T09:52:59.269Z"
   },
   {
    "duration": 125,
    "start_time": "2022-01-01T09:52:59.314Z"
   },
   {
    "duration": 9,
    "start_time": "2022-01-01T09:52:59.441Z"
   },
   {
    "duration": 20,
    "start_time": "2022-01-01T09:52:59.453Z"
   },
   {
    "duration": 491,
    "start_time": "2022-01-01T09:52:59.475Z"
   },
   {
    "duration": -255,
    "start_time": "2022-01-01T09:53:00.224Z"
   },
   {
    "duration": -261,
    "start_time": "2022-01-01T09:53:00.231Z"
   },
   {
    "duration": -266,
    "start_time": "2022-01-01T09:53:00.237Z"
   },
   {
    "duration": -272,
    "start_time": "2022-01-01T09:53:00.244Z"
   },
   {
    "duration": -276,
    "start_time": "2022-01-01T09:53:00.250Z"
   },
   {
    "duration": -294,
    "start_time": "2022-01-01T09:53:00.269Z"
   },
   {
    "duration": -298,
    "start_time": "2022-01-01T09:53:00.275Z"
   },
   {
    "duration": -303,
    "start_time": "2022-01-01T09:53:00.281Z"
   },
   {
    "duration": -308,
    "start_time": "2022-01-01T09:53:00.287Z"
   },
   {
    "duration": -312,
    "start_time": "2022-01-01T09:53:00.292Z"
   },
   {
    "duration": -316,
    "start_time": "2022-01-01T09:53:00.298Z"
   },
   {
    "duration": -330,
    "start_time": "2022-01-01T09:53:00.313Z"
   },
   {
    "duration": -335,
    "start_time": "2022-01-01T09:53:00.319Z"
   },
   {
    "duration": 325,
    "start_time": "2022-01-01T09:56:13.372Z"
   },
   {
    "duration": 363,
    "start_time": "2022-01-01T09:56:30.497Z"
   },
   {
    "duration": 352,
    "start_time": "2022-01-01T09:57:03.794Z"
   },
   {
    "duration": 361,
    "start_time": "2022-01-01T09:57:32.751Z"
   },
   {
    "duration": 25,
    "start_time": "2022-01-01T10:04:28.800Z"
   },
   {
    "duration": 27,
    "start_time": "2022-01-01T10:04:41.123Z"
   },
   {
    "duration": 30,
    "start_time": "2022-01-01T10:05:25.629Z"
   },
   {
    "duration": 51,
    "start_time": "2022-01-01T10:10:03.305Z"
   },
   {
    "duration": 352,
    "start_time": "2022-01-01T10:21:59.862Z"
   },
   {
    "duration": 26,
    "start_time": "2022-01-01T10:36:51.508Z"
   },
   {
    "duration": 26,
    "start_time": "2022-01-01T10:51:04.376Z"
   },
   {
    "duration": 25,
    "start_time": "2022-01-01T10:51:56.197Z"
   },
   {
    "duration": 24,
    "start_time": "2022-01-01T10:52:11.991Z"
   },
   {
    "duration": 20,
    "start_time": "2022-01-01T10:53:13.346Z"
   },
   {
    "duration": 26,
    "start_time": "2022-01-01T10:53:24.366Z"
   },
   {
    "duration": 1437,
    "start_time": "2022-01-01T10:53:54.613Z"
   },
   {
    "duration": 47,
    "start_time": "2022-01-01T10:53:56.053Z"
   },
   {
    "duration": 50,
    "start_time": "2022-01-01T10:53:56.107Z"
   },
   {
    "duration": 15,
    "start_time": "2022-01-01T10:53:56.159Z"
   },
   {
    "duration": 6,
    "start_time": "2022-01-01T10:53:56.176Z"
   },
   {
    "duration": 40,
    "start_time": "2022-01-01T10:53:56.185Z"
   },
   {
    "duration": 12,
    "start_time": "2022-01-01T10:53:56.228Z"
   },
   {
    "duration": 27,
    "start_time": "2022-01-01T10:53:56.243Z"
   },
   {
    "duration": 107,
    "start_time": "2022-01-01T10:53:56.273Z"
   },
   {
    "duration": 48,
    "start_time": "2022-01-01T10:53:56.383Z"
   },
   {
    "duration": 26,
    "start_time": "2022-01-01T10:53:56.433Z"
   },
   {
    "duration": 15,
    "start_time": "2022-01-01T10:53:56.461Z"
   },
   {
    "duration": 1193,
    "start_time": "2022-01-01T10:53:56.478Z"
   },
   {
    "duration": 10,
    "start_time": "2022-01-01T10:53:57.674Z"
   },
   {
    "duration": 10,
    "start_time": "2022-01-01T10:53:57.687Z"
   },
   {
    "duration": 2243,
    "start_time": "2022-01-01T10:53:57.699Z"
   },
   {
    "duration": 41,
    "start_time": "2022-01-01T10:53:59.944Z"
   },
   {
    "duration": 127,
    "start_time": "2022-01-01T10:53:59.988Z"
   },
   {
    "duration": 14,
    "start_time": "2022-01-01T10:54:00.117Z"
   },
   {
    "duration": 33,
    "start_time": "2022-01-01T10:54:00.134Z"
   },
   {
    "duration": 27,
    "start_time": "2022-01-01T10:54:00.169Z"
   },
   {
    "duration": 781,
    "start_time": "2022-01-01T10:54:00.227Z"
   },
   {
    "duration": 421,
    "start_time": "2022-01-01T10:54:01.011Z"
   },
   {
    "duration": 291,
    "start_time": "2022-01-01T10:54:01.435Z"
   },
   {
    "duration": 31,
    "start_time": "2022-01-01T10:54:01.728Z"
   },
   {
    "duration": 402,
    "start_time": "2022-01-01T10:54:01.761Z"
   },
   {
    "duration": 464,
    "start_time": "2022-01-01T10:54:02.166Z"
   },
   {
    "duration": 14,
    "start_time": "2022-01-01T10:54:02.632Z"
   },
   {
    "duration": 29,
    "start_time": "2022-01-01T10:54:02.649Z"
   },
   {
    "duration": 491,
    "start_time": "2022-01-01T10:54:02.680Z"
   },
   {
    "duration": 29,
    "start_time": "2022-01-01T10:54:03.174Z"
   },
   {
    "duration": 248,
    "start_time": "2022-01-01T10:54:03.224Z"
   },
   {
    "duration": 16,
    "start_time": "2022-01-01T10:54:03.475Z"
   },
   {
    "duration": 34,
    "start_time": "2022-01-01T10:54:03.493Z"
   },
   {
    "duration": 1511,
    "start_time": "2022-01-01T10:55:20.728Z"
   },
   {
    "duration": 1277,
    "start_time": "2022-01-01T10:55:36.755Z"
   },
   {
    "duration": 25,
    "start_time": "2022-01-01T10:59:35.748Z"
   },
   {
    "duration": 30,
    "start_time": "2022-01-01T11:01:54.578Z"
   },
   {
    "duration": 30,
    "start_time": "2022-01-01T11:03:11.080Z"
   },
   {
    "duration": 30,
    "start_time": "2022-01-01T11:03:26.788Z"
   },
   {
    "duration": 1538,
    "start_time": "2022-01-01T11:03:48.797Z"
   },
   {
    "duration": 41,
    "start_time": "2022-01-01T11:03:50.337Z"
   },
   {
    "duration": 40,
    "start_time": "2022-01-01T11:03:50.382Z"
   },
   {
    "duration": 16,
    "start_time": "2022-01-01T11:03:50.425Z"
   },
   {
    "duration": 7,
    "start_time": "2022-01-01T11:03:50.444Z"
   },
   {
    "duration": 17,
    "start_time": "2022-01-01T11:03:50.454Z"
   },
   {
    "duration": 52,
    "start_time": "2022-01-01T11:03:50.473Z"
   },
   {
    "duration": 25,
    "start_time": "2022-01-01T11:03:50.530Z"
   },
   {
    "duration": 111,
    "start_time": "2022-01-01T11:03:50.559Z"
   },
   {
    "duration": 50,
    "start_time": "2022-01-01T11:03:50.673Z"
   },
   {
    "duration": 28,
    "start_time": "2022-01-01T11:03:50.727Z"
   },
   {
    "duration": 15,
    "start_time": "2022-01-01T11:03:50.758Z"
   },
   {
    "duration": 1248,
    "start_time": "2022-01-01T11:03:50.776Z"
   },
   {
    "duration": 12,
    "start_time": "2022-01-01T11:03:52.027Z"
   },
   {
    "duration": 8,
    "start_time": "2022-01-01T11:03:52.041Z"
   },
   {
    "duration": 2393,
    "start_time": "2022-01-01T11:03:52.052Z"
   },
   {
    "duration": 64,
    "start_time": "2022-01-01T11:03:54.448Z"
   },
   {
    "duration": 140,
    "start_time": "2022-01-01T11:03:54.524Z"
   },
   {
    "duration": 10,
    "start_time": "2022-01-01T11:03:54.667Z"
   },
   {
    "duration": 48,
    "start_time": "2022-01-01T11:03:54.680Z"
   },
   {
    "duration": 35,
    "start_time": "2022-01-01T11:03:54.730Z"
   },
   {
    "duration": 931,
    "start_time": "2022-01-01T11:03:54.768Z"
   },
   {
    "duration": 443,
    "start_time": "2022-01-01T11:03:55.704Z"
   },
   {
    "duration": 312,
    "start_time": "2022-01-01T11:03:56.151Z"
   },
   {
    "duration": 32,
    "start_time": "2022-01-01T11:03:56.466Z"
   },
   {
    "duration": 415,
    "start_time": "2022-01-01T11:03:56.500Z"
   },
   {
    "duration": 474,
    "start_time": "2022-01-01T11:03:56.917Z"
   },
   {
    "duration": 37,
    "start_time": "2022-01-01T11:03:57.394Z"
   },
   {
    "duration": 42,
    "start_time": "2022-01-01T11:03:57.435Z"
   },
   {
    "duration": 487,
    "start_time": "2022-01-01T11:03:57.479Z"
   },
   {
    "duration": 28,
    "start_time": "2022-01-01T11:03:57.969Z"
   },
   {
    "duration": 299,
    "start_time": "2022-01-01T11:03:58.000Z"
   },
   {
    "duration": 30,
    "start_time": "2022-01-01T11:03:58.302Z"
   },
   {
    "duration": 17,
    "start_time": "2022-01-01T11:03:58.335Z"
   },
   {
    "duration": 451,
    "start_time": "2022-01-01T11:08:06.994Z"
   },
   {
    "duration": 355,
    "start_time": "2022-01-01T11:08:20.096Z"
   },
   {
    "duration": 29,
    "start_time": "2022-01-01T11:08:35.811Z"
   },
   {
    "duration": 1756,
    "start_time": "2022-01-01T11:09:09.422Z"
   },
   {
    "duration": 45,
    "start_time": "2022-01-01T11:09:11.181Z"
   },
   {
    "duration": 69,
    "start_time": "2022-01-01T11:09:11.230Z"
   },
   {
    "duration": 36,
    "start_time": "2022-01-01T11:09:11.302Z"
   },
   {
    "duration": 11,
    "start_time": "2022-01-01T11:09:11.340Z"
   },
   {
    "duration": 19,
    "start_time": "2022-01-01T11:09:11.354Z"
   },
   {
    "duration": 14,
    "start_time": "2022-01-01T11:09:11.375Z"
   },
   {
    "duration": 27,
    "start_time": "2022-01-01T11:09:11.423Z"
   },
   {
    "duration": 126,
    "start_time": "2022-01-01T11:09:11.454Z"
   },
   {
    "duration": 69,
    "start_time": "2022-01-01T11:09:11.584Z"
   },
   {
    "duration": 25,
    "start_time": "2022-01-01T11:09:11.655Z"
   },
   {
    "duration": 13,
    "start_time": "2022-01-01T11:09:11.683Z"
   },
   {
    "duration": 1383,
    "start_time": "2022-01-01T11:09:11.724Z"
   },
   {
    "duration": 16,
    "start_time": "2022-01-01T11:09:13.109Z"
   },
   {
    "duration": 24,
    "start_time": "2022-01-01T11:09:13.128Z"
   },
   {
    "duration": 3326,
    "start_time": "2022-01-01T11:09:13.156Z"
   },
   {
    "duration": 68,
    "start_time": "2022-01-01T11:09:16.485Z"
   },
   {
    "duration": 212,
    "start_time": "2022-01-01T11:09:16.556Z"
   },
   {
    "duration": 16,
    "start_time": "2022-01-01T11:09:16.776Z"
   },
   {
    "duration": 52,
    "start_time": "2022-01-01T11:09:16.794Z"
   },
   {
    "duration": 126,
    "start_time": "2022-01-01T11:09:16.851Z"
   },
   {
    "duration": 783,
    "start_time": "2022-01-01T11:09:16.979Z"
   },
   {
    "duration": 406,
    "start_time": "2022-01-01T11:09:17.766Z"
   },
   {
    "duration": 313,
    "start_time": "2022-01-01T11:09:18.176Z"
   },
   {
    "duration": 41,
    "start_time": "2022-01-01T11:09:18.492Z"
   },
   {
    "duration": 399,
    "start_time": "2022-01-01T11:09:18.535Z"
   },
   {
    "duration": 489,
    "start_time": "2022-01-01T11:09:18.937Z"
   },
   {
    "duration": 13,
    "start_time": "2022-01-01T11:09:19.429Z"
   },
   {
    "duration": 29,
    "start_time": "2022-01-01T11:09:19.444Z"
   },
   {
    "duration": 485,
    "start_time": "2022-01-01T11:09:19.475Z"
   },
   {
    "duration": 25,
    "start_time": "2022-01-01T11:09:19.962Z"
   },
   {
    "duration": 255,
    "start_time": "2022-01-01T11:09:19.990Z"
   },
   {
    "duration": 16,
    "start_time": "2022-01-01T11:09:20.248Z"
   },
   {
    "duration": 19,
    "start_time": "2022-01-01T11:09:20.267Z"
   },
   {
    "duration": 33,
    "start_time": "2022-01-01T11:14:55.860Z"
   },
   {
    "duration": 1501,
    "start_time": "2022-01-01T11:15:02.319Z"
   },
   {
    "duration": 47,
    "start_time": "2022-01-01T11:15:03.823Z"
   },
   {
    "duration": 42,
    "start_time": "2022-01-01T11:15:03.872Z"
   },
   {
    "duration": 16,
    "start_time": "2022-01-01T11:15:03.917Z"
   },
   {
    "duration": 6,
    "start_time": "2022-01-01T11:15:03.935Z"
   },
   {
    "duration": 17,
    "start_time": "2022-01-01T11:15:03.943Z"
   },
   {
    "duration": 10,
    "start_time": "2022-01-01T11:15:03.963Z"
   },
   {
    "duration": 54,
    "start_time": "2022-01-01T11:15:03.977Z"
   },
   {
    "duration": 100,
    "start_time": "2022-01-01T11:15:04.034Z"
   },
   {
    "duration": 29,
    "start_time": "2022-01-01T11:15:04.136Z"
   },
   {
    "duration": 35,
    "start_time": "2022-01-01T11:15:04.167Z"
   },
   {
    "duration": 29,
    "start_time": "2022-01-01T11:15:04.204Z"
   },
   {
    "duration": 1211,
    "start_time": "2022-01-01T11:15:04.235Z"
   },
   {
    "duration": 10,
    "start_time": "2022-01-01T11:15:05.449Z"
   },
   {
    "duration": 11,
    "start_time": "2022-01-01T11:15:05.461Z"
   },
   {
    "duration": 2151,
    "start_time": "2022-01-01T11:15:05.474Z"
   },
   {
    "duration": 43,
    "start_time": "2022-01-01T11:15:07.627Z"
   },
   {
    "duration": 121,
    "start_time": "2022-01-01T11:15:07.672Z"
   },
   {
    "duration": 9,
    "start_time": "2022-01-01T11:15:07.795Z"
   },
   {
    "duration": 20,
    "start_time": "2022-01-01T11:15:07.823Z"
   },
   {
    "duration": 31,
    "start_time": "2022-01-01T11:15:07.846Z"
   },
   {
    "duration": 943,
    "start_time": "2022-01-01T11:15:07.880Z"
   },
   {
    "duration": 405,
    "start_time": "2022-01-01T11:15:08.827Z"
   },
   {
    "duration": 311,
    "start_time": "2022-01-01T11:15:09.235Z"
   },
   {
    "duration": 30,
    "start_time": "2022-01-01T11:15:09.549Z"
   },
   {
    "duration": 441,
    "start_time": "2022-01-01T11:15:09.582Z"
   },
   {
    "duration": 485,
    "start_time": "2022-01-01T11:15:10.026Z"
   },
   {
    "duration": 18,
    "start_time": "2022-01-01T11:15:10.513Z"
   },
   {
    "duration": 30,
    "start_time": "2022-01-01T11:15:10.534Z"
   },
   {
    "duration": 524,
    "start_time": "2022-01-01T11:15:10.567Z"
   },
   {
    "duration": 43,
    "start_time": "2022-01-01T11:15:11.094Z"
   },
   {
    "duration": 269,
    "start_time": "2022-01-01T11:15:11.140Z"
   },
   {
    "duration": 22,
    "start_time": "2022-01-01T11:15:11.411Z"
   },
   {
    "duration": 13,
    "start_time": "2022-01-01T11:15:11.435Z"
   },
   {
    "duration": 34,
    "start_time": "2022-01-01T11:16:20.198Z"
   },
   {
    "duration": 1521,
    "start_time": "2022-01-01T11:16:26.130Z"
   },
   {
    "duration": 47,
    "start_time": "2022-01-01T11:16:27.653Z"
   },
   {
    "duration": 41,
    "start_time": "2022-01-01T11:16:27.703Z"
   },
   {
    "duration": 18,
    "start_time": "2022-01-01T11:16:27.747Z"
   },
   {
    "duration": 7,
    "start_time": "2022-01-01T11:16:27.767Z"
   },
   {
    "duration": 47,
    "start_time": "2022-01-01T11:16:27.776Z"
   },
   {
    "duration": 11,
    "start_time": "2022-01-01T11:16:27.825Z"
   },
   {
    "duration": 26,
    "start_time": "2022-01-01T11:16:27.840Z"
   },
   {
    "duration": 108,
    "start_time": "2022-01-01T11:16:27.870Z"
   },
   {
    "duration": 46,
    "start_time": "2022-01-01T11:16:27.980Z"
   },
   {
    "duration": 40,
    "start_time": "2022-01-01T11:16:28.028Z"
   },
   {
    "duration": 13,
    "start_time": "2022-01-01T11:16:28.070Z"
   },
   {
    "duration": 1228,
    "start_time": "2022-01-01T11:16:28.086Z"
   },
   {
    "duration": 15,
    "start_time": "2022-01-01T11:16:29.316Z"
   },
   {
    "duration": 9,
    "start_time": "2022-01-01T11:16:29.333Z"
   },
   {
    "duration": 2152,
    "start_time": "2022-01-01T11:16:29.344Z"
   },
   {
    "duration": 51,
    "start_time": "2022-01-01T11:16:31.498Z"
   },
   {
    "duration": 122,
    "start_time": "2022-01-01T11:16:31.551Z"
   },
   {
    "duration": 8,
    "start_time": "2022-01-01T11:16:31.676Z"
   },
   {
    "duration": 45,
    "start_time": "2022-01-01T11:16:31.686Z"
   },
   {
    "duration": 33,
    "start_time": "2022-01-01T11:16:31.733Z"
   },
   {
    "duration": 802,
    "start_time": "2022-01-01T11:16:31.768Z"
   },
   {
    "duration": 407,
    "start_time": "2022-01-01T11:16:32.575Z"
   },
   {
    "duration": 296,
    "start_time": "2022-01-01T11:16:32.985Z"
   },
   {
    "duration": 45,
    "start_time": "2022-01-01T11:16:33.283Z"
   },
   {
    "duration": 396,
    "start_time": "2022-01-01T11:16:33.331Z"
   },
   {
    "duration": 458,
    "start_time": "2022-01-01T11:16:33.730Z"
   },
   {
    "duration": 14,
    "start_time": "2022-01-01T11:16:34.190Z"
   },
   {
    "duration": 30,
    "start_time": "2022-01-01T11:16:34.222Z"
   },
   {
    "duration": 484,
    "start_time": "2022-01-01T11:16:34.254Z"
   },
   {
    "duration": 27,
    "start_time": "2022-01-01T11:16:34.740Z"
   },
   {
    "duration": 275,
    "start_time": "2022-01-01T11:16:34.769Z"
   },
   {
    "duration": 18,
    "start_time": "2022-01-01T11:16:35.048Z"
   },
   {
    "duration": 16,
    "start_time": "2022-01-01T11:16:35.068Z"
   },
   {
    "duration": 32,
    "start_time": "2022-01-01T11:17:02.553Z"
   },
   {
    "duration": 33,
    "start_time": "2022-01-01T11:18:30.381Z"
   },
   {
    "duration": 32,
    "start_time": "2022-01-01T11:19:16.995Z"
   },
   {
    "duration": 1465,
    "start_time": "2022-01-01T11:19:33.080Z"
   },
   {
    "duration": 46,
    "start_time": "2022-01-01T11:19:34.548Z"
   },
   {
    "duration": 42,
    "start_time": "2022-01-01T11:19:34.597Z"
   },
   {
    "duration": 15,
    "start_time": "2022-01-01T11:19:34.641Z"
   },
   {
    "duration": 6,
    "start_time": "2022-01-01T11:19:34.658Z"
   },
   {
    "duration": 13,
    "start_time": "2022-01-01T11:19:34.666Z"
   },
   {
    "duration": 46,
    "start_time": "2022-01-01T11:19:34.682Z"
   },
   {
    "duration": 26,
    "start_time": "2022-01-01T11:19:34.732Z"
   },
   {
    "duration": 101,
    "start_time": "2022-01-01T11:19:34.761Z"
   },
   {
    "duration": 29,
    "start_time": "2022-01-01T11:19:34.864Z"
   },
   {
    "duration": 50,
    "start_time": "2022-01-01T11:19:34.895Z"
   },
   {
    "duration": 15,
    "start_time": "2022-01-01T11:19:34.947Z"
   },
   {
    "duration": 1199,
    "start_time": "2022-01-01T11:19:34.964Z"
   },
   {
    "duration": 12,
    "start_time": "2022-01-01T11:19:36.166Z"
   },
   {
    "duration": 8,
    "start_time": "2022-01-01T11:19:36.180Z"
   },
   {
    "duration": 2133,
    "start_time": "2022-01-01T11:19:36.190Z"
   },
   {
    "duration": 45,
    "start_time": "2022-01-01T11:19:38.325Z"
   },
   {
    "duration": 131,
    "start_time": "2022-01-01T11:19:38.373Z"
   },
   {
    "duration": 23,
    "start_time": "2022-01-01T11:19:38.507Z"
   },
   {
    "duration": 22,
    "start_time": "2022-01-01T11:19:38.533Z"
   },
   {
    "duration": 69,
    "start_time": "2022-01-01T11:19:38.558Z"
   },
   {
    "duration": 794,
    "start_time": "2022-01-01T11:19:38.630Z"
   },
   {
    "duration": 397,
    "start_time": "2022-01-01T11:19:39.430Z"
   },
   {
    "duration": 296,
    "start_time": "2022-01-01T11:19:39.829Z"
   },
   {
    "duration": 30,
    "start_time": "2022-01-01T11:19:40.128Z"
   },
   {
    "duration": 405,
    "start_time": "2022-01-01T11:19:40.160Z"
   },
   {
    "duration": 460,
    "start_time": "2022-01-01T11:19:40.567Z"
   },
   {
    "duration": 15,
    "start_time": "2022-01-01T11:19:41.029Z"
   },
   {
    "duration": 30,
    "start_time": "2022-01-01T11:19:41.046Z"
   },
   {
    "duration": 507,
    "start_time": "2022-01-01T11:19:41.078Z"
   },
   {
    "duration": 40,
    "start_time": "2022-01-01T11:19:41.587Z"
   },
   {
    "duration": 255,
    "start_time": "2022-01-01T11:19:41.629Z"
   },
   {
    "duration": 14,
    "start_time": "2022-01-01T11:19:41.886Z"
   },
   {
    "duration": 31,
    "start_time": "2022-01-01T11:19:41.904Z"
   },
   {
    "duration": 487,
    "start_time": "2022-01-01T11:24:03.924Z"
   },
   {
    "duration": 34,
    "start_time": "2022-01-01T11:24:16.353Z"
   },
   {
    "duration": 34,
    "start_time": "2022-01-01T11:24:32.538Z"
   },
   {
    "duration": 37,
    "start_time": "2022-01-01T11:24:46.209Z"
   },
   {
    "duration": 1550,
    "start_time": "2022-01-01T11:24:58.931Z"
   },
   {
    "duration": 42,
    "start_time": "2022-01-01T11:25:00.484Z"
   },
   {
    "duration": 52,
    "start_time": "2022-01-01T11:25:00.529Z"
   },
   {
    "duration": 17,
    "start_time": "2022-01-01T11:25:00.583Z"
   },
   {
    "duration": 23,
    "start_time": "2022-01-01T11:25:00.603Z"
   },
   {
    "duration": 15,
    "start_time": "2022-01-01T11:25:00.628Z"
   },
   {
    "duration": 33,
    "start_time": "2022-01-01T11:25:00.645Z"
   },
   {
    "duration": 60,
    "start_time": "2022-01-01T11:25:00.682Z"
   },
   {
    "duration": 100,
    "start_time": "2022-01-01T11:25:00.745Z"
   },
   {
    "duration": 31,
    "start_time": "2022-01-01T11:25:00.848Z"
   },
   {
    "duration": 50,
    "start_time": "2022-01-01T11:25:00.882Z"
   },
   {
    "duration": 17,
    "start_time": "2022-01-01T11:25:00.936Z"
   },
   {
    "duration": 1258,
    "start_time": "2022-01-01T11:25:00.956Z"
   },
   {
    "duration": 12,
    "start_time": "2022-01-01T11:25:02.223Z"
   },
   {
    "duration": 7,
    "start_time": "2022-01-01T11:25:02.237Z"
   },
   {
    "duration": 2134,
    "start_time": "2022-01-01T11:25:02.247Z"
   },
   {
    "duration": 50,
    "start_time": "2022-01-01T11:25:04.384Z"
   },
   {
    "duration": 126,
    "start_time": "2022-01-01T11:25:04.437Z"
   },
   {
    "duration": 9,
    "start_time": "2022-01-01T11:25:04.565Z"
   },
   {
    "duration": 21,
    "start_time": "2022-01-01T11:25:04.576Z"
   },
   {
    "duration": 34,
    "start_time": "2022-01-01T11:25:04.623Z"
   },
   {
    "duration": 789,
    "start_time": "2022-01-01T11:25:04.660Z"
   },
   {
    "duration": 396,
    "start_time": "2022-01-01T11:25:05.454Z"
   },
   {
    "duration": 325,
    "start_time": "2022-01-01T11:25:05.854Z"
   },
   {
    "duration": 46,
    "start_time": "2022-01-01T11:25:06.182Z"
   },
   {
    "duration": 395,
    "start_time": "2022-01-01T11:25:06.231Z"
   },
   {
    "duration": 439,
    "start_time": "2022-01-01T11:25:06.628Z"
   },
   {
    "duration": 14,
    "start_time": "2022-01-01T11:25:07.069Z"
   },
   {
    "duration": 53,
    "start_time": "2022-01-01T11:25:07.085Z"
   },
   {
    "duration": 468,
    "start_time": "2022-01-01T11:25:07.140Z"
   },
   {
    "duration": 30,
    "start_time": "2022-01-01T11:25:07.610Z"
   },
   {
    "duration": 267,
    "start_time": "2022-01-01T11:25:07.643Z"
   },
   {
    "duration": 20,
    "start_time": "2022-01-01T11:25:07.912Z"
   },
   {
    "duration": 22,
    "start_time": "2022-01-01T11:25:07.934Z"
   },
   {
    "duration": 38,
    "start_time": "2022-01-01T11:27:04.648Z"
   },
   {
    "duration": 1589,
    "start_time": "2022-01-01T11:27:56.899Z"
   },
   {
    "duration": 49,
    "start_time": "2022-01-01T11:27:58.491Z"
   },
   {
    "duration": 41,
    "start_time": "2022-01-01T11:27:58.542Z"
   },
   {
    "duration": 42,
    "start_time": "2022-01-01T11:27:58.586Z"
   },
   {
    "duration": 6,
    "start_time": "2022-01-01T11:27:58.630Z"
   },
   {
    "duration": 15,
    "start_time": "2022-01-01T11:27:58.638Z"
   },
   {
    "duration": 10,
    "start_time": "2022-01-01T11:27:58.655Z"
   },
   {
    "duration": 56,
    "start_time": "2022-01-01T11:27:58.668Z"
   },
   {
    "duration": 96,
    "start_time": "2022-01-01T11:27:58.727Z"
   },
   {
    "duration": 28,
    "start_time": "2022-01-01T11:27:58.826Z"
   },
   {
    "duration": 26,
    "start_time": "2022-01-01T11:27:58.856Z"
   },
   {
    "duration": 40,
    "start_time": "2022-01-01T11:27:58.884Z"
   },
   {
    "duration": 1191,
    "start_time": "2022-01-01T11:27:58.926Z"
   },
   {
    "duration": 13,
    "start_time": "2022-01-01T11:28:00.124Z"
   },
   {
    "duration": 9,
    "start_time": "2022-01-01T11:28:00.140Z"
   },
   {
    "duration": 2153,
    "start_time": "2022-01-01T11:28:00.152Z"
   },
   {
    "duration": 49,
    "start_time": "2022-01-01T11:28:02.307Z"
   },
   {
    "duration": 126,
    "start_time": "2022-01-01T11:28:02.358Z"
   },
   {
    "duration": 11,
    "start_time": "2022-01-01T11:28:02.487Z"
   },
   {
    "duration": 39,
    "start_time": "2022-01-01T11:28:02.501Z"
   },
   {
    "duration": 27,
    "start_time": "2022-01-01T11:28:02.542Z"
   },
   {
    "duration": 804,
    "start_time": "2022-01-01T11:28:02.571Z"
   },
   {
    "duration": 380,
    "start_time": "2022-01-01T11:28:03.380Z"
   },
   {
    "duration": 300,
    "start_time": "2022-01-01T11:28:03.763Z"
   },
   {
    "duration": 28,
    "start_time": "2022-01-01T11:28:04.066Z"
   },
   {
    "duration": 410,
    "start_time": "2022-01-01T11:28:04.096Z"
   },
   {
    "duration": 465,
    "start_time": "2022-01-01T11:28:04.509Z"
   },
   {
    "duration": 14,
    "start_time": "2022-01-01T11:28:04.976Z"
   },
   {
    "duration": 55,
    "start_time": "2022-01-01T11:28:04.992Z"
   },
   {
    "duration": 460,
    "start_time": "2022-01-01T11:28:05.050Z"
   },
   {
    "duration": 35,
    "start_time": "2022-01-01T11:28:05.512Z"
   },
   {
    "duration": 256,
    "start_time": "2022-01-01T11:28:05.549Z"
   },
   {
    "duration": 18,
    "start_time": "2022-01-01T11:28:05.807Z"
   },
   {
    "duration": 20,
    "start_time": "2022-01-01T11:28:05.827Z"
   },
   {
    "duration": 9090,
    "start_time": "2022-01-01T11:35:07.285Z"
   },
   {
    "duration": 1489,
    "start_time": "2022-01-01T11:35:36.759Z"
   },
   {
    "duration": 47,
    "start_time": "2022-01-01T11:35:38.251Z"
   },
   {
    "duration": 43,
    "start_time": "2022-01-01T11:35:38.300Z"
   },
   {
    "duration": 16,
    "start_time": "2022-01-01T11:35:38.345Z"
   },
   {
    "duration": 6,
    "start_time": "2022-01-01T11:35:38.363Z"
   },
   {
    "duration": 14,
    "start_time": "2022-01-01T11:35:38.372Z"
   },
   {
    "duration": 44,
    "start_time": "2022-01-01T11:35:38.388Z"
   },
   {
    "duration": 25,
    "start_time": "2022-01-01T11:35:38.436Z"
   },
   {
    "duration": 107,
    "start_time": "2022-01-01T11:35:38.464Z"
   },
   {
    "duration": 51,
    "start_time": "2022-01-01T11:35:38.573Z"
   },
   {
    "duration": 25,
    "start_time": "2022-01-01T11:35:38.627Z"
   },
   {
    "duration": 13,
    "start_time": "2022-01-01T11:35:38.654Z"
   },
   {
    "duration": 1231,
    "start_time": "2022-01-01T11:35:38.669Z"
   },
   {
    "duration": 23,
    "start_time": "2022-01-01T11:35:39.903Z"
   },
   {
    "duration": 7,
    "start_time": "2022-01-01T11:35:39.929Z"
   },
   {
    "duration": 2196,
    "start_time": "2022-01-01T11:35:39.939Z"
   },
   {
    "duration": 43,
    "start_time": "2022-01-01T11:35:42.138Z"
   },
   {
    "duration": 122,
    "start_time": "2022-01-01T11:35:42.183Z"
   },
   {
    "duration": 19,
    "start_time": "2022-01-01T11:35:42.307Z"
   },
   {
    "duration": 20,
    "start_time": "2022-01-01T11:35:42.328Z"
   },
   {
    "duration": 30,
    "start_time": "2022-01-01T11:35:42.351Z"
   },
   {
    "duration": 817,
    "start_time": "2022-01-01T11:35:42.383Z"
   },
   {
    "duration": 385,
    "start_time": "2022-01-01T11:35:43.207Z"
   },
   {
    "duration": 291,
    "start_time": "2022-01-01T11:35:43.595Z"
   },
   {
    "duration": 50,
    "start_time": "2022-01-01T11:35:43.889Z"
   },
   {
    "duration": 387,
    "start_time": "2022-01-01T11:35:43.941Z"
   },
   {
    "duration": 441,
    "start_time": "2022-01-01T11:35:44.331Z"
   },
   {
    "duration": 17,
    "start_time": "2022-01-01T11:35:44.774Z"
   },
   {
    "duration": 55,
    "start_time": "2022-01-01T11:35:44.794Z"
   },
   {
    "duration": 477,
    "start_time": "2022-01-01T11:35:44.852Z"
   },
   {
    "duration": 28,
    "start_time": "2022-01-01T11:35:45.331Z"
   },
   {
    "duration": 262,
    "start_time": "2022-01-01T11:35:45.361Z"
   },
   {
    "duration": 16,
    "start_time": "2022-01-01T11:35:45.626Z"
   },
   {
    "duration": 15,
    "start_time": "2022-01-01T11:35:45.645Z"
   },
   {
    "duration": 1993,
    "start_time": "2022-01-09T10:51:44.162Z"
   },
   {
    "duration": 159,
    "start_time": "2022-01-09T10:51:46.157Z"
   },
   {
    "duration": 52,
    "start_time": "2022-01-09T10:51:46.320Z"
   },
   {
    "duration": 17,
    "start_time": "2022-01-09T10:51:46.376Z"
   },
   {
    "duration": 6,
    "start_time": "2022-01-09T10:51:46.396Z"
   },
   {
    "duration": 16,
    "start_time": "2022-01-09T10:51:46.405Z"
   },
   {
    "duration": 48,
    "start_time": "2022-01-09T10:51:46.424Z"
   },
   {
    "duration": 31,
    "start_time": "2022-01-09T10:51:46.477Z"
   },
   {
    "duration": 115,
    "start_time": "2022-01-09T10:51:46.511Z"
   },
   {
    "duration": 64,
    "start_time": "2022-01-09T10:51:46.629Z"
   },
   {
    "duration": 25,
    "start_time": "2022-01-09T10:51:46.695Z"
   },
   {
    "duration": 42,
    "start_time": "2022-01-09T10:51:46.723Z"
   },
   {
    "duration": 1339,
    "start_time": "2022-01-09T10:51:46.768Z"
   },
   {
    "duration": 11,
    "start_time": "2022-01-09T10:51:48.109Z"
   },
   {
    "duration": 14,
    "start_time": "2022-01-09T10:51:48.123Z"
   },
   {
    "duration": 2388,
    "start_time": "2022-01-09T10:51:48.140Z"
   },
   {
    "duration": 55,
    "start_time": "2022-01-09T10:51:50.530Z"
   },
   {
    "duration": 134,
    "start_time": "2022-01-09T10:51:50.588Z"
   },
   {
    "duration": 8,
    "start_time": "2022-01-09T10:51:50.724Z"
   },
   {
    "duration": 44,
    "start_time": "2022-01-09T10:51:50.734Z"
   },
   {
    "duration": 31,
    "start_time": "2022-01-09T10:51:50.780Z"
   },
   {
    "duration": 888,
    "start_time": "2022-01-09T10:51:50.814Z"
   },
   {
    "duration": 427,
    "start_time": "2022-01-09T10:51:51.706Z"
   },
   {
    "duration": 328,
    "start_time": "2022-01-09T10:51:52.135Z"
   },
   {
    "duration": 34,
    "start_time": "2022-01-09T10:51:52.467Z"
   },
   {
    "duration": 443,
    "start_time": "2022-01-09T10:51:52.504Z"
   },
   {
    "duration": 115,
    "start_time": "2022-01-09T10:51:52.950Z"
   },
   {
    "duration": -377,
    "start_time": "2022-01-09T10:51:53.445Z"
   },
   {
    "duration": -383,
    "start_time": "2022-01-09T10:51:53.452Z"
   },
   {
    "duration": -385,
    "start_time": "2022-01-09T10:51:53.457Z"
   },
   {
    "duration": -389,
    "start_time": "2022-01-09T10:51:53.463Z"
   },
   {
    "duration": -406,
    "start_time": "2022-01-09T10:51:53.483Z"
   },
   {
    "duration": -411,
    "start_time": "2022-01-09T10:51:53.489Z"
   },
   {
    "duration": -414,
    "start_time": "2022-01-09T10:51:53.494Z"
   },
   {
    "duration": 519,
    "start_time": "2022-01-09T10:52:11.653Z"
   },
   {
    "duration": 510,
    "start_time": "2022-01-09T11:00:21.573Z"
   },
   {
    "duration": 1601,
    "start_time": "2022-01-09T11:42:28.231Z"
   },
   {
    "duration": 50,
    "start_time": "2022-01-09T11:42:29.835Z"
   },
   {
    "duration": 43,
    "start_time": "2022-01-09T11:42:29.888Z"
   },
   {
    "duration": 36,
    "start_time": "2022-01-09T11:42:29.934Z"
   },
   {
    "duration": 7,
    "start_time": "2022-01-09T11:42:29.973Z"
   },
   {
    "duration": 15,
    "start_time": "2022-01-09T11:42:29.982Z"
   },
   {
    "duration": 12,
    "start_time": "2022-01-09T11:42:29.999Z"
   },
   {
    "duration": 62,
    "start_time": "2022-01-09T11:42:30.015Z"
   },
   {
    "duration": 106,
    "start_time": "2022-01-09T11:42:30.080Z"
   },
   {
    "duration": 31,
    "start_time": "2022-01-09T11:42:30.189Z"
   },
   {
    "duration": 48,
    "start_time": "2022-01-09T11:42:30.222Z"
   },
   {
    "duration": 24,
    "start_time": "2022-01-09T11:42:30.272Z"
   },
   {
    "duration": 1362,
    "start_time": "2022-01-09T11:42:30.298Z"
   },
   {
    "duration": 12,
    "start_time": "2022-01-09T11:42:31.663Z"
   },
   {
    "duration": 11,
    "start_time": "2022-01-09T11:42:31.677Z"
   },
   {
    "duration": 2334,
    "start_time": "2022-01-09T11:42:31.690Z"
   },
   {
    "duration": 47,
    "start_time": "2022-01-09T11:42:34.026Z"
   },
   {
    "duration": 126,
    "start_time": "2022-01-09T11:42:34.075Z"
   },
   {
    "duration": 9,
    "start_time": "2022-01-09T11:42:34.203Z"
   },
   {
    "duration": 47,
    "start_time": "2022-01-09T11:42:34.214Z"
   },
   {
    "duration": 31,
    "start_time": "2022-01-09T11:42:34.263Z"
   },
   {
    "duration": 869,
    "start_time": "2022-01-09T11:42:34.296Z"
   },
   {
    "duration": 419,
    "start_time": "2022-01-09T11:42:35.169Z"
   },
   {
    "duration": 321,
    "start_time": "2022-01-09T11:42:35.592Z"
   },
   {
    "duration": 50,
    "start_time": "2022-01-09T11:42:35.916Z"
   },
   {
    "duration": 431,
    "start_time": "2022-01-09T11:42:35.968Z"
   },
   {
    "duration": 495,
    "start_time": "2022-01-09T11:42:36.401Z"
   },
   {
    "duration": 15,
    "start_time": "2022-01-09T11:42:36.899Z"
   },
   {
    "duration": 55,
    "start_time": "2022-01-09T11:42:36.916Z"
   },
   {
    "duration": 510,
    "start_time": "2022-01-09T11:42:36.974Z"
   },
   {
    "duration": 29,
    "start_time": "2022-01-09T11:42:37.487Z"
   },
   {
    "duration": 277,
    "start_time": "2022-01-09T11:42:37.519Z"
   },
   {
    "duration": 14,
    "start_time": "2022-01-09T11:42:37.799Z"
   },
   {
    "duration": 13,
    "start_time": "2022-01-09T11:42:37.815Z"
   },
   {
    "duration": 341,
    "start_time": "2022-01-21T12:17:19.376Z"
   }
  ],
  "colab": {
   "name": "DA+. Сборный проект 1. Шаблон (1).ipynb",
   "provenance": []
  },
  "kernelspec": {
   "display_name": "Python 3 (ipykernel)",
   "language": "python",
   "name": "python3"
  },
  "language_info": {
   "codemirror_mode": {
    "name": "ipython",
    "version": 3
   },
   "file_extension": ".py",
   "mimetype": "text/x-python",
   "name": "python",
   "nbconvert_exporter": "python",
   "pygments_lexer": "ipython3",
   "version": "3.8.10"
  },
  "toc": {
   "base_numbering": 1,
   "nav_menu": {},
   "number_sections": true,
   "sideBar": true,
   "skip_h1_title": true,
   "title_cell": "Table of Contents",
   "title_sidebar": "Contents",
   "toc_cell": false,
   "toc_position": {
    "height": "calc(100% - 180px)",
    "left": "10px",
    "top": "150px",
    "width": "375.382px"
   },
   "toc_section_display": true,
   "toc_window_display": true
  }
 },
 "nbformat": 4,
 "nbformat_minor": 4
}
